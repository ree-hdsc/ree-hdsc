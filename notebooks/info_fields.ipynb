{
 "cells": [
  {
   "cell_type": "markdown",
   "id": "8c9c3230-798b-43f4-a3f4-a96ad3f18dc2",
   "metadata": {},
   "source": [
    "# Info fields via regular expressions\n",
    "\n",
    "Extract persons from the info fields StartEntryInfo and EndEntryInfo of the [slave registers of Suriname](https://datasets.iisg.amsterdam/dataset.xhtml?persistentId=hdl:10622/CSPBHO) via regular expressions"
   ]
  },
  {
   "cell_type": "code",
   "execution_count": null,
   "id": "50668a0b-3088-4428-b62b-31e21cf0624f",
   "metadata": {
    "tags": []
   },
   "outputs": [],
   "source": [
    "import os\n",
    "import pandas as pd\n",
    "import regex\n",
    "import sys\n",
    "from IPython.display import clear_output\n",
    "sys.path.append(os.getcwd() + '/..')\n",
    "from scripts import get_deceased_name"
   ]
  },
  {
   "cell_type": "code",
   "execution_count": null,
   "id": "9977e92a-a650-477a-8d20-9586820b8a04",
   "metadata": {
    "tags": []
   },
   "outputs": [],
   "source": [
    "def squeal(text=None):\n",
    "    clear_output(wait=True)\n",
    "    if not text is None: \n",
    "        print(text)"
   ]
  },
  {
   "cell_type": "markdown",
   "id": "ca6b0d73-efb0-48a3-a874-88b5bde5afd2",
   "metadata": {},
   "source": [
    "## 1. Read data"
   ]
  },
  {
   "cell_type": "code",
   "execution_count": null,
   "id": "6ef938b3-c035-43c8-b692-00dd3d3609c6",
   "metadata": {
    "tags": []
   },
   "outputs": [],
   "source": [
    "DATA_FILE = \"../../data/suriname/Dataset Suriname Slave and Emancipation Registers Version 1.1.csv\"\n",
    "\n",
    "data = pd.read_csv(DATA_FILE, low_memory=False)"
   ]
  },
  {
   "cell_type": "markdown",
   "id": "73856dba-7646-4480-966c-d89d544b731c",
   "metadata": {},
   "source": [
    "## 2. Extract names from info field"
   ]
  },
  {
   "cell_type": "code",
   "execution_count": null,
   "id": "8ee273a1-f642-4736-8c5b-ee6d75aee234",
   "metadata": {
    "tags": []
   },
   "outputs": [],
   "source": [
    "def get_previous_token(text, entity):\n",
    "    previous_token = \"\"\n",
    "    end = entity[\"start\"] - 1\n",
    "    while end > 0 and regex.search(\"\\s\", text[end-1]):\n",
    "        end -= 1\n",
    "    start = end - 1\n",
    "    while start > 0 and not regex.search(\"\\s\", text[start-1]):\n",
    "        start -= 1\n",
    "    if end >= 0:\n",
    "        previous_token = text[start: end]\n",
    "    return previous_token, start"
   ]
  },
  {
   "cell_type": "code",
   "execution_count": null,
   "id": "59449021-8201-4088-bed1-0634297f6a71",
   "metadata": {
    "tags": []
   },
   "outputs": [],
   "source": [
    "def process_info_text(text, index=-1):\n",
    "    names = []\n",
    "    last_end = -99\n",
    "    mother_seen = False\n",
    "    entities = get_deceased_name.get_entities_from_text(text)\n",
    "    for entity in entities:\n",
    "        if regex.search(\"(PERSON|GPE)\", entity[\"entity\"]):\n",
    "            previous_token, start = get_previous_token(text, entity)\n",
    "            if previous_token.lower() in PREFIX_WORDS:\n",
    "                entity[\"start\"] = start\n",
    "            name_string = text[entity[\"start\"]: entity[\"end\"]]\n",
    "            if regex.search(\"^geb\", name_string) and (entity[\"start\"] == last_end + 1 or entity[\"start\"] == last_end + 2): \n",
    "                names[-1] = (names[-1][0], names[-1][1] + \" \" + name_string, names[-1][2])\n",
    "                continue\n",
    "            role = \"eigenaar\"\n",
    "            previous_token, start = get_previous_token(text, entity)\n",
    "            if regex.search(\"geboren (uit|van)\", text, regex.IGNORECASE) and not mother_seen:\n",
    "                role = \"moeder\"\n",
    "                mother_seen = True\n",
    "            elif regex.search(\"(gemanumitteerd|vrij *geworden)\", text, regex.IGNORECASE):\n",
    "                role = \"vrijgemaakte\"\n",
    "            elif regex.search(\"genaamd\", previous_token, regex.IGNORECASE):\n",
    "                role = \"vrijgemaakte\"\n",
    "            elif regex.search(\"(slaaf|slavin|slaven)\", previous_token, regex.IGNORECASE):\n",
    "                role = \"slaafgemaakte\"\n",
    "            elif regex.search(\"(plant\\\\b|plantage|plantaadje|houtvelling|divisie|district)\", previous_token, regex.IGNORECASE):\n",
    "                role = \"location\"\n",
    "            elif regex.search(\"(curator|deurwaarder|klerk|landschrijver|vendumeester)\", previous_token, regex.IGNORECASE):\n",
    "                role = \"ambtenaar\"\n",
    "            if role != \"location\":\n",
    "                names.append((index, text[entity[\"start\"]: entity[\"end\"]], role, previous_token))\n",
    "                last_end = entity[\"end\"]\n",
    "    return names"
   ]
  },
  {
   "cell_type": "code",
   "execution_count": null,
   "id": "ee086448-69c3-457c-bc76-732209e3acee",
   "metadata": {
    "tags": []
   },
   "outputs": [],
   "source": [
    "PREFIX_WORDS = [ \"boedel\", \"erven\", \"geb\", \"gebn\", \"geboren\", \"weduwe\", ]\n",
    "\n",
    "def get_names_from_data(data):\n",
    "    names = []\n",
    "    for index, row in data.iterrows():\n",
    "        text = row[DATA_FIELD]\n",
    "        if isinstance(text, str):\n",
    "            names.extend(process_info_text(text, index))\n",
    "        if index % 100 == 0:\n",
    "            squeal(f\"total lines: {len(data)}; processes lines: {index}; found names: {len(names)}\")\n",
    "        if CUT_OFF > 0 and len(names) >= CUT_OFF:\n",
    "            break\n",
    "    squeal(f\"total lines: {len(data)}; processes lines: {index}; found names: {len(names)}\")\n",
    "    return names"
   ]
  },
  {
   "cell_type": "code",
   "execution_count": null,
   "id": "1fdf5729-0059-47b7-90f2-288a80539eb2",
   "metadata": {},
   "outputs": [],
   "source": [
    "DATA_FIELD = \"EndEntryInfo\"\n",
    "INDEX_FIELD = \"Id_source\"\n",
    "CUT_OFF = 1000\n",
    "\n",
    "names = get_names_from_data(data)"
   ]
  },
  {
   "cell_type": "markdown",
   "id": "2c1e2043-f537-4e97-9a4f-464b0e83bb82",
   "metadata": {},
   "source": [
    "## 3. Cleanup names"
   ]
  },
  {
   "cell_type": "code",
   "execution_count": null,
   "id": "69540fc2-55f2-4807-9ecf-b0cdd5ede5b5",
   "metadata": {
    "tags": []
   },
   "outputs": [],
   "source": [
    "def cleanup_name(name_string):\n",
    "    name_string = regex.sub(\"[.,]\\s*\", \" \", name_string)\n",
    "    return name_string.strip()"
   ]
  },
  {
   "cell_type": "code",
   "execution_count": null,
   "id": "c56111af-333a-44d3-9bc8-8b433af94dff",
   "metadata": {
    "tags": []
   },
   "outputs": [],
   "source": [
    "prefixes_to_delete = [ \"en\",  \"kurators\", \"notarieele\", \"slavin\", ]\n",
    "suffixes_to_delete = [ \"/\", \"bij executie\", \"dd\", \"per executie\", \"febrij\", \"kolonien\", \"landsbelastingen\", \"resolutie\",\n",
    "                       \"voor den vrijdom\", \"vrijdom\", \"den\", \"voor\", ]\n",
    "non_names = [ \"\", \",\", \"akte\", \"aug\", \"augs\", \"august\", \"augusts\", \"augustus\", \"boedel\", \"custodi\", \"de hoofdgelden\", \"dec\", \n",
    "              \"decbr\", \"decemb\", \"december\", \"decemr\", \"den lande\", \"dezer\", \"erfenis\", \"erfgenaam\", \"erfgename\", \"erfgenamen\", \"executie\", \n",
    "              \"executie genomen\", \"febr\", \"febrij\", \"fo\", \"folio\", \"gemanumitteerd\", \"genomen\", \"geregistreerd\", \n",
    "              \"geregd\", \"gergd\", \"gouv\", \"gouv resol\", \"gouvern\", \"gouvernement\", \"janij\", \"januarij\", \"julij\", \n",
    "              \"junij\", \"kolonien\", \"kurators\", \"lande\", \"lot no\", \"maart\", \"no\", \"notarieele\", \"novemb\", \"october\", \"overleden\", \n",
    "              \"overschrijving\", \"plant\", \"qq\", \"resolutie\", \"ruiling\", \"slaaf\", \"t\", \"vendu\", \"vendumeester\", \"vrijdom\", \"zn\", \"zijne\", ]\n",
    "locations = [ \"batavia\", \"nickerie\", \"vreeland\", \"spieringshoek\", \"kroonenburg\", \"caledonia\", \"molhoop\", \"libanon\",\n",
    "              \"saltzhalen\", \"waterloo\", \"fairfield\", \"amsterdam\", \"paramaribo\", \"paradize\", \"felix\", \"dordrecht\", \n",
    "              \"tourtonne\", \"lochaber\", \"leliendaal\", \"bremen\", \"lugtenburg\", \"saramacca\", \"zeezigt\", \"munnikkendam\", \n",
    "              \"zwarigheid\", \"katwijk\", \"hooijland\", \"poelwijk\", \"alkmaar\", \"waijamoe\", \"petersburg\", \"johannesburg\", \n",
    "              \"toledo\", \"ornamibo\", \"sardam\", \"coronie\", \"saksen\", \"thorarica\", \"curaçao\", \"cottica\", \"andresa\", \n",
    "              \"curacao\", ]\n",
    "\n",
    "\n",
    "def get_names_from_string(name_string):\n",
    "    names = []\n",
    "    for non_name in non_names + locations:\n",
    "        match = regex.search(f\"^{non_name}[^a-zA-Z]*$\", name_string, regex.IGNORECASE)\n",
    "        if match:\n",
    "            return []\n",
    "    match = regex.search(f\"^(.*)\\s*[0-9]+\\s*(.*)$\", name_string, regex.IGNORECASE)\n",
    "    if match:\n",
    "        names.extend(get_names_from_string(match.group(1)))\n",
    "        names.extend(get_names_from_string(match.group(2)))\n",
    "        return names\n",
    "    for prefix in prefixes_to_delete:\n",
    "        match = regex.search(f\"^(.*)\\s+{prefix}\\s+(.*)$\", name_string, regex.IGNORECASE)\n",
    "        if match:\n",
    "            names.extend(get_names_from_string(match.group(1)))\n",
    "            names.extend(get_names_from_string(match.group(2)))\n",
    "            return names\n",
    "        match = regex.search(f\"^{prefix}\\s+(.*)$\", name_string, regex.IGNORECASE)\n",
    "        if match:\n",
    "            return get_names_from_string(match.group(1))\n",
    "    for suffix in suffixes_to_delete:\n",
    "        match = regex.search(f\"^(.*)\\s+{suffix}\\s+(.*)$\", name_string, regex.IGNORECASE)\n",
    "        if match:\n",
    "            names.extend(get_names_from_string(match.group(1)))\n",
    "            names.extend(get_names_from_string(match.group(2)))\n",
    "            return names\n",
    "        match = regex.search(f\"^(.*)\\s+{suffix}$\", name_string, regex.IGNORECASE)\n",
    "        if match:\n",
    "            return get_names_from_string(match.group(1))\n",
    "    names.append(name_string)\n",
    "    return names"
   ]
  },
  {
   "cell_type": "code",
   "execution_count": null,
   "id": "1fdbe829-42f6-4d6e-8ee3-a3954468a060",
   "metadata": {
    "tags": []
   },
   "outputs": [],
   "source": [
    "def get_names_from_string_with_punctuation(name_string):\n",
    "    names = []\n",
    "    for name in regex.split(\"(,|qq)\", name_string):\n",
    "        names_found = get_names_from_string(cleanup_name(name))\n",
    "        names.extend(names_found)\n",
    "    names_checked = []\n",
    "    for name in names:\n",
    "        if len(names_checked) > 0 and regex.search(\"^(geb\\\\b|gebn\\\\b|geboren)\", name, regex.IGNORECASE):\n",
    "            names_checked[-1] += \" \" + name\n",
    "        else:\n",
    "            names_checked.append(name)\n",
    "    return names_checked"
   ]
  },
  {
   "cell_type": "code",
   "execution_count": null,
   "id": "513cfaba-2868-4254-8815-eb03bb5959a7",
   "metadata": {
    "tags": []
   },
   "outputs": [],
   "source": [
    "def split_name_default(name_string):\n",
    "    if len(name_string) == 0:\n",
    "        first_name_tokens = []\n",
    "        last_name_tokens = []\n",
    "    else:\n",
    "        name_tokens = name_string.split()\n",
    "        first_name_tokens = name_tokens[:-1]\n",
    "        last_name_tokens = name_tokens[-1:]\n",
    "    return first_name_tokens, last_name_tokens"
   ]
  },
  {
   "cell_type": "code",
   "execution_count": null,
   "id": "92e6e0b8-6f34-408f-8297-1ae253b22bf6",
   "metadata": {
    "tags": []
   },
   "outputs": [],
   "source": [
    "last_name_words = [ \"bo\", \"d\", \"da\", \"de\", \"den\", \"der\", \"du\", \"geb\", \"gebn\", \"geboren\", \"nom\", \"prive\", \"privé\", \"v\", \"van\", \"ux\", ]\n",
    "\n",
    "def expand_multi_token_last_name(first_name_tokens, last_name_tokens):\n",
    "    for i in range(0, len(first_name_tokens)):\n",
    "        if first_name_tokens[i].lower() in last_name_words and (not len(first_name_tokens[i]) == 1 or first_name_tokens[i].lower() == first_name_tokens[i]):\n",
    "            while len(first_name_tokens) > i:\n",
    "                last_name_tokens = [ first_name_tokens.pop(-1)] + last_name_tokens\n",
    "            break\n",
    "    return first_name_tokens, last_name_tokens"
   ]
  },
  {
   "cell_type": "code",
   "execution_count": null,
   "id": "c750afcc-4441-4cec-8a07-c2ec5dad5d72",
   "metadata": {
    "tags": []
   },
   "outputs": [],
   "source": [
    "def include_last_name_before_born_as(first_name_tokens, last_name_tokens):\n",
    "    if len(last_name_tokens) > 0 and len(first_name_tokens) > 0 and regex.search(\"^(geb|gebn|geboren|beh|jr|sr)\\\\b\", last_name_tokens[0], regex.IGNORECASE):\n",
    "        last_name_tokens = [first_name_tokens.pop(-1)] + last_name_tokens\n",
    "    return first_name_tokens, last_name_tokens"
   ]
  },
  {
   "cell_type": "code",
   "execution_count": null,
   "id": "6b0ce978-aacc-4425-b72d-864c67ecee0d",
   "metadata": {
    "tags": []
   },
   "outputs": [],
   "source": [
    "def include_last_name_before_nom_ux(first_name_tokens, last_name_tokens):\n",
    "    if (len(last_name_tokens) > 0 and len(first_name_tokens) > 1 and \n",
    "        regex.search(\"^ux\\\\b\", last_name_tokens[0], regex.IGNORECASE) and \n",
    "        regex.search(\"^(n|nom)\\\\b\", first_name_tokens[-1], regex.IGNORECASE)):\n",
    "        last_name_tokens = [first_name_tokens.pop(-1)] + last_name_tokens\n",
    "        last_name_tokens = [first_name_tokens.pop(-1)] + last_name_tokens\n",
    "    return first_name_tokens, last_name_tokens"
   ]
  },
  {
   "cell_type": "code",
   "execution_count": null,
   "id": "c321cdf6-d9c9-4923-8c37-5e9f58897ec4",
   "metadata": {
    "tags": []
   },
   "outputs": [],
   "source": [
    "def split_name(name_string, role):\n",
    "    first_name_tokens, last_name_tokens = split_name_default(name_string)\n",
    "    first_name_tokens, last_name_tokens = expand_multi_token_last_name(first_name_tokens, last_name_tokens)\n",
    "    first_name_tokens, last_name_tokens = include_last_name_before_born_as(first_name_tokens, last_name_tokens)\n",
    "    first_name_tokens, last_name_tokens = include_last_name_before_nom_ux(first_name_tokens, last_name_tokens)\n",
    "    if role == \"eigenaar\" or len(first_name_tokens) != 0:\n",
    "        return \" \".join(first_name_tokens), \" \".join(last_name_tokens)\n",
    "    else:\n",
    "        return \" \".join(last_name_tokens), \" \".join(first_name_tokens)"
   ]
  },
  {
   "cell_type": "code",
   "execution_count": null,
   "id": "f486ba93-823e-49d0-a42f-a8a2ff621dc3",
   "metadata": {
    "tags": []
   },
   "outputs": [],
   "source": [
    "PREFIX_TOKENS = [ \"bl\", \"boedel\", \"erven\", \"mr\", \"we\", \"weduwe\", ]\n",
    "\n",
    "def get_prefix_tokens(first_name_tokens):\n",
    "    prefix_tokens = []\n",
    "    while len(first_name_tokens) > 0 and first_name_tokens[0].lower() in PREFIX_TOKENS:\n",
    "        prefix_tokens.append(first_name_tokens.pop(0))\n",
    "    return prefix_tokens, first_name_tokens"
   ]
  },
  {
   "cell_type": "code",
   "execution_count": null,
   "id": "609af5f7-12b8-4862-9b1a-27e9ca996736",
   "metadata": {
    "tags": []
   },
   "outputs": [],
   "source": [
    "INFIX_TOKENS = [ \"d'\", \"da\", \"de\", \"del\", \"den\", \"der\", \"des\", \"du\", \"d'\", \"het\", \"la\", \"du\", \"l'\", \"la\", \"le\", \"'t\", \"ter\", \"v\", \"van\", \"von\" ]\n",
    "\n",
    "def get_infix_tokens(last_name_tokens):\n",
    "    infix_tokens = []\n",
    "    while len(last_name_tokens) > 0 and last_name_tokens[0].lower() in INFIX_TOKENS:\n",
    "        infix_tokens.append(last_name_tokens.pop(0))\n",
    "    return infix_tokens, last_name_tokens"
   ]
  },
  {
   "cell_type": "code",
   "execution_count": null,
   "id": "fc150d8a-dd22-4aa1-b861-67181ce63092",
   "metadata": {
    "tags": []
   },
   "outputs": [],
   "source": [
    "SUFFIX_TOKENS = [ \"beh\", \"cs\", \"jr\", \"nom\", \"n\", \"prive\", \"qq\", \"sr\", \"ux\" ]\n",
    "\n",
    "def get_suffix_tokens(last_name_tokens):\n",
    "    suffix_tokens = []\n",
    "    while len(last_name_tokens) > 0 and last_name_tokens[-1].lower() in SUFFIX_TOKENS:\n",
    "        suffix_tokens.insert(0, last_name_tokens.pop(-1))\n",
    "    return last_name_tokens, suffix_tokens"
   ]
  },
  {
   "cell_type": "code",
   "execution_count": null,
   "id": "5974511e-40d5-4449-93d4-49f0ab7adbfe",
   "metadata": {
    "tags": []
   },
   "outputs": [],
   "source": [
    "def split_name_in_five(first_name, last_name):\n",
    "    prefix_tokens, first_name_tokens = get_prefix_tokens(first_name.split())\n",
    "    infix_tokens, last_name_tokens = get_infix_tokens(last_name.split())\n",
    "    last_name_tokens, suffix_tokens = get_suffix_tokens(last_name_tokens)\n",
    "    return \" \".join(prefix_tokens), \" \".join(first_name_tokens), \" \".join(infix_tokens), \" \".join(last_name_tokens), \" \".join(suffix_tokens),"
   ]
  },
  {
   "cell_type": "code",
   "execution_count": null,
   "id": "b2bf8d8b-1ffd-4710-87a5-c12efe58391e",
   "metadata": {
    "tags": []
   },
   "outputs": [],
   "source": [
    "def save_names(results):\n",
    "    results.to_csv(DATA_FIELD + \".csv\", index=False, columns=results.columns)"
   ]
  },
  {
   "cell_type": "code",
   "execution_count": null,
   "id": "ae6a0e0f-4568-4e97-915d-86041eaf3c17",
   "metadata": {
    "tags": []
   },
   "outputs": [],
   "source": [
    "def fix_uit(name_tuple, first_name, last_name):\n",
    "    if first_name == \"\" and regex.search(f\"^uit\\s+{last_name}\\S*$\", data[DATA_FIELD][name_tuple[0]], regex.IGNORECASE):\n",
    "        first_name = last_name\n",
    "        last_name = \"\"\n",
    "        name_tuple = (name_tuple[0], name_tuple[1], \"moeder\", name_tuple[3])\n",
    "    return name_tuple, first_name, last_name"
   ]
  },
  {
   "cell_type": "code",
   "execution_count": null,
   "id": "86023b5f-358a-4576-b4d0-dd239a83fbb6",
   "metadata": {
    "tags": []
   },
   "outputs": [],
   "source": [
    "def parse_names(names):\n",
    "    table_out = []\n",
    "    for name_tuple in names:\n",
    "        for name_string in get_names_from_string_with_punctuation(name_tuple[1]):\n",
    "            first_name, last_name = split_name(name_string, name_tuple[2])\n",
    "            name_tuple, first_name, last_name = fix_uit(name_tuple, first_name, last_name)\n",
    "            prefix, first_name, infix, last_name, suffix = split_name_in_five(first_name, last_name)\n",
    "            table_out.append([data[INDEX_FIELD][name_tuple[0]], prefix, first_name, infix, last_name, suffix, name_tuple[2], data[DATA_FIELD][name_tuple[0]]])\n",
    "    return pd.DataFrame(table_out, columns=[\"id\", \"prefix\", \"voornaam\", \"infix\", \"achternaam\", \"suffix\", \"rol\", \"tekstbron\" ])"
   ]
  },
  {
   "cell_type": "code",
   "execution_count": null,
   "id": "44898bcc-582f-4bb0-96b7-3895bcd70ac1",
   "metadata": {
    "tags": []
   },
   "outputs": [],
   "source": [
    "results = parse_names([x for x in names])"
   ]
  },
  {
   "cell_type": "code",
   "execution_count": null,
   "id": "d3a71fec-8409-429d-8918-efa71b98f137",
   "metadata": {
    "tags": []
   },
   "outputs": [],
   "source": [
    "results[\"tekstbron\"][98]"
   ]
  },
  {
   "cell_type": "code",
   "execution_count": null,
   "id": "96ff5c6d-7b10-4f4b-b221-752b9a087b34",
   "metadata": {
    "tags": []
   },
   "outputs": [],
   "source": [
    "results[240:300]"
   ]
  },
  {
   "cell_type": "code",
   "execution_count": null,
   "id": "7d5f376d-7fe5-4c97-9e83-dfbaa9389fdd",
   "metadata": {
    "tags": []
   },
   "outputs": [],
   "source": [
    "save_names(results)"
   ]
  },
  {
   "cell_type": "markdown",
   "id": "2ca63f2a-f073-49d9-af7f-a56aed67d65d",
   "metadata": {},
   "source": [
    "## 4. Check names"
   ]
  },
  {
   "cell_type": "code",
   "execution_count": null,
   "id": "1c2ffc1b-bd69-405b-836d-74611a1ad3a2",
   "metadata": {
    "tags": []
   },
   "outputs": [],
   "source": [
    "def count_preceding_tokens(names):\n",
    "    return pd.DataFrame(names)[3].value_counts()"
   ]
  },
  {
   "cell_type": "code",
   "execution_count": null,
   "id": "7491bdef-1712-4826-99dc-7cd33d6b3f8e",
   "metadata": {
    "tags": []
   },
   "outputs": [],
   "source": [
    "def count_names_without_first_name(results):\n",
    "    empty_first_name = []\n",
    "    for index, row in results.iterrows():\n",
    "        if row[\"first_name\"] == \"\":\n",
    "            empty_first_name.append(row[\"last_name\"])\n",
    "    return pd.DataFrame(empty_first_name).value_counts()"
   ]
  },
  {
   "cell_type": "code",
   "execution_count": null,
   "id": "41a99f7d-b365-40de-9f29-90a8cd0ce778",
   "metadata": {
    "tags": []
   },
   "outputs": [],
   "source": [
    "def count_names_without_last_name(results):\n",
    "    empty_last_name = []\n",
    "    for index, row in results.iterrows():\n",
    "        if row[\"last_name\"] == \"\":\n",
    "            empty_last_name.append(row[\"first_name\"])\n",
    "    return pd.DataFrame(empty_last_name).value_counts()"
   ]
  },
  {
   "cell_type": "code",
   "execution_count": null,
   "id": "5aeff58c-6d37-4efc-8e09-5298d760d2d1",
   "metadata": {
    "tags": []
   },
   "outputs": [],
   "source": [
    "def count_first_names(results):\n",
    "    return results[\"first_name\"].value_counts()"
   ]
  },
  {
   "cell_type": "code",
   "execution_count": null,
   "id": "47690906-1ec5-46f0-81c3-230eab18be91",
   "metadata": {
    "tags": []
   },
   "outputs": [],
   "source": [
    "def count_last_names(results):\n",
    "    return results[\"last_name\"].value_counts()"
   ]
  },
  {
   "cell_type": "code",
   "execution_count": null,
   "id": "0b2a9943-fea3-4364-ba7b-cb0f4735bbe9",
   "metadata": {
    "tags": []
   },
   "outputs": [],
   "source": [
    "def find_string_in_results(results, string, field=\"source\"):\n",
    "    selected = []\n",
    "    for index,row in results.iterrows():\n",
    "        if regex.search(string, row[field], regex.IGNORECASE):\n",
    "            selected.append(row)\n",
    "    return pd.DataFrame(selected)"
   ]
  },
  {
   "cell_type": "code",
   "execution_count": null,
   "id": "17faea3e-3a90-4d69-b380-66badcbe04da",
   "metadata": {
    "tags": []
   },
   "outputs": [],
   "source": [
    "count_preceding_tokens(names).to_dict()"
   ]
  },
  {
   "cell_type": "code",
   "execution_count": null,
   "id": "9f314725-9d4e-4d33-995e-1a82f6ca52a3",
   "metadata": {
    "tags": []
   },
   "outputs": [],
   "source": [
    "find_string_in_results(results, \"zn\", \"last_name\")"
   ]
  },
  {
   "cell_type": "code",
   "execution_count": null,
   "id": "9926873c-2bf8-49e4-ae19-c7e8a528ba5b",
   "metadata": {
    "tags": []
   },
   "outputs": [],
   "source": [
    "data[DATA_FIELD][189873]"
   ]
  },
  {
   "cell_type": "code",
   "execution_count": null,
   "id": "e8ed1703-3949-464e-8033-9e41f764d737",
   "metadata": {
    "tags": []
   },
   "outputs": [],
   "source": [
    "count_names_without_first_name(results).to_dict()"
   ]
  },
  {
   "cell_type": "code",
   "execution_count": null,
   "id": "a836f19c-2a84-43bf-9955-a8d89500c620",
   "metadata": {
    "tags": []
   },
   "outputs": [],
   "source": [
    "process_info_text(\"Vrij geworden en thans genaamd François Jacobus Hendrik Roosdijk.\")"
   ]
  },
  {
   "cell_type": "code",
   "execution_count": null,
   "id": "f674dc50-8046-446c-b62e-682088315423",
   "metadata": {
    "tags": []
   },
   "outputs": [],
   "source": [
    "get_deceased_name.get_entities_from_text(data[DATA_FIELD][3310])"
   ]
  },
  {
   "cell_type": "code",
   "execution_count": null,
   "id": "3e41bfb2-a329-49fe-bc99-301d9aa991e5",
   "metadata": {
    "tags": []
   },
   "outputs": [],
   "source": [
    "for text in data[DATA_FIELD]:\n",
    "    if isinstance(text, str) and regex.search(\"district\", text):\n",
    "        print(text)"
   ]
  },
  {
   "cell_type": "code",
   "execution_count": null,
   "id": "c9ce4cf3-9d80-452c-b05a-3d7632f6ab93",
   "metadata": {},
   "outputs": [],
   "source": []
  }
 ],
 "metadata": {
  "kernelspec": {
   "display_name": "Python 3 (ipykernel)",
   "language": "python",
   "name": "python3"
  },
  "language_info": {
   "codemirror_mode": {
    "name": "ipython",
    "version": 3
   },
   "file_extension": ".py",
   "mimetype": "text/x-python",
   "name": "python",
   "nbconvert_exporter": "python",
   "pygments_lexer": "ipython3",
   "version": "3.9.13"
  }
 },
 "nbformat": 4,
 "nbformat_minor": 5
}
