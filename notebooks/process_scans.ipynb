{
 "cells": [
  {
   "cell_type": "markdown",
   "id": "fd4c8e96-a1a8-4996-bd56-cb4c4d822548",
   "metadata": {},
   "source": [
    "# Process scans of death records of Curaçao"
   ]
  },
  {
   "cell_type": "markdown",
   "id": "a1d59ba1-d98c-4f57-bc25-cbf6620d7a28",
   "metadata": {},
   "source": [
    "## 1. Count scans"
   ]
  },
  {
   "cell_type": "code",
   "execution_count": 1,
   "id": "dd27d4ec-7b2c-4147-a53f-a4d868da0a01",
   "metadata": {
    "tags": []
   },
   "outputs": [],
   "source": [
    "import os\n",
    "import re"
   ]
  },
  {
   "cell_type": "code",
   "execution_count": 2,
   "id": "1d51ec3b-0e83-42db-a325-29aa43a76fe4",
   "metadata": {
    "tags": []
   },
   "outputs": [],
   "source": [
    "data_dir = \"../../data/Overlijden\""
   ]
  },
  {
   "cell_type": "code",
   "execution_count": 3,
   "id": "cca40761-e9ef-4317-a221-2ce3c20450ad",
   "metadata": {
    "tags": []
   },
   "outputs": [],
   "source": [
    "def count_files(dir_name):\n",
    "    return len([file_name for file_name in os.listdir(dir_name)\n",
    "                          if re.search(\"\\.jpg$\", file_name, re.IGNORECASE)])"
   ]
  },
  {
   "cell_type": "code",
   "execution_count": 4,
   "id": "3288bc3f-be73-4afb-8700-6f91009e11f6",
   "metadata": {
    "tags": []
   },
   "outputs": [],
   "source": [
    "def get_year_from_dir_name(dir_name):\n",
    "    return int(re.sub(\"^.*(\\d{4})$\", \"\\\\1\", dir_name))"
   ]
  },
  {
   "cell_type": "code",
   "execution_count": 5,
   "id": "511922d3-caa9-4e90-a7c1-fbb28aa2e251",
   "metadata": {
    "tags": []
   },
   "outputs": [],
   "source": [
    "def count_scans(dir_name):\n",
    "    counts = []\n",
    "    for year_dir in sorted(os.listdir(dir_name)):\n",
    "        if re.search(\"^O\\.R\\. \\d{4}$\", year_dir):\n",
    "            outside_count = 0\n",
    "            city_count = 0\n",
    "            for scan_dir in os.listdir(os.path.join(data_dir, year_dir)):\n",
    "                scan_dir = os.path.join(data_dir, year_dir, scan_dir)\n",
    "                if os.path.isdir(scan_dir):\n",
    "                    if re.search(\"buiten\", scan_dir, re.IGNORECASE):\n",
    "                        outside_count += count_files(scan_dir)\n",
    "                    elif re.search(\"stad\", scan_dir, re.IGNORECASE):\n",
    "                        city_count += count_files(scan_dir)\n",
    "            counts.append((get_year_from_dir_name(year_dir), city_count, outside_count))\n",
    "    return counts"
   ]
  },
  {
   "cell_type": "code",
   "execution_count": 6,
   "id": "7b85a034-cc7e-4733-9464-35196173f8ee",
   "metadata": {
    "tags": []
   },
   "outputs": [],
   "source": [
    "def get_total(counts):\n",
    "    return sum( [ int(x[2]) + int(x[1]) for x in counts ] )"
   ]
  },
  {
   "cell_type": "code",
   "execution_count": 7,
   "id": "3250233e-5b99-4033-87a6-5dab2bd7d7d0",
   "metadata": {
    "tags": []
   },
   "outputs": [],
   "source": [
    "counts = count_scans(data_dir)"
   ]
  },
  {
   "cell_type": "code",
   "execution_count": 8,
   "id": "e3497bd0-47cc-4aff-92c0-202bc36bd417",
   "metadata": {
    "tags": []
   },
   "outputs": [
    {
     "data": {
      "text/plain": [
       "72292"
      ]
     },
     "execution_count": 8,
     "metadata": {},
     "output_type": "execute_result"
    }
   ],
   "source": [
    "get_total(counts)"
   ]
  },
  {
   "cell_type": "markdown",
   "id": "6d83bf40-94fb-4d22-95d5-00ac621cc202",
   "metadata": {},
   "source": [
    "## 2. Check counts"
   ]
  },
  {
   "cell_type": "code",
   "execution_count": 9,
   "id": "b9f4a2a1-ed90-4f0c-a2a2-3a98d5cf98fd",
   "metadata": {
    "tags": []
   },
   "outputs": [],
   "source": [
    "def print_with_color(string, color_code=1):\n",
    "    print(f\"\\x1b[3{color_code}m{string}\\x1b[m\", end=\"\")"
   ]
  },
  {
   "cell_type": "code",
   "execution_count": 10,
   "id": "0911edf5-907b-4aba-b841-555f3d4dac61",
   "metadata": {
    "tags": []
   },
   "outputs": [],
   "source": [
    "def get_min_max_counts(counts):\n",
    "    if not counts:\n",
    "        return None, None\n",
    "    else:\n",
    "        years = [data[0] for data in counts]\n",
    "        return min(years), max(years)"
   ]
  },
  {
   "cell_type": "code",
   "execution_count": 11,
   "id": "31cc1828-fc96-407f-b055-f56c43bdb081",
   "metadata": {
    "tags": []
   },
   "outputs": [],
   "source": [
    "def check_and_fill_gaps(counts):\n",
    "    min_count, max_count = get_min_max_counts(counts)\n",
    "    years = [data[0] for data in counts]\n",
    "    for year in range(min_count, max_count+1):\n",
    "        if year not in years:\n",
    "            print_with_color(f\"warning: missing year: {year}\")\n",
    "            counts.append((year, 0, 0))\n",
    "    return counts"
   ]
  },
  {
   "cell_type": "code",
   "execution_count": 12,
   "id": "fdb88e1e-08a5-4417-aa39-7ee6968c12cf",
   "metadata": {
    "tags": []
   },
   "outputs": [],
   "source": [
    "def check_duplicates_counts(counts):\n",
    "    seen = {}\n",
    "    for data in counts:\n",
    "        year = data[0]\n",
    "        if year in seen:\n",
    "            print_with_color(f\"warning: duplicate year: {year} {seen}\")\n",
    "        seen[year] = True"
   ]
  },
  {
   "cell_type": "code",
   "execution_count": 13,
   "id": "b0ef4527-22ff-4f69-b43d-c97eef9a128f",
   "metadata": {
    "tags": []
   },
   "outputs": [],
   "source": [
    "def check_zero_counts(counts):\n",
    "    for data in counts:\n",
    "        if data[1] == 0:\n",
    "            print_with_color(f\"warning: no scans for stad in year {data[0]}\")\n",
    "        if data[2] == 0:\n",
    "            print_with_color(f\"warning: no scans for buiten in year {data[0]}\")"
   ]
  },
  {
   "cell_type": "code",
   "execution_count": 14,
   "id": "cd17ecf0-f63a-4e83-956b-f79ea6a347c4",
   "metadata": {
    "tags": []
   },
   "outputs": [],
   "source": [
    "def check_counts(counts):\n",
    "    check_duplicates_counts(counts)\n",
    "    check_zero_counts(counts)\n",
    "    counts = check_and_fill_gaps(counts)\n",
    "    return counts"
   ]
  },
  {
   "cell_type": "code",
   "execution_count": 15,
   "id": "c944244f-25ae-4b07-8b92-c3b8a2c0e404",
   "metadata": {
    "tags": []
   },
   "outputs": [
    {
     "name": "stdout",
     "output_type": "stream",
     "text": [
      "\u001b[31mwarning: no scans for buiten in year 1870\u001b[m"
     ]
    }
   ],
   "source": [
    "counts = check_counts(counts)"
   ]
  },
  {
   "cell_type": "markdown",
   "id": "5fe8b198-087a-4901-8171-3b1cf801cfcc",
   "metadata": {},
   "source": [
    "## 3. Check file names"
   ]
  },
  {
   "cell_type": "code",
   "execution_count": 16,
   "id": "d3303c46-8409-46bf-9339-f3819d3bdb5f",
   "metadata": {
    "tags": []
   },
   "outputs": [],
   "source": [
    "def check_year_dir_names(data_dir):\n",
    "    for year_dir_name in sorted(os.listdir(data_dir)):\n",
    "        if not os.path.isdir(os.path.join(data_dir, year_dir_name)):\n",
    "            print_with_color(f\"\\\"{year_dir_name}\\\" is not a directory!\\n\")\n",
    "        elif not re.search(\"^O\\.R\\. \\d\\d\\d\\d$\", year_dir_name):\n",
    "            print_with_color(f\"the name of \\\"{year_dir_name}\\\" is not shaped like a year directory name!\\n\")\n",
    "        else:\n",
    "            check_district_dir_names(data_dir, year_dir_name)"
   ]
  },
  {
   "cell_type": "code",
   "execution_count": 17,
   "id": "c9c76376-12e5-4743-8778-75c6f5507c40",
   "metadata": {
    "tags": []
   },
   "outputs": [],
   "source": [
    "def check_district_dir_names(data_dir, year_dir_name):\n",
    "    for district_dir_name in sorted(os.listdir(os.path.join(data_dir, year_dir_name))):\n",
    "        if district_dir_name == \"log.txt\":\n",
    "            continue\n",
    "        if not os.path.isdir(os.path.join(data_dir, year_dir_name, district_dir_name)):\n",
    "            print_with_color(f\"\\\"{district_dir_name}\\\" is not a directory!\\n\")\n",
    "        elif (not re.search(\"^O\\.R\\. \\d\\d\\d\\d Stad$\", district_dir_name) and\n",
    "            not re.search(\"^O\\.R\\. \\d\\d\\d\\d Buiten \\d\\d?e distr$\", district_dir_name) and\n",
    "            not re.search(\"^O\\.R\\. \\d\\d\\d\\d Buiten (Midden|Oost|West) \\de distr\", district_dir_name)):\n",
    "            print_with_color(f\"the name of \\\"{district_dir_name}\\\" is not shaped like a district directory name! (in {year_dir_name})\\n\")\n",
    "        else:\n",
    "            check_scan_file_names(data_dir, year_dir_name, district_dir_name)"
   ]
  },
  {
   "cell_type": "code",
   "execution_count": 18,
   "id": "c4cb1170-315b-4408-8a99-c252c4789489",
   "metadata": {
    "tags": []
   },
   "outputs": [],
   "source": [
    "def check_scan_file_names(data_dir, year_dir_name, district_dir_name):\n",
    "    for scan_file_name in sorted(os.listdir(os.path.join(data_dir, year_dir_name, district_dir_name))):\n",
    "        if not os.path.isfile(os.path.join(data_dir, year_dir_name, district_dir_name, scan_file_name)):\n",
    "            print_with_color(f\"\\\"{scan_file_name}\\\" is not a file!\\n\")\n",
    "        elif (not re.search(\"^O\\.R\\. \\d\\d\\d\\d Stad \\d\\d\\d.JPG$\", scan_file_name) and\n",
    "              not re.search(\"^O\\.R\\. \\d\\d\\d\\d Buiten \\d\\d?e distr\\. \\d\\d\\d.JPG$\", scan_file_name) and\n",
    "              not re.search(\"^O\\.R\\. \\d\\d\\d\\d Buiten (Midden|Oost|West) \\de distr\\. \\d\\d\\d.JPG$\", scan_file_name)):\n",
    "            print_with_color(f\"the name of \\\"{scan_file_name}\\\" is not shaped like a scan file name!\\n\")"
   ]
  },
  {
   "cell_type": "code",
   "execution_count": 19,
   "id": "0c42d730-a935-4be6-ae46-961e9c2f4183",
   "metadata": {
    "tags": []
   },
   "outputs": [
    {
     "name": "stdout",
     "output_type": "stream",
     "text": [
      "\u001b[31mthe name of \"renamed\" is not shaped like a district directory name! (in O.R. 1848)\n",
      "\u001b[m\u001b[31mthe name of \"renamed\" is not shaped like a district directory name! (in O.R. 1849)\n",
      "\u001b[m\u001b[31mthe name of \"renamed\" is not shaped like a district directory name! (in O.R. 1850)\n",
      "\u001b[m\u001b[31mthe name of \"renamed\" is not shaped like a district directory name! (in O.R. 1851)\n",
      "\u001b[m\u001b[31mthe name of \"O.R. 1859 Gr\" is not shaped like a district directory name! (in O.R. 1859)\n",
      "\u001b[m\u001b[31mthe name of \"O.R. 1870 Stad 2e exenplaar\" is not shaped like a district directory name! (in O.R. 1870)\n",
      "\u001b[m\u001b[31mthe name of \"O.R. 1887 1e deel Stad & Buiten\" is not shaped like a district directory name! (in O.R. 1887)\n",
      "\u001b[m\u001b[31mthe name of \"O.R. 1887 2e deel Stad & Buiten\" is not shaped like a district directory name! (in O.R. 1887)\n",
      "\u001b[m\u001b[31mthe name of \"O.R. 1887 Buiten 2e distr2\" is not shaped like a district directory name! (in O.R. 1887)\n",
      "\u001b[m\u001b[31mthe name of \"O.R. 1887 Buiten 3e distr2\" is not shaped like a district directory name! (in O.R. 1887)\n",
      "\u001b[m\u001b[31mthe name of \"O.R. 1887 Buiten 4e distr2\" is not shaped like a district directory name! (in O.R. 1887)\n",
      "\u001b[m\u001b[31mthe name of \"O.R. 1887 Buiten 5e distr2\" is not shaped like a district directory name! (in O.R. 1887)\n",
      "\u001b[m\u001b[31mthe name of \"O.R. 1888 Gr\" is not shaped like a district directory name! (in O.R. 1888)\n",
      "\u001b[m\u001b[31mthe name of \"O.R. 1900 Buiten 1e tm 6e distr - Griffie\" is not shaped like a district directory name! (in O.R. 1900)\n",
      "\u001b[m\u001b[31mthe name of \"O.R. 1900 Stad Griffie\" is not shaped like a district directory name! (in O.R. 1900)\n",
      "\u001b[m\u001b[31mthe name of \"O.R. 1901 Stad Griffie\" is not shaped like a district directory name! (in O.R. 1901)\n",
      "\u001b[m\u001b[31mthe name of \"O.R. 1902 Stad Griffie\" is not shaped like a district directory name! (in O.R. 1902)\n",
      "\u001b[m\u001b[31m\"O.R. 1903 Buiten 5e distr\" is not a file!\n",
      "\u001b[m\u001b[31mthe name of \"O.R. 1903 Stad Griffie\" is not shaped like a district directory name! (in O.R. 1903)\n",
      "\u001b[m\u001b[31mthe name of \"O.R. 1904 Stad Griffie\" is not shaped like a district directory name! (in O.R. 1904)\n",
      "\u001b[m\u001b[31mthe name of \"O.R. 1905 Stad Griffie\" is not shaped like a district directory name! (in O.R. 1905)\n",
      "\u001b[m\u001b[31mthe name of \"O.R. 1908 Stad 10001.JPG\" is not shaped like a scan file name!\n",
      "\u001b[m\u001b[31mthe name of \"O.R. 1908 Stad 1210.JPG\" is not shaped like a scan file name!\n",
      "\u001b[m\u001b[31mthe name of \"O.R. 1935 Buiten 2e distr. (Griffie)\" is not shaped like a district directory name! (in O.R. 1935)\n",
      "\u001b[m\u001b[31mthe name of \"O.R. 1935 Buiten 3e distr. (Griffie)\" is not shaped like a district directory name! (in O.R. 1935)\n",
      "\u001b[m\u001b[31mthe name of \"O.R. 1936 Buiten 2e distr (Griffie)\" is not shaped like a district directory name! (in O.R. 1936)\n",
      "\u001b[m\u001b[31mthe name of \"O.R. 1936 Buiten 3e distr (Griffie)\" is not shaped like a district directory name! (in O.R. 1936)\n",
      "\u001b[m\u001b[31mthe name of \"O.R. 1938 Buiten 2e distr Griffie\" is not shaped like a district directory name! (in O.R. 1938)\n",
      "\u001b[m\u001b[31mthe name of \"O.R. 1939 Buiten 3e district (2e opname)\" is not shaped like a district directory name! (in O.R. 1939)\n",
      "\u001b[m\u001b[31mthe name of \"O.R. Oud\" is not shaped like a year directory name!\n",
      "\u001b[m\u001b[31mthe name of \"others\" is not shaped like a year directory name!\n",
      "\u001b[m\u001b[31mthe name of \"pdf\" is not shaped like a year directory name!\n",
      "\u001b[m\u001b[31mthe name of \"reviews\" is not shaped like a year directory name!\n",
      "\u001b[m\u001b[31mthe name of \"samples\" is not shaped like a year directory name!\n",
      "\u001b[m\u001b[31mthe name of \"twins\" is not shaped like a year directory name!\n",
      "\u001b[m\u001b[31mthe name of \"xtra\" is not shaped like a year directory name!\n",
      "\u001b[m"
     ]
    }
   ],
   "source": [
    "check_year_dir_names(data_dir)"
   ]
  },
  {
   "cell_type": "markdown",
   "id": "ea117450-2a23-4d83-a706-eac555a50a98",
   "metadata": {},
   "source": [
    "## 4. Visualize counts"
   ]
  },
  {
   "cell_type": "code",
   "execution_count": 20,
   "id": "93916b60-1990-4b14-b961-33ea4d4a99f8",
   "metadata": {
    "tags": []
   },
   "outputs": [],
   "source": [
    "import matplotlib.pyplot as plt"
   ]
  },
  {
   "cell_type": "code",
   "execution_count": 21,
   "id": "549001aa-e808-49b9-8010-f93543a61d19",
   "metadata": {
    "tags": []
   },
   "outputs": [
    {
     "data": {
      "image/png": "[encoded data removed]",
      "text/plain": [
       "<Figure size 640x480 with 1 Axes>"
      ]
     },
     "metadata": {},
     "output_type": "display_data"
    }
   ],
   "source": [
    "plt.title(\"scans per year\")\n",
    "plt.plot([x[0] for x in counts], [x[1] for x in counts], label=\"stad\")\n",
    "plt.plot([x[0] for x in counts], [x[2] for x in counts], label=\"buiten\")\n",
    "plt.legend()\n",
    "plt.show()"
   ]
  },
  {
   "cell_type": "code",
   "execution_count": null,
   "id": "26d9edc5-91f3-48ef-9b7b-cdff5cd89356",
   "metadata": {},
   "outputs": [],
   "source": []
  }
 ],
 "metadata": {
  "kernelspec": {
   "display_name": "Python 3 (ipykernel)",
   "language": "python",
   "name": "python3"
  },
  "language_info": {
   "codemirror_mode": {
    "name": "ipython",
    "version": 3
   },
   "file_extension": ".py",
   "mimetype": "text/x-python",
   "name": "python",
   "nbconvert_exporter": "python",
   "pygments_lexer": "ipython3",
   "version": "3.9.13"
  }
 },
 "nbformat": 4,
 "nbformat_minor": 5
}
