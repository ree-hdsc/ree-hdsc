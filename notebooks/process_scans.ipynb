{
 "cells": [
  {
   "cell_type": "markdown",
   "id": "fd4c8e96-a1a8-4996-bd56-cb4c4d822548",
   "metadata": {},
   "source": [
    "# Process scans of death records of Curaçao"
   ]
  },
  {
   "cell_type": "markdown",
   "id": "a1d59ba1-d98c-4f57-bc25-cbf6620d7a28",
   "metadata": {},
   "source": [
    "## 1. Count scans"
   ]
  },
  {
   "cell_type": "code",
   "execution_count": null,
   "id": "dd27d4ec-7b2c-4147-a53f-a4d868da0a01",
   "metadata": {
    "tags": []
   },
   "outputs": [],
   "source": [
    "import os\n",
    "import re"
   ]
  },
  {
   "cell_type": "code",
   "execution_count": null,
   "id": "1d51ec3b-0e83-42db-a325-29aa43a76fe4",
   "metadata": {
    "tags": []
   },
   "outputs": [],
   "source": [
    "data_dir = \"../../data/Overlijden\""
   ]
  },
  {
   "cell_type": "code",
   "execution_count": null,
   "id": "cca40761-e9ef-4317-a221-2ce3c20450ad",
   "metadata": {
    "tags": []
   },
   "outputs": [],
   "source": [
    "def count_files(dir_name):\n",
    "    return len([file_name for file_name in os.listdir(dir_name)\n",
    "                          if re.search(\"\\.jpg$\", file_name, re.IGNORECASE)])"
   ]
  },
  {
   "cell_type": "code",
   "execution_count": null,
   "id": "3288bc3f-be73-4afb-8700-6f91009e11f6",
   "metadata": {
    "tags": []
   },
   "outputs": [],
   "source": [
    "def get_year_from_dir_name(dir_name):\n",
    "    return int(re.sub(\"^.*(\\d{4})$\", \"\\\\1\", dir_name))"
   ]
  },
  {
   "cell_type": "code",
   "execution_count": null,
   "id": "511922d3-caa9-4e90-a7c1-fbb28aa2e251",
   "metadata": {
    "tags": []
   },
   "outputs": [],
   "source": [
    "def count_scans(dir_name):\n",
    "    counts = []\n",
    "    for year_dir in sorted(os.listdir(dir_name)):\n",
    "        if re.search(\"\\d{4}$\", year_dir):\n",
    "            outside_count = 0\n",
    "            city_count = 0\n",
    "            for scan_dir in os.listdir(os.path.join(data_dir, year_dir)):\n",
    "                scan_dir = os.path.join(data_dir, year_dir, scan_dir)\n",
    "                if os.path.isdir(scan_dir):\n",
    "                    if re.search(\"buiten\", scan_dir, re.IGNORECASE):\n",
    "                        outside_count += count_files(scan_dir)\n",
    "                    elif re.search(\"stad\", scan_dir, re.IGNORECASE):\n",
    "                        city_count += count_files(scan_dir)\n",
    "            counts.append((get_year_from_dir_name(year_dir), city_count, outside_count))\n",
    "    return counts"
   ]
  },
  {
   "cell_type": "code",
   "execution_count": null,
   "id": "7b85a034-cc7e-4733-9464-35196173f8ee",
   "metadata": {
    "tags": []
   },
   "outputs": [],
   "source": [
    "def get_total(counts):\n",
    "    return sum( [ int(x[2]) + int(x[1]) for x in counts ] )"
   ]
  },
  {
   "cell_type": "code",
   "execution_count": null,
   "id": "3250233e-5b99-4033-87a6-5dab2bd7d7d0",
   "metadata": {
    "tags": []
   },
   "outputs": [],
   "source": [
    "counts = count_scans(data_dir)"
   ]
  },
  {
   "cell_type": "code",
   "execution_count": null,
   "id": "e3497bd0-47cc-4aff-92c0-202bc36bd417",
   "metadata": {
    "tags": []
   },
   "outputs": [],
   "source": [
    "get_total(counts)"
   ]
  },
  {
   "cell_type": "markdown",
   "id": "6d83bf40-94fb-4d22-95d5-00ac621cc202",
   "metadata": {},
   "source": [
    "## 2. Check counts"
   ]
  },
  {
   "cell_type": "code",
   "execution_count": null,
   "id": "b9f4a2a1-ed90-4f0c-a2a2-3a98d5cf98fd",
   "metadata": {
    "tags": []
   },
   "outputs": [],
   "source": [
    "def print_with_color(string, color_code=1):\n",
    "    print(f\"\\x1b[3{color_code}m{string}\\x1b[m\", end=\"\")"
   ]
  },
  {
   "cell_type": "code",
   "execution_count": null,
   "id": "0911edf5-907b-4aba-b841-555f3d4dac61",
   "metadata": {
    "tags": []
   },
   "outputs": [],
   "source": [
    "def get_min_max_counts(counts):\n",
    "    if not counts:\n",
    "        return None, None\n",
    "    else:\n",
    "        years = [data[0] for data in counts]\n",
    "        return min(years), max(years)"
   ]
  },
  {
   "cell_type": "code",
   "execution_count": null,
   "id": "31cc1828-fc96-407f-b055-f56c43bdb081",
   "metadata": {
    "tags": []
   },
   "outputs": [],
   "source": [
    "def check_and_fill_gaps(counts):\n",
    "    min_count, max_count = get_min_max_counts(counts)\n",
    "    years = [data[0] for data in counts]\n",
    "    for year in range(min_count, max_count+1):\n",
    "        if year not in years:\n",
    "            print_with_color(f\"warning: missing year: {year}\")\n",
    "            counts.append((year, 0, 0))\n",
    "    return counts"
   ]
  },
  {
   "cell_type": "code",
   "execution_count": null,
   "id": "fdb88e1e-08a5-4417-aa39-7ee6968c12cf",
   "metadata": {
    "tags": []
   },
   "outputs": [],
   "source": [
    "def check_duplicates_counts(counts):\n",
    "    seen = {}\n",
    "    for data in counts:\n",
    "        year = data[0]\n",
    "        if year in seen:\n",
    "            print_with_color(f\"warning: duplicate year: {year} {seen}\")\n",
    "        seen[year] = True"
   ]
  },
  {
   "cell_type": "code",
   "execution_count": null,
   "id": "b0ef4527-22ff-4f69-b43d-c97eef9a128f",
   "metadata": {
    "tags": []
   },
   "outputs": [],
   "source": [
    "def check_zero_counts(counts):\n",
    "    for data in counts:\n",
    "        if data[1] == 0:\n",
    "            print_with_color(f\"warning: no scans for stad in year {data[0]}\")\n",
    "        if data[2] == 0:\n",
    "            print_with_color(f\"warning: no scans for buiten in year {data[0]}\")"
   ]
  },
  {
   "cell_type": "code",
   "execution_count": null,
   "id": "cd17ecf0-f63a-4e83-956b-f79ea6a347c4",
   "metadata": {
    "tags": []
   },
   "outputs": [],
   "source": [
    "def check_counts(counts):\n",
    "    check_duplicates_counts(counts)\n",
    "    check_zero_counts(counts)\n",
    "    counts = check_and_fill_gaps(counts)\n",
    "    return counts"
   ]
  },
  {
   "cell_type": "code",
   "execution_count": null,
   "id": "c944244f-25ae-4b07-8b92-c3b8a2c0e404",
   "metadata": {
    "tags": []
   },
   "outputs": [],
   "source": [
    "counts = check_counts(counts)"
   ]
  },
  {
   "cell_type": "markdown",
   "id": "5fe8b198-087a-4901-8171-3b1cf801cfcc",
   "metadata": {},
   "source": [
    "## 3. Check file names"
   ]
  },
  {
   "cell_type": "code",
   "execution_count": null,
   "id": "d3303c46-8409-46bf-9339-f3819d3bdb5f",
   "metadata": {
    "tags": []
   },
   "outputs": [],
   "source": [
    "def check_year_dir_names(data_dir):\n",
    "    nbr_of_errors = 0\n",
    "    for year_dir_name in sorted(os.listdir(data_dir)):\n",
    "        if not os.path.isdir(os.path.join(data_dir, year_dir_name)):\n",
    "            print_with_color(f\"\\\"{year_dir_name}\\\" is not a directory!\\n\")\n",
    "            nbr_of_errors += 1\n",
    "        elif not re.search(\"^O\\.R\\. \\d\\d\\d\\d$\", year_dir_name):\n",
    "            print_with_color(f\"the name of \\\"{year_dir_name}\\\" is not shaped like a year directory name!\\n\")\n",
    "            nbr_of_errors += 1\n",
    "    print_with_color(f\"{nbr_of_errors} errors found\\n\")"
   ]
  },
  {
   "cell_type": "code",
   "execution_count": null,
   "id": "c9c76376-12e5-4743-8778-75c6f5507c40",
   "metadata": {
    "tags": []
   },
   "outputs": [],
   "source": [
    "def check_district_dir_names(data_dir):\n",
    "    nbr_of_errors = 0\n",
    "    for year_dir_name in sorted(os.listdir(data_dir)):\n",
    "        if os.path.isdir(os.path.join(data_dir, year_dir_name)):\n",
    "            for district_dir_name in sorted(os.listdir(os.path.join(data_dir, year_dir_name))):\n",
    "                if district_dir_name == \"log.txt\":\n",
    "                    continue\n",
    "                if not os.path.isdir(os.path.join(data_dir, year_dir_name, district_dir_name)):\n",
    "                    print_with_color(f\"\\\"{district_dir_name}\\\" is not a directory!\\n\")\n",
    "                    nbr_of_errors += 1\n",
    "                elif (not re.search(\"^O\\.R\\. \\d\\d\\d\\d Stad$\", district_dir_name) and\n",
    "                    not re.search(\"^O\\.R\\. \\d\\d\\d\\d Buiten \\de distr$\", district_dir_name)):\n",
    "                    print_with_color(f\"the name of \\\"{district_dir_name}\\\" is not shaped like a district directory name!\\n\")\n",
    "                    nbr_of_errors += 1\n",
    "    print_with_color(f\"{nbr_of_errors} errors found\\n\")"
   ]
  },
  {
   "cell_type": "code",
   "execution_count": null,
   "id": "c4cb1170-315b-4408-8a99-c252c4789489",
   "metadata": {
    "tags": []
   },
   "outputs": [],
   "source": [
    "def check_scan_file_names(data_dir):\n",
    "    nbr_of_errors = 0\n",
    "    for year_dir_name in sorted(os.listdir(data_dir)):\n",
    "        if os.path.isdir(os.path.join(data_dir, year_dir_name)):\n",
    "            for district_dir_name in sorted(os.listdir(os.path.join(data_dir, year_dir_name))):\n",
    "                if os.path.isdir(os.path.join(data_dir, year_dir_name, district_dir_name)):\n",
    "                    for scan_file_name in sorted(os.listdir(os.path.join(data_dir, year_dir_name, district_dir_name))):\n",
    "                        if not os.path.isfile(os.path.join(data_dir, year_dir_name, district_dir_name, scan_file_name)):\n",
    "                            print_with_color(f\"\\\"{scan_file_name}\\\" is not a file!\\n\")\n",
    "                            nbr_of_errors += 1\n",
    "                        elif (not re.search(\"^O\\.R\\. \\d\\d\\d\\d Stad \\d\\d\\d.JPG$\", scan_file_name) and\n",
    "                              not re.search(\"^O\\.R\\. \\d\\d\\d\\d Buiten \\de distr\\. \\d\\d\\d.JPG$\", scan_file_name) and\n",
    "                              not re.search(\"^O\\.R\\. \\d\\d\\d\\d Buiten (Midden|Oost|West) \\de distr\\. \\d\\d\\d.JPG$\", scan_file_name)):\n",
    "                            print_with_color(f\"the name of \\\"{scan_file_name}\\\" is not shaped like a scan file name!\\n\")\n",
    "                            nbr_of_errors += 1\n",
    "    print_with_color(f\"{nbr_of_errors} errors found\\n\")"
   ]
  },
  {
   "cell_type": "code",
   "execution_count": null,
   "id": "0c42d730-a935-4be6-ae46-961e9c2f4183",
   "metadata": {
    "tags": []
   },
   "outputs": [],
   "source": [
    "check_year_dir_names(data_dir)"
   ]
  },
  {
   "cell_type": "code",
   "execution_count": null,
   "id": "549ca39e-c9a9-46a9-b7cc-be068bbde361",
   "metadata": {
    "tags": []
   },
   "outputs": [],
   "source": [
    "check_district_dir_names(data_dir)"
   ]
  },
  {
   "cell_type": "markdown",
   "id": "ea117450-2a23-4d83-a706-eac555a50a98",
   "metadata": {},
   "source": [
    "## 4. Visualize counts"
   ]
  },
  {
   "cell_type": "code",
   "execution_count": null,
   "id": "93916b60-1990-4b14-b961-33ea4d4a99f8",
   "metadata": {
    "tags": []
   },
   "outputs": [],
   "source": [
    "import matplotlib.pyplot as plt"
   ]
  },
  {
   "cell_type": "code",
   "execution_count": null,
   "id": "549001aa-e808-49b9-8010-f93543a61d19",
   "metadata": {
    "tags": []
   },
   "outputs": [],
   "source": [
    "plt.title(\"scans per year\")\n",
    "plt.plot([x[0] for x in counts], [x[1] for x in counts], label=\"stad\")\n",
    "plt.plot([x[0] for x in counts], [x[2] for x in counts], label=\"buiten\")\n",
    "plt.legend()\n",
    "plt.show()"
   ]
  },
  {
   "cell_type": "code",
   "execution_count": null,
   "id": "26d9edc5-91f3-48ef-9b7b-cdff5cd89356",
   "metadata": {},
   "outputs": [],
   "source": []
  }
 ],
 "metadata": {
  "kernelspec": {
   "display_name": "Python 3 (ipykernel)",
   "language": "python",
   "name": "python3"
  },
  "language_info": {
   "codemirror_mode": {
    "name": "ipython",
    "version": 3
   },
   "file_extension": ".py",
   "mimetype": "text/x-python",
   "name": "python",
   "nbconvert_exporter": "python",
   "pygments_lexer": "ipython3",
   "version": "3.9.13"
  }
 },
 "nbformat": 4,
 "nbformat_minor": 5
}
