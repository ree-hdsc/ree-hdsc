{
 "cells": [
  {
   "cell_type": "markdown",
   "id": "deeaa281-bf8d-43c6-86c6-f6507dca94e4",
   "metadata": {},
   "source": [
    "# Annotator assessment\n",
    "\n",
    "Assses the performances of annotators"
   ]
  },
  {
   "cell_type": "code",
   "execution_count": null,
   "id": "45ab15e8-492b-46c7-ba6a-7bb88ab96503",
   "metadata": {},
   "outputs": [],
   "source": [
    "import json\n",
    "import os\n",
    "import pandas as pd\n",
    "import regex"
   ]
  },
  {
   "cell_type": "code",
   "execution_count": null,
   "id": "20d3136f-c7e0-4f42-af66-d148349ce1ea",
   "metadata": {},
   "outputs": [],
   "source": [
    "def compare_str(field, dict_1, dict_2, correct, total):\n",
    "    if field in total:\n",
    "        total[field] += 1\n",
    "    else:\n",
    "        total[field] = 1\n",
    "    if dict_1[field] == dict_2[field]:\n",
    "        if field in correct:\n",
    "            correct[field] += 1\n",
    "        else:\n",
    "            correct[field] = 1\n",
    "    return correct, total"
   ]
  },
  {
   "cell_type": "code",
   "execution_count": null,
   "id": "9b906884-8b31-4d97-bb34-baeced41995d",
   "metadata": {},
   "outputs": [],
   "source": [
    "def compare_list(field, dict_1, dict_2, correct, total):\n",
    "    for i in range(0, len(dict_1[field])):\n",
    "        if type(dict_2[field]) == list and i < len(dict_2[field]):\n",
    "            for sub_field in dict_1[field][i]:\n",
    "                if sub_field in dict_2[field][i]:\n",
    "                    combined_field = f\"{field}/{sub_field}\"\n",
    "                    if combined_field in total:\n",
    "                        total[combined_field] += 1\n",
    "                    else:\n",
    "                        total[combined_field] = 1\n",
    "                    if dict_1[field][i][sub_field] == dict_2[field][i][sub_field]:\n",
    "                        if combined_field in correct:\n",
    "                            correct[combined_field] += 1\n",
    "                        else:\n",
    "                            correct[combined_field] = 1\n",
    "    return correct, total"
   ]
  },
  {
   "cell_type": "code",
   "execution_count": null,
   "id": "bb1def14-93e1-4174-96c0-08ea2d9bafdc",
   "metadata": {},
   "outputs": [],
   "source": [
    "def analyze(file_name, correct, total):\n",
    "    data = pd.read_csv(file_name, on_bad_lines='skip')\n",
    "    skipped = {}\n",
    "    for index, row in data.iterrows():\n",
    "        row[\"answers\"] = json.loads(row[\"answers\"])\n",
    "        row[\"merged\"] = json.loads(row[\"merged\"])\n",
    "        for annotator in row[\"answers\"]:\n",
    "            for field in row[\"merged\"]:\n",
    "                if field in annotator:\n",
    "                    if type(annotator[field]) == str:\n",
    "                        correct, total = compare_str(field, annotator, row[\"merged\"], correct, total)\n",
    "                    elif type(annotator[field]) == list:\n",
    "                        correct, total = compare_list(field, annotator, row[\"merged\"], correct, total)\n",
    "                    else:\n",
    "                        skipped[field] = str(type(annotator[field]))\n",
    "    print(skipped)\n",
    "    return correct, total, len(data)"
   ]
  },
  {
   "cell_type": "code",
   "execution_count": null,
   "id": "63100bed-142e-4907-9378-4c9ebb47e51c",
   "metadata": {},
   "outputs": [],
   "source": [
    "correct = {}\n",
    "total = {}\n",
    "total_count = 0\n",
    "for file_name in os.listdir(\"../../data/suriname/\"):\n",
    "    if regex.search(\"^Project\", file_name):\n",
    "        print(f\"processing {file_name}...\", end=\" \")\n",
    "        correct, total, count = analyze(f\"../../data/suriname/{file_name}\", correct, total)\n",
    "        print(f\"({count} rows)\")\n",
    "        total_count += count"
   ]
  },
  {
   "cell_type": "code",
   "execution_count": null,
   "id": "6b70ebff-b824-4db4-ad5f-a7939fdc7a11",
   "metadata": {},
   "outputs": [],
   "source": [
    "for field in sorted(total.keys()):\n",
    "    if field in correct:\n",
    "        print(f\"{int(100 * correct[field] / total[field])}% {field}\")\n",
    "    else:\n",
    "        print(0, field)\n",
    "for field in sorted(correct.keys()):\n",
    "    if field not in total:\n",
    "        print(f\"missing field {field} in total!\")"
   ]
  },
  {
   "cell_type": "code",
   "execution_count": null,
   "id": "13f05561-4ffd-4516-9071-f1ac5b571d96",
   "metadata": {},
   "outputs": [],
   "source": [
    "print(total_count)"
   ]
  },
  {
   "cell_type": "code",
   "execution_count": null,
   "id": "c9becea0-e027-451e-b1f1-8416c9c0a850",
   "metadata": {},
   "outputs": [],
   "source": []
  }
 ],
 "metadata": {
  "kernelspec": {
   "display_name": "Python 3 (ipykernel)",
   "language": "python",
   "name": "python3"
  },
  "language_info": {
   "codemirror_mode": {
    "name": "ipython",
    "version": 3
   },
   "file_extension": ".py",
   "mimetype": "text/x-python",
   "name": "python",
   "nbconvert_exporter": "python",
   "pygments_lexer": "ipython3",
   "version": "3.9.13"
  }
 },
 "nbformat": 4,
 "nbformat_minor": 5
}
