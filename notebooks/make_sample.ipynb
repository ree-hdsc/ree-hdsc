{
 "cells": [
  {
   "cell_type": "markdown",
   "id": "3abf82d4-b626-4746-a45e-6ac70b120f32",
   "metadata": {},
   "source": [
    "# Make Sample\n",
    "\n",
    "Make a sample of scans"
   ]
  },
  {
   "cell_type": "code",
   "execution_count": 61,
   "id": "c8400ba2-047d-4bc5-be03-dca0cabf5750",
   "metadata": {
    "tags": []
   },
   "outputs": [],
   "source": [
    "import os\n",
    "import random\n",
    "import re\n",
    "import shutil"
   ]
  },
  {
   "cell_type": "code",
   "execution_count": 50,
   "id": "ea2b61d8-9ae4-474e-a746-4a670a9c9331",
   "metadata": {
    "tags": []
   },
   "outputs": [],
   "source": [
    "data_dir = \"../../data/Overlijden\"\n",
    "sample_in_dir = f\"{data_dir}/x-samples/first-38\"\n",
    "sample_out_dir = f\"{data_dir}/x-samples/three-columns-100\""
   ]
  },
  {
   "cell_type": "code",
   "execution_count": 43,
   "id": "55f99fd6-57db-49f3-b72d-1d9edf6dd311",
   "metadata": {
    "tags": []
   },
   "outputs": [],
   "source": [
    "def get_file_list(data_dir, first_year, last_year):\n",
    "    file_list = []\n",
    "    for scan_year in range(first_year, last_year+1):\n",
    "        scan_dir = f\"O.R. {scan_year}\"\n",
    "        for sub_dir in sorted(os.listdir(os.path.join(data_dir, scan_dir))):\n",
    "            for file_name in sorted(os.listdir(os.path.join(data_dir, scan_dir, sub_dir))):\n",
    "                file_list.append(os.path.join(file_name))\n",
    "    return file_list"
   ]
  },
  {
   "cell_type": "code",
   "execution_count": 52,
   "id": "3047eeb6-03a9-4cb2-a467-77b9999ecc1e",
   "metadata": {
    "tags": []
   },
   "outputs": [],
   "source": [
    "def get_sample_file_list(sample_dir):\n",
    "    file_list = []\n",
    "    for file_name in sorted(os.listdir(sample_dir)):\n",
    "        if re.search(\"^O\\.R\\. \\d\\d\\d\\d \", file_name):\n",
    "            file_list.append(file_name)\n",
    "    return file_list"
   ]
  },
  {
   "cell_type": "code",
   "execution_count": 65,
   "id": "83f74f82-d23b-4536-8e47-fe30ca1f02e5",
   "metadata": {
    "tags": []
   },
   "outputs": [],
   "source": [
    "file_list = get_file_list(data_dir, 1831, 1868)\n",
    "random.seed(2023)\n",
    "random.shuffle(file_list)\n",
    "sample_file_list = get_sample_file_list(sample_in_dir)"
   ]
  },
  {
   "cell_type": "code",
   "execution_count": 66,
   "id": "bc12c42e-e9d6-442b-86db-1ef794b14d5c",
   "metadata": {
    "tags": []
   },
   "outputs": [],
   "source": [
    "selected_file_list = [ file_name for file_name in file_list if not file_name in sample_file_list][:100]"
   ]
  },
  {
   "cell_type": "code",
   "execution_count": 67,
   "id": "cc10c740-bbdd-4264-b202-097b267c51d6",
   "metadata": {
    "tags": []
   },
   "outputs": [],
   "source": [
    "if not os.path.isdir(sample_out_dir):\n",
    "    os.mkdir(sample_out_dir)"
   ]
  },
  {
   "cell_type": "code",
   "execution_count": 68,
   "id": "34795c0e-61da-4451-902e-bf5d1f451322",
   "metadata": {
    "tags": []
   },
   "outputs": [],
   "source": [
    "for file_name in selected_file_list:\n",
    "    scan_year = \" \".join(file_name.split()[0:2])\n",
    "    sub_dir = re.sub(\"\\.$\", \"\", \" \".join(file_name.split()[:-1]))\n",
    "    shutil.copyfile(os.path.join(data_dir, scan_year, sub_dir, file_name), os.path.join(sample_out_dir, file_name))"
   ]
  },
  {
   "cell_type": "code",
   "execution_count": null,
   "id": "20ceed99-e976-4777-81ad-c0410faacf49",
   "metadata": {},
   "outputs": [],
   "source": []
  }
 ],
 "metadata": {
  "kernelspec": {
   "display_name": "Python 3 (ipykernel)",
   "language": "python",
   "name": "python3"
  },
  "language_info": {
   "codemirror_mode": {
    "name": "ipython",
    "version": 3
   },
   "file_extension": ".py",
   "mimetype": "text/x-python",
   "name": "python",
   "nbconvert_exporter": "python",
   "pygments_lexer": "ipython3",
   "version": "3.9.13"
  }
 },
 "nbformat": 4,
 "nbformat_minor": 5
}
