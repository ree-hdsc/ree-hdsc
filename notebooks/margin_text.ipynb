{
 "cells": [
  {
   "cell_type": "markdown",
   "id": "9ee9228c-c768-44eb-846b-1adb249de592",
   "metadata": {},
   "source": [
    "# Process margin texts of birth certificates of Suriname 1828-1921"
   ]
  },
  {
   "cell_type": "code",
   "execution_count": 1,
   "id": "cce1f42d-1dbe-4797-b5cd-1993ae3c3c56",
   "metadata": {
    "tags": []
   },
   "outputs": [
    {
     "name": "stderr",
     "output_type": "stream",
     "text": [
      "2023-04-25 13:59:12.513995: I tensorflow/core/platform/cpu_feature_guard.cc:193] This TensorFlow binary is optimized with oneAPI Deep Neural Network Library (oneDNN) to use the following CPU instructions in performance-critical operations:  AVX2 AVX512F AVX512_VNNI FMA\n",
      "To enable them in other operations, rebuild TensorFlow with the appropriate compiler flags.\n",
      "2023-04-25 13:59:12.605113: I tensorflow/core/util/port.cc:104] oneDNN custom operations are on. You may see slightly different numerical results due to floating-point round-off errors from different computation orders. To turn them off, set the environment variable `TF_ENABLE_ONEDNN_OPTS=0`.\n",
      "2023-04-25 13:59:12.607738: W tensorflow/compiler/xla/stream_executor/platform/default/dso_loader.cc:64] Could not load dynamic library 'libcudart.so.11.0'; dlerror: libcudart.so.11.0: cannot open shared object file: No such file or directory\n",
      "2023-04-25 13:59:12.607751: I tensorflow/compiler/xla/stream_executor/cuda/cudart_stub.cc:29] Ignore above cudart dlerror if you do not have a GPU set up on your machine.\n",
      "2023-04-25 13:59:13.056242: W tensorflow/compiler/xla/stream_executor/platform/default/dso_loader.cc:64] Could not load dynamic library 'libnvinfer.so.7'; dlerror: libnvinfer.so.7: cannot open shared object file: No such file or directory\n",
      "2023-04-25 13:59:13.056279: W tensorflow/compiler/xla/stream_executor/platform/default/dso_loader.cc:64] Could not load dynamic library 'libnvinfer_plugin.so.7'; dlerror: libnvinfer_plugin.so.7: cannot open shared object file: No such file or directory\n",
      "2023-04-25 13:59:13.056282: W tensorflow/compiler/tf2tensorrt/utils/py_utils.cc:38] TF-TRT Warning: Cannot dlopen some TensorRT libraries. If you would like to use Nvidia GPU with TensorRT, please make sure the missing libraries mentioned above are installed properly.\n",
      "2023-04-25 13:59:13.481440: W tensorflow/compiler/xla/stream_executor/platform/default/dso_loader.cc:64] Could not load dynamic library 'libcuda.so.1'; dlerror: libcuda.so.1: cannot open shared object file: No such file or directory\n",
      "2023-04-25 13:59:13.481460: W tensorflow/compiler/xla/stream_executor/cuda/cuda_driver.cc:265] failed call to cuInit: UNKNOWN ERROR (303)\n",
      "2023-04-25 13:59:13.481476: I tensorflow/compiler/xla/stream_executor/cuda/cuda_diagnostics.cc:156] kernel driver does not appear to be running on this host (erikt-XPS-13-9310): /proc/driver/nvidia/version does not exist\n"
     ]
    }
   ],
   "source": [
    "import os\n",
    "import pandas as pd\n",
    "import re\n",
    "import sys\n",
    "sys.path.append(os.getcwd() + '/..')\n",
    "from scripts import ner_analysis"
   ]
  },
  {
   "cell_type": "markdown",
   "id": "62b5050a-c798-4437-9526-a0a0c1925cf5",
   "metadata": {},
   "source": [
    "## 1. Read data"
   ]
  },
  {
   "cell_type": "code",
   "execution_count": 2,
   "id": "c1500225-0b7b-48b8-b5ce-43c5ef09b4cd",
   "metadata": {
    "tags": []
   },
   "outputs": [],
   "source": [
    "data_file = \"../../data/kantmeldingen.csv\""
   ]
  },
  {
   "cell_type": "code",
   "execution_count": 3,
   "id": "0216fbc2-38fa-4ffd-85d4-70b0ebfb90c7",
   "metadata": {
    "tags": []
   },
   "outputs": [
    {
     "name": "stderr",
     "output_type": "stream",
     "text": [
      "/tmp/ipykernel_15946/254111080.py:1: DtypeWarning: Columns (30) have mixed types. Specify dtype option on import or set low_memory=False.\n",
      "  data = pd.read_csv(data_file)\n"
     ]
    }
   ],
   "source": [
    "data = pd.read_csv(data_file)"
   ]
  },
  {
   "cell_type": "markdown",
   "id": "04b5e953-92c6-4e76-a8b8-5c8dd5e00772",
   "metadata": {},
   "source": [
    "## 2. Check data"
   ]
  },
  {
   "cell_type": "code",
   "execution_count": null,
   "id": "ddfda0f4-4a08-4512-a2c4-559e0444bed9",
   "metadata": {
    "tags": []
   },
   "outputs": [],
   "source": [
    "len(data)"
   ]
  },
  {
   "cell_type": "code",
   "execution_count": null,
   "id": "d9ae66cf-f460-4a2e-8a03-8058dc6caf37",
   "metadata": {
    "tags": []
   },
   "outputs": [],
   "source": [
    "for key in data:\n",
    "    print(key, end=\" \")"
   ]
  },
  {
   "cell_type": "code",
   "execution_count": null,
   "id": "d801df96-8881-41ca-acf6-ab1f91623bdc",
   "metadata": {
    "tags": []
   },
   "outputs": [],
   "source": [
    "birth_date_list = list(data[\"birth_date\"])\n",
    "birth_year_list = []\n",
    "for birth_date in birth_date_list:\n",
    "    try:\n",
    "        birth_year = birth_date[6:10]\n",
    "        if len(birth_year) == 4:\n",
    "            birth_year_list.append(int(birth_year))\n",
    "    except:\n",
    "        pass\n",
    "print(sorted(birth_year_list)[:10], sorted(birth_year_list)[-10:])"
   ]
  },
  {
   "cell_type": "code",
   "execution_count": null,
   "id": "99aab5eb-7ee8-4fe0-b55c-1cf2b53ef2b5",
   "metadata": {
    "tags": []
   },
   "outputs": [],
   "source": [
    "def find_rows(column, value):\n",
    "    return data[data[column].apply(lambda x: bool(re.search(value, x, re.IGNORECASE)))]"
   ]
  },
  {
   "cell_type": "code",
   "execution_count": null,
   "id": "476acdf1-b96d-4299-ad91-5c1196fe678f",
   "metadata": {
    "tags": []
   },
   "outputs": [],
   "source": [
    "find_rows(\"birth_date\", \"1988\")[\"birth_date\"]"
   ]
  },
  {
   "cell_type": "code",
   "execution_count": null,
   "id": "deb605b3-6a1c-4b2c-97a5-7d11e3b98333",
   "metadata": {
    "tags": []
   },
   "outputs": [],
   "source": [
    "data[\"note_type\"].value_counts(dropna=False)"
   ]
  },
  {
   "cell_type": "code",
   "execution_count": null,
   "id": "931c3356-a618-4af7-b28d-45c4e9dd0f33",
   "metadata": {
    "tags": []
   },
   "outputs": [],
   "source": [
    "data[\"note_type_other\"].value_counts(dropna=False)[:15]"
   ]
  },
  {
   "cell_type": "code",
   "execution_count": null,
   "id": "9a2592d6-df66-40df-bb74-1bd08f2c507e",
   "metadata": {
    "tags": []
   },
   "outputs": [],
   "source": [
    "data[\"note_txt\"][:20]"
   ]
  },
  {
   "cell_type": "code",
   "execution_count": null,
   "id": "7276ab86-1153-4e51-a589-50c589d99417",
   "metadata": {
    "tags": []
   },
   "outputs": [],
   "source": [
    "note_txt_summary = []\n",
    "for note_txt in data[\"note_txt\"]:\n",
    "    try:\n",
    "        string = note_txt.strip().lower()\n",
    "        string = re.sub(\"\\d\\d\\-\\d\\d-\\d\\d\\d\\d\", \"00-00-0000\", string)\n",
    "        string = re.sub(\"door .* als\", \"door x als\", string)\n",
    "        string = re.sub(\"overl\\. \", \"overleden \", string)\n",
    "        string = re.sub(\"o\\. *p\\. \", \"overleden te paramaribo \", string)\n",
    "        string = re.sub(\"par'*bo\", \"paramaribo\", string)\n",
    "        string = re.sub(\"paramb?o\", \"paramaribo\", string)\n",
    "        string = re.sub(\"paramaribo[.,]\", \"paramaribo\", string)\n",
    "        string = re.sub(\"paramaribo op \", \"paramaribo \", string)\n",
    "        string = re.sub(\"^o\\. \", \"overleden \", string)\n",
    "        string = re.sub(\"^o \", \"overleden \", string)\n",
    "        string = re.sub(\" p \", \" paramaribo \", string)\n",
    "        string = re.sub(\"overl \", \"overleden \", string)\n",
    "        string = re.sub(\"overleden par\", \"overleden te par\", string)\n",
    "        string = re.sub(\"0000 is .* in tegenstaande\", \"0000 is z in tegenstaande\", string)\n",
    "        #string = re.sub(\"bij akte verleden voor den ambtenaar van den burgerlijken stand te paramaribo *den 00-00-0000,? is het in tegenstaande akte genoemd kind door x als (haar|hun|zijn) natuurlijk kind erkend\\.?\", \"\", string)\n",
    "        note_txt_summary.append(string)\n",
    "        #note_txt_summary.append(re.sub(\"\\d\\d\\-\\d\\d-\\d\\d\\d\\d\", \"00-00-0000\", note_txt))\n",
    "    except:\n",
    "        note_txt_summary.append(\"NaN\")\n",
    "data[\"note_txt_summary\"] = note_txt_summary     "
   ]
  },
  {
   "cell_type": "code",
   "execution_count": null,
   "id": "448d077c-cfd7-4ea7-b71a-712a59ed6933",
   "metadata": {
    "tags": []
   },
   "outputs": [],
   "source": [
    "value_counts = data[\"note_txt_summary\"].value_counts(dropna=False)\n",
    "value_counts_df = value_counts.reset_index()\n",
    "value_counts_df.columns = ['Value', 'Count']\n",
    "value_counts_df = value_counts_df[['Count', 'Value']]\n",
    "value_counts_df[:10]"
   ]
  },
  {
   "cell_type": "code",
   "execution_count": null,
   "id": "893abf99-3e38-4688-bee8-878e1c92e336",
   "metadata": {
    "tags": []
   },
   "outputs": [],
   "source": [
    "find_rows(\"note_txt_summary\", \"akte verleden\")[:10][\"note_txt_summary\"]"
   ]
  },
  {
   "cell_type": "code",
   "execution_count": null,
   "id": "3bea5a24-26e0-45fe-906c-7db03972aa07",
   "metadata": {
    "tags": []
   },
   "outputs": [],
   "source": [
    "find_rows(\"note_txt_summary\", \"akte verleden\")[:10][\"note_txt_summary\"][2902]"
   ]
  },
  {
   "cell_type": "markdown",
   "id": "1473f426-4280-45fd-ba0a-eafaabaa43cb",
   "metadata": {},
   "source": [
    "## 3. Find entities"
   ]
  },
  {
   "cell_type": "code",
   "execution_count": 4,
   "id": "431899f2-1f8d-46f8-933e-1b30ed3465ef",
   "metadata": {
    "tags": []
   },
   "outputs": [],
   "source": [
    "ner_analysis = ner_analysis.NerAnalysis()"
   ]
  },
  {
   "cell_type": "code",
   "execution_count": 5,
   "id": "9cb75cad-0d0b-454d-806a-6bd7e9347d28",
   "metadata": {
    "tags": []
   },
   "outputs": [
    {
     "data": {
      "text/html": [
       "<span class=\"tex2jax_ignore\"><div class=\"entities\" style=\"line-height: 2.5; direction: ltr\">Bij de voltrekking van het huwelijk van \n",
       "<mark class=\"entity\" style=\"background: orange; padding: 0.45em 0.6em; margin: 0 0.25em; line-height: 1; border-radius: 0.35em;\">\n",
       "    Willem Jacobus Kenswil\n",
       "    <span style=\"font-size: 0.8em; font-weight: bold; line-height: 1; border-radius: 0.35em; vertical-align: middle; margin-left: 0.5rem\">PERSON</span>\n",
       "</mark>\n",
       " en \n",
       "<mark class=\"entity\" style=\"background: orange; padding: 0.45em 0.6em; margin: 0 0.25em; line-height: 1; border-radius: 0.35em;\">\n",
       "    Dorothea Albertina Emanuels\n",
       "    <span style=\"font-size: 0.8em; font-weight: bold; line-height: 1; border-radius: 0.35em; vertical-align: middle; margin-left: 0.5rem\">PERSON</span>\n",
       "</mark>\n",
       " op den \n",
       "<mark class=\"entity\" style=\"background: #bfe1d9; padding: 0.45em 0.6em; margin: 0 0.25em; line-height: 1; border-radius: 0.35em;\">\n",
       "    17-10-1860\n",
       "    <span style=\"font-size: 0.8em; font-weight: bold; line-height: 1; border-radius: 0.35em; vertical-align: middle; margin-left: 0.5rem\">DATE</span>\n",
       "</mark>\n",
       " hebben zij het kind in de onderstaande acte vermeld, gewettigd.  \n",
       "<mark class=\"entity\" style=\"background: #feca74; padding: 0.45em 0.6em; margin: 0 0.25em; line-height: 1; border-radius: 0.35em;\">\n",
       "    Paramaribo\n",
       "    <span style=\"font-size: 0.8em; font-weight: bold; line-height: 1; border-radius: 0.35em; vertical-align: middle; margin-left: 0.5rem\">GPE</span>\n",
       "</mark>\n",
       " den \n",
       "<mark class=\"entity\" style=\"background: #bfe1d9; padding: 0.45em 0.6em; margin: 0 0.25em; line-height: 1; border-radius: 0.35em;\">\n",
       "    22-10-1860  De Gouvernementssecretaris\n",
       "    <span style=\"font-size: 0.8em; font-weight: bold; line-height: 1; border-radius: 0.35em; vertical-align: middle; margin-left: 0.5rem\">DATE</span>\n",
       "</mark>\n",
       " ambtenaar van \n",
       "<mark class=\"entity\" style=\"background: #7aecec; padding: 0.45em 0.6em; margin: 0 0.25em; line-height: 1; border-radius: 0.35em;\">\n",
       "    Burgerlijken Stand EA van Emden\n",
       "    <span style=\"font-size: 0.8em; font-weight: bold; line-height: 1; border-radius: 0.35em; vertical-align: middle; margin-left: 0.5rem\">ORG</span>\n",
       "</mark>\n",
       "</div></span>"
      ],
      "text/plain": [
       "<IPython.core.display.HTML object>"
      ]
     },
     "metadata": {},
     "output_type": "display_data"
    }
   ],
   "source": [
    "text = data[\"note_txt\"][9]\n",
    "entity_tokens = ner_analysis.process(data[\"note_txt\"][9])\n",
    "ner_analysis.render_text(text, entity_tokens)"
   ]
  },
  {
   "cell_type": "code",
   "execution_count": null,
   "id": "3ee8eef1-e2dc-40ea-ad3a-9fac1a601dd7",
   "metadata": {},
   "outputs": [],
   "source": []
  }
 ],
 "metadata": {
  "kernelspec": {
   "display_name": "Python 3 (ipykernel)",
   "language": "python",
   "name": "python3"
  },
  "language_info": {
   "codemirror_mode": {
    "name": "ipython",
    "version": 3
   },
   "file_extension": ".py",
   "mimetype": "text/x-python",
   "name": "python",
   "nbconvert_exporter": "python",
   "pygments_lexer": "ipython3",
   "version": "3.9.13"
  }
 },
 "nbformat": 4,
 "nbformat_minor": 5
}
