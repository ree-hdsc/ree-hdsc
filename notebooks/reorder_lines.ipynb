{
 "cells": [
  {
   "cell_type": "markdown",
   "id": "e258186e-58d7-41c2-a610-38bb9e9950b5",
   "metadata": {},
   "source": [
    "# Re-order Transkribus line segments\n",
    "\n",
    "Line segments in the output of the hand-written text recognition software [Transkribus](https://readcoop.eu/transkribus/) are not always placed in the right order[1,2]. A typical problem is that Transkribus splits a line and then puts the right part in front of the left part because the start of the right part is a few pixels higher than the left part. This notebook reorders the lines by also taking into account the height of the line: a right line segment will only be put in front of a left segment if its location in the text is higher than the left line's highest point. The notebook reads a Transkribus XML file and outputs a modified version of the file.\n",
    "\n",
    "**References**\n",
    "\n",
    "1. Lisa Hoek, [Extracting Entities from Handwritten Civil Records using HTR and RegExes](https://www.ru.nl/publish/pages/769526/lisa_hoek.pdf). Master’s thesis, Radboud University Nijmegen, 2023, sections 5.3, 5.4.4 and 9.1.\n",
    "2. Erik Tjong Kim Sang, [REE-HDSC: Recognizing Extracted Entities for the Historical Database Suriname Curacao](https://ifarm.nl/erikt/papers/ree-hdsc-2023.pdf). Technical Report, Netherlands eScience Center, 2023, section 7."
   ]
  },
  {
   "cell_type": "markdown",
   "id": "360ee88c-29e1-4873-824a-8e576e167e78",
   "metadata": {},
   "source": [
    "## 1. Read files"
   ]
  },
  {
   "cell_type": "code",
   "execution_count": null,
   "id": "44be3630-a3a2-4e70-ab68-06ad3f9dc699",
   "metadata": {},
   "outputs": [],
   "source": [
    "import os\n",
    "import sys\n",
    "import xml.etree.ElementTree as ET"
   ]
  },
  {
   "cell_type": "code",
   "execution_count": null,
   "id": "0bbe9b33-3e83-4e03-95da-ff0642be30c6",
   "metadata": {},
   "outputs": [],
   "source": [
    "data_dir = \"tmp/1609526/Training_set_2/page\""
   ]
  },
  {
   "cell_type": "code",
   "execution_count": null,
   "id": "23387439-0df3-465f-a185-160c70c6f598",
   "metadata": {},
   "outputs": [],
   "source": [
    "def coordinates2rectangle(coords):\n",
    "    left, right, top, bottom =  sys.maxsize, 0, sys.maxsize, 0\n",
    "    for pair in coords.split():\n",
    "        x, y = pair.split(\",\")\n",
    "        if int(x) > right:\n",
    "            right = int(x)\n",
    "        if int(x) < left:\n",
    "            left = int(x)\n",
    "        if int(y) > bottom:\n",
    "            bottom = int(y)\n",
    "        if int(y) < top:\n",
    "            top = int(y)\n",
    "    return left, right, top, bottom"
   ]
  },
  {
   "cell_type": "code",
   "execution_count": null,
   "id": "10ad77b7-028d-450e-a057-56e5743538fe",
   "metadata": {},
   "outputs": [],
   "source": [
    "file_name = \"p001.xml\"\n",
    "tree = ET.parse(os.path.join(data_dir, file_name))\n",
    "root = tree.getroot()\n",
    "textregions = []\n",
    "for textregion in root.findall(\".//{*}TextRegion\"):\n",
    "    for textline in textregion.findall(\"./{*}TextLine\"):\n",
    "        for coords in textline.findall(\"./{*}Coords\"):\n",
    "            print(coordinates2rectangle(coords.attrib[\"points\"]))\n",
    "    print()"
   ]
  },
  {
   "cell_type": "code",
   "execution_count": null,
   "id": "cd25a357-030f-49ec-a51f-b19304a21caa",
   "metadata": {},
   "outputs": [],
   "source": []
  }
 ],
 "metadata": {
  "kernelspec": {
   "display_name": "Python 3 (ipykernel)",
   "language": "python",
   "name": "python3"
  },
  "language_info": {
   "codemirror_mode": {
    "name": "ipython",
    "version": 3
   },
   "file_extension": ".py",
   "mimetype": "text/x-python",
   "name": "python",
   "nbconvert_exporter": "python",
   "pygments_lexer": "ipython3",
   "version": "3.9.13"
  }
 },
 "nbformat": 4,
 "nbformat_minor": 5
}
