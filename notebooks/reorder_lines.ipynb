{
 "cells": [
  {
   "cell_type": "markdown",
   "id": "e258186e-58d7-41c2-a610-38bb9e9950b5",
   "metadata": {},
   "source": [
    "# Re-order Transkribus line segments\n",
    "\n",
    "Line segments in the output of the hand-written text recognition software [Transkribus](https://readcoop.eu/transkribus/) are not always placed in the right order[1,2]. A typical problem is that Transkribus splits a line and then puts the right part in front of the left part because the start of the right part is a few pixels higher than the left part. This notebook reorders the lines by assuming that the height of a line is 20 pixels rather than zero: a right line segment will only be put in its position is  higher and if there is not considerable vertical overlap between the two segments. In case there is considerable overlap between the segments, they will be place based on their horizontal position. The notebook reads a Transkribus XML file and outputs a modified version of the file.\n",
    "\n",
    "Example of the problem: in our data file \"O.R. 1880 Stad 129.JPG\" the two phrases \"van beroep schoenmaker\" and \"oud vierenveertig jaren\" appear on the same line but Transkribus puts them in the wrong order.\n",
    "\n",
    "**References**\n",
    "\n",
    "1. Lisa Hoek, [Extracting Entities from Handwritten Civil Records using HTR and RegExes](https://www.ru.nl/publish/pages/769526/lisa_hoek.pdf). Master’s thesis, Radboud University Nijmegen, 2023, sections 5.3, 5.4.4 and 9.1.\n",
    "2. Erik Tjong Kim Sang, [REE-HDSC: Recognizing Extracted Entities for the Historical Database Suriname Curacao](https://ifarm.nl/erikt/papers/ree-hdsc-2023.pdf). Technical Report, Netherlands eScience Center, 2023, section 7."
   ]
  },
  {
   "cell_type": "markdown",
   "id": "360ee88c-29e1-4873-824a-8e576e167e78",
   "metadata": {},
   "source": [
    "## 1. Check the line segment order in Transkribus files"
   ]
  },
  {
   "cell_type": "code",
   "execution_count": null,
   "id": "44be3630-a3a2-4e70-ab68-06ad3f9dc699",
   "metadata": {},
   "outputs": [],
   "source": [
    "import os\n",
    "import regex\n",
    "import sys\n",
    "from termcolor import colored\n",
    "import xml.etree.ElementTree as ET"
   ]
  },
  {
   "cell_type": "code",
   "execution_count": null,
   "id": "0bbe9b33-3e83-4e03-95da-ff0642be30c6",
   "metadata": {},
   "outputs": [],
   "source": [
    "data_dir = \"tmp/1609526/Training_set_2/page\"\n",
    "data_dir = \"tmp/1636002/O_R__1879-1884/page\""
   ]
  },
  {
   "cell_type": "code",
   "execution_count": null,
   "id": "23387439-0df3-465f-a185-160c70c6f598",
   "metadata": {},
   "outputs": [],
   "source": [
    "def coordinates2rectangle(coords, top_bonus=0):\n",
    "    left, right, top, bottom =  sys.maxsize, 0, sys.maxsize, 0\n",
    "    for pair in coords.split():\n",
    "        x, y = pair.split(\",\")\n",
    "        if int(x) > right:\n",
    "            right = int(x)\n",
    "        if int(x) < left:\n",
    "            left = int(x)\n",
    "        if int(y) > bottom:\n",
    "            bottom = int(y)\n",
    "        if int(y) < top:\n",
    "            top = int(y)\n",
    "    return left, right, top + top_bonus, bottom"
   ]
  },
  {
   "cell_type": "code",
   "execution_count": null,
   "id": "7d8f9bec-858a-4fbc-ae3c-db9f4d6a84df",
   "metadata": {},
   "outputs": [],
   "source": [
    "def get_reading_order_index(tag):\n",
    "    last_token = \"\"\n",
    "    try:\n",
    "        for token in tag.attrib[\"custom\"].split():\n",
    "            if last_token == \"readingOrder\":\n",
    "                return int(regex.split(\":|;\", token)[1])\n",
    "            last_token = token\n",
    "    except:\n",
    "        pass\n",
    "    print(f\"get_reading_order: unexpected tag: {tag.attrib['custom']}\")"
   ]
  },
  {
   "cell_type": "code",
   "execution_count": null,
   "id": "14b8e69d-e685-4c69-906b-6c5494c94185",
   "metadata": {},
   "outputs": [],
   "source": [
    "def vertical_overlap_fraction(rectangle_1_top, rectangle_1_bottom, rectangle_2_top, rectangle_2_bottom):\n",
    "    rectangle_1_height = rectangle_1_bottom - rectangle_1_top\n",
    "    rectangle_2_height = rectangle_2_bottom - rectangle_2_top\n",
    "    if rectangle_1_height == 0 or rectangle_2_height == 0:\n",
    "        return 0\n",
    "    vertical_overlap = min(rectangle_1_bottom, rectangle_2_bottom) - max(rectangle_1_top, rectangle_2_top)\n",
    "    vertical_overlap_fraction =  min(vertical_overlap / rectangle_1_height, vertical_overlap / rectangle_2_height)\n",
    "    return vertical_overlap_fraction"
   ]
  },
  {
   "cell_type": "code",
   "execution_count": null,
   "id": "5e0be7bd-11cc-44c8-84b0-610f4432a61d",
   "metadata": {},
   "outputs": [],
   "source": [
    "def rectangle_1_is_before_rectangle_2(rectangle_1, rectangle_2, debug=False):\n",
    "    rectangle_1_left, rectangle_1_right, rectangle_1_top, rectangle_1_bottom = rectangle_1\n",
    "    rectangle_2_left, rectangle_2_right, rectangle_2_top, rectangle_2_bottom = rectangle_2\n",
    "    if rectangle_2_top > rectangle_1_bottom:\n",
    "        if debug: print(1)\n",
    "        return True\n",
    "    if rectangle_1_top > rectangle_2_bottom:\n",
    "        if debug: print(2)\n",
    "        return False\n",
    "    if vertical_overlap_fraction(rectangle_1_top, rectangle_1_bottom, rectangle_2_top, rectangle_2_bottom) < 0.6:\n",
    "        if rectangle_2_bottom > rectangle_1_bottom and rectangle_2_top > rectangle_1_top:\n",
    "            if debug: print(5)\n",
    "            return True\n",
    "        if rectangle_1_bottom > rectangle_2_bottom and rectangle_1_top > rectangle_2_top:\n",
    "            if debug: print(6)\n",
    "            return False\n",
    "    else:\n",
    "        if rectangle_2_left > rectangle_1_right:\n",
    "            if debug: print(3)\n",
    "            return True\n",
    "        if rectangle_1_left > rectangle_2_right:\n",
    "            if debug: print(4)\n",
    "            return False\n",
    "        if rectangle_2_left > rectangle_1_left and rectangle_2_right > rectangle_1_right:\n",
    "            if debug: print(7)\n",
    "            return True\n",
    "        if rectangle_1_left > rectangle_2_left and rectangle_1_right > rectangle_2_right:\n",
    "            if debug: print(7)\n",
    "            return False\n",
    "    \n",
    "    return None"
   ]
  },
  {
   "cell_type": "code",
   "execution_count": null,
   "id": "e5e3d77a-1a6d-464f-a2e7-e7a0ebbb1cfa",
   "metadata": {},
   "outputs": [],
   "source": [
    "def get_text_from_xml(tag):\n",
    "    text = \"\"\n",
    "    for unicode in tag.findall(\".//{*}Unicode\"):\n",
    "        if text == \"\":\n",
    "            text += str(unicode.text)\n",
    "        else:\n",
    "            text += \" \" + str(unicode.text)\n",
    "    return text"
   ]
  },
  {
   "cell_type": "code",
   "execution_count": null,
   "id": "10ad77b7-028d-450e-a057-56e5743538fe",
   "metadata": {},
   "outputs": [],
   "source": [
    "def process_file(file_name, show_all=False):\n",
    "    tree = ET.parse(os.path.join(data_dir, file_name))\n",
    "    root = tree.getroot()\n",
    "    textregions = []\n",
    "    for textregion in root.findall(\".//{*}TextRegion\"):\n",
    "        last_rectangle = (0, 0, 0, 0)\n",
    "        last_text = \"\"\n",
    "        textline_list = textregion.findall(\"./{*}TextLine\")\n",
    "        for textline in textline_list:\n",
    "            reading_order_index = get_reading_order_index(textline)\n",
    "            for baseline in textline.findall(\"./{*}Baseline\"):\n",
    "                rectangle = coordinates2rectangle(baseline.attrib[\"points\"], top_bonus=-20)\n",
    "                order_check_result = rectangle_1_is_before_rectangle_2(last_rectangle, rectangle, debug=False)\n",
    "                text = get_text_from_xml(textline)\n",
    "                if show_all or (not order_check_result and reading_order_index / len(textline_list) < 0.75 and text != \"\" and last_text != \"\"):\n",
    "                    print(file_name, reading_order_index, len(textline_list), colored(order_check_result, \"black\", attrs=[\"bold\"]), rectangle, text, f\"({last_text})\")\n",
    "                last_rectangle = rectangle\n",
    "                last_text = text"
   ]
  },
  {
   "cell_type": "code",
   "execution_count": null,
   "id": "46f62dd7-88cd-4984-a2e2-74ae16e4a8a8",
   "metadata": {},
   "outputs": [],
   "source": [
    "for file_name in os.listdir(data_dir):\n",
    "    if regex.search(\"xml$\", file_name):\n",
    "        process_file(file_name)"
   ]
  },
  {
   "cell_type": "code",
   "execution_count": null,
   "id": "78d62896-11ff-4291-b4ca-6e489b3ec7e1",
   "metadata": {},
   "outputs": [],
   "source": [
    "process_file(\"O.R. 1880 Stad 120.xml\", show_all=True)"
   ]
  },
  {
   "cell_type": "code",
   "execution_count": null,
   "id": "6eb91bac-ddcd-4c3e-95e8-9de96250e53f",
   "metadata": {},
   "outputs": [],
   "source": []
  }
 ],
 "metadata": {
  "kernelspec": {
   "display_name": "Python 3 (ipykernel)",
   "language": "python",
   "name": "python3"
  },
  "language_info": {
   "codemirror_mode": {
    "name": "ipython",
    "version": 3
   },
   "file_extension": ".py",
   "mimetype": "text/x-python",
   "name": "python",
   "nbconvert_exporter": "python",
   "pygments_lexer": "ipython3",
   "version": "3.9.13"
  }
 },
 "nbformat": 4,
 "nbformat_minor": 5
}
