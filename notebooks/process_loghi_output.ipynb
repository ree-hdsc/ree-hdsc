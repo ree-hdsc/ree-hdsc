{
 "cells": [
  {
   "cell_type": "markdown",
   "id": "173d18dd-b91c-493a-96a9-3dc2ca8661c7",
   "metadata": {},
   "source": [
    "# Process Loghi output\n",
    "\n",
    "Loghi for HTR: https://github.com/knaw-huc/loghi"
   ]
  },
  {
   "cell_type": "code",
   "execution_count": null,
   "id": "3f205c34-2510-42a8-a70f-77dcbb15cd32",
   "metadata": {
    "tags": []
   },
   "outputs": [],
   "source": [
    "import os\n",
    "import sys\n",
    "sys.path.append(os.getcwd() + '/..')\n",
    "from scripts import read_transkribus_files"
   ]
  },
  {
   "cell_type": "code",
   "execution_count": null,
   "id": "eb3f2abb-5e0f-4bbe-8930-d2dad4b3360d",
   "metadata": {
    "tags": []
   },
   "outputs": [],
   "source": [
    "results = read_transkribus_files.read_files(\"../../loghi/images/page\")"
   ]
  },
  {
   "cell_type": "code",
   "execution_count": null,
   "id": "5b3ce885-3238-441d-b6f0-d68bc9a084c2",
   "metadata": {
    "tags": []
   },
   "outputs": [],
   "source": [
    "for result_id in results[0]:\n",
    "    print(results[0][result_id])"
   ]
  },
  {
   "cell_type": "code",
   "execution_count": null,
   "id": "451c02bc-6a47-4696-a509-ed3522749c49",
   "metadata": {},
   "outputs": [],
   "source": []
  }
 ],
 "metadata": {
  "kernelspec": {
   "display_name": "Python 3 (ipykernel)",
   "language": "python",
   "name": "python3"
  },
  "language_info": {
   "codemirror_mode": {
    "name": "ipython",
    "version": 3
   },
   "file_extension": ".py",
   "mimetype": "text/x-python",
   "name": "python",
   "nbconvert_exporter": "python",
   "pygments_lexer": "ipython3",
   "version": "3.9.13"
  }
 },
 "nbformat": 4,
 "nbformat_minor": 5
}
