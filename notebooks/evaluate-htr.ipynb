{
 "cells": [
  {
   "cell_type": "markdown",
   "id": "e7a4f5f4-f339-4060-bd83-aec2973379be",
   "metadata": {},
   "source": [
    "# Evaluate Hand-written Text Recognition"
   ]
  },
  {
   "cell_type": "code",
   "execution_count": null,
   "id": "cdb91dcd-7f52-4462-b9a1-807b1ca12e9a",
   "metadata": {
    "tags": []
   },
   "outputs": [],
   "source": [
    "import os\n",
    "import sys\n",
    "sys.path.append(os.getcwd() + '/..')\n",
    "from scripts import read_transkribus_files"
   ]
  },
  {
   "cell_type": "code",
   "execution_count": null,
   "id": "91b5ad72-45ec-4fce-92aa-7bdca9608d22",
   "metadata": {
    "tags": []
   },
   "outputs": [],
   "source": [
    "data_dir = \"../../data/Overlijden/x-samples/three-columns-100/page\"\n",
    "\n",
    "texts, metadata, textregions = read_transkribus_files.read_files(data_dir)"
   ]
  },
  {
   "cell_type": "code",
   "execution_count": null,
   "id": "5af51cb5-811d-4414-8efb-d8ddac158e5f",
   "metadata": {
    "tags": []
   },
   "outputs": [],
   "source": [
    "\" \".join(texts[list(texts.keys())[0]].strip().split())"
   ]
  },
  {
   "cell_type": "code",
   "execution_count": null,
   "id": "06107986-e4b0-43fa-a791-e940b997a5af",
   "metadata": {},
   "outputs": [],
   "source": []
  }
 ],
 "metadata": {
  "kernelspec": {
   "display_name": "Python 3 (ipykernel)",
   "language": "python",
   "name": "python3"
  },
  "language_info": {
   "codemirror_mode": {
    "name": "ipython",
    "version": 3
   },
   "file_extension": ".py",
   "mimetype": "text/x-python",
   "name": "python",
   "nbconvert_exporter": "python",
   "pygments_lexer": "ipython3",
   "version": "3.9.13"
  }
 },
 "nbformat": 4,
 "nbformat_minor": 5
}
