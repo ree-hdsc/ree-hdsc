{
 "cells": [
  {
   "cell_type": "markdown",
   "id": "e7a4f5f4-f339-4060-bd83-aec2973379be",
   "metadata": {},
   "source": [
    "# Evaluate Hand-written Text Recognition"
   ]
  },
  {
   "cell_type": "code",
   "execution_count": null,
   "id": "cdb91dcd-7f52-4462-b9a1-807b1ca12e9a",
   "metadata": {
    "tags": []
   },
   "outputs": [],
   "source": [
    "from Levenshtein import distance\n",
    "import os\n",
    "import matplotlib.pyplot as plt\n",
    "import re\n",
    "import sys\n",
    "sys.path.append(os.getcwd() + '/..')\n",
    "from scripts import read_transkribus_files"
   ]
  },
  {
   "cell_type": "code",
   "execution_count": null,
   "id": "b31d6e4f-0231-43c8-a06b-dade5bd571dc",
   "metadata": {
    "tags": []
   },
   "outputs": [],
   "source": [
    "def print_with_color(string, color_code=1):\n",
    "    print(f\"\\x1b[3{color_code}m{string}\\x1b[m\", end=\"\")"
   ]
  },
  {
   "cell_type": "markdown",
   "id": "a29e48be-e704-4390-ad69-122a94e72a19",
   "metadata": {},
   "source": [
    "## 1. Estimate HTR accuracy by exmanining printed text"
   ]
  },
  {
   "cell_type": "code",
   "execution_count": null,
   "id": "91b5ad72-45ec-4fce-92aa-7bdca9608d22",
   "metadata": {
    "tags": []
   },
   "outputs": [],
   "source": [
    "data_dir = \"../../data/Overlijden/x-samples/three-columns-100/page\"\n",
    "#data_dir = \"../../data/Overlijden/x-samples/Training_set_V2/page\"\n",
    "\n",
    "texts, metadata, textregions = read_transkribus_files.read_files(data_dir)"
   ]
  },
  {
   "cell_type": "code",
   "execution_count": null,
   "id": "5af51cb5-811d-4414-8efb-d8ddac158e5f",
   "metadata": {
    "tags": []
   },
   "outputs": [],
   "source": [
    "def cleanup_text(text):\n",
    "    return \" \".join(text.strip().split())"
   ]
  },
  {
   "cell_type": "code",
   "execution_count": null,
   "id": "06107986-e4b0-43fa-a791-e940b997a5af",
   "metadata": {},
   "outputs": [],
   "source": [
    "BATCHSIZE = 1\n",
    "\n",
    "PROMPT_DECEASED_NAME = \"\"\"Here is a Dutch death certificate. \n",
    "Can you extract the name of the deceased person from this document? \n",
    "Only give the deceased name as result. \n",
    "Other information from the document is not necessary.\n",
    "\"\"\" \n",
    "\n",
    "PROMPT_DEATH_DATE = \"\"\"Here is a Dutch death certificate. \n",
    "Can you extract the death date from this document? \n",
    "Please present the result in numeric form, with a zero prepending day and month numbers smaller than 10, so for example like: 01-01-1900.\n",
    "Only give the death date as result. \n",
    "Other information from the document is not necessary.\n",
    "\"\"\" \n",
    "\n",
    "counter = 0\n",
    "for key in sorted(texts.keys()):\n",
    "    year, district, folio_nbr = key.split(\"-\")\n",
    "    print(PROMPT_DECEASED_NAME + re.sub(\"\\n\", \" \", texts[key]))\n",
    "    counter += 1\n",
    "    if counter >= BATCHSIZE:\n",
    "        counter = 0\n",
    "        print(\"\\n\")"
   ]
  },
  {
   "cell_type": "code",
   "execution_count": null,
   "id": "5abea7d5-5335-4bb7-b56a-cd7b3a1199ee",
   "metadata": {
    "tags": []
   },
   "outputs": [],
   "source": [
    "def compare_strings(string1, text):\n",
    "    clean_string = re.sub(\"[^a-z0-9]\", \"\", re.sub(\"ç\", \"c\", string.lower()))\n",
    "    clean_text = re.sub(\"[^a-z0-9]\", \"\", re.sub(\"ç\", \"c\", text.lower()))\n",
    "    return clean_string in clean_text"
   ]
  },
  {
   "cell_type": "code",
   "execution_count": null,
   "id": "f409db9c-52cf-4108-a183-139ba6f19054",
   "metadata": {
    "tags": []
   },
   "outputs": [],
   "source": [
    "def get_template_id(PRINTED_TEXT, year):\n",
    "    template_id = 0\n",
    "    for key in PRINTED_TEXT.keys():\n",
    "        if key > template_id and key <= int(year):\n",
    "            template_id = key\n",
    "    return template_id"
   ]
  },
  {
   "cell_type": "code",
   "execution_count": null,
   "id": "44839446-2df4-4e95-b9a9-a8458ab7f74a",
   "metadata": {
    "tags": []
   },
   "outputs": [],
   "source": [
    "scores = {}\n",
    "for key in sorted(texts.keys()):\n",
    "    year, district, folio_nbr = key.split(\"-\")\n",
    "    template_id = get_template_id(PRINTED_TEXT, year)\n",
    "    correct_text = \"\"\n",
    "    missed_text = \"\"\n",
    "    for string in PRINTED_TEXT[template_id]:\n",
    "        if compare_strings(string, texts[key]):\n",
    "            correct_text += string\n",
    "        else:\n",
    "            missed_text += string\n",
    "    scores[key] = len(correct_text)/len(correct_text + missed_text)\n",
    "[(key[1], key[0]) for key in sorted(scores.items() ,key=lambda item: item[1])][-5:]"
   ]
  },
  {
   "cell_type": "markdown",
   "id": "581856cc-5b12-4864-9739-fe2b9a033c77",
   "metadata": {},
   "source": [
    "## 2. Compare names with gold data"
   ]
  },
  {
   "cell_type": "code",
   "execution_count": null,
   "id": "5b7f9078-2e9e-4a85-ae75-af176ecc7757",
   "metadata": {
    "tags": []
   },
   "outputs": [],
   "source": [
    "import pandas as pd"
   ]
  },
  {
   "cell_type": "code",
   "execution_count": null,
   "id": "d72467f6-2600-49bf-a99a-5abbf52c98a9",
   "metadata": {
    "tags": []
   },
   "outputs": [],
   "source": [
    "def fix_year(text_id, date_in):\n",
    "    print(text_id, date_in)\n",
    "    target_year = int(text_id[:4])\n",
    "    guessed_year = int(date_in[-4:])\n",
    "    if guessed_year != target_year and guessed_year != target_year-1:\n",
    "        print_with_color(f\"changing year {guessed_year} to {target_year}!\\n\")\n",
    "        date_out = date_in[0:-4] + str(target_year)\n",
    "    else:\n",
    "        date_out = date_in\n",
    "    return date_out"
   ]
  },
  {
   "cell_type": "code",
   "execution_count": null,
   "id": "ee3374a4-6572-4a1f-a27c-a012683b3411",
   "metadata": {
    "tags": []
   },
   "outputs": [],
   "source": [
    "GOLD_DATA = \"../../data/Overlijden/x-samples/three-columns-100.csv\""
   ]
  },
  {
   "cell_type": "code",
   "execution_count": null,
   "id": "6828de17-479b-4924-80d4-1a849e62f79b",
   "metadata": {
    "tags": []
   },
   "outputs": [],
   "source": [
    "gold_data = pd.read_csv(GOLD_DATA)"
   ]
  },
  {
   "cell_type": "code",
   "execution_count": null,
   "id": "b4b6cce0-bc60-42f3-b0cd-3ce734427967",
   "metadata": {
    "tags": []
   },
   "outputs": [],
   "source": [
    "GOLD_DATA = \"../../data/Overlijden/x-samples/three-columns-100.csv\"\n",
    "gold_data = pd.read_csv(GOLD_DATA)\n",
    "names = {}\n",
    "for key in gold_data.index:\n",
    "    names_key = read_transkribus_files.make_file_id(gold_data[\"scans\"][key])\n",
    "    if isinstance(gold_data[\"first_names\"][key], str):\n",
    "        if isinstance(gold_data[\"last_name\"][key], str):\n",
    "            name = str(gold_data[\"first_names\"][key]) + \" \" + str(gold_data[\"last_name\"][key])\n",
    "        else:\n",
    "            name = str(gold_data[\"first_names\"][key])\n",
    "    elif isinstance(gold_data[\"last_name\"][key], str):\n",
    "        name = str(gold_data[\"last_name\"][key])\n",
    "    if names_key in names:\n",
    "        names[names_key].append(name)\n",
    "    else:\n",
    "        names[names_key] = [name]"
   ]
  },
  {
   "cell_type": "code",
   "execution_count": null,
   "id": "f31db6f6-a056-481a-8c68-366f48b6d145",
   "metadata": {
    "tags": []
   },
   "outputs": [],
   "source": [
    "chatgpt_deceased_names = list(pd.read_csv(\"deceased_names_gpt35.csv\", header=None)[0])"
   ]
  },
  {
   "cell_type": "code",
   "execution_count": null,
   "id": "97f7614a-8943-4791-973b-d78b57df1c4f",
   "metadata": {
    "tags": []
   },
   "outputs": [],
   "source": [
    "counter = 0\n",
    "names_correct = 0\n",
    "name_distances = {}\n",
    "year_scores = {}\n",
    "for key in sorted(texts.keys()):\n",
    "    name_correct = False\n",
    "    levenshtein_minimum = 999999\n",
    "    year = key[:4]\n",
    "    for name in names[key]:\n",
    "        name = re.sub(\"[.,]\", \"\", name)\n",
    "        name = re.sub(\"  *\", \" \", name).strip()\n",
    "        try:\n",
    "            chatgpt_deceased_names[counter] = re.sub(\"[.,]\", \"\", chatgpt_deceased_names[counter])\n",
    "            chatgpt_deceased_names[counter] = re.sub(\"  *\", \" \", chatgpt_deceased_names[counter])\n",
    "            if not name_correct:\n",
    "                name_correct = (chatgpt_deceased_names[counter].lower() == name.lower())\n",
    "            levenshtein_distance = distance(chatgpt_deceased_names[counter].lower(), name.lower())\n",
    "            if levenshtein_distance < levenshtein_minimum:\n",
    "                levenshtein_minimum  = levenshtein_distance\n",
    "        except:\n",
    "            print_with_color(f\"missing data for key: {key}\\n\")\n",
    "    try:\n",
    "        if not name_correct:\n",
    "            print(f\"{chatgpt_deceased_names[counter]} {names[key]} {key}\")\n",
    "    except:\n",
    "        pass\n",
    "    if year in year_scores:\n",
    "        if name_correct in year_scores[year]:\n",
    "            year_scores[year][name_correct] += 1\n",
    "        else:\n",
    "            year_scores[year][name_correct] = 1\n",
    "    else:\n",
    "        year_scores[year] = { name_correct: 1, not name_correct: 0 }\n",
    "    counter += 1\n",
    "    if name_correct:\n",
    "        names_correct += 1\n",
    "    if levenshtein_minimum not in name_distances:\n",
    "        name_distances[levenshtein_minimum] = 1\n",
    "    else:\n",
    "        name_distances[levenshtein_minimum] += 1\n",
    "names_correct, name_distances"
   ]
  },
  {
   "cell_type": "code",
   "execution_count": null,
   "id": "5aca6dcf-93f3-4610-ace6-e087aa57fbdb",
   "metadata": {
    "tags": []
   },
   "outputs": [],
   "source": [
    "plt.plot(year_scores.keys(), [ 100*year_scores[year][True]/(year_scores[year][True] + year_scores[year][False]) for year in year_scores ])\n",
    "plt.xticks(range(0, 30, 5))\n",
    "plt.title(\"precentage correct names per year\")\n",
    "plt.show()"
   ]
  },
  {
   "cell_type": "code",
   "execution_count": null,
   "id": "1ca19927-fa11-4e7d-bf51-179bbad37c68",
   "metadata": {
    "tags": []
   },
   "outputs": [],
   "source": [
    "date_of_death_gold = {}\n",
    "for key in gold_data.index:\n",
    "    date_of_death_gold_key = read_transkribus_files.make_file_id(gold_data[\"scans\"][key])\n",
    "    if isinstance(gold_data[\"date_of_death\"][key], str):\n",
    "        date_of_death_gold_value = gold_data[\"date_of_death\"][key]\n",
    "        if date_of_death_gold_key in date_of_death_gold:\n",
    "            date_of_death_gold[date_of_death_gold_key].append(date_of_death_gold_value)\n",
    "        else:\n",
    "            date_of_death_gold[date_of_death_gold_key] = [date_of_death_gold_value]"
   ]
  },
  {
   "cell_type": "code",
   "execution_count": null,
   "id": "84b126ee-0c70-4557-8646-850e0022ce0d",
   "metadata": {
    "tags": []
   },
   "outputs": [],
   "source": [
    "counter = 0\n",
    "correct_death_date_found_count = 0\n",
    "for text_id in sorted(texts.keys()):\n",
    "    try:\n",
    "        chatgpt_death_dates[counter] = fix_year(text_id, chatgpt_death_dates[counter])\n",
    "        date_correct = chatgpt_death_dates[counter] == date_of_death_gold[text_id][0]\n",
    "        print(counter, chatgpt_death_dates[counter], date_of_death_gold[text_id][0], date_correct)\n",
    "        if date_correct:\n",
    "            correct_death_date_found_count += 1 \n",
    "    except:\n",
    "        print_with_color(f\"error for text id {text_id}!\\n\")\n",
    "    counter += 1\n",
    "    if counter >= len(chatgpt_death_dates):\n",
    "        break\n",
    "correct_death_date_found_count"
   ]
  },
  {
   "cell_type": "markdown",
   "id": "b6dae9a9-52d5-4677-87dc-96c686cba32f",
   "metadata": {},
   "source": [
    "to do: check for missing gold data"
   ]
  },
  {
   "cell_type": "code",
   "execution_count": null,
   "id": "fc8d844b-c716-46c2-938f-6046f011fe66",
   "metadata": {},
   "outputs": [],
   "source": []
  }
 ],
 "metadata": {
  "kernelspec": {
   "display_name": "Python 3 (ipykernel)",
   "language": "python",
   "name": "python3"
  },
  "language_info": {
   "codemirror_mode": {
    "name": "ipython",
    "version": 3
   },
   "file_extension": ".py",
   "mimetype": "text/x-python",
   "name": "python",
   "nbconvert_exporter": "python",
   "pygments_lexer": "ipython3",
   "version": "3.9.13"
  }
 },
 "nbformat": 4,
 "nbformat_minor": 5
}
