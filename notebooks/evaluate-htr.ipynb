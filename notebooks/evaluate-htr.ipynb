{
 "cells": [
  {
   "cell_type": "markdown",
   "id": "e7a4f5f4-f339-4060-bd83-aec2973379be",
   "metadata": {},
   "source": [
    "# Evaluate Hand-written Text Recognition"
   ]
  },
  {
   "cell_type": "code",
   "execution_count": 155,
   "id": "cdb91dcd-7f52-4462-b9a1-807b1ca12e9a",
   "metadata": {
    "tags": []
   },
   "outputs": [],
   "source": [
    "from Levenshtein import distance\n",
    "import itertools\n",
    "import os\n",
    "import matplotlib.pyplot as plt\n",
    "import re\n",
    "import sys\n",
    "sys.path.append(os.getcwd() + '/..')\n",
    "from scripts import read_transkribus_files, printed_text"
   ]
  },
  {
   "cell_type": "code",
   "execution_count": 2,
   "id": "b31d6e4f-0231-43c8-a06b-dade5bd571dc",
   "metadata": {
    "tags": []
   },
   "outputs": [],
   "source": [
    "def print_with_color(string, color_code=1):\n",
    "    print(f\"\\x1b[3{color_code}m{string}\\x1b[m\", end=\"\")"
   ]
  },
  {
   "cell_type": "markdown",
   "id": "a29e48be-e704-4390-ad69-122a94e72a19",
   "metadata": {},
   "source": [
    "## 1. Estimate HTR accuracy by examining printed text"
   ]
  },
  {
   "cell_type": "code",
   "execution_count": 3,
   "id": "91b5ad72-45ec-4fce-92aa-7bdca9608d22",
   "metadata": {
    "tags": []
   },
   "outputs": [],
   "source": [
    "data_dir = \"../../data/Overlijden/x-samples/three-columns-100/page\"\n",
    "#data_dir = \"../../data/Overlijden/x-samples/Training_set_V2/page\"\n",
    "\n",
    "texts, metadata, textregions = read_transkribus_files.read_files(data_dir)"
   ]
  },
  {
   "cell_type": "code",
   "execution_count": 4,
   "id": "5af51cb5-811d-4414-8efb-d8ddac158e5f",
   "metadata": {
    "tags": []
   },
   "outputs": [],
   "source": [
    "def cleanup_text(text):\n",
    "    return \" \".join(text.strip().split())"
   ]
  },
  {
   "cell_type": "code",
   "execution_count": 160,
   "id": "06107986-e4b0-43fa-a791-e940b997a5af",
   "metadata": {},
   "outputs": [],
   "source": [
    "BATCHSIZE = 1\n",
    "\n",
    "PROMPT_DECEASED_NAME = \"\"\"Here is a Dutch death certificate. \n",
    "Can you extract the name of the deceased person from this document? \n",
    "Only give the deceased name as result. \n",
    "Other information from the document is not necessary.\n",
    "\"\"\" \n",
    "\n",
    "PROMPT_DEATH_DATE = \"\"\"Here is a Dutch death certificate. \n",
    "Can you extract the death date from this document? \n",
    "Please present the result in numeric form, with a zero prepending day and month numbers smaller than 10, so for example like: 01-01-1900.\n",
    "Only give the death date as result. \n",
    "Other information from the document is not necessary.\n",
    "\"\"\" \n",
    "\n",
    "PROMPT_MOTHER_NAME = \"\"\"Here is a Dutch death certificate. \n",
    "Can you extract the name of the mother of the deceased person from this document? \n",
    "Only give the mother's name as result. \n",
    "Other information from the document is not necessary.\n",
    "\"\"\" \n",
    "\n",
    "def make_prompt_texts(texts):\n",
    "    counter = 0\n",
    "    for text_id in sorted(texts.keys()):\n",
    "        year, district, folio_nbr = key.split(\"-\")\n",
    "        print(text_id)\n",
    "        print(PROMPT_MOTHER_NAME + re.sub(\"\\n\", \" \", texts[text_id]))\n",
    "        counter += 1\n",
    "        if counter >= BATCHSIZE:\n",
    "            counter = 0\n",
    "            print(\"\\n\")\n",
    "            \n",
    "#make_prompt_texts(texts)"
   ]
  },
  {
   "cell_type": "code",
   "execution_count": 7,
   "id": "5abea7d5-5335-4bb7-b56a-cd7b3a1199ee",
   "metadata": {
    "tags": []
   },
   "outputs": [],
   "source": [
    "def compare_strings(string1, text):\n",
    "    clean_string = re.sub(\"[^a-z0-9]\", \"\", re.sub(\"ç\", \"c\", string.lower()))\n",
    "    clean_text = re.sub(\"[^a-z0-9]\", \"\", re.sub(\"ç\", \"c\", text.lower()))\n",
    "    return clean_string in clean_text"
   ]
  },
  {
   "cell_type": "code",
   "execution_count": 8,
   "id": "f409db9c-52cf-4108-a183-139ba6f19054",
   "metadata": {
    "tags": []
   },
   "outputs": [],
   "source": [
    "def get_template_id(PRINTED_TEXT, year):\n",
    "    template_id = 0\n",
    "    for key in PRINTED_TEXT.keys():\n",
    "        if key > template_id and key <= int(year):\n",
    "            template_id = key\n",
    "    return template_id"
   ]
  },
  {
   "cell_type": "code",
   "execution_count": 9,
   "id": "44839446-2df4-4e95-b9a9-a8458ab7f74a",
   "metadata": {
    "tags": []
   },
   "outputs": [
    {
     "data": {
      "text/plain": [
       "[(0.7371134020618557, '1866-1e-155'),\n",
       " (0.7422680412371134, '1860-1e-165'),\n",
       " (0.7422680412371134, '1860-1e-183'),\n",
       " (0.7422680412371134, '1862-1e-092'),\n",
       " (0.7422680412371134, '1867-2e-035')]"
      ]
     },
     "execution_count": 9,
     "metadata": {},
     "output_type": "execute_result"
    }
   ],
   "source": [
    "scores = {}\n",
    "for key in sorted(texts.keys()):\n",
    "    year, district, folio_nbr = key.split(\"-\")\n",
    "    template_id = get_template_id(printed_text.PRINTED_TEXT, year)\n",
    "    correct_text = \"\"\n",
    "    missed_text = \"\"\n",
    "    for string in printed_text.PRINTED_TEXT[template_id]:\n",
    "        if compare_strings(string, texts[key]):\n",
    "            correct_text += string\n",
    "        else:\n",
    "            missed_text += string\n",
    "    scores[key] = len(correct_text)/len(correct_text + missed_text)\n",
    "[(key[1], key[0]) for key in sorted(scores.items() ,key=lambda item: item[1])][-5:]"
   ]
  },
  {
   "cell_type": "markdown",
   "id": "581856cc-5b12-4864-9739-fe2b9a033c77",
   "metadata": {},
   "source": [
    "## 2. Compare names with gold data"
   ]
  },
  {
   "cell_type": "code",
   "execution_count": 10,
   "id": "5b7f9078-2e9e-4a85-ae75-af176ecc7757",
   "metadata": {
    "tags": []
   },
   "outputs": [],
   "source": [
    "import pandas as pd"
   ]
  },
  {
   "cell_type": "code",
   "execution_count": 11,
   "id": "d72467f6-2600-49bf-a99a-5abbf52c98a9",
   "metadata": {
    "tags": []
   },
   "outputs": [],
   "source": [
    "def fix_year(text_id, date_in):\n",
    "    print(text_id, date_in)\n",
    "    target_year = int(text_id[:4])\n",
    "    guessed_year = int(date_in[-4:])\n",
    "    if guessed_year != target_year and guessed_year != target_year-1:\n",
    "        print_with_color(f\"changing year {guessed_year} to {target_year}!\\n\")\n",
    "        date_out = date_in[0:-4] + str(target_year)\n",
    "    else:\n",
    "        date_out = date_in\n",
    "    return date_out"
   ]
  },
  {
   "cell_type": "code",
   "execution_count": 12,
   "id": "ee3374a4-6572-4a1f-a27c-a012683b3411",
   "metadata": {
    "tags": []
   },
   "outputs": [],
   "source": [
    "GOLD_DATA = \"../../data/Overlijden/x-samples/three-columns-100.csv\""
   ]
  },
  {
   "cell_type": "code",
   "execution_count": 13,
   "id": "6828de17-479b-4924-80d4-1a849e62f79b",
   "metadata": {
    "tags": []
   },
   "outputs": [],
   "source": [
    "gold_data = pd.read_csv(GOLD_DATA)"
   ]
  },
  {
   "cell_type": "code",
   "execution_count": 24,
   "id": "b4b6cce0-bc60-42f3-b0cd-3ce734427967",
   "metadata": {
    "tags": []
   },
   "outputs": [],
   "source": [
    "GOLD_DATA = \"../../data/Overlijden/x-samples/three-columns-100.csv\"\n",
    "gold_data = pd.read_csv(GOLD_DATA)\n",
    "gold_names = {}\n",
    "for key in gold_data.index:\n",
    "    gold_names_key = read_transkribus_files.make_file_id(gold_data[\"scans\"][key])\n",
    "    if isinstance(gold_data[\"first_names\"][key], str):\n",
    "        if isinstance(gold_data[\"last_name\"][key], str):\n",
    "            gold_name = str(gold_data[\"first_names\"][key]) + \" \" + str(gold_data[\"last_name\"][key])\n",
    "        else:\n",
    "            gold_name = str(gold_data[\"first_names\"][key])\n",
    "    elif isinstance(gold_data[\"last_name\"][key], str):\n",
    "        gold_name = str(gold_data[\"last_name\"][key])\n",
    "    if names_key in gold_names:\n",
    "        gold_names[gold_names_key].append(gold_name)\n",
    "    else:\n",
    "        gold_names[gold_names_key] = [gold_name]"
   ]
  },
  {
   "cell_type": "code",
   "execution_count": 15,
   "id": "45c5c2a1-eeca-437b-a4ad-5e55f4a83512",
   "metadata": {
    "tags": []
   },
   "outputs": [],
   "source": [
    "def cleanup_name(name):\n",
    "    name = re.sub(\"[.,]\", \"\", name)\n",
    "    name = re.sub(\"  *\", \" \", name).strip()\n",
    "    return name"
   ]
  },
  {
   "cell_type": "code",
   "execution_count": 44,
   "id": "71bd87a3-8344-4eae-a9c9-61ed3b3cc318",
   "metadata": {
    "tags": []
   },
   "outputs": [],
   "source": [
    "def add_text_ids(names_in):\n",
    "    counter = 0\n",
    "    names_out = {}\n",
    "    for text_id in sorted(texts.keys()):\n",
    "        names_out[text_id] = names_in[counter]\n",
    "        counter += 1\n",
    "    return names_out"
   ]
  },
  {
   "cell_type": "code",
   "execution_count": 74,
   "id": "f31db6f6-a056-481a-8c68-366f48b6d145",
   "metadata": {
    "tags": []
   },
   "outputs": [],
   "source": [
    "chatgpt_deceased_names = add_text_ids(list(pd.read_csv(\"deceased_names_gpt35.csv\", header=None)[0]))"
   ]
  },
  {
   "cell_type": "code",
   "execution_count": 103,
   "id": "97f7614a-8943-4791-973b-d78b57df1c4f",
   "metadata": {
    "tags": []
   },
   "outputs": [
    {
     "name": "stdout",
     "output_type": "stream",
     "text": [
      "2 Elisabeth Louisenne Laguna ['Elizabeth Louisienne Laguna'] 1831-1e-027\n",
      "1 Mathia Albertus ['Mathias Albertus'] 1831-Oost2e-009\n",
      "3 Petronella Margartha Calia ['Petronella Margaritha Calvo'] 1832-1e-068\n",
      "8 Maria Dolor ['Maria Dolor Martina'] 1833-1e-046\n",
      "1 Maria Antonita ['Maria Antonika'] 1833-West1e-012\n",
      "6 Anna Maria Eland ['Anna Maria'] 1833-West3e-004\n",
      "5 Christina Jacoba Marin ['CHRISTINA Jacoba Ronge'] 1834-1e-044\n",
      "11 Jan Maria Fransa Sarfette ['Maria Theresa Parfetti'] 1834-1e-057\n",
      "2 Martina Ignaais ['Martina Ignacia'] 1834-1e-179\n",
      "3 Johannes Francisto ['JOHANNIS Franciska'] 1834-Oost2e-003\n",
      "1 Cathalina Faneke ['CATHALINA HANEKE'] 1836-1e-114\n",
      "4 Lucas Paur ['LUCAS HANSZ'] 1836-1e-169\n",
      "19 Anna Theodon Decartis. ['EDERMO SILVINO DAMOEN'] 1837-1e-204\n",
      "8 Partha Sophia Koober ['Janetta Sophia KOOLMEIER'] 1839-1e-104\n",
      "5 Joseph Bleuw ['JOSEPH BLEISWIJK'] 1840-1e-115\n",
      "4 Belfaars Calafet ['BELFACIO CALAFIT'] 1841-1e-083\n",
      "2 Maria Felies ['MARIA FELICI'] 1841-1e-111\n",
      "7 Leidewich Christint Boe. ['LUDEWICH CHRISTOPH BOYÉ'] 1841-1e-258\n",
      "2 Hendrina Eliana van Brando ['HENDRINA OLIANA Van BRANDS'] 1842-1e-017\n",
      "3 Maria Mersele ['MARIA MERSELINA'] 1842-7e-006\n",
      "7 Elisabeth Petstus ['ELISABETH WINDT, de'] 1845-1e-070\n",
      "14 Cicilia Magdalena ['JAN MARCIUS'] 1848-1e-049\n",
      "1 Antornette Guillemin ['ANTOINETTE GUILLEMIN'] 1848-1e-129\n",
      "1 Martina Baret ['MARTINA BARRET'] 1849-1e-103\n",
      "1 Thelipi Martis ['PHELIPI MARTIS'] 1849-1e-146\n",
      "2 Maria Meresa ['MARIA THERESA'] 1850-1e-161\n",
      "1 Juan Garino ['JUAN GAVINO'] 1850-1e-199\n",
      "13 Ivalla Bernadina ['PHELIPI MARTIS'] 1850-3e-010\n",
      "13 Roselfen Lorginia ['JUAN GAVINO'] 1851-1e-048\n",
      "11 Maria Gerarda ['JUAN GAVINO'] 1851-1e-096\n",
      "2 Catharina Henrietta Asto ['CATHARINA Henrietta USKO'] 1852-1e-106\n",
      "1 Theodorus Pouwer ['THEODORUS SOUWER'] 1852-1e-154\n",
      "1 Constantien Oos ['CONSTANTIEN VOS'] 1852-1e-179\n",
      "1 Mered Oreal ['MERCED OREAL'] 1852-1e-221\n",
      "2 William Vemage ['WILLIAM FERMAGE'] 1853-1e-026\n",
      "1 Pieter Kuit ['PIETER KUYT'] 1853-1e-071\n",
      "2 Romano Mad ['ROMANO ABAD'] 1853-1e-072\n",
      "4 Jose Poeteno ['José SCETINO'] 1853-1e-101\n",
      "4 na Martina ['ANNA MARTIS'] 1853-3e-010\n",
      "1 Caresa Bonard ['CLARESA BONARD'] 1854-1e-215\n",
      "1 Wilhelmina Cleana ['WILHELMINA OLEANA'] 1854-4e-009\n",
      "2 Matheo Miquel Casper ['MATHEO Miguel CASPE'] 1856-1e-228\n",
      "3 Cuaria Isenia ['MARIA ISEBIA'] 1857-4e-005\n",
      "2 Aalia Brigilia ['Amalia Bregilia'] 1859-1e-185\n",
      "4 Carolus Passen ['Carolus Jorissen'] 1859-1e-301\n",
      "7 Aetta Elisabeth Daal ['Aletta Elisabeth Schuler'] 1860-1e-165\n",
      "1 Jacobus Philippus Lekeur ['Jacobus Philippus Leseur'] 1860-1e-183\n",
      "11 Josep Theodouis ['Josef Theodorus Seferina'] 1862-1e-014\n",
      "7 Mammina Gijsbertha Veeris ['Abramenina Gysbertha Veeris'] 1862-1e-029\n",
      "2 Jose Louis Maron ['José Louis Moron'] 1862-1e-092\n",
      "3 Achter Ricardo ['Esher Ricardo'] 1862-1e-135\n",
      "1 Maria Claria ['Maria Olaria'] 1862-1e-180\n",
      "7 Geertidade Jongh ['Geertruida Jongh, de'] 1863-1e-217\n",
      "2 Andrus Baptist. ['Andries Baptist'] 1863-1e-384\n",
      "10 Nicolaas Johannes ['Nicolaas Johannes Colestina'] 1863-5e-002\n",
      "9 Eresilia Cleonora ['Ermesilia Eleonora Olaria'] 1863-5e-024\n",
      "14 Anthonia Petsell ['Anthonia Pieternella Cristina'] 1863-6e-028\n",
      "17 Gurge aam Corna ['George Alvarez Correa Catalina'] 1863-7e-002\n",
      "3 Nicolaas Vercueil van der Dijs ['Nicolaas Vercucil Van der Dys'] 1864-1e-031\n",
      "1 William George Maarten Elis ['William George Maarten Ellis'] 1864-1e-119\n",
      "6 Cornelia Nessilia. ['Cornelia Nersilia Adam'] 1864-1e-272\n",
      "8 Maria Pracia ['Maria Gracia Martha'] 1864-2e-030\n",
      "7 Bartolomeur Apostel ['Bartolomeuw Apostel Maria'] 1864-2e-062\n",
      "12 Maria Apolonia ['Apolonia Maria'] 1865-1e-010\n",
      "1 Cornelis Sille ['Cornelis Sillé'] 1865-1e-046\n",
      "1 Lvelina Soriel ['Evelina Soriel'] 1865-1e-060\n",
      "1 Aniceto Clemente Gepes ['Aniceto Clemente Yepes'] 1865-1e-224\n",
      "24 Lucas Martis ['Petronilla Domitilla Hinkert'] 1865-2e-021\n",
      "15 Alen Mertes Jansen ['Helena Grob'] 1865-4e-006\n",
      "10 Johannes Balentinus ['Johannes Balentinus Balentien'] 1865-5e-019\n",
      "8 Juana Francisca ['Juana Francisca Martina'] 1866-1e-051\n",
      "10 Stephanus Mercelino ['Stephanus Mercelino Laurencia'] 1866-1e-155\n",
      "8 Domingo Singker ['Domingo Lingker Roosje'] 1866-2e-004\n",
      "28 Simon Martes ['Juan Rimon (a) Juantje Aland Bitoria'] 1867-1e-057\n",
      "5 Anna Wilhelmina ['Anna Wilhelmina Boom'] 1867-1e-194\n",
      "9 Klarisse Roduma ['Klarisse Roduma Isabella'] 1867-2e-035\n",
      "15 Juan Simon alsio Juante Aland ['Juan Rimon (a) Juantje Aland Bitoria'] 1867-5e-017\n",
      "5 Genes Eduardo Paust ['James Eduardo Fausto'] 1868-1e-356\n",
      "correct: 22; partially: 59; counts per distance: {2: 12, 0: 22, 1: 19, 3: 6, 8: 5, 6: 2, 5: 4, 11: 3, 4: 5, 19: 1, 7: 6, 14: 2, 13: 2, 10: 3, 9: 2, 17: 1, 12: 1, 24: 1, 15: 2, 28: 1}\n"
     ]
    }
   ],
   "source": [
    "names_correct = { text_id: False for text_id in texts }\n",
    "for text_id in sorted(texts.keys()):\n",
    "    guessed_name = cleanup_name(chatgpt_deceased_names[text_id]).lower()\n",
    "    for gold_name in gold_names[text_id]:\n",
    "        gold_name = cleanup_name(gold_name).lower()\n",
    "        if not names_correct[text_id]:\n",
    "            names_correct[text_id] = (guessed_name == gold_name)\n",
    "\n",
    "        \n",
    "year_scores = {}\n",
    "for text_id in sorted(texts.keys()):               \n",
    "    year = text_id[:4]\n",
    "    if year in year_scores:\n",
    "        if names_correct[text_id] in year_scores[year]:\n",
    "            year_scores[year][names_correct[text_id]] += 1\n",
    "        else:\n",
    "            year_scores[year][names_correct[text_id]] = 1\n",
    "    else:\n",
    "        year_scores[year] = { names_correct[text_id]: 1, not names_correct[text_id]: 0 }\n",
    "\n",
    "\n",
    "names_almost_correct = {}\n",
    "name_distance_counts = {}\n",
    "name_distances = { text_id: 999999 for text_id in texts }\n",
    "for text_id in sorted(texts.keys()):               \n",
    "    for gold_name in gold_names[text_id]:\n",
    "        levenshtein_distance = distance(cleanup_name(chatgpt_deceased_names[text_id]).lower(), cleanup_name(gold_name).lower())\n",
    "        if levenshtein_distance < name_distances[text_id]:\n",
    "            name_distances[text_id]  = levenshtein_distance\n",
    "    if name_distances[text_id] not in name_distance_counts:\n",
    "        name_distance_counts[name_distances[text_id]] = 1\n",
    "    else:\n",
    "        name_distance_counts[name_distances[text_id]] += 1\n",
    "    names_almost_correct[text_id] = name_distances[text_id] <= 3\n",
    "            \n",
    "for text_id in sorted(texts.keys()):           \n",
    "    if not names_correct[text_id]:\n",
    "        try:\n",
    "            print(f\"{name_distances[text_id]} {chatgpt_deceased_names[text_id]} {gold_names[text_id]} {text_id}\")\n",
    "        except:\n",
    "            pass\n",
    "\n",
    "            \n",
    "print(f\"correct: {len([ True for text_id in names_correct if names_correct[text_id] ])};\", \n",
    "      f\"partially: {name_distance_counts[0]+name_distance_counts[1]+name_distance_counts[2]+name_distance_counts[3]};\", \n",
    "      f\"counts per distance: {name_distance_counts}\")"
   ]
  },
  {
   "cell_type": "code",
   "execution_count": 72,
   "id": "5aca6dcf-93f3-4610-ace6-e087aa57fbdb",
   "metadata": {
    "tags": []
   },
   "outputs": [
    {
     "data": {
      "image/png": "[encoded data removed]",
      "text/plain": [
       "<Figure size 640x480 with 1 Axes>"
      ]
     },
     "metadata": {},
     "output_type": "display_data"
    }
   ],
   "source": [
    "plt.plot(year_scores.keys(), [ 100*year_scores[year][True]/(year_scores[year][True] + year_scores[year][False]) for year in year_scores ])\n",
    "plt.xticks(range(0, 30, 5))\n",
    "plt.title(\"precentage correct names per year\")\n",
    "plt.show()"
   ]
  },
  {
   "cell_type": "markdown",
   "id": "caec38a6-fe59-4acc-924d-d6ae7e809304",
   "metadata": {},
   "source": [
    "## 3. Compare guessed names to known names"
   ]
  },
  {
   "cell_type": "code",
   "execution_count": 76,
   "id": "136443c7-b547-405d-9087-9f7d0dbdab68",
   "metadata": {
    "tags": []
   },
   "outputs": [],
   "source": [
    "known_certificates = pd.read_csv(\"../../data/Overlijden/x-misc/Overlijden 1831-1950 JESSYv2-1831-1929.csv\", low_memory=False)"
   ]
  },
  {
   "cell_type": "code",
   "execution_count": 120,
   "id": "a38e3e83-de77-4d8d-b706-fa9dfa13b347",
   "metadata": {
    "tags": []
   },
   "outputs": [],
   "source": [
    "name_types = {}\n",
    "name_counts = {}\n",
    "MINIMUM_YEAR = 1869\n",
    "\n",
    "for index, row in known_certificates.iterrows():\n",
    "    surname = row[\"Achternaam\"]\n",
    "    firstnames = row[\"Voornamen\"]\n",
    "    try:\n",
    "        year = int(row[\"Jaar\"])\n",
    "    except:\n",
    "        continue\n",
    "    if isinstance(surname, str) and year >= MINIMUM_YEAR:\n",
    "        for name_part in surname.strip().split():\n",
    "            clean_name = cleanup_name(name_part).lower()\n",
    "            if clean_name not in name_types:\n",
    "                name_types[clean_name] = \"last\"\n",
    "            if clean_name in name_counts:\n",
    "                name_counts[clean_name] += 1\n",
    "            else:\n",
    "                name_counts[clean_name] = 1\n",
    "    if isinstance(firstnames, str) and year >= MINIMUM_YEAR:\n",
    "        for name_part in firstnames.strip().split():\n",
    "            clean_name = cleanup_name(name_part).lower()\n",
    "            if clean_name not in name_types:\n",
    "                name_types[clean_name] = \"first\"\n",
    "            elif name_types[clean_name] == \"last\":\n",
    "                name_types[clean_name] = \"both\"\n",
    "            if clean_name in name_counts:\n",
    "                name_counts[clean_name] += 1\n",
    "            else:\n",
    "                name_counts[clean_name] = 1"
   ]
  },
  {
   "cell_type": "code",
   "execution_count": 147,
   "id": "b224ff36-f7eb-418d-851a-b13f10e0a7c0",
   "metadata": {
    "tags": []
   },
   "outputs": [],
   "source": [
    "MINIMUM_FREQUENCY = 10\n",
    "\n",
    "def get_closest_name(name):\n",
    "    if name in name_types.keys():\n",
    "        return [name], 0\n",
    "    min_distance = 999999\n",
    "    best_names = []\n",
    "    for known_name in name_types:\n",
    "        if name_counts[known_name] >= MINIMUM_FREQUENCY:\n",
    "            this_distance = distance(cleanup_name(known_name), name)\n",
    "            if this_distance < min_distance:\n",
    "                min_distance = this_distance\n",
    "                best_names = [known_name]\n",
    "            elif this_distance == min_distance:\n",
    "                best_names.append(known_name)\n",
    "    return best_names, min_distance"
   ]
  },
  {
   "cell_type": "code",
   "execution_count": 130,
   "id": "e6c2f13f-2345-43a4-972c-893abcd7cde1",
   "metadata": {
    "tags": []
   },
   "outputs": [
    {
     "name": "stdout",
     "output_type": "stream",
     "text": [
      "unknown name: louisenne, (['louise'], 3)\n",
      "['first', 'UNKNOWN', 'last']\n",
      "['both']\n",
      "unknown name: mathia, (['mathias', 'mathea', 'mathida'], 1)\n",
      "['UNKNOWN', 'first']\n",
      "unknown name: margartha, (['margaritha', 'margaretha'], 1)\n",
      "unknown name: calia, (['casia', 'ocalia', 'dalia', 'celia', 'cilia'], 1)\n",
      "['first', 'UNKNOWN', 'UNKNOWN']\n",
      "['first', 'first']\n",
      "unknown name: dolor, (['dolores', 'doloris', 'noor', 'polon', 'doloria', 'odor'], 2)\n",
      "['both', 'UNKNOWN']\n",
      "['first', 'first']\n",
      "['both', 'first']\n",
      "unknown name: eland, (['eiland'], 1)\n",
      "['first', 'both', 'UNKNOWN']\n",
      "['first', 'first']\n",
      "['first', 'first', 'first']\n",
      "unknown name: fransa, (['frans', 'franca', 'franka'], 1)\n",
      "unknown name: sarfette, (['mariette', 'rafette'], 2)\n",
      "['first', 'both', 'UNKNOWN', 'UNKNOWN']\n",
      "unknown name: ignaais, (['ignacia', 'ignatio', 'ignacio', 'ignatia', 'ignasio', 'ignasia', 'ignaria', 'ignatius', 'ignacius'], 2)\n",
      "['both', 'UNKNOWN']\n",
      "unknown name: francisto, (['francisco', 'francisko'], 1)\n",
      "['first', 'UNKNOWN']\n",
      "unknown name: faneke, (['faneyte', 'fanes', 'franke', 'faneite', 'faneyt'], 2)\n",
      "['first', 'UNKNOWN']\n",
      "['first', 'first', 'both']\n",
      "unknown name: harins, (['faries', 'marinus', 'hans', 'prins', 'harts', 'martins', 'marin', 'aarons', 'marina', 'arens', 'marius', 'marino', 'arias', 'hariana'], 2)\n",
      "['first', 'UNKNOWN']\n",
      "unknown name: paur, (['paul', 'par', 'paus', 'pau', 'pauw'], 1)\n",
      "['first', 'UNKNOWN']\n",
      "['both', 'both', 'last']\n",
      "['first', 'both']\n",
      "unknown name: theodon, (['theodor'], 1)\n",
      "unknown name: decartis, (['martis', 'decastro', 'debarrie', 'decaster', 'dantis'], 3)\n",
      "['first', 'UNKNOWN', 'UNKNOWN']\n",
      "unknown name: partha, (['martha'], 1)\n",
      "unknown name: koober, (['koster', 'khower', 'hooier', 'hooyer', 'cooper'], 2)\n",
      "['UNKNOWN', 'first', 'UNKNOWN']\n",
      "unknown name: bleuw, (['leeuw', 'louw', 'nieuw', 'meeuw', 'lauw'], 2)\n",
      "['both', 'UNKNOWN']\n",
      "unknown name: belfaars, (['belfas', 'belifaas'], 2)\n",
      "unknown name: calafet, (['claret'], 2)\n",
      "['UNKNOWN', 'UNKNOWN']\n",
      "['both', 'first']\n",
      "['both', 'first']\n",
      "unknown name: leidewich, (['lodewijk', 'heinrich', 'ludowica', 'federico', 'lodowica', 'heldewier', 'lodewika', 'federica', 'leiberia', 'leidens'], 4)\n",
      "unknown name: christint, (['christina', 'christino', 'christine'], 1)\n",
      "unknown name: boe, (['boer', 'bor', 'bos', 'foe', 'boye'], 1)\n",
      "['UNKNOWN', 'UNKNOWN', 'UNKNOWN']\n",
      "['first', 'first', 'both', 'last']\n",
      "unknown name: mersele, (['metsel', 'merse', 'mercela', 'merselia', 'merceli'], 2)\n",
      "['both', 'UNKNOWN']\n",
      "unknown name: petstus, (['petrus'], 2)\n",
      "['first', 'UNKNOWN']\n",
      "unknown name: marcius, (['marcus', 'marius'], 1)\n",
      "['first', 'UNKNOWN']\n",
      "['first', 'first']\n",
      "unknown name: antornette, (['antoinette', 'antonette'], 1)\n",
      "['UNKNOWN', 'last']\n",
      "unknown name: baret, (['bart'], 1)\n",
      "['both', 'UNKNOWN']\n",
      "unknown name: thelipi, (['phelipi'], 1)\n",
      "['UNKNOWN', 'first']\n",
      "unknown name: meresa, (['teresa'], 1)\n",
      "['both', 'UNKNOWN']\n",
      "unknown name: garino, (['gario', 'marino', 'gabino'], 1)\n",
      "['first', 'UNKNOWN']\n",
      "unknown name: ivalla, (['valle', 'ivelia', 'italia'], 2)\n",
      "['UNKNOWN', 'first']\n",
      "unknown name: roselfen, (['roselfina', 'roselfine', 'roselvien'], 2)\n",
      "unknown name: lorginia, (['virginia', 'berginia', 'verginia', 'birginia', 'longina', 'gorgonia'], 2)\n",
      "['UNKNOWN', 'UNKNOWN']\n",
      "['both', 'first']\n",
      "['both', 'first']\n",
      "unknown name: asto, (['st', 'justo', 'crasto', 'anton', 'castro', 'gito', 'sasso', 'hato', 'otto', 'bito', 'kato', 'santo', 'soto', 'mato', 'stok', 'pastor', 'aast', 'asinto', 'cato', 'laito', 'pastol', 'vito', 'gasio', 'castor', 'fausto', 'asis', 'asia', 'agusto', 'nato', 'osta', 'as', 'osmo', 'casta'], 2)\n",
      "['first', 'first', 'UNKNOWN']\n",
      "unknown name: pouwer, (['douwes', 'wouter', 'pouw', 'pourier', 'brouwer'], 2)\n",
      "['first', 'UNKNOWN']\n",
      "unknown name: oos, (['ros', 'vos', 'boos', 'los', 'roos', 'bos', 'loos', 'fos'], 1)\n",
      "['first', 'UNKNOWN']\n",
      "unknown name: mered, (['merced'], 1)\n",
      "unknown name: oreal, (['olean', 'corral', 'moraal', 'preval', 'corea', 'dorval', 'leal', 'kraal', 'gream', 'sorel'], 2)\n",
      "['UNKNOWN', 'UNKNOWN']\n",
      "unknown name: vemage, (['george', 'vence', 'eman', 'demali', 'vegt', 'emile', 'sema', 'berge', 'velde', 'servage', 'delange', 'menge', 'ema', 'semah', 'hage', 'vera', 'limade', 'veerde'], 3)\n",
      "['first', 'UNKNOWN']\n",
      "unknown name: kuit, (['ruit'], 1)\n",
      "['first', 'UNKNOWN']\n",
      "unknown name: mad, (['max', 'may'], 1)\n",
      "['first', 'UNKNOWN']\n",
      "unknown name: poeteno, (['pieter', 'postina', 'oosten', 'peter', 'rieten', 'pieters', 'poppen', 'houten', 'peters', 'moreno', 'montero', 'soltero', 'botono', 'poulino', 'perino', 'sotero', 'cletano', 'hueten', 'present', 'koenen'], 3)\n",
      "['first', 'UNKNOWN']\n",
      "['first', 'first']\n",
      "['both', 'both']\n",
      "['first', 'last']\n",
      "unknown name: na, (['da', 'la', 'nia', 'a', 'ana', 'nar', 'n'], 1)\n",
      "['UNKNOWN', 'both']\n",
      "unknown name: caresa, (['claresa'], 1)\n",
      "unknown name: bonard, (['bernard', 'leonard', 'monar', 'bonam', 'monart', 'donald'], 2)\n",
      "['UNKNOWN', 'UNKNOWN']\n",
      "unknown name: cleana, (['oleana', 'cleona', 'cleans'], 1)\n",
      "['first', 'UNKNOWN']\n",
      "['first', 'both']\n",
      "['both', 'first', 'first']\n",
      "unknown name: cuaria, (['maria', 'clarita', 'clara', 'olaria', 'curie', 'eularia', 'ilaria', 'clarisa', 'claris', 'casia', 'elaria', 'ularia', 'clarina', 'cualis', 'garia', 'curial'], 2)\n",
      "['UNKNOWN', 'both']\n",
      "unknown name: aalia, (['atalia', 'amalia', 'dalia'], 1)\n",
      "['UNKNOWN', 'last']\n",
      "['first', 'both', 'both']\n",
      "unknown name: passen, (['assen', 'vassen'], 1)\n",
      "['first', 'UNKNOWN']\n",
      "['both', 'first']\n",
      "unknown name: aetta, (['aletta'], 1)\n",
      "['UNKNOWN', 'first', 'both']\n",
      "unknown name: lekeur, (['leseur'], 1)\n",
      "['first', 'first', 'UNKNOWN']\n",
      "unknown name: theodouis, (['theodonis'], 1)\n",
      "['first', 'UNKNOWN']\n",
      "['first', 'first', 'last']\n",
      "unknown name: mammina, (['martina', 'marina', 'balmina', 'malvina', 'maxemina'], 2)\n",
      "['UNKNOWN', 'first', 'both']\n",
      "unknown name: maron, (['moron', 'aron', 'marin', 'aaron', 'baron'], 1)\n",
      "['first', 'first', 'UNKNOWN']\n",
      "unknown name: achter, (['wachter'], 1)\n",
      "['UNKNOWN', 'first']\n",
      "unknown name: claria, (['clarita', 'clara', 'olaria', 'ilaria', 'clarisa', 'claris', 'elaria', 'ularia', 'clarina'], 1)\n",
      "['both', 'UNKNOWN']\n",
      "['first', 'both']\n",
      "unknown name: geertidade, (['geertruida', 'geertruda', 'getruida', 'gertrude', 'geertje'], 4)\n",
      "['UNKNOWN', 'last']\n",
      "unknown name: andrus, (['andres', 'andris'], 1)\n",
      "['UNKNOWN', 'both']\n",
      "['first', 'first']\n",
      "unknown name: eresilia, (['ersilia', 'teresilia', 'presilia', 'ernesilia'], 1)\n",
      "unknown name: cleonora, (['eleonora', 'leonora'], 1)\n",
      "['UNKNOWN', 'UNKNOWN']\n",
      "unknown name: petsell, (['metsel'], 2)\n",
      "['first', 'UNKNOWN']\n",
      "unknown name: gurge, (['george', 'curie', 'jorge', 'berge', 'purie'], 2)\n",
      "unknown name: aam, (['ham', 'dam', 'adam', 'naam'], 1)\n",
      "unknown name: corna, (['corina', 'yorna', 'jorna', 'cora', 'corea'], 1)\n",
      "['UNKNOWN', 'UNKNOWN', 'UNKNOWN']\n",
      "unknown name: vercueil, (['vence', 'merced', 'vergini', 'verginie', 'berkel', 'vituel', 'verhoeks', 'mercera', 'verginia', 'ercilia', 'nercilia', 'mercela', 'gerlein', 'merce', 'veris', 'erckens', 'mercemi', 'merceli', 'jeckel', 'vergeet', 'mercedis', 'nercisio', 'hercules', 'cecil'], 4)\n",
      "['first', 'UNKNOWN', 'both', 'both', 'both']\n",
      "['first', 'first', 'first', 'last']\n",
      "['first', 'first', 'last']\n",
      "unknown name: nessilia, (['ersilia', 'hersilia', 'nercilia', 'cassilia', 'cesilia', 'nersicia'], 2)\n",
      "['first', 'UNKNOWN']\n",
      "unknown name: soerkoe, (['soerka'], 2)\n",
      "['first', 'both', 'UNKNOWN']\n",
      "unknown name: pracia, (['gracia', 'oracia', 'placia'], 1)\n",
      "['both', 'UNKNOWN']\n",
      "unknown name: bartolomeur, (['bartolomeus'], 1)\n",
      "['UNKNOWN', 'first']\n",
      "['both', 'first']\n",
      "['first', 'last']\n",
      "unknown name: lvelina, (['avelina', 'evelina'], 1)\n",
      "unknown name: soriel, (['suriel', 'sorel'], 1)\n",
      "['UNKNOWN', 'UNKNOWN']\n",
      "unknown name: gepes, (['eps', 'rees', 'gomes', 'dees', 'papes', 'wees', 'lopes', 'reyes', 'peres', 'jees', 'veles'], 2)\n",
      "['first', 'first', 'UNKNOWN']\n",
      "['first', 'first']\n",
      "unknown name: alen, (['alee', 'elen', 'ale', 'alex', 'dalen'], 1)\n",
      "unknown name: mertes, (['martes'], 1)\n",
      "['UNKNOWN', 'UNKNOWN', 'both']\n",
      "['first', 'first']\n",
      "['both', 'both']\n",
      "['both', 'first']\n",
      "unknown name: singker, (['singel', 'siegler'], 2)\n",
      "['first', 'UNKNOWN']\n",
      "['first', 'first']\n",
      "['first', 'first']\n",
      "unknown name: klarisse, (['clarissa'], 2)\n",
      "['UNKNOWN', 'first']\n",
      "unknown name: alsio, (['alisio'], 1)\n",
      "unknown name: juante, (['juan', 'juanita', 'juana', 'juanna', 'janse', 'janze', 'juanito', 'juanota', 'jane', 'jeanne', 'quant', 'jantje', 'janie'], 2)\n",
      "unknown name: aland, (['abad', 'amanda', 'blan', 'eiland', 'plan', 'lang', 'arend', 'alina', 'alas', 'alons', 'blank', 'blanc', 'lard'], 2)\n",
      "['first', 'first', 'UNKNOWN', 'UNKNOWN', 'UNKNOWN']\n",
      "unknown name: genes, (['ignes', 'mendes', 'geneste', 'agnes', 'jones', 'rene', 'ines', 'genie', 'peney', 'rees', 'fanes', 'gomes', 'dees', 'generus', 'wees', 'buenes', 'genera', 'reyes', 'peres', 'grienes', 'nones', 'jees', 'pines', 'veles', 'anes', 'ynes'], 2)\n",
      "unknown name: paust, (['paus'], 1)\n",
      "['UNKNOWN', 'first', 'UNKNOWN']\n",
      "['first', 'first']\n"
     ]
    }
   ],
   "source": [
    "has_unknown_name = { text_id: False for text_id in texts }\n",
    "for text_id in chatgpt_deceased_names:\n",
    "    name_format = []\n",
    "    for name_part in chatgpt_deceased_names[text_id].strip().split():\n",
    "        clean_name = cleanup_name(name_part).lower()\n",
    "        if clean_name in name_types:\n",
    "            name_format.append(name_types[clean_name])\n",
    "        else:\n",
    "            print(f\"unknown name: {clean_name}, {get_closest_name(clean_name)}\")\n",
    "            name_format.append(\"UNKNOWN\")\n",
    "            has_unknown_name[text_id] = True\n",
    "    print(name_format)"
   ]
  },
  {
   "cell_type": "markdown",
   "id": "aa5b3337-1c74-412b-a90e-09e2a4a30468",
   "metadata": {},
   "source": [
    "In the ChatGPT3.5 output there are 64 names with unknown parts (not found in the 1869+ data). Of these names 61 (95%) are wrong while 3 (5%) are correct. This analysis is different for the partially correct names: 34 of the 64 names have a Levenshtein distance of 3 or smaller to the correct name while for the other 30 the distance is larger."
   ]
  },
  {
   "cell_type": "code",
   "execution_count": 131,
   "id": "bddc973a-d356-4e25-ac54-f9e369b7cd25",
   "metadata": {},
   "outputs": [
    {
     "name": "stdout",
     "output_type": "stream",
     "text": [
      "correct: 3; wrong: 61; almost correct: 34; not almost correct: 30\n"
     ]
    }
   ],
   "source": [
    "correct_count = 0\n",
    "wrong_count = 0\n",
    "almost_correct_count = 0\n",
    "not_almost_correct_count = 0\n",
    "for text_id in has_unknown_name:\n",
    "    if has_unknown_name[text_id]:\n",
    "        if names_correct[text_id]:\n",
    "            correct_count += 1\n",
    "        else:\n",
    "            wrong_count += 1\n",
    "        if names_almost_correct[text_id]:\n",
    "            almost_correct_count += 1\n",
    "        else:\n",
    "            not_almost_correct_count += 1\n",
    "print(f\"correct: {correct_count}; wrong: {wrong_count}; almost correct: {almost_correct_count}; not almost correct: {not_almost_correct_count}\")"
   ]
  },
  {
   "cell_type": "markdown",
   "id": "08792dc2-2705-4f20-88f5-3c65c569a7d8",
   "metadata": {},
   "source": [
    "Replacing unknown names with known names does not have a big effect. Only a few names can be corrected because most names have many alternatives. This makes choosing the correct alternative difficult."
   ]
  },
  {
   "cell_type": "code",
   "execution_count": 126,
   "id": "2b25e473-c567-4865-8a9a-67a3acdaa9db",
   "metadata": {
    "tags": []
   },
   "outputs": [],
   "source": [
    "def find_most_frequent(name_types, name_alternatives):\n",
    "    best_name = name_alternatives[0]\n",
    "    highest_frequency = name_types[best_name]\n",
    "    for name_alternative in name_alternatives:\n",
    "        if (name_types[name_alternative] > highest_frequency or \n",
    "            (name_types[name_alternative] == highest_frequency and len(name_alternative) > len(best_name))):\n",
    "            best_name = name_alternative\n",
    "            highest_frequency = name_types[best_name]\n",
    "    return best_name"
   ]
  },
  {
   "cell_type": "code",
   "execution_count": 150,
   "id": "3a2eb56c-e177-4ddc-a6e1-66aec0e502eb",
   "metadata": {
    "tags": []
   },
   "outputs": [
    {
     "name": "stdout",
     "output_type": "stream",
     "text": [
      "5 2 elisabeth louise laguna # elisabeth louisenne laguna ['Elizabeth Louisienne Laguna']\n",
      "\u001b[31m0 1 mathias albertus # mathia albertus ['Mathias Albertus']\n",
      "\u001b[m4 3 petronella margaritha atalia # petronella margartha calia ['Petronella Margaritha Calvo']\n",
      "8 8 maria dolores # maria dolor ['Maria Dolor Martina']\n",
      "6 6 anna maria elena # anna maria eland ['Anna Maria']\n",
      "13 11 jan maria frans mariette # jan maria fransa sarfette ['Maria Theresa Parfetti']\n",
      "3 2 martina ignatius # martina ignaais ['Martina Ignacia']\n",
      "3 3 johannes francisco # johannes francisto ['JOHANNIS Franciska']\n",
      "3 1 cathalina faneyte # cathalina faneke ['CATHALINA HANEKE']\n",
      "4 4 lucas paul # lucas paur ['LUCAS HANSZ']\n",
      "18 19 anna theodor martis # anna theodon decartis ['EDERMO SILVINO DAMOEN']\n",
      "8 8 martha sophia hooier # partha sophia koober ['Janetta Sophia KOOLMEIER']\n",
      "6 5 joseph leeuw # joseph bleuw ['JOSEPH BLEISWIJK']\n",
      "\u001b[31m0 3 maria merselina # maria mersele ['MARIA MERSELINA']\n",
      "\u001b[m7 7 elisabeth petrus # elisabeth petstus ['ELISABETH WINDT, de']\n",
      "\u001b[31m0 1 antoinette guillemin # antornette guillemin ['ANTOINETTE GUILLEMIN']\n",
      "\u001b[m2 1 martina bart # martina baret ['MARTINA BARRET']\n",
      "\u001b[31m0 1 phelipi martis # thelipi martis ['PHELIPI MARTIS']\n",
      "\u001b[m1 2 maria teresa # maria meresa ['MARIA THERESA']\n",
      "2 1 juan sabino # juan garino ['JUAN GAVINO']\n",
      "13 13 valks bernadina # ivalla bernadina ['PHELIPI MARTIS']\n",
      "14 13 rodelfina virginia # roselfen lorginia ['JUAN GAVINO']\n",
      "4 2 catharina henrietta crasto # catharina henrietta asto ['CATHARINA Henrietta USKO']\n",
      "3 1 theodorus pourier # theodorus pouwer ['THEODORUS SOUWER']\n",
      "2 1 constantien roos # constantien oos ['CONSTANTIEN VOS']\n",
      "2 1 merced corea # mered oreal ['MERCED OREAL']\n",
      "2 2 william servage # william vemage ['WILLIAM FERMAGE']\n",
      "3 1 pieter knip # pieter kuit ['PIETER KUYT']\n",
      "3 2 romano max # romano mad ['ROMANO ABAD']\n",
      "6 4 jose montero # jose poeteno ['José SCETINO']\n",
      "3 4 ana martina # na martina ['ANNA MARTIS']\n",
      "5 1 corea leonard # caresa bonard ['CLARESA BONARD']\n",
      "\u001b[31m0 1 wilhelmina oleana # wilhelmina cleana ['WILHELMINA OLEANA']\n",
      "\u001b[m4 3 curie isenia # cuaria isenia ['MARIA ISEBIA']\n",
      "2 2 atalia brigilia # aalia brigilia ['Amalia Bregilia']\n",
      "5 4 carolus hansen # carolus passen ['Carolus Jorissen']\n",
      "9 7 anita elisabeth daal # aetta elisabeth daal ['Aletta Elisabeth Schuler']\n",
      "\u001b[31m0 1 jacobus philippus leseur # jacobus philippus lekeur ['Jacobus Philippus Leseur']\n",
      "\u001b[m10 11 josep theodorus # josep theodouis ['Josef Theodorus Seferina']\n",
      "8 7 marina gijsbertha veeris # mammina gijsbertha veeris ['Abramenina Gysbertha Veeris']\n",
      "3 2 jose louis baron # jose louis maron ['José Louis Moron']\n",
      "4 3 ruiter ricardo # achter ricardo ['Esher Ricardo']\n",
      "2 1 maria clarita # maria claria ['Maria Olaria']\n",
      "1 2 andres baptist # andrus baptist ['Andries Baptist']\n",
      "9 9 teresilia eleonora # eresilia cleonora ['Ermesilia Eleonora Olaria']\n",
      "15 14 anthonia peter # anthonia petsell ['Anthonia Pieternella Cristina']\n",
      "21 17 curie naam jorna # gurge aam corna ['George Alvarez Correa Catalina']\n",
      "6 6 cornelia hersilia # cornelia nessilia ['Cornelia Nersilia Adam']\n",
      "7 8 maria gracia # maria pracia ['Maria Gracia Martha']\n",
      "8 7 bartholomeus apostel # bartolomeur apostel ['Bartolomeuw Apostel Maria']\n",
      "3 1 avelina coeriel # lvelina soriel ['Evelina Soriel']\n",
      "3 1 aniceto clemente gomes # aniceto clemente gepes ['Aniceto Clemente Yepes']\n",
      "15 15 daalen martes jansen # alen mertes jansen ['Helena Grob']\n",
      "10 8 domingo dinter # domingo singker ['Domingo Lingker Roosje']\n",
      "11 9 clarissa roduma # klarisse roduma ['Klarisse Roduma Isabella']\n",
      "17 15 juan simon gosie juanita amanda # juan simon alsio juante aland ['Juan Rimon (a) Juantje Aland Bitoria']\n",
      "7 5 agnes eduardo paula # genes eduardo paust ['James Eduardo Fausto']\n"
     ]
    }
   ],
   "source": [
    "for text_id in sorted(texts.keys()):\n",
    "    name_correct = False\n",
    "    guessed_name = cleanup_name(chatgpt_deceased_names[text_id]).lower()\n",
    "    for gold_name in gold_names[text_id]:\n",
    "        gold_name = cleanup_name(gold_name).lower()\n",
    "        if not name_correct:\n",
    "            name_correct = (guessed_name == gold_name)\n",
    "    if not name_correct:\n",
    "        name_parts_corrected = []\n",
    "        corrected = True\n",
    "        for name_part in guessed_name.split():\n",
    "            if name_part in name_types:\n",
    "                name_parts_corrected.append(name_part)\n",
    "            else:\n",
    "                name_alternatives, name_distance = get_closest_name(name_part)\n",
    "                if name_distance > 3:\n",
    "                    name_parts_corrected.append(name_part)\n",
    "                    corrected = False\n",
    "                elif len(name_alternatives) == 1:\n",
    "                    name_parts_corrected.append(name_alternatives[0])\n",
    "                else:\n",
    "                    if len(name_alternatives) == 0:\n",
    "                        print_with_color(\"cannot happen\")\n",
    "                    name_parts_corrected.append(find_most_frequent(name_types, name_alternatives))\n",
    "        name_corrected = \" \".join(name_parts_corrected)\n",
    "        if name_corrected != guessed_name and corrected:\n",
    "            corrected_distance = distance(name_corrected, cleanup_name(gold_names[text_id][0]).lower())\n",
    "            if corrected_distance > 0:\n",
    "                print(f\"{corrected_distance} {distance(guessed_name, cleanup_name(gold_names[text_id][0]).lower())} {name_corrected} # {guessed_name} {gold_names[text_id]}\")\n",
    "            else:\n",
    "                print_with_color(f\"{corrected_distance} {distance(guessed_name, cleanup_name(gold_names[text_id][0]).lower())} {name_corrected} # {guessed_name} {gold_names[text_id]}\\n\")"
   ]
  },
  {
   "cell_type": "markdown",
   "id": "a870f9d5-1c83-4e68-9948-a37a57b7f0c3",
   "metadata": {},
   "source": [
    "## 4. Free word order evaluation"
   ]
  },
  {
   "cell_type": "code",
   "execution_count": 188,
   "id": "084a4c54-9816-4838-9cc5-6cb0f716877d",
   "metadata": {
    "tags": []
   },
   "outputs": [
    {
     "name": "stdout",
     "output_type": "stream",
     "text": [
      "('apolonia', 'maria') maria apolonia\n"
     ]
    }
   ],
   "source": [
    "names_correct_unordered = { text_id: False for text_id in texts }\n",
    "for text_id in sorted(texts.keys()):\n",
    "    guessed_name = cleanup_name(chatgpt_deceased_names[text_id]).lower()\n",
    "    for gold_name in gold_names[text_id]:\n",
    "        gold_name = cleanup_name(gold_name).lower()\n",
    "        for permutation in itertools.permutations(guessed_name.split()):\n",
    "            if not names_correct_unordered[text_id]:\n",
    "                names_correct_unordered[text_id] = (\" \".join(permutation) == gold_name)\n",
    "                if \" \".join(permutation) != guessed_name and \" \".join(permutation) == gold_name:\n",
    "                    print(permutation, guessed_name)"
   ]
  },
  {
   "cell_type": "code",
   "execution_count": 183,
   "id": "fefc7fd1-d060-466b-a06a-39277b4c8359",
   "metadata": {
    "tags": []
   },
   "outputs": [
    {
     "data": {
      "text/plain": [
       "23"
      ]
     },
     "execution_count": 183,
     "metadata": {},
     "output_type": "execute_result"
    }
   ],
   "source": [
    "len([ True for text_id in names_correct if names_correct_unordered[text_id] ])"
   ]
  },
  {
   "cell_type": "markdown",
   "id": "eb1495ad-5a50-4c50-a677-8e9d336d39b0",
   "metadata": {},
   "source": [
    "## 5. Evaluate with name of mother"
   ]
  },
  {
   "cell_type": "code",
   "execution_count": 179,
   "id": "2bd8cd0e-c415-48ee-8624-a808b3667bdd",
   "metadata": {
    "tags": []
   },
   "outputs": [],
   "source": [
    "mother_names = pd.read_csv(\"mothers.csv\", header=None).to_dict(orient=\"records\")\n",
    "mother_names = { item[0]: item[1] for item in mother_names }"
   ]
  },
  {
   "cell_type": "code",
   "execution_count": 190,
   "id": "1555e334-4888-4e40-a092-6a66b3f86e40",
   "metadata": {
    "tags": []
   },
   "outputs": [
    {
     "name": "stdout",
     "output_type": "stream",
     "text": [
      "anna wilhelmina#boom#anna wilhelmina boom\n"
     ]
    }
   ],
   "source": [
    "names_correct_with_mother = { text_id: False for text_id in texts }\n",
    "for text_id in sorted(texts.keys()):\n",
    "    guessed_name = cleanup_name(chatgpt_deceased_names[text_id]).lower()\n",
    "    for gold_name in gold_names[text_id]:\n",
    "        gold_name = cleanup_name(gold_name).lower()\n",
    "        if not names_correct_with_mother[text_id]:\n",
    "            names_correct_with_mother[text_id] = (guessed_name == gold_name)\n",
    "    if isinstance(mother_names[text_id], str) and not names_correct_with_mother[text_id]:\n",
    "        mother_name = cleanup_name(mother_names[text_id]).lower().split()[-1]\n",
    "        for gold_name in gold_names[text_id]:\n",
    "            gold_name = cleanup_name(gold_name).lower()\n",
    "            if not names_correct_with_mother[text_id]:\n",
    "                names_correct_with_mother[text_id] = (guessed_name + \" \" + mother_name == gold_name)\n",
    "                if guessed_name + \" \" + mother_name == gold_name:\n",
    "                    print(guessed_name, mother_name, gold_name, sep=\"#\")"
   ]
  },
  {
   "cell_type": "code",
   "execution_count": 191,
   "id": "52586d00-eace-4ed6-8330-38f2593ef7f6",
   "metadata": {
    "tags": []
   },
   "outputs": [
    {
     "data": {
      "text/plain": [
       "23"
      ]
     },
     "execution_count": 191,
     "metadata": {},
     "output_type": "execute_result"
    }
   ],
   "source": [
    "len([ True for text_id in names_correct if names_correct_with_mother[text_id] ])"
   ]
  },
  {
   "cell_type": "code",
   "execution_count": null,
   "id": "2569e843-4f2d-4932-96f8-c9f7577477f8",
   "metadata": {},
   "outputs": [],
   "source": []
  }
 ],
 "metadata": {
  "kernelspec": {
   "display_name": "Python 3 (ipykernel)",
   "language": "python",
   "name": "python3"
  },
  "language_info": {
   "codemirror_mode": {
    "name": "ipython",
    "version": 3
   },
   "file_extension": ".py",
   "mimetype": "text/x-python",
   "name": "python",
   "nbconvert_exporter": "python",
   "pygments_lexer": "ipython3",
   "version": "3.9.13"
  }
 },
 "nbformat": 4,
 "nbformat_minor": 5
}
