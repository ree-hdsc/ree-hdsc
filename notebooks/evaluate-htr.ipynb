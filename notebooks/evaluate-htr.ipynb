{
 "cells": [
  {
   "cell_type": "markdown",
   "id": "e7a4f5f4-f339-4060-bd83-aec2973379be",
   "metadata": {},
   "source": [
    "# Evaluate Hand-written Text Recognition"
   ]
  },
  {
   "cell_type": "code",
   "execution_count": null,
   "id": "cdb91dcd-7f52-4462-b9a1-807b1ca12e9a",
   "metadata": {
    "tags": []
   },
   "outputs": [],
   "source": [
    "from Levenshtein import distance\n",
    "import itertools\n",
    "import os\n",
    "import matplotlib.pyplot as plt\n",
    "import re\n",
    "import sys\n",
    "sys.path.append(os.getcwd() + '/..')\n",
    "from scripts import read_transkribus_files, printed_text"
   ]
  },
  {
   "cell_type": "code",
   "execution_count": null,
   "id": "b31d6e4f-0231-43c8-a06b-dade5bd571dc",
   "metadata": {
    "tags": []
   },
   "outputs": [],
   "source": [
    "def print_with_color(string, color_code=1):\n",
    "    print(f\"\\x1b[3{color_code}m{string}\\x1b[m\", end=\"\")"
   ]
  },
  {
   "cell_type": "markdown",
   "id": "a29e48be-e704-4390-ad69-122a94e72a19",
   "metadata": {},
   "source": [
    "## 1. Estimate HTR accuracy by examining printed text"
   ]
  },
  {
   "cell_type": "code",
   "execution_count": null,
   "id": "91b5ad72-45ec-4fce-92aa-7bdca9608d22",
   "metadata": {
    "tags": []
   },
   "outputs": [],
   "source": [
    "data_dir = \"../../data/Overlijden/x-samples/three-columns-100/page\"\n",
    "#data_dir = \"../../data/Overlijden/x-samples/Training_set_V2/page\"\n",
    "\n",
    "texts, metadata, textregions = read_transkribus_files.read_files(data_dir)"
   ]
  },
  {
   "cell_type": "code",
   "execution_count": null,
   "id": "5af51cb5-811d-4414-8efb-d8ddac158e5f",
   "metadata": {
    "tags": []
   },
   "outputs": [],
   "source": [
    "def cleanup_text(text):\n",
    "    return \" \".join(text.strip().split())"
   ]
  },
  {
   "cell_type": "code",
   "execution_count": null,
   "id": "06107986-e4b0-43fa-a791-e940b997a5af",
   "metadata": {},
   "outputs": [],
   "source": [
    "BATCHSIZE = 1\n",
    "\n",
    "PROMPT_DECEASED_NAME = \"\"\"Here is a Dutch death certificate. \n",
    "Can you extract the name of the deceased person from this document? \n",
    "Only give the deceased name as result. \n",
    "Other information from the document is not necessary.\n",
    "\"\"\" \n",
    "\n",
    "PROMPT_DEATH_DATE = \"\"\"Here is a Dutch death certificate. \n",
    "Can you extract the death date from this document? \n",
    "Please present the result in numeric form, with a zero prepending day and month numbers smaller than 10, so for example like: 01-01-1900.\n",
    "Only give the death date as result. \n",
    "Other information from the document is not necessary.\n",
    "\"\"\" \n",
    "\n",
    "PROMPT_MOTHER_NAME = \"\"\"Here is a Dutch death certificate. \n",
    "Can you extract the name of the mother of the deceased person from this document? \n",
    "Only give the mother's name as result. \n",
    "Other information from the document is not necessary.\n",
    "\"\"\" \n",
    "\n",
    "def make_prompt_texts(texts):\n",
    "    counter = 0\n",
    "    for text_id in sorted(texts.keys()):\n",
    "        year, district, folio_nbr = key.split(\"-\")\n",
    "        print(text_id)\n",
    "        print(PROMPT_MOTHER_NAME + re.sub(\"\\n\", \" \", texts[text_id]))\n",
    "        counter += 1\n",
    "        if counter >= BATCHSIZE:\n",
    "            counter = 0\n",
    "            print(\"\\n\")\n",
    "            \n",
    "#make_prompt_texts(texts)"
   ]
  },
  {
   "cell_type": "code",
   "execution_count": null,
   "id": "5abea7d5-5335-4bb7-b56a-cd7b3a1199ee",
   "metadata": {
    "tags": []
   },
   "outputs": [],
   "source": [
    "def compare_strings(string1, text):\n",
    "    clean_string = re.sub(\"[^a-z0-9]\", \"\", re.sub(\"ç\", \"c\", string.lower()))\n",
    "    clean_text = re.sub(\"[^a-z0-9]\", \"\", re.sub(\"ç\", \"c\", text.lower()))\n",
    "    return clean_string in clean_text"
   ]
  },
  {
   "cell_type": "code",
   "execution_count": null,
   "id": "f409db9c-52cf-4108-a183-139ba6f19054",
   "metadata": {
    "tags": []
   },
   "outputs": [],
   "source": [
    "def get_template_id(PRINTED_TEXT, year):\n",
    "    template_id = 0\n",
    "    for key in PRINTED_TEXT.keys():\n",
    "        if key > template_id and key <= int(year):\n",
    "            template_id = key\n",
    "    return template_id"
   ]
  },
  {
   "cell_type": "code",
   "execution_count": null,
   "id": "44839446-2df4-4e95-b9a9-a8458ab7f74a",
   "metadata": {
    "tags": []
   },
   "outputs": [],
   "source": [
    "scores = {}\n",
    "for key in sorted(texts.keys()):\n",
    "    year, district, folio_nbr = key.split(\"-\")\n",
    "    template_id = get_template_id(printed_text.PRINTED_TEXT, year)\n",
    "    correct_text = \"\"\n",
    "    missed_text = \"\"\n",
    "    for string in printed_text.PRINTED_TEXT[template_id]:\n",
    "        if compare_strings(string, texts[key]):\n",
    "            correct_text += string\n",
    "        else:\n",
    "            missed_text += string\n",
    "    scores[key] = len(correct_text)/len(correct_text + missed_text)\n",
    "[(key[1], key[0]) for key in sorted(scores.items() ,key=lambda item: item[1])][-5:]"
   ]
  },
  {
   "cell_type": "markdown",
   "id": "db213a35-0ba1-4d7a-b1e7-140ac1bb5f9d",
   "metadata": {},
   "source": [
    "## 2. Read gold names"
   ]
  },
  {
   "cell_type": "code",
   "execution_count": null,
   "id": "5b7f9078-2e9e-4a85-ae75-af176ecc7757",
   "metadata": {
    "tags": []
   },
   "outputs": [],
   "source": [
    "import pandas as pd"
   ]
  },
  {
   "cell_type": "code",
   "execution_count": null,
   "id": "d72467f6-2600-49bf-a99a-5abbf52c98a9",
   "metadata": {
    "tags": []
   },
   "outputs": [],
   "source": [
    "def fix_year(text_id, date_in):\n",
    "    print(text_id, date_in)\n",
    "    target_year = int(text_id[:4])\n",
    "    guessed_year = int(date_in[-4:])\n",
    "    if guessed_year != target_year and guessed_year != target_year-1:\n",
    "        print_with_color(f\"changing year {guessed_year} to {target_year}!\\n\")\n",
    "        date_out = date_in[0:-4] + str(target_year)\n",
    "    else:\n",
    "        date_out = date_in\n",
    "    return date_out"
   ]
  },
  {
   "cell_type": "markdown",
   "id": "31063cb3-6784-4c13-9bac-31bd100bb89a",
   "metadata": {},
   "source": [
    "Source of this gold data: table used by Lisa"
   ]
  },
  {
   "cell_type": "code",
   "execution_count": null,
   "id": "ee3374a4-6572-4a1f-a27c-a012683b3411",
   "metadata": {
    "tags": []
   },
   "outputs": [],
   "source": [
    "GOLD_DATA = \"../../data/Overlijden/x-samples/three-columns-100.csv\""
   ]
  },
  {
   "cell_type": "code",
   "execution_count": null,
   "id": "b4b6cce0-bc60-42f3-b0cd-3ce734427967",
   "metadata": {
    "tags": []
   },
   "outputs": [],
   "source": [
    "def extract_gold_names_from_gold_data(gold_data):\n",
    "    gold_names = {}\n",
    "    for key in gold_data.index:\n",
    "        gold_names_key = read_transkribus_files.make_file_id(gold_data[\"scans\"][key])\n",
    "        gold_name = \"\"\n",
    "        if isinstance(gold_data[\"first_names\"][key], str):\n",
    "            if isinstance(gold_data[\"last_name\"][key], str):\n",
    "                gold_name = str(gold_data[\"first_names\"][key]) + \" \" + str(gold_data[\"last_name\"][key])\n",
    "            else:\n",
    "                gold_name = str(gold_data[\"first_names\"][key])\n",
    "        elif isinstance(gold_data[\"last_name\"][key], str):\n",
    "            gold_name = str(gold_data[\"last_name\"][key])\n",
    "        if gold_names_key in gold_names and gold_name != \"\":\n",
    "            gold_names[gold_names_key].append(gold_name)\n",
    "        elif gold_name != \"\":\n",
    "            gold_names[gold_names_key] = [gold_name]\n",
    "        else:\n",
    "            gold_names[gold_names_key] = []\n",
    "    return gold_names"
   ]
  },
  {
   "cell_type": "code",
   "execution_count": null,
   "id": "6828de17-479b-4924-80d4-1a849e62f79b",
   "metadata": {
    "tags": []
   },
   "outputs": [],
   "source": [
    "gold_data = pd.read_csv(GOLD_DATA)"
   ]
  },
  {
   "cell_type": "code",
   "execution_count": null,
   "id": "b65c7fc7-e025-4660-982f-33303c604aad",
   "metadata": {
    "tags": []
   },
   "outputs": [],
   "source": [
    "gold_names = extract_gold_names_from_gold_data(gold_data)"
   ]
  },
  {
   "cell_type": "markdown",
   "id": "05690607-7ee1-4074-a37f-a836380d3894",
   "metadata": {},
   "source": [
    "## 3. Check and correct gold names\n",
    "\n",
    "Some names in the gold data are different from the ones on the certificates. For example, certficate 1867-2e-035 mentions Klarisse Roduma as deceased person but in the gold data the associated deceased name is Klarisse Roduma Isabella. The surname of the mother was added."
   ]
  },
  {
   "cell_type": "code",
   "execution_count": null,
   "id": "72d544a5-9042-46a5-862f-3f46381c67d9",
   "metadata": {
    "tags": []
   },
   "outputs": [],
   "source": [
    "corrections = { \"1833-1e-046\": \"Maria Dolor\",\n",
    "                \"1848-1e-049\": \"Cicilia Magdalena\",\n",
    "                \"1850-3e-010\": \"Ivaela Bernardina\",\n",
    "                \"1851-1e-048\": \"Roselfin Longina\",\n",
    "                \"1851-1e-096\": \"Maria Gerarda\",\n",
    "                \"1862-1e-014\": \"Josef Theodorus\",\n",
    "                \"1862-1e-029\": \"Abrammenina Gysbertha Veeris\",\n",
    "                \"1863-5e-002\": \"Nicolaas Johannes\",\n",
    "                \"1863-5e-024\": \"Ermesilia Eleonora\",\n",
    "                \"1863-6e-028\": \"Anthonia Pieternella\",\n",
    "                \"1863-7e-002\": \"George Alvarez Correa\",\n",
    "                \"1864-1e-272\": \"Cornelia Nersilia\",\n",
    "                \"1864-2e-030\": \"Maria Gracia\",\n",
    "                \"1864-2e-062\": \"Bartolomeuw Apostel\",\n",
    "                \"1865-2e-021\": \"Lucas Martis\",\n",
    "                \"1865-4e-006\": \"Elwin Martes Jansen\",\n",
    "                \"1865-5e-019\": \"Johannes Balentinus\",\n",
    "                \"1866-1e-051\": \"Juana Francisca\",\n",
    "                \"1866-1e-155\": \"Stephanus Mercelino\",\n",
    "                \"1866-2e-004\": \"Domingo Lingker\",\n",
    "                \"1867-1e-057\": \"Hoze Leon\",\n",
    "                \"1867-1e-194\": \"Anna Wilhelmina\",\n",
    "                \"1867-2e-035\": \"Klarisse Roduma\",\n",
    "                \"1867-5e-017\": [\"Juan Rimon\", \"Juantje Aland\" ]\n",
    "              }\n",
    "\n",
    "print(f\"There are {len(corrections)} corrections\")"
   ]
  },
  {
   "cell_type": "code",
   "execution_count": null,
   "id": "e9a00a48-7bb9-4eb7-b769-110de0941a8b",
   "metadata": {
    "tags": []
   },
   "outputs": [],
   "source": [
    "def add_correction_to_gold_names(gold_names, corrections):\n",
    "    for key in corrections:\n",
    "        if not isinstance(corrections[key], list):\n",
    "            if corrections[key] not in gold_names[key]:\n",
    "                gold_names[key].append(corrections[key])\n",
    "        else:\n",
    "            for name in corrections[key]:\n",
    "                if name not in gold_names[key]:\n",
    "                    gold_names[key].append(name)\n",
    "    return gold_names"
   ]
  },
  {
   "cell_type": "code",
   "execution_count": null,
   "id": "f1919f60-dc8e-4b9d-be4e-ff3a00ce90f9",
   "metadata": {
    "tags": []
   },
   "outputs": [],
   "source": [
    "def print_names_for_checking(gold_names):\n",
    "    for key in sorted(gold_names.keys()):\n",
    "        print(key, gold_names[key])"
   ]
  },
  {
   "cell_type": "code",
   "execution_count": null,
   "id": "727849f5-e610-4d3a-87f7-b6daaa7b5159",
   "metadata": {
    "tags": []
   },
   "outputs": [],
   "source": [
    "gold_names = add_correction_to_gold_names(gold_names, corrections)"
   ]
  },
  {
   "cell_type": "markdown",
   "id": "581856cc-5b12-4864-9739-fe2b9a033c77",
   "metadata": {},
   "source": [
    "## 4. Compare names with gold data"
   ]
  },
  {
   "cell_type": "code",
   "execution_count": null,
   "id": "45c5c2a1-eeca-437b-a4ad-5e55f4a83512",
   "metadata": {
    "tags": []
   },
   "outputs": [],
   "source": [
    "def cleanup_name(name):\n",
    "    name = re.sub(\"[.,]\", \"\", name)\n",
    "    name = re.sub(\"  *\", \" \", name).strip()\n",
    "    return name"
   ]
  },
  {
   "cell_type": "code",
   "execution_count": null,
   "id": "71bd87a3-8344-4eae-a9c9-61ed3b3cc318",
   "metadata": {
    "tags": []
   },
   "outputs": [],
   "source": [
    "def add_text_ids(names_in):\n",
    "    counter = 0\n",
    "    names_out = {}\n",
    "    for text_id in sorted(texts.keys()):\n",
    "        names_out[text_id] = names_in[counter]\n",
    "        counter += 1\n",
    "    return names_out"
   ]
  },
  {
   "cell_type": "code",
   "execution_count": null,
   "id": "f31db6f6-a056-481a-8c68-366f48b6d145",
   "metadata": {
    "tags": []
   },
   "outputs": [],
   "source": [
    "chatgpt_deceased_names = add_text_ids(list(pd.read_csv(\"deceased_names_gpt35.csv\", header=None)[0]))"
   ]
  },
  {
   "cell_type": "code",
   "execution_count": null,
   "id": "1affa607-d0af-4b13-b43b-0e86c3ab854e",
   "metadata": {
    "tags": []
   },
   "outputs": [],
   "source": [
    "names_correct = { text_id: False for text_id in texts }\n",
    "for text_id in sorted(texts.keys()):\n",
    "    guessed_name = cleanup_name(chatgpt_deceased_names[text_id]).lower()\n",
    "    for gold_name in gold_names[text_id]:\n",
    "        gold_name = cleanup_name(gold_name).lower()\n",
    "        if not names_correct[text_id]:\n",
    "            names_correct[text_id] = (guessed_name == gold_name)"
   ]
  },
  {
   "cell_type": "code",
   "execution_count": null,
   "id": "67946fd4-42b7-4a52-9b61-9be81827ba8e",
   "metadata": {
    "tags": []
   },
   "outputs": [],
   "source": [
    "decade_scores = {}\n",
    "for text_id in sorted(texts.keys()):               \n",
    "    decade = text_id[:3] + \"0\"\n",
    "    if decade in decade_scores:\n",
    "        if names_correct[text_id] in decade_scores[decade]:\n",
    "            decade_scores[decade][names_correct[text_id]] += 1\n",
    "        else:\n",
    "            decade_scores[decade][names_correct[text_id]] = 1\n",
    "    else:\n",
    "        decade_scores[decade] = { names_correct[text_id]: 1, not names_correct[text_id]: 0 }"
   ]
  },
  {
   "cell_type": "code",
   "execution_count": null,
   "id": "646b9909-7b09-4e76-885c-4094202869bd",
   "metadata": {
    "tags": []
   },
   "outputs": [],
   "source": [
    "names_almost_correct = {}\n",
    "name_distance_counts = {}\n",
    "name_distances = { text_id: 999999 for text_id in texts }\n",
    "for text_id in sorted(texts.keys()):               \n",
    "    for gold_name in gold_names[text_id]:\n",
    "        levenshtein_distance = distance(cleanup_name(chatgpt_deceased_names[text_id]).lower(), cleanup_name(gold_name).lower())\n",
    "        if levenshtein_distance < name_distances[text_id]:\n",
    "            name_distances[text_id]  = levenshtein_distance\n",
    "    if name_distances[text_id] not in name_distance_counts:\n",
    "        name_distance_counts[name_distances[text_id]] = 1\n",
    "    else:\n",
    "        name_distance_counts[name_distances[text_id]] += 1\n",
    "    names_almost_correct[text_id] = name_distances[text_id] <= 3"
   ]
  },
  {
   "cell_type": "code",
   "execution_count": null,
   "id": "0a43ecc5-fd09-4ec8-85a9-d8d591723422",
   "metadata": {
    "tags": []
   },
   "outputs": [],
   "source": [
    "decade_almost_scores = {}\n",
    "for text_id in sorted(names_almost_correct.keys()):               \n",
    "    decade = text_id[:3] + \"0\"\n",
    "    if decade in decade_almost_scores:\n",
    "        if names_almost_correct[text_id] in decade_almost_scores[decade]:\n",
    "            decade_almost_scores[decade][names_almost_correct[text_id]] += 1\n",
    "        else:\n",
    "            decade_almost_scores[decade][names_almost_correct[text_id]] = 1\n",
    "    else:\n",
    "        decade_almost_scores[decade] = { names_almost_correct[text_id]: 1, not names_almost_correct[text_id]: 0 }"
   ]
  },
  {
   "cell_type": "code",
   "execution_count": null,
   "id": "97f7614a-8943-4791-973b-d78b57df1c4f",
   "metadata": {
    "tags": []
   },
   "outputs": [],
   "source": [
    "for text_id in sorted(texts.keys()):           \n",
    "    if not names_correct[text_id]:\n",
    "        try:\n",
    "            print(f\"{name_distances[text_id]} {chatgpt_deceased_names[text_id]} {gold_names[text_id]} {text_id}\")\n",
    "        except:\n",
    "            pass\n",
    "            \n",
    "print(f\"correct: {len([ True for text_id in names_correct if names_correct[text_id] ])};\", \n",
    "      f\"partially: {name_distance_counts[0]+name_distance_counts[1]+name_distance_counts[2]+name_distance_counts[3]};\", \n",
    "      f\"counts per distance: {name_distance_counts}\")"
   ]
  },
  {
   "cell_type": "code",
   "execution_count": null,
   "id": "5aca6dcf-93f3-4610-ace6-e087aa57fbdb",
   "metadata": {
    "tags": []
   },
   "outputs": [],
   "source": [
    "plt.plot(decade_almost_scores.keys(), \n",
    "         [ 100*decade_almost_scores[decade][True]/(decade_almost_scores[decade][True] + decade_almost_scores[decade][False]) \n",
    "           for decade in decade_almost_scores ],\n",
    "         label=\"partial (Levenshtein<=3)\")\n",
    "plt.plot(decade_scores.keys(), \n",
    "         [ 100*decade_scores[decade][True]/(decade_scores[decade][True] + decade_scores[decade][False]) \n",
    "           for decade in decade_scores ],\n",
    "         label=\"perfect (Levenshtein=0)\"\n",
    "        )\n",
    "plt.title(\"percentage correct names per decade\")\n",
    "plt.xlabel(\"decades\")\n",
    "plt.ylabel(\"percentages\")\n",
    "plt.legend()\n",
    "plt.show()"
   ]
  },
  {
   "cell_type": "markdown",
   "id": "caec38a6-fe59-4acc-924d-d6ae7e809304",
   "metadata": {},
   "source": [
    "## 5. Compare guessed names to known names"
   ]
  },
  {
   "cell_type": "code",
   "execution_count": null,
   "id": "136443c7-b547-405d-9087-9f7d0dbdab68",
   "metadata": {
    "tags": []
   },
   "outputs": [],
   "source": [
    "known_certificates = pd.read_csv(\"../../data/Overlijden/x-misc/Overlijden 1831-1950 JESSYv2-1831-1929.csv\", low_memory=False)"
   ]
  },
  {
   "cell_type": "code",
   "execution_count": null,
   "id": "a38e3e83-de77-4d8d-b706-fa9dfa13b347",
   "metadata": {
    "tags": []
   },
   "outputs": [],
   "source": [
    "name_types = {}\n",
    "name_counts = {}\n",
    "MINIMUM_YEAR = 1869\n",
    "\n",
    "for index, row in known_certificates.iterrows():\n",
    "    surname = row[\"Achternaam\"]\n",
    "    firstnames = row[\"Voornamen\"]\n",
    "    try:\n",
    "        year = int(row[\"Jaar\"])\n",
    "    except:\n",
    "        continue\n",
    "    if isinstance(surname, str) and year >= MINIMUM_YEAR:\n",
    "        for name_part in surname.strip().split():\n",
    "            clean_name = cleanup_name(name_part).lower()\n",
    "            if clean_name not in name_types:\n",
    "                name_types[clean_name] = \"last\"\n",
    "            if clean_name in name_counts:\n",
    "                name_counts[clean_name] += 1\n",
    "            else:\n",
    "                name_counts[clean_name] = 1\n",
    "    if isinstance(firstnames, str) and year >= MINIMUM_YEAR:\n",
    "        for name_part in firstnames.strip().split():\n",
    "            clean_name = cleanup_name(name_part).lower()\n",
    "            if clean_name not in name_types:\n",
    "                name_types[clean_name] = \"first\"\n",
    "            elif name_types[clean_name] == \"last\":\n",
    "                name_types[clean_name] = \"both\"\n",
    "            if clean_name in name_counts:\n",
    "                name_counts[clean_name] += 1\n",
    "            else:\n",
    "                name_counts[clean_name] = 1"
   ]
  },
  {
   "cell_type": "code",
   "execution_count": null,
   "id": "b224ff36-f7eb-418d-851a-b13f10e0a7c0",
   "metadata": {
    "tags": []
   },
   "outputs": [],
   "source": [
    "MINIMUM_FREQUENCY = 10\n",
    "\n",
    "def get_closest_name(name):\n",
    "    if name in name_types.keys():\n",
    "        return [name], 0\n",
    "    min_distance = 999999\n",
    "    best_names = []\n",
    "    for known_name in name_types:\n",
    "        if name_counts[known_name] >= MINIMUM_FREQUENCY:\n",
    "            this_distance = distance(cleanup_name(known_name), name)\n",
    "            if this_distance < min_distance:\n",
    "                min_distance = this_distance\n",
    "                best_names = [known_name]\n",
    "            elif this_distance == min_distance:\n",
    "                best_names.append(known_name)\n",
    "    return best_names, min_distance"
   ]
  },
  {
   "cell_type": "code",
   "execution_count": null,
   "id": "e6c2f13f-2345-43a4-972c-893abcd7cde1",
   "metadata": {
    "tags": []
   },
   "outputs": [],
   "source": [
    "has_unknown_name = { text_id: False for text_id in texts }\n",
    "for text_id in chatgpt_deceased_names:\n",
    "    name_format = []\n",
    "    for name_part in chatgpt_deceased_names[text_id].strip().split():\n",
    "        clean_name = cleanup_name(name_part).lower()\n",
    "        if clean_name in name_types:\n",
    "            name_format.append(name_types[clean_name])\n",
    "        else:\n",
    "            print(f\"unknown name: {clean_name}, {get_closest_name(clean_name)}\")\n",
    "            name_format.append(\"UNKNOWN\")\n",
    "            has_unknown_name[text_id] = True\n",
    "    print(name_format)"
   ]
  },
  {
   "cell_type": "markdown",
   "id": "aa5b3337-1c74-412b-a90e-09e2a4a30468",
   "metadata": {},
   "source": [
    "In the ChatGPT3.5 output there are 64 names with unknown parts (not found in the 1869+ data). Of these names 61 (95%) are wrong while 3 (5%) are correct. This analysis is different for the partially correct names: 34 of the 64 names have a Levenshtein distance of 3 or smaller to the correct name while for the other 30 the distance is larger."
   ]
  },
  {
   "cell_type": "code",
   "execution_count": null,
   "id": "bddc973a-d356-4e25-ac54-f9e369b7cd25",
   "metadata": {},
   "outputs": [],
   "source": [
    "correct_count = 0\n",
    "wrong_count = 0\n",
    "almost_correct_count = 0\n",
    "not_almost_correct_count = 0\n",
    "for text_id in has_unknown_name:\n",
    "    if has_unknown_name[text_id]:\n",
    "        if names_correct[text_id]:\n",
    "            correct_count += 1\n",
    "        else:\n",
    "            wrong_count += 1\n",
    "        if names_almost_correct[text_id]:\n",
    "            almost_correct_count += 1\n",
    "        else:\n",
    "            not_almost_correct_count += 1\n",
    "print(f\"correct: {correct_count}; wrong: {wrong_count}; almost correct: {almost_correct_count}; not almost correct: {not_almost_correct_count}\")"
   ]
  },
  {
   "cell_type": "markdown",
   "id": "08792dc2-2705-4f20-88f5-3c65c569a7d8",
   "metadata": {},
   "source": [
    "Replacing unknown names with known names does not have a big effect. Only a few names can be corrected because most names have many alternatives. This makes choosing the correct alternative difficult."
   ]
  },
  {
   "cell_type": "code",
   "execution_count": null,
   "id": "2b25e473-c567-4865-8a9a-67a3acdaa9db",
   "metadata": {
    "tags": []
   },
   "outputs": [],
   "source": [
    "def find_most_frequent(name_types, name_alternatives):\n",
    "    best_name = name_alternatives[0]\n",
    "    highest_frequency = name_types[best_name]\n",
    "    for name_alternative in name_alternatives:\n",
    "        if (name_types[name_alternative] > highest_frequency or \n",
    "            (name_types[name_alternative] == highest_frequency and len(name_alternative) > len(best_name))):\n",
    "            best_name = name_alternative\n",
    "            highest_frequency = name_types[best_name]\n",
    "    return best_name"
   ]
  },
  {
   "cell_type": "code",
   "execution_count": null,
   "id": "3a2eb56c-e177-4ddc-a6e1-66aec0e502eb",
   "metadata": {
    "tags": []
   },
   "outputs": [],
   "source": [
    "for text_id in sorted(texts.keys()):\n",
    "    name_correct = False\n",
    "    guessed_name = cleanup_name(chatgpt_deceased_names[text_id]).lower()\n",
    "    for gold_name in gold_names[text_id]:\n",
    "        gold_name = cleanup_name(gold_name).lower()\n",
    "        if not name_correct:\n",
    "            name_correct = (guessed_name == gold_name)\n",
    "    if not name_correct:\n",
    "        name_parts_corrected = []\n",
    "        corrected = True\n",
    "        for name_part in guessed_name.split():\n",
    "            if name_part in name_types:\n",
    "                name_parts_corrected.append(name_part)\n",
    "            else:\n",
    "                name_alternatives, name_distance = get_closest_name(name_part)\n",
    "                if name_distance > 3:\n",
    "                    name_parts_corrected.append(name_part)\n",
    "                    corrected = False\n",
    "                elif len(name_alternatives) == 1:\n",
    "                    name_parts_corrected.append(name_alternatives[0])\n",
    "                else:\n",
    "                    if len(name_alternatives) == 0:\n",
    "                        print_with_color(\"cannot happen\")\n",
    "                    name_parts_corrected.append(find_most_frequent(name_types, name_alternatives))\n",
    "        name_corrected = \" \".join(name_parts_corrected)\n",
    "        if name_corrected != guessed_name and corrected:\n",
    "            corrected_distance = distance(name_corrected, cleanup_name(gold_names[text_id][0]).lower())\n",
    "            if corrected_distance > 0:\n",
    "                print(f\"{corrected_distance} {distance(guessed_name, cleanup_name(gold_names[text_id][0]).lower())} {name_corrected} # {guessed_name} {gold_names[text_id]}\")\n",
    "            else:\n",
    "                print_with_color(f\"{corrected_distance} {distance(guessed_name, cleanup_name(gold_names[text_id][0]).lower())} {name_corrected} # {guessed_name} {gold_names[text_id]}\\n\")"
   ]
  },
  {
   "cell_type": "markdown",
   "id": "a870f9d5-1c83-4e68-9948-a37a57b7f0c3",
   "metadata": {},
   "source": [
    "## 6. Free word order evaluation"
   ]
  },
  {
   "cell_type": "code",
   "execution_count": null,
   "id": "084a4c54-9816-4838-9cc5-6cb0f716877d",
   "metadata": {
    "tags": []
   },
   "outputs": [],
   "source": [
    "names_correct_unordered = { text_id: False for text_id in texts }\n",
    "for text_id in sorted(texts.keys()):\n",
    "    guessed_name = cleanup_name(chatgpt_deceased_names[text_id]).lower()\n",
    "    for gold_name in gold_names[text_id]:\n",
    "        gold_name = cleanup_name(gold_name).lower()\n",
    "        for permutation in itertools.permutations(guessed_name.split()):\n",
    "            if not names_correct_unordered[text_id]:\n",
    "                names_correct_unordered[text_id] = (\" \".join(permutation) == gold_name)\n",
    "                if \" \".join(permutation) != guessed_name and \" \".join(permutation) == gold_name:\n",
    "                    print(permutation, guessed_name)"
   ]
  },
  {
   "cell_type": "code",
   "execution_count": null,
   "id": "fefc7fd1-d060-466b-a06a-39277b4c8359",
   "metadata": {
    "tags": []
   },
   "outputs": [],
   "source": [
    "len([ True for text_id in names_correct if names_correct_unordered[text_id] ])"
   ]
  },
  {
   "cell_type": "markdown",
   "id": "eb1495ad-5a50-4c50-a677-8e9d336d39b0",
   "metadata": {},
   "source": [
    "## 6. Evaluate with name of mother"
   ]
  },
  {
   "cell_type": "code",
   "execution_count": null,
   "id": "2bd8cd0e-c415-48ee-8624-a808b3667bdd",
   "metadata": {
    "tags": []
   },
   "outputs": [],
   "source": [
    "mother_names = pd.read_csv(\"mothers.csv\", header=None).to_dict(orient=\"records\")\n",
    "mother_names = { item[0]: item[1] for item in mother_names }"
   ]
  },
  {
   "cell_type": "code",
   "execution_count": null,
   "id": "1555e334-4888-4e40-a092-6a66b3f86e40",
   "metadata": {
    "tags": []
   },
   "outputs": [],
   "source": [
    "names_correct_with_mother = { text_id: False for text_id in texts }\n",
    "for text_id in sorted(texts.keys()):\n",
    "    guessed_name = cleanup_name(chatgpt_deceased_names[text_id]).lower()\n",
    "    for gold_name in gold_names[text_id]:\n",
    "        gold_name = cleanup_name(gold_name).lower()\n",
    "        if not names_correct_with_mother[text_id]:\n",
    "            names_correct_with_mother[text_id] = (guessed_name == gold_name)\n",
    "    if isinstance(mother_names[text_id], str) and not names_correct_with_mother[text_id]:\n",
    "        mother_name = cleanup_name(mother_names[text_id]).lower().split()[-1]\n",
    "        for gold_name in gold_names[text_id]:\n",
    "            gold_name = cleanup_name(gold_name).lower()\n",
    "            if not names_correct_with_mother[text_id]:\n",
    "                names_correct_with_mother[text_id] = (guessed_name + \" \" + mother_name == gold_name)\n",
    "                if guessed_name + \" \" + mother_name == gold_name:\n",
    "                    print(guessed_name, mother_name, gold_name, sep=\"#\")"
   ]
  },
  {
   "cell_type": "code",
   "execution_count": null,
   "id": "52586d00-eace-4ed6-8330-38f2593ef7f6",
   "metadata": {
    "tags": []
   },
   "outputs": [],
   "source": [
    "len([ True for text_id in names_correct if names_correct_with_mother[text_id] ])"
   ]
  },
  {
   "cell_type": "code",
   "execution_count": null,
   "id": "2569e843-4f2d-4932-96f8-c9f7577477f8",
   "metadata": {},
   "outputs": [],
   "source": []
  }
 ],
 "metadata": {
  "kernelspec": {
   "display_name": "Python 3 (ipykernel)",
   "language": "python",
   "name": "python3"
  },
  "language_info": {
   "codemirror_mode": {
    "name": "ipython",
    "version": 3
   },
   "file_extension": ".py",
   "mimetype": "text/x-python",
   "name": "python",
   "nbconvert_exporter": "python",
   "pygments_lexer": "ipython3",
   "version": "3.9.13"
  }
 },
 "nbformat": 4,
 "nbformat_minor": 5
}
