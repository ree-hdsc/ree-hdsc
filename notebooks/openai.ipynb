{
 "cells": [
  {
   "cell_type": "markdown",
   "id": "d6d44ff3-b209-45f3-88d5-8b6174fb56b7",
   "metadata": {},
   "source": [
    "# OpenAI API\n",
    "\n",
    "Note: `openai.ChatCompletion` needs the latest version of the API (v0.27.0+), update with `pip install --upgrade openai`"
   ]
  },
  {
   "cell_type": "code",
   "execution_count": null,
   "id": "344d64e0-7379-4041-ac2b-e0d59f626bc8",
   "metadata": {
    "tags": []
   },
   "outputs": [],
   "source": [
    "import openai\n",
    "import os\n",
    "import pandas as pd\n",
    "import regex\n",
    "import sys\n",
    "import time\n",
    "sys.path.append(os.getcwd() + '/..')\n",
    "from scripts import read_transkribus_files"
   ]
  },
  {
   "cell_type": "code",
   "execution_count": null,
   "id": "313a60f9-c24b-4a9e-98c0-a34e7e8e9888",
   "metadata": {
    "tags": []
   },
   "outputs": [],
   "source": [
    "def get_openai_key(keyfile):\n",
    "    infile = open(keyfile, \"r\")\n",
    "    lines = infile.readlines()\n",
    "    infile.close()\n",
    "    return lines[-1].split(\"=\")[-1].strip()"
   ]
  },
  {
   "cell_type": "code",
   "execution_count": null,
   "id": "b33467da-8eed-4854-b854-f31a9da36384",
   "metadata": {
    "tags": []
   },
   "outputs": [],
   "source": [
    "KEYFILE = \"../../openai-quickstart-python/.env\""
   ]
  },
  {
   "cell_type": "code",
   "execution_count": null,
   "id": "0aa81bc1-8450-433d-a2e5-050c5c403acc",
   "metadata": {
    "tags": []
   },
   "outputs": [],
   "source": [
    "openai.api_key = get_openai_key(KEYFILE)"
   ]
  },
  {
   "cell_type": "code",
   "execution_count": null,
   "id": "04142b72-5aaf-4b57-94da-6277c79da129",
   "metadata": {
    "tags": []
   },
   "outputs": [],
   "source": [
    "#data_dir = \"../../data/Overlijden/x-samples/three-columns-100/page\"\n",
    "\n",
    "#texts, metadata, textregions = read_transkribus_files.read_files(data_dir)"
   ]
  },
  {
   "cell_type": "code",
   "execution_count": null,
   "id": "43f15905-9fa8-4279-b8be-9f52a41e15ca",
   "metadata": {
    "tags": []
   },
   "outputs": [],
   "source": [
    "csv_file_df = pd.read_csv(\"three_columns_100_corrected.csv\")\n",
    "records = csv_file_df.to_dict(orient=\"records\")\n",
    "texts = { record[\"Unnamed: 0\"]: record[\"0\"] for record in records }"
   ]
  },
  {
   "cell_type": "code",
   "execution_count": null,
   "id": "6663a619-7ca8-4624-8018-eb5757d09453",
   "metadata": {
    "tags": []
   },
   "outputs": [],
   "source": [
    "PROMPT_DECEASED_NAME = \"\"\"Here is a Dutch death certificate. \n",
    "Can you extract the name of the deceased person from this document? \n",
    "Only give the deceased name as result. \n",
    "Other information from the document is not necessary.\n",
    "\"\"\" \n",
    "\n",
    "PROMPT_DECEASED_FIRST_NAME = \"\"\"Here is a Dutch death certificate. \n",
    "Can you extract the first name of the deceased person from this document? \n",
    "Only give the deceased first name as result.\n",
    "Other information from the document is not necessary.\n",
    "\"\"\"\n",
    "\n",
    "PROMPT_DECEASED_LAST_NAME = \"\"\"Here is a Dutch death certificate. \n",
    "Can you extract the last name of the deceased person from this document? \n",
    "Only give the deceased last name as result.\n",
    "Other information from the document is not necessary.\n",
    "\"\"\" \n",
    "\n",
    "PROMPT_DEATH_DATE = \"\"\"Here is a Dutch death certificate. \n",
    "Can you extract the death date from this document? \n",
    "Please present the result in numeric form, with a zero prepending day and month numbers smaller than 10, so for example like: 01-01-1900.\n",
    "Only give the death date as result. \n",
    "Other information from the document is not necessary.\n",
    "\"\"\" \n",
    "\n",
    "PROMPT_MOTHER_NAME = \"\"\"Here is a Dutch death certificate. \n",
    "Can you extract the name of the mother of the deceased person from this document? \n",
    "Only give the mother's name as result. \n",
    "Other information from the document is not necessary.\n",
    "\"\"\" "
   ]
  },
  {
   "cell_type": "code",
   "execution_count": null,
   "id": "d0ae275f-d336-4f6d-8dcb-3b85c2d28bbb",
   "metadata": {
    "tags": []
   },
   "outputs": [],
   "source": [
    "START_KEY = \"\"\n",
    "PROMPT = PROMPT_MOTHER_NAME\n",
    "\n",
    "def process_key(text, prompt, key):\n",
    "    response = openai.ChatCompletion.create(\n",
    "       model=\"gpt-3.5-turbo\",\n",
    "       messages=[\n",
    "          {\"role\": \"user\", \"content\": prompt + text },\n",
    "       ]\n",
    "    )\n",
    "    responses[key] = response.choices\n",
    "    print(responses[key][0][\"message\"][\"content\"], key)\n",
    "    time.sleep(1)\n",
    "    \n",
    "\n",
    "if START_KEY == \"\":\n",
    "    responses = {} \n",
    "for key in sorted(texts.keys()):\n",
    "    if key >= START_KEY:\n",
    "        try:\n",
    "            process_key(texts[key], PROMPT, key)\n",
    "        except:\n",
    "            time.sleep(5)\n",
    "            process_key(texts[key], PROMPT, key)"
   ]
  },
  {
   "cell_type": "code",
   "execution_count": null,
   "id": "bec46a8c-f454-433c-9260-732477bb777c",
   "metadata": {
    "tags": []
   },
   "outputs": [],
   "source": [
    "for text_id in responses:\n",
    "    #if regex.search(\" not \", responses[text_id][0][\"message\"][\"content\"]):\n",
    "    print(text_id, responses[text_id][0][\"message\"][\"content\"], sep=\",\")"
   ]
  },
  {
   "cell_type": "code",
   "execution_count": null,
   "id": "f4a17090-bf2d-430d-9415-e64cafa904eb",
   "metadata": {},
   "outputs": [],
   "source": [
    "for key in sorted(texts.keys()):\n",
    "    first_name = responses[key+\"_first\"][0][\"message\"][\"content\"]\n",
    "    first_name = re.sub('[\".]', \"\", first_name)\n",
    "    print(first_name, end = \"\")\n",
    "    if not re.search(\" not \", responses[key+\"_last\"][0][\"message\"][\"content\"]):\n",
    "        last_name = responses[key+\"_last\"][0][\"message\"][\"content\"]\n",
    "        last_name = re.sub(\"The deceased last name is \", \"\", last_name)\n",
    "        last_name = re.sub(\" \\(no last name given\\)\", \"\", last_name)\n",
    "        last_name = re.sub('[\".]', \"\", last_name)\n",
    "        last_name = re.sub('-$', \"\", last_name)\n",
    "        first_name_parts = first_name.split()\n",
    "        if last_name != first_name_parts[-1]:\n",
    "            print(f\" {last_name}\", end=\"\")\n",
    "    print()"
   ]
  },
  {
   "cell_type": "code",
   "execution_count": null,
   "id": "8b201177-6d87-4505-98fd-988d37711657",
   "metadata": {},
   "outputs": [],
   "source": []
  }
 ],
 "metadata": {
  "kernelspec": {
   "display_name": "Python 3 (ipykernel)",
   "language": "python",
   "name": "python3"
  },
  "language_info": {
   "codemirror_mode": {
    "name": "ipython",
    "version": 3
   },
   "file_extension": ".py",
   "mimetype": "text/x-python",
   "name": "python",
   "nbconvert_exporter": "python",
   "pygments_lexer": "ipython3",
   "version": "3.9.13"
  }
 },
 "nbformat": 4,
 "nbformat_minor": 5
}
