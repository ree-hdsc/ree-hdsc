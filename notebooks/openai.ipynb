{
 "cells": [
  {
   "cell_type": "markdown",
   "id": "d6d44ff3-b209-45f3-88d5-8b6174fb56b7",
   "metadata": {},
   "source": [
    "# OpenAI API"
   ]
  },
  {
   "cell_type": "code",
   "execution_count": null,
   "id": "344d64e0-7379-4041-ac2b-e0d59f626bc8",
   "metadata": {
    "tags": []
   },
   "outputs": [],
   "source": [
    "import openai\n",
    "import os\n",
    "import re\n",
    "import sys\n",
    "import time\n",
    "sys.path.append(os.getcwd() + '/..')\n",
    "from scripts import read_transkribus_files"
   ]
  },
  {
   "cell_type": "code",
   "execution_count": null,
   "id": "313a60f9-c24b-4a9e-98c0-a34e7e8e9888",
   "metadata": {
    "tags": []
   },
   "outputs": [],
   "source": [
    "def get_openai_key(keyfile):\n",
    "    infile = open(keyfile, \"r\")\n",
    "    lines = infile.readlines()\n",
    "    infile.close()\n",
    "    return lines[-1].split(\"=\")[-1].strip()"
   ]
  },
  {
   "cell_type": "code",
   "execution_count": null,
   "id": "b33467da-8eed-4854-b854-f31a9da36384",
   "metadata": {
    "tags": []
   },
   "outputs": [],
   "source": [
    "KEYFILE = \"../../openai-quickstart-python/.env\""
   ]
  },
  {
   "cell_type": "code",
   "execution_count": null,
   "id": "0aa81bc1-8450-433d-a2e5-050c5c403acc",
   "metadata": {
    "tags": []
   },
   "outputs": [],
   "source": [
    "openai.api_key = get_openai_key(KEYFILE)"
   ]
  },
  {
   "cell_type": "code",
   "execution_count": null,
   "id": "04142b72-5aaf-4b57-94da-6277c79da129",
   "metadata": {
    "tags": []
   },
   "outputs": [],
   "source": [
    "data_dir = \"../../data/Overlijden/x-samples/three-columns-100/page\"\n",
    "\n",
    "texts, metadata, textregions = read_transkribus_files.read_files(data_dir)"
   ]
  },
  {
   "cell_type": "code",
   "execution_count": null,
   "id": "6663a619-7ca8-4624-8018-eb5757d09453",
   "metadata": {
    "tags": []
   },
   "outputs": [],
   "source": [
    "PROMPT_DECEASED_NAME = \"\"\"Here is a Dutch death certificate. \n",
    "Can you extract the name of the deceased person from this document? \n",
    "Only give the deceased name as result. \n",
    "Other information from the document is not necessary.\n",
    "\"\"\" \n",
    "\n",
    "PROMPT_DEATH_DATE = \"\"\"Here is a Dutch death certificate. \n",
    "Can you extract the death date from this document? \n",
    "Please present the result in numeric form, with a zero prepending day and month numbers smaller than 10, so for example like: 01-01-1900.\n",
    "Only give the death date as result. \n",
    "Other information from the document is not necessary.\n",
    "\"\"\" "
   ]
  },
  {
   "cell_type": "markdown",
   "id": "d0c05ff6-f640-4836-8b33-123f47f6f899",
   "metadata": {},
   "source": [
    "`openai.ChatCompletion` needs the latest version of the API (v0.27.0+), update with `pip install --upgrade openai`"
   ]
  },
  {
   "cell_type": "code",
   "execution_count": null,
   "id": "d0ae275f-d336-4f6d-8dcb-3b85c2d28bbb",
   "metadata": {
    "tags": []
   },
   "outputs": [],
   "source": [
    "responses = {} \n",
    "for key in sorted(texts.keys()):\n",
    "    response = openai.ChatCompletion.create(\n",
    "       model=\"gpt-3.5-turbo\",\n",
    "       messages=[\n",
    "          {\"role\": \"user\", \"content\": PROMPT_DECEASED_NAME + texts[key] },\n",
    "       ]\n",
    "    )\n",
    "    responses[key] = response.choices\n",
    "    print(responses[key][0][\"message\"][\"content\"], key)\n",
    "    time.sleep(1)"
   ]
  },
  {
   "cell_type": "code",
   "execution_count": null,
   "id": "0248d5a0-18d0-4a49-9322-d4008c3a2f6b",
   "metadata": {
    "tags": []
   },
   "outputs": [],
   "source": [
    "last_key = \"1868-1e-356\"\n",
    "responses = {} \n",
    "for key in sorted(texts.keys()):\n",
    "    if key > last_key:\n",
    "        response = openai.ChatCompletion.create(\n",
    "           model=\"gpt-3.5-turbo\",\n",
    "           messages=[\n",
    "              {\"role\": \"user\", \"content\": PROMPT_DECEASED_NAME + texts[key] },\n",
    "           ]\n",
    "        )\n",
    "        responses[key] = response.choices\n",
    "        print(responses[key][0][\"message\"][\"content\"], key)\n",
    "        time.sleep(1)"
   ]
  },
  {
   "cell_type": "code",
   "execution_count": null,
   "id": "f4a17090-bf2d-430d-9415-e64cafa904eb",
   "metadata": {},
   "outputs": [],
   "source": []
  }
 ],
 "metadata": {
  "kernelspec": {
   "display_name": "Python 3 (ipykernel)",
   "language": "python",
   "name": "python3"
  },
  "language_info": {
   "codemirror_mode": {
    "name": "ipython",
    "version": 3
   },
   "file_extension": ".py",
   "mimetype": "text/x-python",
   "name": "python",
   "nbconvert_exporter": "python",
   "pygments_lexer": "ipython3",
   "version": "3.9.13"
  }
 },
 "nbformat": 4,
 "nbformat_minor": 5
}
