{
 "cells": [
  {
   "cell_type": "markdown",
   "id": "915f1fe3-3ec2-45bc-8c01-d309f66cadf4",
   "metadata": {},
   "source": [
    "# Entity linking"
   ]
  },
  {
   "cell_type": "code",
   "execution_count": null,
   "id": "282b593c-4b9d-4bf2-8009-29e4ed9545b7",
   "metadata": {
    "tags": []
   },
   "outputs": [],
   "source": [
    "from ast import literal_eval\n",
    "from math import nan\n",
    "import os\n",
    "import pandas as pd\n",
    "import regex\n",
    "import sys\n",
    "sys.path.append(os.getcwd() + '/..')\n",
    "from scripts import utils"
   ]
  },
  {
   "cell_type": "markdown",
   "id": "32f033ef-65cf-4fab-b18c-dee7cf84b226",
   "metadata": {},
   "source": [
    "## 1. Link entities based on name and death year"
   ]
  },
  {
   "cell_type": "code",
   "execution_count": null,
   "id": "1f8ebb81-47cc-490b-841d-1c8a6aeb61c6",
   "metadata": {
    "tags": []
   },
   "outputs": [],
   "source": [
    "age_keys = { \"overledene\": \"Leeftijd\",\n",
    "             \"Vader\": \"Leeftijd/ovl\",\n",
    "             \"Moeder\": \"Leeftijd/ovl4\",\n",
    "             \"Aangever\": \"Leeftijd6\",\n",
    "             \"Getuige\": \"Leeftijd8\",\n",
    "             \"Getuige9\": \"Leeftijd11\",\n",
    "             \"Echtgeno(o)t(e)\": \"Beroep12\" }\n",
    "profession_keys = { \"overledene\": \"Beroep\",\n",
    "                    \"Vader\": \"Beroep2\",\n",
    "                    \"Moeder\": \"Beroep3\",\n",
    "                    \"Aangever\": \"Beroep5\",\n",
    "                    \"Getuige\": \"Beroep7\",\n",
    "                    \"Getuige9\": \"Beroep10\",\n",
    "                    \"Echtgeno(o)t(e)\": \"Beroep12\" }"
   ]
  },
  {
   "cell_type": "code",
   "execution_count": null,
   "id": "c057f532-3d66-4288-97d3-d274fa75cdb2",
   "metadata": {
    "tags": []
   },
   "outputs": [],
   "source": [
    "def other_role(role_list):\n",
    "    \"\"\" test if a person data list contains a role unequal to deceased/overledene \"\"\"\n",
    "    nbr_of_other_roles = 0\n",
    "    for role in role_list:\n",
    "        if role[0] != \"overledene\":\n",
    "            nbr_of_other_roles += 1\n",
    "    return nbr_of_other_roles > 0"
   ]
  },
  {
   "cell_type": "code",
   "execution_count": null,
   "id": "ed9778b1-d758-4316-a56c-67f2c7bb2faa",
   "metadata": {
    "tags": []
   },
   "outputs": [],
   "source": [
    "def ages_known(role_list):\n",
    "    \"\"\" test if a person data list contains at least two data items with a known age; at least one cannot be of the deceased person \"\"\"\n",
    "    nbr_of_known_ages = 0\n",
    "    deceased_seen = False\n",
    "    for role in role_list:\n",
    "        if (isinstance(role[2], str) and regex.search(\"[0-9]\", role[2])) or (len(role) > 4 and isinstance(role[4], str) and regex.search(\"[0-9]\", role[4])):\n",
    "            if not role[0] == \"overledene\":\n",
    "                nbr_of_known_ages += 1\n",
    "            elif not deceased_seen:\n",
    "                nbr_of_known_ages += 1\n",
    "                deceased_seen = True\n",
    "    return nbr_of_known_ages > 1"
   ]
  },
  {
   "cell_type": "code",
   "execution_count": null,
   "id": "aff14d56-fcdb-4116-9a3c-a8dccef17879",
   "metadata": {
    "tags": []
   },
   "outputs": [],
   "source": [
    "def get_linkable_persons(person_data):\n",
    "    \"\"\" get linkable person data lists based on the functions other_role/1 and ages_known/1 \"\"\"\n",
    "    return [(name, person_data[name]) for name in sorted(person_data.keys(), \n",
    "                                                         key=lambda name: len(person_data[name]), \n",
    "                                                         reverse=True) if not regex.search(\"levenloos\", name) and \n",
    "                                                                      other_role(person_data[name]) and\n",
    "                                                                      ages_known(person_data[name])]"
   ]
  },
  {
   "cell_type": "code",
   "execution_count": null,
   "id": "268e5bd8-3a4c-461b-9f9f-676065729c3e",
   "metadata": {
    "tags": []
   },
   "outputs": [],
   "source": [
    "def get_person_data_from_certificates(known_certificates):\n",
    "    \"\"\" extract person data from available certificates \"\"\"\n",
    "    person_data = {}\n",
    "    for index, row in known_certificates.iterrows():\n",
    "        name = \"\"\n",
    "        if isinstance(row[\"Achternaam\"], str) and isinstance(row[\"Voornamen\"], str):\n",
    "            name = \" \".join([row[\"Voornamen\"], row[\"Achternaam\"]]).lower()\n",
    "            if not regex.search(\"[0-9]\",name):\n",
    "                if name in person_data:\n",
    "                    person_data[name].append((\"overledene\", row[\"Jaar\"], row[age_keys[\"overledene\"]], row[profession_keys[\"overledene\"]], row[\"Geb.datum\"]))\n",
    "                else:\n",
    "                    person_data[name] = [(\"overledene\", row[\"Jaar\"], row[age_keys[\"overledene\"]], row[profession_keys[\"overledene\"]], row[\"Geb.datum\"])]\n",
    "            \n",
    "        for key in [\"Vader\", \"Moeder\", \"Aangever\", \"Getuige\", \"Getuige9\", \"Echtgeno(o)t(e)\"]:\n",
    "            if isinstance(row[key], str) and not regex.search(\"[0-9]\", row[key]):\n",
    "                if key == \"Vader\" and name != \"\":\n",
    "                    data = (key.lower(), row[\"Jaar\"], row[age_keys[key]], row[profession_keys[key]], name)\n",
    "                else:\n",
    "                     data = (key.lower(), row[\"Jaar\"], row[age_keys[key]], row[profession_keys[key]])\n",
    "                if row[key].lower() in person_data:\n",
    "                    person_data[row[key].lower()].append(data)\n",
    "                else:\n",
    "                    person_data[row[key].lower()] = [data]\n",
    "    return person_data"
   ]
  },
  {
   "cell_type": "code",
   "execution_count": null,
   "id": "a7a14605-dfea-4b15-9533-2d293e09e817",
   "metadata": {
    "tags": []
   },
   "outputs": [],
   "source": [
    "def get_age_from_string(string, reported_errors={}):\n",
    "    \"\"\" extract age from string which could include extra data \"\"\"\n",
    "    if regex.search(\"^[0-9]+$\", string):\n",
    "        return string\n",
    "    elif regex.search(\"^([~±<> ;`'\\\"]*|ruim )[0-9]+ *(jaar|jaren|½| en | of | a ).*$\", string, regex.IGNORECASE):\n",
    "        return regex.sub(\"^([~±<> ;`'\\\"]*|ruim )([0-9]+)( *)(jaar|jaren|½| en | of | a ).*$\", \"\\\\2\", string, regex.IGNORECASE)\n",
    "    elif regex.search(\"^[~±<> ;`'\\\"]*[0-9]+ *(maanden|mnd|maand|weken|week|dagen|dgn|uren|uur).*$\", string, regex.IGNORECASE):\n",
    "        return \"0\"\n",
    "    elif regex.search(\"^[~±<> ;`'\\\"][0-9]+$\", string, regex.IGNORECASE):\n",
    "        return regex.sub(\"^[~±<> ;`'\\\"]\", \"\", string, regex.IGNORECASE)\n",
    "    elif regex.search(\"[0-9]+ *j$\", string, regex.IGNORECASE):\n",
    "        return regex.sub(\" *j$\", \"\", string, regex.IGNORECASE)\n",
    "    else:\n",
    "        if regex.search(\"[0-9]\", string, regex.IGNORECASE) and string not in reported_errors:\n",
    "            utils.print_with_color(f\"unknown age string format in {string}\\n\")\n",
    "            reported_errors[string] = True\n",
    "        return None"
   ]
  },
  {
   "cell_type": "code",
   "execution_count": null,
   "id": "547b9301-54a1-4cf9-9edd-891b49e4f7dd",
   "metadata": {
    "tags": []
   },
   "outputs": [],
   "source": [
    "def make_link(person_links, data1, data2):\n",
    "    \"\"\" create a link between two data items which refer to the same person \"\"\"\n",
    "    if str(data1) in person_links:\n",
    "        person_links[str(data2)] = person_links[str(data1)]\n",
    "        for data in person_links:\n",
    "            if person_links[data] == str(data2):\n",
    "                person_links[str(data)] = person_links[str(data1)]\n",
    "    elif str(data2) in person_links:\n",
    "        person_links[str(data1)] = person_links[str(data2)]\n",
    "        for data in person_links:\n",
    "            if person_links[data] == str(data1):\n",
    "                person_links[str(data)] = person_links[str(data2)]\n",
    "    else:\n",
    "        person_links[str(data1)] = str(data1)\n",
    "        person_links[str(data2)] = person_links[str(data1)]"
   ]
  },
  {
   "cell_type": "code",
   "execution_count": null,
   "id": "c2894293-21d3-44fc-9c46-d4d4bc7bb549",
   "metadata": {
    "tags": []
   },
   "outputs": [],
   "source": [
    "def make_person_links(linkable_persons):\n",
    "    \"\"\" check which items in a person data list can be merged based on birth year and name \"\"\"\n",
    "    nbr_of_person_links = 0\n",
    "    reported_errors = {}\n",
    "    linked_person_data = {}\n",
    "    for linkable_person in linkable_persons:\n",
    "        person_links = {}\n",
    "        for data1 in linkable_person[1]:\n",
    "            for data2 in linkable_person[1]:\n",
    "                if str(data1) < str(data2):\n",
    "                    try:\n",
    "                        year1 = int(data1[1])\n",
    "                        year2 = int(data2[1])\n",
    "                        age1 = int(get_age_from_string(data1[2], reported_errors))\n",
    "                        age2 = int(get_age_from_string(data2[2], reported_errors))\n",
    "                        birth_year1 = year1 - age1\n",
    "                        birth_year2 = year2 - age2\n",
    "                        if birth_year1 <= birth_year2+1 and birth_year2 <= birth_year1+1:\n",
    "                            make_link(person_links, data1, data2)\n",
    "                            nbr_of_person_links += 1\n",
    "                    except:\n",
    "                        pass\n",
    "        linked_person_data[linkable_person[0]] = person_links\n",
    "    print(f\"created {nbr_of_person_links} person links\")\n",
    "    return linked_person_data"
   ]
  },
  {
   "cell_type": "code",
   "execution_count": null,
   "id": "060f2644-fdd7-45c0-858b-a2862e2c9ee6",
   "metadata": {
    "tags": []
   },
   "outputs": [],
   "source": [
    "def remove_duplicates(linkable_persons):\n",
    "    return [ (data_in[0], list(set(data_in[1]))) for data_in in linkable_persons ]"
   ]
  },
  {
   "cell_type": "code",
   "execution_count": null,
   "id": "b233efcb-4751-4006-b462-0109c1a9b340",
   "metadata": {
    "tags": []
   },
   "outputs": [],
   "source": [
    "def summarize(name, data, missing_deaths=0, debug=False):\n",
    "    summary = {}\n",
    "    for key in data:\n",
    "        if data[key] not in summary:\n",
    "            summary[data[key]] = [key]\n",
    "        else:\n",
    "            summary[data[key]].append(key)\n",
    "    if len(summary) > 0:\n",
    "        if debug:\n",
    "            print(f\"\\nNAME: {name}\")\n",
    "        for key in summary:\n",
    "            if debug:\n",
    "                print(key)\n",
    "            missing_death = not regex.search(\"overledene\", key)\n",
    "            for value in summary[key]:\n",
    "                if value != key:\n",
    "                    if debug:\n",
    "                        print(f\"   {value}\")\n",
    "                if missing_death:\n",
    "                    missing_death = not regex.search(\"overledene\", value)\n",
    "        if missing_death:\n",
    "            missing_deaths += 1\n",
    "    return summary, missing_deaths"
   ]
  },
  {
   "cell_type": "code",
   "execution_count": null,
   "id": "595d89d6-5eb7-4edb-ac91-0d94979b9ac8",
   "metadata": {
    "tags": []
   },
   "outputs": [],
   "source": [
    "known_certificates = pd.read_csv(\"../../data/Overlijden/x-misc/Overlijden 1831-1950 JESSYv2-1831-1929.csv\", low_memory=False)\n",
    "print(f\"there are {len(known_certificates)} certificates\")"
   ]
  },
  {
   "cell_type": "code",
   "execution_count": null,
   "id": "45e8dd53-516e-4e00-b521-6515d374971e",
   "metadata": {
    "tags": []
   },
   "outputs": [],
   "source": [
    "person_data = get_person_data_from_certificates(known_certificates)\n",
    "print(f\"data for {len(person_data)} persons were found in the certificates\")"
   ]
  },
  {
   "cell_type": "code",
   "execution_count": null,
   "id": "b5f576b9-a760-4048-905e-dcd2a90bed64",
   "metadata": {
    "tags": []
   },
   "outputs": [],
   "source": [
    "linkable_persons = remove_duplicates(get_linkable_persons(person_data))\n",
    "print(f\"there are {len(linkable_persons)} linkable persons\")"
   ]
  },
  {
   "cell_type": "code",
   "execution_count": null,
   "id": "a1e7abf2-9211-4570-baf4-a1691e5ff3fd",
   "metadata": {
    "tags": []
   },
   "outputs": [],
   "source": [
    "linked_person_data = make_person_links(linkable_persons)\n",
    "len(linked_person_data)"
   ]
  },
  {
   "cell_type": "code",
   "execution_count": null,
   "id": "c37e356a-a6c7-4eb1-8bca-d0f03afe968e",
   "metadata": {
    "tags": []
   },
   "outputs": [],
   "source": [
    "missing_deaths = 0\n",
    "nbr_of_records = 0\n",
    "for name in linked_person_data:\n",
    "    summary, missing_deaths = summarize(name, linked_person_data[name], missing_deaths)\n",
    "    nbr_of_records += len(summary)\n",
    "print(f\"number of person data: {nbr_of_records}; number of missing deaths: {missing_deaths} ({int(100*missing_deaths/nbr_of_records)}%)\")"
   ]
  },
  {
   "cell_type": "markdown",
   "id": "666806d0-e00f-4e99-b58c-2eed92b6c551",
   "metadata": {},
   "source": [
    "## 2. Look for related entities including father-child relation"
   ]
  },
  {
   "cell_type": "code",
   "execution_count": null,
   "id": "5a25c509-1a12-4161-9246-15309473ded5",
   "metadata": {
    "tags": []
   },
   "outputs": [],
   "source": [
    "for name in linked_person_data:\n",
    "    for key in linked_person_data[name]:\n",
    "        try:\n",
    "            data = literal_eval(key)\n",
    "            if data[0] == \"vader\" and data[4] in linked_person_data:\n",
    "                summary, missing_deaths = summarize(name, linked_person_data[name], debug=True)\n",
    "                summary, missing_deaths = summarize(data[4], linked_person_data[data[4]], debug=True)\n",
    "        except:\n",
    "            pass"
   ]
  },
  {
   "cell_type": "markdown",
   "id": "2f77d341-7341-476e-b8ad-6c3365307793",
   "metadata": {},
   "source": [
    "## 3. Look for links including mother-child relation\n",
    "\n",
    "For linking by mother information we need the birth or death year of the mother but these are not in the data? Years 1900-1905 seem to have many column errors, please check"
   ]
  },
  {
   "cell_type": "code",
   "execution_count": null,
   "id": "28506fe6-6779-473c-b842-398df800a554",
   "metadata": {
    "tags": []
   },
   "outputs": [],
   "source": [
    "def loop_test():\n",
    "    for name in person_data:\n",
    "        for data in person_data[name]:\n",
    "            if data[0] == \"moeder\" and isinstance(data[2], str) and data[2].lower() not in \"ovl. ovl\".split():\n",
    "                print(name, data)\n",
    "loop_test()"
   ]
  },
  {
   "cell_type": "markdown",
   "id": "2e3fb972-97c1-485d-a0a5-1bb4e6790b66",
   "metadata": {},
   "source": [
    "## 99. Unexpected link"
   ]
  },
  {
   "cell_type": "code",
   "execution_count": null,
   "id": "53d3db35-dbb9-4d98-aac6-714fc393ba83",
   "metadata": {},
   "outputs": [],
   "source": [
    "for person in linkable_persons:\n",
    "    if person[0] == \"gerardus martinus eustatia\" or person[0] == \"gerardus martinus eustacia\":\n",
    "        print(person)"
   ]
  },
  {
   "cell_type": "code",
   "execution_count": null,
   "id": "fc663178-da93-4fbd-9406-6d30fe0571dc",
   "metadata": {},
   "outputs": [],
   "source": []
  }
 ],
 "metadata": {
  "kernelspec": {
   "display_name": "Python 3 (ipykernel)",
   "language": "python",
   "name": "python3"
  },
  "language_info": {
   "codemirror_mode": {
    "name": "ipython",
    "version": 3
   },
   "file_extension": ".py",
   "mimetype": "text/x-python",
   "name": "python",
   "nbconvert_exporter": "python",
   "pygments_lexer": "ipython3",
   "version": "3.9.13"
  }
 },
 "nbformat": 4,
 "nbformat_minor": 5
}
