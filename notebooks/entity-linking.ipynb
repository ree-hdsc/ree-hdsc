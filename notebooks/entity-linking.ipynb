{
 "cells": [
  {
   "cell_type": "markdown",
   "id": "915f1fe3-3ec2-45bc-8c01-d309f66cadf4",
   "metadata": {},
   "source": [
    "# Entity linking\n",
    "\n",
    "Code for entity linking experiments based on the file Overlijdensmerged.csv"
   ]
  },
  {
   "cell_type": "code",
   "execution_count": null,
   "id": "282b593c-4b9d-4bf2-8009-29e4ed9545b7",
   "metadata": {
    "tags": []
   },
   "outputs": [],
   "source": [
    "from ast import literal_eval\n",
    "from math import nan\n",
    "import os\n",
    "import pandas as pd\n",
    "import regex\n",
    "import sys"
   ]
  },
  {
   "cell_type": "markdown",
   "id": "32f033ef-65cf-4fab-b18c-dee7cf84b226",
   "metadata": {},
   "source": [
    "## 1. Link entities based on name and death year"
   ]
  },
  {
   "cell_type": "code",
   "execution_count": null,
   "id": "aaa2fadd-ca1e-4f7f-8f90-0b37952d9226",
   "metadata": {},
   "outputs": [],
   "source": [
    "BIRTH_DATE = \"Geb.datum\"\n",
    "DECEASED = \"Overledene\"\n",
    "FATHER = \"Vader\"\n",
    "FIRST_NAMES = \"Voornamen\"\n",
    "INFORMANT = \"Aangever\"\n",
    "MOTHER = \"Moeder\"\n",
    "SPOUSE = \"Echtgeno(o)t(e)\"\n",
    "SURNAME = \"Achternaam\"\n",
    "WITNESS = \"Getuige\"\n",
    "WITNESS9 = \"Getuige9\"\n",
    "YEAR = \"Jaar\""
   ]
  },
  {
   "cell_type": "code",
   "execution_count": null,
   "id": "1f8ebb81-47cc-490b-841d-1c8a6aeb61c6",
   "metadata": {
    "tags": []
   },
   "outputs": [],
   "source": [
    "age_keys = { DECEASED: \"Leeftijd\",\n",
    "             FATHER: \"Leeftijd/ovl\",\n",
    "             MOTHER: \"Leeftijd/ovl4\",\n",
    "             INFORMANT: \"Leeftijd6\",\n",
    "             WITNESS: \"Leeftijd8\",\n",
    "             WITNESS9: \"Leeftijd11\",\n",
    "             SPOUSE: \"Beroep12\" }\n",
    "\n",
    "profession_keys = { DECEASED: \"Beroep\",\n",
    "                    FATHER: \"Beroep2\",\n",
    "                    MOTHER: \"Beroep3\",\n",
    "                    INFORMANT: \"Beroep5\",\n",
    "                    WITNESS: \"Beroep7\",\n",
    "                    WITNESS9: \"Beroep10\",\n",
    "                    SPOUSE: \"Beroep12\" }"
   ]
  },
  {
   "cell_type": "code",
   "execution_count": null,
   "id": "53aed72d-5df1-41c7-8dd0-b80eb67b49f7",
   "metadata": {},
   "outputs": [],
   "source": [
    "def get_person_data_from_certificates(known_certificates, person_data={}):\n",
    "    \"\"\" extract person data from available certificates \"\"\"\n",
    "    for index, row in known_certificates.iterrows():\n",
    "        deceased_name = \"\"\n",
    "        if isinstance(row[SURNAME], str) and isinstance(row[FIRST_NAMES], str):\n",
    "            deceased_name = \" \".join([row[FIRST_NAMES], row[SURNAME]]).lower()\n",
    "            if regex.search(\"[0-9]\", deceased_name):\n",
    "                deceased_name = \"\"\n",
    "            else:\n",
    "                if deceased_name not in person_data:\n",
    "                    person_data[deceased_name] = []\n",
    "                person_data[deceased_name].append((DECEASED, row[YEAR], row[age_keys[DECEASED]], row[profession_keys[DECEASED]], row[BIRTH_DATE], \"\"))  \n",
    "        for key in [FATHER, MOTHER, INFORMANT, WITNESS, WITNESS9, SPOUSE]:\n",
    "            if isinstance(row[key], str) and not regex.search(\"[0-9]\", row[key]) and not row[key] == \"\":\n",
    "                other_name = row[key].lower()\n",
    "                if other_name not in person_data:\n",
    "                    person_data[other_name] = []\n",
    "                person_data[other_name].append((key, row[YEAR], row[age_keys[key]], row[profession_keys[key]], \"\", deceased_name))\n",
    "    return person_data"
   ]
  },
  {
   "cell_type": "code",
   "execution_count": null,
   "id": "c057f532-3d66-4288-97d3-d274fa75cdb2",
   "metadata": {
    "tags": []
   },
   "outputs": [],
   "source": [
    "def other_role(role_list):\n",
    "    \"\"\" test if a person data list contains a role unequal to deceased/overledene \"\"\"\n",
    "    return len([ True for role in role_list if role[0] != DECEASED ]) > 0"
   ]
  },
  {
   "cell_type": "code",
   "execution_count": null,
   "id": "301e1f17-8d5e-4196-8762-8eb54624cd89",
   "metadata": {},
   "outputs": [],
   "source": [
    "def compute_birth_years(role_list):\n",
    "    birth_years = []\n",
    "    for role in role_list:\n",
    "        if isinstance(role[4], str) and regex.search(\"[0-9][0-9][0-9][0-9]$\", role[4]):\n",
    "            birth_years.append([int(role[4][-4:])])\n",
    "        elif isinstance(role[1], str) and regex.search(\"^[0-9][0-9][0-9][0-9]$\", role[1]):\n",
    "            if isinstance(role[2], str) and regex.search(\"^[0-9][0-9]$\", role[2]):\n",
    "                birth_year = int(role[1]) - int(role[2])\n",
    "                birth_years.append([ birth_year, birth_year -1 ])\n",
    "            elif isinstance(role[2], str) and regex.search(\"^[0-9][0-9] j\", role[2]):\n",
    "                birth_year = int(role[1]) - int(role[2][:2])\n",
    "                birth_years.append([ birth_year, birth_year - 1])\n",
    "            elif isinstance(role[2], str) and regex.search(\"^[0-9][0-9] [md]\", role[2]):\n",
    "                birth_year = int(role[1])\n",
    "                birth_years.append([ birth_year, birth_year - 1])\n",
    "            else:\n",
    "                birth_years.append(float(\"nan\"))\n",
    "        else:\n",
    "            birth_years.append(float(\"nan\"))\n",
    "    return birth_years"
   ]
  },
  {
   "cell_type": "code",
   "execution_count": null,
   "id": "ed9778b1-d758-4316-a56c-67f2c7bb2faa",
   "metadata": {
    "tags": []
   },
   "outputs": [],
   "source": [
    "def ages_known(role_list):\n",
    "    \"\"\" test if a person data list contains at least two data items with a known age; at least one cannot be of the deceased person \"\"\" \n",
    "    return len([ True for year in compute_birth_years(role_list) if isinstance(year, list) ] ) > 1"
   ]
  },
  {
   "cell_type": "code",
   "execution_count": null,
   "id": "aff14d56-fcdb-4116-9a3c-a8dccef17879",
   "metadata": {
    "tags": []
   },
   "outputs": [],
   "source": [
    "def get_linkable_persons(person_data):\n",
    "    \"\"\" get linkable person data lists based on the functions other_role/1 and ages_known/1 \"\"\"\n",
    "    return [ (name, person_data[name]) for name in sorted(person_data.keys(), \n",
    "                                                          key=lambda name: len(person_data[name]), \n",
    "                                                          reverse=True) if not regex.search(\"levenloos\", name) and \n",
    "                                                                           other_role(person_data[name]) and\n",
    "                                                                           ages_known(person_data[name])]"
   ]
  },
  {
   "cell_type": "code",
   "execution_count": null,
   "id": "a7a14605-dfea-4b15-9533-2d293e09e817",
   "metadata": {
    "tags": []
   },
   "outputs": [],
   "source": [
    "def get_age_from_string(string, reported_errors={}):\n",
    "    \"\"\" extract age from string which could include extra data \"\"\"\n",
    "    if regex.search(\"^[0-9]+$\", string):\n",
    "        return string\n",
    "    elif regex.search(\"^([~±<> ;`'\\\"]*|ruim )[0-9]+ *(jaar|jaren|½| en | of | a ).*$\", string, regex.IGNORECASE):\n",
    "        return regex.sub(\"^([~±<> ;`'\\\"]*|ruim )([0-9]+)( *)(jaar|jaren|½| en | of | a ).*$\", \"\\\\2\", string, regex.IGNORECASE)\n",
    "    elif regex.search(\"^[~±<> ;`'\\\"]*[0-9]+ *(maanden|mnd|maand|weken|week|dagen|dgn|uren|uur).*$\", string, regex.IGNORECASE):\n",
    "        return \"0\"\n",
    "    elif regex.search(\"^[~±<> ;`'\\\"][0-9]+$\", string, regex.IGNORECASE):\n",
    "        return regex.sub(\"^[~±<> ;`'\\\"]\", \"\", string, regex.IGNORECASE)\n",
    "    elif regex.search(\"[0-9]+ *j$\", string, regex.IGNORECASE):\n",
    "        return regex.sub(\" *j$\", \"\", string, regex.IGNORECASE)\n",
    "    else:\n",
    "        if regex.search(\"[0-9]\", string, regex.IGNORECASE) and string not in reported_errors:\n",
    "            print(f\"unknown age string format in {string}\\n\")\n",
    "            reported_errors[string] = True\n",
    "        return None"
   ]
  },
  {
   "cell_type": "code",
   "execution_count": null,
   "id": "c0875345-855f-4603-a3f6-76033f771d3c",
   "metadata": {},
   "outputs": [],
   "source": [
    "def make_person_links(linkable_persons):\n",
    "    linked_person_data = {}\n",
    "    for name in linkable_persons:\n",
    "        birth_years = compute_birth_years(linkable_persons[name])\n",
    "        role_list = [ linkable_persons[name][index] for index in range(0, len(birth_years)) if isinstance(birth_years[index], list) ]\n",
    "        birth_years =  [ birth_years[index] for index in range(0, len(birth_years)) if isinstance(birth_years[index], list) ]\n",
    "        linked_person_data[name] = [ [ role ] for role in role_list ]\n",
    "        for role_index_1 in range(0, len(role_list)):\n",
    "            for role_index_2 in range(role_index_1 + 1, len(role_list)):\n",
    "                for year in birth_years[role_index_1]:\n",
    "                    if year in birth_years[role_index_2]:\n",
    "                        linked_person_data[name][role_index_1].append(role_list[role_index_2])\n",
    "                        linked_person_data[name][role_index_2].append(role_list[role_index_1])\n",
    "                        break\n",
    "    return linked_person_data"
   ]
  },
  {
   "cell_type": "code",
   "execution_count": null,
   "id": "060f2644-fdd7-45c0-858b-a2862e2c9ee6",
   "metadata": {
    "tags": []
   },
   "outputs": [],
   "source": [
    "def remove_duplicates(linkable_persons):\n",
    "    return [ (data_in[0], list(set(data_in[1]))) for data_in in linkable_persons ]"
   ]
  },
  {
   "cell_type": "code",
   "execution_count": null,
   "id": "b233efcb-4751-4006-b462-0109c1a9b340",
   "metadata": {
    "tags": []
   },
   "outputs": [],
   "source": [
    "def summarize(name, data, missing_deaths=0, debug=False):\n",
    "    summary = {}\n",
    "    for key in data:\n",
    "        if data[key] not in summary:\n",
    "            summary[data[key]] = [key]\n",
    "        else:\n",
    "            summary[data[key]].append(key)\n",
    "    if len(summary) > 0:\n",
    "        if debug:\n",
    "            print(f\"\\nNAME: {name}\")\n",
    "        for key in summary:\n",
    "            if debug:\n",
    "                print(key)\n",
    "            missing_death = not regex.search(\"overledene\", key)\n",
    "            for value in summary[key]:\n",
    "                if value != key:\n",
    "                    if debug:\n",
    "                        print(f\"   {value}\")\n",
    "                if missing_death:\n",
    "                    missing_death = not regex.search(\"overledene\", value)\n",
    "        if missing_death:\n",
    "            missing_deaths += 1\n",
    "    return summary, missing_deaths"
   ]
  },
  {
   "cell_type": "code",
   "execution_count": null,
   "id": "75087d00-ec6b-464f-8e5c-e28c41b51512",
   "metadata": {},
   "outputs": [],
   "source": [
    "def remove_duplicate_sets(linked_person_data):\n",
    "    for name in linked_person_data:\n",
    "        delete_list = []\n",
    "        for index_1 in range(0, len(linked_person_data[name])):\n",
    "            if index_1 not in delete_list:\n",
    "                for index_2 in range(index_1 + 1, len(linked_person_data[name])):\n",
    "                    if index_2 not in delete_list:\n",
    "                        if set(linked_person_data[name][index_1]) == set(linked_person_data[name][index_2]):\n",
    "                            delete_list.append(index_2)\n",
    "        for data_index in sorted(set(delete_list), reverse=True):\n",
    "            del linked_person_data[name][data_index]"
   ]
  },
  {
   "cell_type": "code",
   "execution_count": null,
   "id": "629e5451-3aed-48c9-8d6a-bcc460d72b95",
   "metadata": {},
   "outputs": [],
   "source": [
    "def get_column_names(df):\n",
    "    return [ column_name for column_name in df if not regex.search(\"^Unnamed:\", column_name) ]  "
   ]
  },
  {
   "cell_type": "code",
   "execution_count": null,
   "id": "595d89d6-5eb7-4edb-ac91-0d94979b9ac8",
   "metadata": {
    "tags": []
   },
   "outputs": [],
   "source": [
    "# initial tests were performed with data file Overlijden 1831-1950 JESSYv2-1831-1929.csv\n",
    "\n",
    "known_certificates = pd.read_csv(\"../../data/Overlijden/x-misc/Overlijdensmerged.csv\", low_memory=False)\n",
    "print(f\"there are {len(known_certificates)} certificates\")"
   ]
  },
  {
   "cell_type": "code",
   "execution_count": null,
   "id": "45e8dd53-516e-4e00-b521-6515d374971e",
   "metadata": {
    "tags": []
   },
   "outputs": [],
   "source": [
    "person_data = get_person_data_from_certificates(known_certificates)\n",
    "print(f\"data for {len(person_data)} persons were found in the certificates\")"
   ]
  },
  {
   "cell_type": "code",
   "execution_count": null,
   "id": "8ee6f33d-af12-4d61-9bfa-3683411fe7fa",
   "metadata": {},
   "outputs": [],
   "source": [
    "person_data['esther curiel']"
   ]
  },
  {
   "cell_type": "code",
   "execution_count": null,
   "id": "b5f576b9-a760-4048-905e-dcd2a90bed64",
   "metadata": {
    "tags": []
   },
   "outputs": [],
   "source": [
    "linkable_persons = remove_duplicates(get_linkable_persons(person_data))\n",
    "print(f\"there are {len(linkable_persons)} linkable persons\")"
   ]
  },
  {
   "cell_type": "code",
   "execution_count": null,
   "id": "a1e7abf2-9211-4570-baf4-a1691e5ff3fd",
   "metadata": {
    "tags": []
   },
   "outputs": [],
   "source": [
    "linked_person_data = make_person_links({ data[0]: data[1] for data in linkable_persons })\n",
    "len([data[0] for data in linked_person_data])"
   ]
  },
  {
   "cell_type": "code",
   "execution_count": null,
   "id": "0f19b91b-43e9-49f5-96d7-914950d21e75",
   "metadata": {},
   "outputs": [],
   "source": [
    "remove_duplicate_sets(linked_person_data)"
   ]
  },
  {
   "cell_type": "code",
   "execution_count": null,
   "id": "2791f205-9cb7-492c-bdc3-77a7dffeacf2",
   "metadata": {},
   "outputs": [],
   "source": [
    "len([data[0] for data in linked_person_data])"
   ]
  },
  {
   "cell_type": "code",
   "execution_count": null,
   "id": "83de6faf-2cf7-4a62-9c18-edda1faee0b6",
   "metadata": {},
   "outputs": [],
   "source": [
    "summary = []\n",
    "for name in linked_person_data:\n",
    "    if len(linked_person_data[name]) > 0:\n",
    "        for role_list in linked_person_data[name]:\n",
    "            for role in role_list:\n",
    "                if role[0] in [ INFORMANT, WITNESS, WITNESS9 ]:\n",
    "                    summary.append((name, role_list))\n",
    "                    break"
   ]
  },
  {
   "cell_type": "code",
   "execution_count": null,
   "id": "45db2281-1fa8-4eb3-af63-104aa64921d1",
   "metadata": {},
   "outputs": [],
   "source": [
    "len(set([data[0] for data in summary]))"
   ]
  },
  {
   "cell_type": "code",
   "execution_count": null,
   "id": "343a8d7a-b302-4d8b-af8b-c40add6468fd",
   "metadata": {},
   "outputs": [],
   "source": [
    "deceased_role_found_names = []\n",
    "for data in summary:\n",
    "    deceased_role_counter = 0\n",
    "    for role in data[1]:\n",
    "        if role[0] == FATHER:\n",
    "            deceased_role_counter += 1\n",
    "    if deceased_role_counter == 1:\n",
    "        deceased_role_found_names.append(data[0])\n",
    "print(len(set(deceased_role_found_names)))"
   ]
  },
  {
   "cell_type": "code",
   "execution_count": null,
   "id": "7e096bfe-7dcd-4be5-9050-f084e0f8999d",
   "metadata": {},
   "outputs": [],
   "source": [
    "summary[-2:-1]"
   ]
  },
  {
   "cell_type": "code",
   "execution_count": null,
   "id": "cd323dc1-e1a6-43a3-a894-27151847b317",
   "metadata": {},
   "outputs": [],
   "source": [
    "[ (data[0], data[1]) for data in summary if len(data[1]) == 3 and data[1][0][0] == DECEASED and data[1][1][0] == DECEASED and data[1][2][0] != DECEASED ]"
   ]
  },
  {
   "cell_type": "code",
   "execution_count": null,
   "id": "d0f356b2-1114-4963-b5d0-9ce2874939db",
   "metadata": {},
   "outputs": [],
   "source": []
  },
  {
   "cell_type": "code",
   "execution_count": null,
   "id": "714ce762-9f0c-440a-a158-63610382dbad",
   "metadata": {},
   "outputs": [],
   "source": []
  },
  {
   "cell_type": "markdown",
   "id": "666806d0-e00f-4e99-b58c-2eed92b6c551",
   "metadata": {},
   "source": [
    "## 2. Look for related entities including father-child relation"
   ]
  },
  {
   "cell_type": "code",
   "execution_count": null,
   "id": "5a25c509-1a12-4161-9246-15309473ded5",
   "metadata": {
    "tags": []
   },
   "outputs": [],
   "source": [
    "for name in linked_person_data:\n",
    "    for key in linked_person_data[name]:\n",
    "        try:\n",
    "            data = literal_eval(key)\n",
    "            if data[0] == \"vader\" and data[4] in linked_person_data:\n",
    "                summary, missing_deaths = summarize(name, linked_person_data[name], debug=True)\n",
    "                summary, missing_deaths = summarize(data[4], linked_person_data[data[4]], debug=True)\n",
    "        except:\n",
    "            pass"
   ]
  },
  {
   "cell_type": "markdown",
   "id": "2f77d341-7341-476e-b8ad-6c3365307793",
   "metadata": {},
   "source": [
    "## 3. Look for links including mother-child relation\n",
    "\n",
    "For linking by mother information we need the birth or death year of the mother but these are not in the data? Years 1900-1905 seem to have many column errors, please check"
   ]
  },
  {
   "cell_type": "code",
   "execution_count": null,
   "id": "28506fe6-6779-473c-b842-398df800a554",
   "metadata": {
    "tags": []
   },
   "outputs": [],
   "source": [
    "def loop_test():\n",
    "    for name in person_data:\n",
    "        for data in person_data[name]:\n",
    "            if data[0] == \"moeder\" and isinstance(data[2], str) and data[2].lower() not in \"ovl. ovl\".split():\n",
    "                print(name, data)\n",
    "loop_test()"
   ]
  },
  {
   "cell_type": "markdown",
   "id": "2e3fb972-97c1-485d-a0a5-1bb4e6790b66",
   "metadata": {},
   "source": [
    "## 99. Unexpected link"
   ]
  },
  {
   "cell_type": "code",
   "execution_count": null,
   "id": "53d3db35-dbb9-4d98-aac6-714fc393ba83",
   "metadata": {},
   "outputs": [],
   "source": [
    "for person in linkable_persons:\n",
    "    if person[0] == \"gerardus martinus eustatia\" or person[0] == \"gerardus martinus eustacia\":\n",
    "        print(person)"
   ]
  },
  {
   "cell_type": "code",
   "execution_count": null,
   "id": "fc663178-da93-4fbd-9406-6d30fe0571dc",
   "metadata": {},
   "outputs": [],
   "source": []
  }
 ],
 "metadata": {
  "kernelspec": {
   "display_name": "Python 3 (ipykernel)",
   "language": "python",
   "name": "python3"
  },
  "language_info": {
   "codemirror_mode": {
    "name": "ipython",
    "version": 3
   },
   "file_extension": ".py",
   "mimetype": "text/x-python",
   "name": "python",
   "nbconvert_exporter": "python",
   "pygments_lexer": "ipython3",
   "version": "3.9.13"
  }
 },
 "nbformat": 4,
 "nbformat_minor": 5
}
