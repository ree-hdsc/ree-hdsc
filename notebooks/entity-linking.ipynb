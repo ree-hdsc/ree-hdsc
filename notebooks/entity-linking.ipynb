{
 "cells": [
  {
   "cell_type": "markdown",
   "id": "915f1fe3-3ec2-45bc-8c01-d309f66cadf4",
   "metadata": {},
   "source": [
    "# Entity linking"
   ]
  },
  {
   "cell_type": "code",
   "execution_count": null,
   "id": "282b593c-4b9d-4bf2-8009-29e4ed9545b7",
   "metadata": {
    "tags": []
   },
   "outputs": [],
   "source": [
    "import os\n",
    "import pandas as pd\n",
    "import regex\n",
    "import sys\n",
    "sys.path.append(os.getcwd() + '/..')\n",
    "from scripts import utils"
   ]
  },
  {
   "cell_type": "code",
   "execution_count": null,
   "id": "1f8ebb81-47cc-490b-841d-1c8a6aeb61c6",
   "metadata": {
    "tags": []
   },
   "outputs": [],
   "source": [
    "age_keys = { \"overledene\": \"Leeftijd\",\n",
    "             \"Vader\": \"Leeftijd/ovl\",\n",
    "             \"Moeder\": \"Leeftijd/ovl4\",\n",
    "             \"Aangever\": \"Leeftijd6\",\n",
    "             \"Getuige\": \"Leeftijd8\",\n",
    "             \"Getuige9\": \"Leeftijd11\",\n",
    "             \"Echtgeno(o)t(e)\": \"Beroep12\" }\n",
    "profession_keys = { \"overledene\": \"Beroep\",\n",
    "                    \"Vader\": \"Beroep2\",\n",
    "                    \"Moeder\": \"Beroep3\",\n",
    "                    \"Aangever\": \"Beroep5\",\n",
    "                    \"Getuige\": \"Beroep7\",\n",
    "                    \"Getuige9\": \"Beroep10\",\n",
    "                    \"Echtgeno(o)t(e)\": \"Beroep12\" }"
   ]
  },
  {
   "cell_type": "code",
   "execution_count": null,
   "id": "c057f532-3d66-4288-97d3-d274fa75cdb2",
   "metadata": {
    "tags": []
   },
   "outputs": [],
   "source": [
    "def other_role(role_list):\n",
    "    \"\"\" test if a person data list contains a role unequaldo deceased/overledene \"\"\"\n",
    "    nbr_of_other_roles = 0\n",
    "    for role in role_list:\n",
    "        if role[0] != \"overledene\":\n",
    "            nbr_of_other_roles += 1\n",
    "    return nbr_of_other_roles > 0"
   ]
  },
  {
   "cell_type": "code",
   "execution_count": null,
   "id": "ed9778b1-d758-4316-a56c-67f2c7bb2faa",
   "metadata": {
    "tags": []
   },
   "outputs": [],
   "source": [
    "def ages_known(role_list):\n",
    "    \"\"\" test if a person data list contains at least two data items with a known age; at least one cannot be of the deceased person \"\"\"\n",
    "    nbr_of_known_ages = 0\n",
    "    deceased_seen = False\n",
    "    for role in role_list:\n",
    "        if (isinstance(role[2], str) and regex.search(\"[0-9]\", role[2])) or (len(role) > 4 and isinstance(role[4], str) and regex.search(\"[0-9]\", role[4])):\n",
    "            if not role[0] == \"overledene\":\n",
    "                nbr_of_known_ages += 1\n",
    "            elif not deceased_seen:\n",
    "                nbr_of_known_ages += 1\n",
    "                deceased_seen = True\n",
    "    return nbr_of_known_ages > 1"
   ]
  },
  {
   "cell_type": "code",
   "execution_count": null,
   "id": "aff14d56-fcdb-4116-9a3c-a8dccef17879",
   "metadata": {
    "tags": []
   },
   "outputs": [],
   "source": [
    "def get_linkable_persons(person_data):\n",
    "    \"\"\" get linkable person data lists based on the functions other_role/1 and ages_known/1 \"\"\"\n",
    "    return [(name, person_data[name]) for name in sorted(person_data.keys(), \n",
    "                                                         key=lambda name: len(person_data[name]), \n",
    "                                                         reverse=True) if not regex.search(\"levenloos\", name) and \n",
    "                                                                      other_role(person_data[name]) and\n",
    "                                                                      ages_known(person_data[name])]"
   ]
  },
  {
   "cell_type": "code",
   "execution_count": null,
   "id": "268e5bd8-3a4c-461b-9f9f-676065729c3e",
   "metadata": {
    "tags": []
   },
   "outputs": [],
   "source": [
    "def get_person_data_from_certificates(known_certificates):\n",
    "    \"\"\" extract person data from available certificates \"\"\"\n",
    "    person_data = {}\n",
    "    for index, row in known_certificates.iterrows():\n",
    "        if isinstance(row[\"Achternaam\"], str) and isinstance(row[\"Voornamen\"], str):\n",
    "            name = \" \".join([row[\"Voornamen\"], row[\"Achternaam\"]]).lower()\n",
    "            if not regex.search(\"[0-9]\",name):\n",
    "                if name in person_data:\n",
    "                    person_data[name].append((\"overledene\", row[\"Jaar\"], row[age_keys[\"overledene\"]], row[profession_keys[\"overledene\"]], row[\"Geb.datum\"]))\n",
    "                else:\n",
    "                    person_data[name] = [(\"overledene\", row[\"Jaar\"], row[age_keys[\"overledene\"]], row[profession_keys[\"overledene\"]], row[\"Geb.datum\"])]\n",
    "            \n",
    "        for key in [\"Vader\", \"Moeder\", \"Aangever\", \"Getuige\", \"Getuige9\", \"Echtgeno(o)t(e)\"]:\n",
    "            if isinstance(row[key], str) and not regex.search(\"[0-9]\", row[key]):\n",
    "                if row[key] in person_data:\n",
    "                    person_data[row[key].lower()].append((key.lower(), row[\"Jaar\"], row[age_keys[key]], row[profession_keys[key]]))\n",
    "                else:\n",
    "                    person_data[row[key].lower()] = [(key.lower(), row[\"Jaar\"], row[age_keys[key]], row[profession_keys[key]])]\n",
    "    return person_data"
   ]
  },
  {
   "cell_type": "code",
   "execution_count": null,
   "id": "c2894293-21d3-44fc-9c46-d4d4bc7bb549",
   "metadata": {
    "tags": []
   },
   "outputs": [],
   "source": [
    "def make_person_links(linkable_persons):\n",
    "    \"\"\" check which items in a person data list can be merged based on birth year and name \"\"\"\n",
    "    nbr_of_person_links = 0\n",
    "    person_links = {}\n",
    "    for linkable_person in linkable_persons:\n",
    "        for data1 in linkable_person[1]:\n",
    "            for data2 in linkable_person[1]:\n",
    "                if str(data1) < str(data2):\n",
    "                    try:\n",
    "                        year1 = int(data1[1])\n",
    "                        year2 = int(data2[1])\n",
    "                        age1 = int(regex.sub(\"[^0-9]\", \"\", data1[2]))\n",
    "                        age2 = int(regex.sub(\"[^0-9]\", \"\", data2[2]))\n",
    "                        birth_year1 = year1 - age1\n",
    "                        birth_year2 = year2 - age2\n",
    "                        if birth_year1 <= birth_year2+1 and birth_year2 <= birth_year1+1:\n",
    "                            if str(data1) not in person_links or str(data2) not in person_links(str(data1)):\n",
    "                                print(f\"linking {linkable_person[0]}: {data1} with {data2}\")\n",
    "                                nbr_of_person_links += 1\n",
    "                                if str(data1) in person_links:\n",
    "                                    person_links[str(data1)].append(str(data2))\n",
    "                                    utils.print_with_color(f\"extra link! ({len(person_links[str(data1)])})\\n\")\n",
    "                                else:\n",
    "                                    person_links[str(data1)]= [str(data2)]\n",
    "                                if str(data2) in person_links:\n",
    "                                    person_links[str(data2)].append(str(data1))\n",
    "                                    utils.print_with_color(f\"extra link! ({len(person_links[str(data2)])})\\n\")\n",
    "                                else:\n",
    "                                    person_links[str(data2)]= [str(data1)]\n",
    "                    except:\n",
    "                        pass\n",
    "    print(f\"created {nbr_of_person_links} person links\")"
   ]
  },
  {
   "cell_type": "code",
   "execution_count": null,
   "id": "595d89d6-5eb7-4edb-ac91-0d94979b9ac8",
   "metadata": {
    "tags": []
   },
   "outputs": [],
   "source": [
    "known_certificates = pd.read_csv(\"../../data/Overlijden/x-misc/Overlijden 1831-1950 JESSYv2-1831-1929.csv\", low_memory=False)\n",
    "print(f\"there are {len(known_certificates)} certificates\")"
   ]
  },
  {
   "cell_type": "code",
   "execution_count": null,
   "id": "45e8dd53-516e-4e00-b521-6515d374971e",
   "metadata": {
    "tags": []
   },
   "outputs": [],
   "source": [
    "person_data = get_person_data_from_certificates(known_certificates)\n",
    "print(f\"data for {len(person_data)} persons were found in the certificates\")"
   ]
  },
  {
   "cell_type": "code",
   "execution_count": null,
   "id": "b5f576b9-a760-4048-905e-dcd2a90bed64",
   "metadata": {
    "tags": []
   },
   "outputs": [],
   "source": [
    "linkable_persons = get_linkable_persons(person_data)\n",
    "print(f\"there are {len(linkable_persons)} linkable persons\")"
   ]
  },
  {
   "cell_type": "code",
   "execution_count": null,
   "id": "a1e7abf2-9211-4570-baf4-a1691e5ff3fd",
   "metadata": {
    "tags": []
   },
   "outputs": [],
   "source": [
    "make_person_links(linkable_persons)"
   ]
  },
  {
   "cell_type": "code",
   "execution_count": null,
   "id": "53d3db35-dbb9-4d98-aac6-714fc393ba83",
   "metadata": {},
   "outputs": [],
   "source": [
    "for person in linkable_persons:\n",
    "    if person[0] == \"gerardus martinus eustatia\" or person[0] == \"gerardus martinus eustacia\":\n",
    "        print(person)"
   ]
  },
  {
   "cell_type": "code",
   "execution_count": null,
   "id": "2ca6f6d0-2c5a-43b9-adaf-696a31ff19a8",
   "metadata": {},
   "outputs": [],
   "source": []
  }
 ],
 "metadata": {
  "kernelspec": {
   "display_name": "Python 3 (ipykernel)",
   "language": "python",
   "name": "python3"
  },
  "language_info": {
   "codemirror_mode": {
    "name": "ipython",
    "version": 3
   },
   "file_extension": ".py",
   "mimetype": "text/x-python",
   "name": "python",
   "nbconvert_exporter": "python",
   "pygments_lexer": "ipython3",
   "version": "3.9.13"
  }
 },
 "nbformat": 4,
 "nbformat_minor": 5
}
