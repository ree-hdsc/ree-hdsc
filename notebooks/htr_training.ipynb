{
 "cells": [
  {
   "cell_type": "markdown",
   "id": "5b488d16-7562-4dbf-be6a-a8c10ded2365",
   "metadata": {},
   "source": [
    "# HTR Training\n",
    "\n",
    "Combine different sets of documents, train HTR on Transkribus and evaluate the results."
   ]
  },
  {
   "cell_type": "code",
   "execution_count": null,
   "id": "2299d22e-ab21-4322-9013-3a4d2e51c52a",
   "metadata": {},
   "outputs": [],
   "source": [
    "import os\n",
    "import pandas as pd\n",
    "import regex\n",
    "import xml.etree.ElementTree as ET\n",
    "from PIL import Image, ImageDraw\n",
    "import matplotlib.pyplot as plt\n",
    "from IPython.display import clear_output"
   ]
  },
  {
   "cell_type": "code",
   "execution_count": null,
   "id": "b01c2a5c-8236-4ace-86ec-9b39b89e58ea",
   "metadata": {},
   "outputs": [],
   "source": [
    "DATA_DIRS = [ \"tmp/1221135/Trainingssample_\", \n",
    "              \"tmp/1339924/Training_extra\",\n",
    "              \"tmp/1342783/Validation_set\",\n",
    "              \"tmp/1339925/Test_set\",\n",
    "              \"tmp/1339926/Validation_extra\",\n",
    "              \"tmp/1480298/Sample_known_V2(verbeterd)\",\n",
    "              \"tmp/1372935/Sample_regex\",\n",
    "              \"tmp/1616639/Sample_test_1\",\n",
    "              \"tmp/1616742/Sample_three-column\"\n",
    "            ]\n",
    "YEAR_FILES = [ os.path.basename(file_name) + \"_years.csv\" for file_name in DATA_DIRS ]\n",
    "USAGE_FILES = [ os.path.basename(file_name) + \"_usage.csv\" for file_name in DATA_DIRS ]"
   ]
  },
  {
   "cell_type": "code",
   "execution_count": null,
   "id": "3f639e80-1043-4ffd-8c37-68ef0aaadd24",
   "metadata": {},
   "outputs": [],
   "source": [
    "def collect_years_of_files(data_dirs=DATA_DIRS, year_files=YEAR_FILES):\n",
    "    for data_dir_id in range(0, len(data_dirs)):\n",
    "        last_year = \"\"\n",
    "        file_counter = 0\n",
    "        data_dir = data_dirs[data_dir_id]\n",
    "        year_file = year_files[data_dir_id]\n",
    "        file_names = sorted(os.listdir(os.path.join(data_dir, \"page\")))\n",
    "        try:\n",
    "            years = list(pd.read_csv(year_file, index_col=0)[\"0\"])\n",
    "        except:\n",
    "            years = []\n",
    "        years_changed = False\n",
    "        for file_name in file_names:\n",
    "            file_counter += 1\n",
    "            if file_counter > len(years):\n",
    "                try:\n",
    "                    display(Image.open(os.path.join(data_dir, regex.sub(\".xml\", \".jpg\", file_name))))\n",
    "                except:\n",
    "                    display(Image.open(os.path.join(data_dir, regex.sub(\".xml\", \".JPG\", file_name))))\n",
    "                print(f\"data_dir: {data_dir}; file name: {file_name}; last year: {last_year};\", end=\" \")\n",
    "                print(f\"file: {file_counter}/{len(file_names)}\")\n",
    "                year = input().strip()\n",
    "                if year == \"\":\n",
    "                    year = last_year\n",
    "                years.append(year)\n",
    "                years_changed = True\n",
    "                last_year = year\n",
    "                clear_output(wait=True)\n",
    "        if years_changed:\n",
    "            print(f\"saving file {year_file}...\") \n",
    "            pd.DataFrame(years).to_csv(year_file)"
   ]
  },
  {
   "cell_type": "code",
   "execution_count": null,
   "id": "ae2bcbcc-aafe-46bb-82f2-1453bfa862ca",
   "metadata": {},
   "outputs": [],
   "source": [
    "def check_file_usability(data_dirs=DATA_DIRS, usage_files=USAGE_FILES):\n",
    "    for data_dir_id in range(0, len(data_dirs)):\n",
    "        file_counter = 0\n",
    "        data_dir = data_dirs[data_dir_id]\n",
    "        usage_file = usage_files[data_dir_id]\n",
    "        file_names = sorted(os.listdir(os.path.join(data_dir, \"page\")))\n",
    "        try:\n",
    "            usage = list(pd.read_csv(usage_file, index_col=0)[\"0\"])\n",
    "        except:\n",
    "            usage = []\n",
    "        for file_name in file_names:\n",
    "            file_counter += 1\n",
    "            if file_counter > len(usage):\n",
    "                try:\n",
    "                    display(Image.open(os.path.join(data_dir, regex.sub(\".xml\", \".jpg\", file_name))))\n",
    "                except:\n",
    "                    display(Image.open(os.path.join(data_dir, regex.sub(\".xml\", \".JPG\", file_name))))\n",
    "                print(f\"data_dir: {data_dir}; file name: {file_name};\", end=\" \")\n",
    "                print(f\"file: {file_counter}/{len(file_names)}\")\n",
    "                usage_value = input().strip()\n",
    "                if usage_value == \"\":\n",
    "                    usage_value = \"yes\"\n",
    "                else:\n",
    "                    usage_value = \"no\"\n",
    "                usage.append(usage_value)\n",
    "                pd.DataFrame(usage).to_csv(usage_file)\n",
    "                clear_output(wait=True)"
   ]
  },
  {
   "cell_type": "code",
   "execution_count": null,
   "id": "e59d0e35-755b-4334-a4de-f1fb162b0345",
   "metadata": {},
   "outputs": [],
   "source": [
    "def year2decade(year):\n",
    "    return int(regex.sub(\".$\", \"\", str(year)))"
   ]
  },
  {
   "cell_type": "code",
   "execution_count": null,
   "id": "7557393c-579c-4028-a6c5-eeaabdf9af0c",
   "metadata": {},
   "outputs": [],
   "source": [
    "def get_decades(year_files=YEAR_FILES):\n",
    "    decades = []\n",
    "    for file_name in year_files:\n",
    "        years = pd.read_csv(file_name, index_col=0)\n",
    "        for year in years[\"0\"]:\n",
    "            decade = year2decade(year)\n",
    "            decades.append(decade)\n",
    "    return decades"
   ]
  },
  {
   "cell_type": "code",
   "execution_count": null,
   "id": "543a2c92-8fec-4f70-ae17-d9911b28fc93",
   "metadata": {},
   "outputs": [],
   "source": [
    "def get_file_usage(usage_files=USAGE_FILES):\n",
    "    NBR_OF_SKIPPED_FILES = 50 # while annotation is not finished\n",
    "    usage = []\n",
    "    for file_name in usage_files:\n",
    "        usage.extend(list(pd.read_csv(file_name, index_col=0)[\"0\"]))\n",
    "    return usage"
   ]
  },
  {
   "cell_type": "code",
   "execution_count": null,
   "id": "633a625e-f4fa-428f-9751-200a0c3d95e6",
   "metadata": {},
   "outputs": [],
   "source": [
    "def plot_file_counts(file_counts):\n",
    "    x = [ x[0] for x in list(file_counts.index) ]\n",
    "    y = list(file_counts.values)\n",
    "    plt.xticks(ticks=x, labels=[ str(x_value) + \"0\" for x_value in x ])\n",
    "    plt.title(f\"Number of scans per decade (total={sum(file_counts.values)})\")\n",
    "    plt.bar(x, y)"
   ]
  },
  {
   "cell_type": "code",
   "execution_count": null,
   "id": "aa9582a6-75b5-4ccd-8fab-dd0dee48d0fa",
   "metadata": {},
   "outputs": [],
   "source": [
    "collect_years_of_files()"
   ]
  },
  {
   "cell_type": "code",
   "execution_count": null,
   "id": "47583933-1ecc-45ea-a5ec-6b1630495c55",
   "metadata": {},
   "outputs": [],
   "source": [
    "check_file_usability()"
   ]
  },
  {
   "cell_type": "code",
   "execution_count": null,
   "id": "ea1e1cdd-9e3f-47c6-a088-79c7167b72b5",
   "metadata": {},
   "outputs": [],
   "source": [
    "NBR_OF_SKIPPED_FILES = 50 # while annotation is not finished\n",
    "\n",
    "decades = get_decades()[:-NBR_OF_SKIPPED_FILES]\n",
    "usage = get_file_usage()[:-NBR_OF_SKIPPED_FILES]\n",
    "decades = [ decades[i] for i in range(0, len(usage)) if usage[i] == \"yes\" ]"
   ]
  },
  {
   "cell_type": "code",
   "execution_count": null,
   "id": "6d9ef1ce-a524-449b-bc8c-9126e9b57e8c",
   "metadata": {},
   "outputs": [],
   "source": [
    "plot_file_counts(pd.DataFrame(decades).value_counts())"
   ]
  },
  {
   "cell_type": "code",
   "execution_count": null,
   "id": "6c99e5c1-8b78-456a-a05b-eb88355ee5fe",
   "metadata": {},
   "outputs": [],
   "source": []
  }
 ],
 "metadata": {
  "kernelspec": {
   "display_name": "Python 3 (ipykernel)",
   "language": "python",
   "name": "python3"
  },
  "language_info": {
   "codemirror_mode": {
    "name": "ipython",
    "version": 3
   },
   "file_extension": ".py",
   "mimetype": "text/x-python",
   "name": "python",
   "nbconvert_exporter": "python",
   "pygments_lexer": "ipython3",
   "version": "3.9.13"
  }
 },
 "nbformat": 4,
 "nbformat_minor": 5
}
