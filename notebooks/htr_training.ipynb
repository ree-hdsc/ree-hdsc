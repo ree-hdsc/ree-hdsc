{
 "cells": [
  {
   "cell_type": "markdown",
   "id": "5b488d16-7562-4dbf-be6a-a8c10ded2365",
   "metadata": {},
   "source": [
    "# HTR Training\n",
    "\n",
    "Combine different sets of documents, train HTR on Transkribus and evaluate the results."
   ]
  },
  {
   "cell_type": "code",
   "execution_count": null,
   "id": "2299d22e-ab21-4322-9013-3a4d2e51c52a",
   "metadata": {},
   "outputs": [],
   "source": [
    "import os\n",
    "import pandas as pd\n",
    "import regex\n",
    "import xml.etree.ElementTree as ET\n",
    "from PIL import Image, ImageDraw\n",
    "import matplotlib.pyplot as plt\n",
    "from IPython.display import clear_output"
   ]
  },
  {
   "cell_type": "code",
   "execution_count": null,
   "id": "b01c2a5c-8236-4ace-86ec-9b39b89e58ea",
   "metadata": {},
   "outputs": [],
   "source": [
    "DATA_DIRS = [ \"tmp/1221135/Trainingssample_\", \n",
    "              \"tmp/1339924/Training_extra\",\n",
    "              \"tmp/1342783/Validation_set\",\n",
    "              \"tmp/1339925/Test_set\",\n",
    "              \"tmp/1339926/Validation_extra\",\n",
    "              \"tmp/1480298/Sample_known_V2(verbeterd)\",\n",
    "              \"tmp/1372935/Sample_regex\",\n",
    "              \"tmp/1616639/Sample_test_1\",\n",
    "              \"tmp/1616742/Sample_three-column\"\n",
    "            ]\n",
    "YEAR_FILES = [ os.path.basename(file_name) + \"_years.csv\" for file_name in DATA_DIRS ]"
   ]
  },
  {
   "cell_type": "code",
   "execution_count": null,
   "id": "ac4b94ca-97ee-4e08-8e5a-d92e52b53308",
   "metadata": {},
   "outputs": [],
   "source": [
    "START = 8\n",
    "\n",
    "years = []"
   ]
  },
  {
   "cell_type": "code",
   "execution_count": null,
   "id": "3f639e80-1043-4ffd-8c37-68ef0aaadd24",
   "metadata": {},
   "outputs": [],
   "source": [
    "for data_dir in DATA_DIRS[START:START+1]:\n",
    "    file_counter = 0\n",
    "    last_year = \"\"\n",
    "    file_names = sorted(os.listdir(os.path.join(data_dir, \"page\")))\n",
    "    for file_name in file_names:\n",
    "        file_counter += 1\n",
    "        if file_counter >= len(years):\n",
    "            display(Image.open(os.path.join(data_dir, regex.sub(\".xml\", \".JPG\", file_name))))\n",
    "            print(f\"file name: {file_name}; last year: {last_year}; file: {file_counter}/{len(file_names)}\")\n",
    "            year = input().strip()\n",
    "            if year == \"\":\n",
    "                year = last_year\n",
    "            years.append(year)\n",
    "            last_year = year\n",
    "            clear_output(wait=True)"
   ]
  },
  {
   "cell_type": "code",
   "execution_count": null,
   "id": "df551074-3269-4f05-9304-b7e615d89e99",
   "metadata": {},
   "outputs": [],
   "source": [
    "len(years)"
   ]
  },
  {
   "cell_type": "code",
   "execution_count": null,
   "id": "def4a665-175e-463a-aa0c-0abf33153aa0",
   "metadata": {},
   "outputs": [],
   "source": [
    "pd.DataFrame(years).to_csv(YEAR_FILES[START])"
   ]
  },
  {
   "cell_type": "code",
   "execution_count": null,
   "id": "58fdb29f-d56b-47e2-b3bd-1ebdfe0743fb",
   "metadata": {},
   "outputs": [],
   "source": [
    "years = pd.read_csv(YEAR_FILES[START], index_col=0)"
   ]
  },
  {
   "cell_type": "code",
   "execution_count": null,
   "id": "823a4035-0163-4a8a-9ab4-3f72912e526f",
   "metadata": {},
   "outputs": [],
   "source": [
    "years[\"1\"] = [ int(regex.sub(\".$\", \"\", str(x))) for x in  list(years[\"0\"]) ]"
   ]
  },
  {
   "cell_type": "code",
   "execution_count": null,
   "id": "c75782ed-12f8-4ea6-886d-9818296e9d0f",
   "metadata": {},
   "outputs": [],
   "source": [
    "years[\"1\"].value_counts()"
   ]
  },
  {
   "cell_type": "code",
   "execution_count": null,
   "id": "e59d0e35-755b-4334-a4de-f1fb162b0345",
   "metadata": {},
   "outputs": [],
   "source": [
    "def year2decade(year):\n",
    "    return int(regex.sub(\".$\", \"\", str(year)))"
   ]
  },
  {
   "cell_type": "code",
   "execution_count": null,
   "id": "7557393c-579c-4028-a6c5-eeaabdf9af0c",
   "metadata": {},
   "outputs": [],
   "source": [
    "decades = []\n",
    "for file_name in YEAR_FILES:\n",
    "    years = pd.read_csv(file_name, index_col=0)\n",
    "    for year in years[\"0\"]:\n",
    "        decade = year2decade(year)\n",
    "        decades.append(decade)\n",
    "counts = pd.DataFrame(decades).value_counts()"
   ]
  },
  {
   "cell_type": "code",
   "execution_count": null,
   "id": "633a625e-f4fa-428f-9751-200a0c3d95e6",
   "metadata": {},
   "outputs": [],
   "source": [
    "x = [ x[0] for x in list(counts.index) ]\n",
    "y = list(counts.values)\n",
    "plt.bar(x, y)"
   ]
  },
  {
   "cell_type": "code",
   "execution_count": null,
   "id": "6d9ef1ce-a524-449b-bc8c-9126e9b57e8c",
   "metadata": {},
   "outputs": [],
   "source": [
    "list(counts.values)"
   ]
  },
  {
   "cell_type": "code",
   "execution_count": null,
   "id": "830ecc92-7587-4b6b-8a19-366c863b8dd7",
   "metadata": {},
   "outputs": [],
   "source": []
  }
 ],
 "metadata": {
  "kernelspec": {
   "display_name": "Python 3 (ipykernel)",
   "language": "python",
   "name": "python3"
  },
  "language_info": {
   "codemirror_mode": {
    "name": "ipython",
    "version": 3
   },
   "file_extension": ".py",
   "mimetype": "text/x-python",
   "name": "python",
   "nbconvert_exporter": "python",
   "pygments_lexer": "ipython3",
   "version": "3.9.13"
  }
 },
 "nbformat": 4,
 "nbformat_minor": 5
}
