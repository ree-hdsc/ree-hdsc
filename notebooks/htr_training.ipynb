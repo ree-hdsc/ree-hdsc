{
 "cells": [
  {
   "cell_type": "markdown",
   "id": "5b488d16-7562-4dbf-be6a-a8c10ded2365",
   "metadata": {},
   "source": [
    "# HTR Training\n",
    "\n",
    "Combine different sets of documents, train HTR on Transkribus and evaluate the results."
   ]
  },
  {
   "cell_type": "code",
   "execution_count": null,
   "id": "2299d22e-ab21-4322-9013-3a4d2e51c52a",
   "metadata": {},
   "outputs": [],
   "source": [
    "import os\n",
    "import pandas as pd\n",
    "import regex\n",
    "import xml.etree.ElementTree as ET\n",
    "from PIL import Image, ImageDraw\n",
    "from IPython.display import clear_output"
   ]
  },
  {
   "cell_type": "code",
   "execution_count": null,
   "id": "b01c2a5c-8236-4ace-86ec-9b39b89e58ea",
   "metadata": {},
   "outputs": [],
   "source": [
    "DATA_DIRS = [ \"tmp/1221135/Trainingssample_\" ]"
   ]
  },
  {
   "cell_type": "code",
   "execution_count": null,
   "id": "5176482a-afa6-4ef7-b21b-324a8130ec77",
   "metadata": {},
   "outputs": [],
   "source": [
    "import fileinput"
   ]
  },
  {
   "cell_type": "code",
   "execution_count": null,
   "id": "520fb244-bee2-4730-a84c-026bf4886dc8",
   "metadata": {},
   "outputs": [],
   "source": [
    "fileinput.input()"
   ]
  },
  {
   "cell_type": "code",
   "execution_count": null,
   "id": "ac4b94ca-97ee-4e08-8e5a-d92e52b53308",
   "metadata": {},
   "outputs": [],
   "source": [
    "years = []"
   ]
  },
  {
   "cell_type": "code",
   "execution_count": null,
   "id": "3f639e80-1043-4ffd-8c37-68ef0aaadd24",
   "metadata": {},
   "outputs": [],
   "source": [
    "for data_dir in DATA_DIRS:\n",
    "    file_counter = 0\n",
    "    last_year = \"\"\n",
    "    for file_name in sorted(os.listdir(os.path.join(data_dir, \"page\"))):\n",
    "        if file_counter >= len(years):\n",
    "            display(Image.open(os.path.join(data_dir, regex.sub(\".xml\", \".jpg\", file_name))))\n",
    "            print(f\"file name: {file_name}; last year: {last_year}\")\n",
    "            year = input().strip()\n",
    "            if year == \"\":\n",
    "                year = last_year\n",
    "            years.append(year)\n",
    "            last_year = year\n",
    "            clear_output(wait=True)\n",
    "        file_counter += 1"
   ]
  },
  {
   "cell_type": "code",
   "execution_count": null,
   "id": "df551074-3269-4f05-9304-b7e615d89e99",
   "metadata": {},
   "outputs": [],
   "source": [
    "len(years)"
   ]
  },
  {
   "cell_type": "code",
   "execution_count": null,
   "id": "def4a665-175e-463a-aa0c-0abf33153aa0",
   "metadata": {},
   "outputs": [],
   "source": [
    "pd.DataFrame(years).to_csv(\"Trainingsample_years.csv\")"
   ]
  },
  {
   "cell_type": "code",
   "execution_count": null,
   "id": "58fdb29f-d56b-47e2-b3bd-1ebdfe0743fb",
   "metadata": {},
   "outputs": [],
   "source": []
  }
 ],
 "metadata": {
  "kernelspec": {
   "display_name": "Python 3 (ipykernel)",
   "language": "python",
   "name": "python3"
  },
  "language_info": {
   "codemirror_mode": {
    "name": "ipython",
    "version": 3
   },
   "file_extension": ".py",
   "mimetype": "text/x-python",
   "name": "python",
   "nbconvert_exporter": "python",
   "pygments_lexer": "ipython3",
   "version": "3.9.13"
  }
 },
 "nbformat": 4,
 "nbformat_minor": 5
}
