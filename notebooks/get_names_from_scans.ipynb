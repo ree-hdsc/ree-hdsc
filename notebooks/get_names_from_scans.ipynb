{
 "cells": [
  {
   "cell_type": "markdown",
   "id": "25d6401a-0168-495f-8457-d9a0d427cb81",
   "metadata": {},
   "source": [
    "# Get names from scans\n",
    "\n",
    "Extract the parts of the scans of the Curacao Death Registers which contain the name of the deceased. This information is based on data annotation by humans."
   ]
  },
  {
   "cell_type": "code",
   "execution_count": null,
   "id": "d43299ca-5ca4-466e-947c-f5c020a4cedb",
   "metadata": {},
   "outputs": [],
   "source": [
    "import numpy\n",
    "import os\n",
    "import pandas as pd\n",
    "import random\n",
    "import regex\n",
    "import sys\n",
    "from PIL import Image, ImageDraw\n",
    "import xml.etree.ElementTree as ET\n",
    "from IPython.display import clear_output"
   ]
  },
  {
   "cell_type": "code",
   "execution_count": null,
   "id": "c3235509-577b-430e-b15f-9a0bdfc9ac56",
   "metadata": {},
   "outputs": [],
   "source": [
    "def squeal(text=None):\n",
    "    clear_output(wait=True)\n",
    "    if not text is None:\n",
    "        print(text)"
   ]
  },
  {
   "cell_type": "markdown",
   "id": "e84814ee-c1ed-4e21-871f-4497ad18e2c6",
   "metadata": {},
   "source": [
    "## 1. Read logfile data"
   ]
  },
  {
   "cell_type": "code",
   "execution_count": null,
   "id": "3892fbb7-4f58-4359-a77a-f52f404236e7",
   "metadata": {},
   "outputs": [],
   "source": [
    "def read_logfile_data():\n",
    "    \"\"\" read manually checked locations of deceased names in scans \"\"\"\n",
    "    return pd.read_csv(\"../website/private/hdsc/etc/logfile\", header=None)"
   ]
  },
  {
   "cell_type": "code",
   "execution_count": null,
   "id": "bdad376a-bd62-42ff-9ac6-f31d88af01d9",
   "metadata": {},
   "outputs": [],
   "source": [
    "def convert_logfile_data_to_scan_data(logfile_data):\n",
    "    \"\"\" remove duplicates from logfile data; keep only final annotation \"\"\"\n",
    "    scan_data = {}\n",
    "    for index, row in logfile_data.iterrows():\n",
    "        coordinates_file_name, status, text_line_id, coords_id, deceased_name, ip_address, date = row\n",
    "        scan_data[coordinates_file_name] = [index, status, text_line_id, coords_id, ip_address]\n",
    "    return scan_data"
   ]
  },
  {
   "cell_type": "code",
   "execution_count": null,
   "id": "ddd55788-e782-48fb-9f78-ce340b9c5b7d",
   "metadata": {},
   "outputs": [],
   "source": [
    "logfile_data = read_logfile_data()\n",
    "logfile_data"
   ]
  },
  {
   "cell_type": "code",
   "execution_count": null,
   "id": "758daa9a-9636-4819-88bd-9fad229fea4c",
   "metadata": {},
   "outputs": [],
   "source": [
    "scan_data = convert_logfile_data_to_scan_data(logfile_data)"
   ]
  },
  {
   "cell_type": "markdown",
   "id": "abb3a5c0-5d26-4708-8b67-0769a336eba6",
   "metadata": {},
   "source": [
    "## 2. Find best coordinates for guess of deceased name position"
   ]
  },
  {
   "cell_type": "code",
   "execution_count": null,
   "id": "745937a6-9aae-4548-b880-5e2dc596c280",
   "metadata": {},
   "outputs": [],
   "source": [
    "def get_coordinates_from_line(line):\n",
    "    \"\"\" extract polygon coordinates from points attribute of Coords tag in Transkribus xml, format: '123,456 789,012 ...'\"\"\"\n",
    "    split_line = [ pair.split(\",\") for pair in line.split() ]\n",
    "    return [ ( int(x), int(y) ) for x, y in split_line ]"
   ]
  },
  {
   "cell_type": "code",
   "execution_count": null,
   "id": "246d883e-828d-4e07-b855-3105f47ef460",
   "metadata": {},
   "outputs": [],
   "source": [
    "def find_top_left(polygon):\n",
    "    \"\"\" find top left position of polygon (alternative: use polygon2rectangle) \"\"\"\n",
    "    top_coordinate = sys.maxsize\n",
    "    left_coordinate = sys.maxsize\n",
    "    for pair in polygon[0]:\n",
    "        if pair[1] < top_coordinate:\n",
    "            top_coordinate = pair[1]\n",
    "        if pair[0] < left_coordinate:\n",
    "            left_coordinate = pair[0]\n",
    "    return top_coordinate, left_coordinate"
   ]
  },
  {
   "cell_type": "code",
   "execution_count": null,
   "id": "44bc0afe-75ff-45ef-ba2f-fc7ab4b0f6ee",
   "metadata": {},
   "outputs": [],
   "source": [
    "def sort_polygons(polygons):\n",
    "    \"\"\" sort polygons based on top left point: first by vertical position, then by horizontal position \"\"\"\n",
    "    extended_polygons = []\n",
    "    for polygon in polygons:\n",
    "        top_coordinate, left_coordinate = find_top_left(polygon)\n",
    "        extended_polygons.append([top_coordinate, left_coordinate, polygon])\n",
    "    return [ extended_polygon[2] \n",
    "             for extended_polygon in sorted(extended_polygons, \n",
    "                                            key=lambda ep: (ep[0], ep[1])) ]"
   ]
  },
  {
   "cell_type": "code",
   "execution_count": null,
   "id": "daa15d6b-9143-4bd6-88ee-e2e89735ba4a",
   "metadata": {},
   "outputs": [],
   "source": [
    "INDEX_START_SORTING = 574\n",
    "INDEX_REMOVE_MARIGINALIA = 2307\n",
    "\n",
    "def get_text_polygons(coordinates_file_name, index):\n",
    "    \"\"\" read polygons from Transkribus file (universal version)\"\"\"\n",
    "    root = ET.parse(coordinates_file_name).getroot()\n",
    "    polygons = []\n",
    "    for text_region in root.findall(\".//{*}TextRegion\"):\n",
    "        text_region_polygons = []\n",
    "        for text_line in text_region.findall(\"./{*}TextLine\"):\n",
    "            text_region_polygons.append([])\n",
    "            for coords in text_line.findall(\"./{*}Coords\"):\n",
    "                text_region_polygons[-1].append(get_coordinates_from_line(coords.attrib[\"points\"]))\n",
    "        if index < INDEX_START_SORTING:\n",
    "            polygons.extend(text_region_polygons)\n",
    "        elif index < INDEX_REMOVE_MARIGINALIA:\n",
    "            polygons.extend(sort_polygons(text_region_polygons))\n",
    "        else:\n",
    "            if len(text_region_polygons) > len(polygons):\n",
    "                polygons = sort_polygons(text_region_polygons)\n",
    "    return polygons"
   ]
  },
  {
   "cell_type": "code",
   "execution_count": null,
   "id": "1d86ee31-1cf4-48df-8aeb-54e64943810a",
   "metadata": {},
   "outputs": [],
   "source": [
    "def get_text_polygons_new(coordinates_file_name):\n",
    "    \"\"\" read polygons from Transkribus file (ignores mariginalia)\"\"\"\n",
    "    root = ET.parse(coordinates_file_name).getroot()\n",
    "    polygons = []\n",
    "    for text_region in root.findall(\".//{*}TextRegion\"):\n",
    "        text_region_polygons = []\n",
    "        for text_line in text_region.findall(\"./{*}TextLine\"):\n",
    "            text_region_polygons.append([])\n",
    "            for coords in text_line.findall(\"./{*}Coords\"):\n",
    "                text_region_polygons[-1].append(get_coordinates_from_line(coords.attrib[\"points\"]))\n",
    "        if len(text_region_polygons) > len(polygons):\n",
    "            polygons = sort_polygons(text_region_polygons)\n",
    "    return polygons"
   ]
  },
  {
   "cell_type": "code",
   "execution_count": null,
   "id": "40b90c10-3f3f-4611-a8f6-14963734f9da",
   "metadata": {},
   "outputs": [],
   "source": [
    "def get_text_polygons_old(coordinates_file_name):\n",
    "    \"\"\" read polygons from Transkribus file (considers mariginalia)\"\"\"\n",
    "    root = ET.parse(coordinates_file_name).getroot()\n",
    "    polygons = []\n",
    "    for text_region in root.findall(\".//{*}TextRegion\"):\n",
    "        text_region_polygons = []\n",
    "        for text_line in text_region.findall(\"./{*}TextLine\"):\n",
    "            text_region_polygons.append([])\n",
    "            for coords in text_line.findall(\"./{*}Coords\"):\n",
    "                text_region_polygons[-1].append(get_coordinates_from_line(coords.attrib[\"points\"]))\n",
    "        polygons.extend(sort_polygons(text_region_polygons))\n",
    "    return polygons"
   ]
  },
  {
   "cell_type": "code",
   "execution_count": null,
   "id": "b1dd86a6-fe9c-492c-ba12-b1535379f993",
   "metadata": {},
   "outputs": [],
   "source": [
    "def polygon2rectangle(coordinates):\n",
    "    \"\"\" find coordinates of minimal rectangle completely enclosing polygon \"\"\"\n",
    "    x_min, x_max, y_min, y_max = (sys.maxsize, 0, sys.maxsize, 0)\n",
    "    for x, y in coordinates:\n",
    "        if x < x_min: x_min = x\n",
    "        if x > x_max: x_max = x\n",
    "        if y < y_min: y_min = y\n",
    "        if y > y_max: y_max = y\n",
    "    return x_min, y_min, x_max, y_max"
   ]
  },
  {
   "cell_type": "code",
   "execution_count": null,
   "id": "2138d0a2-85da-4fdb-b40c-56bb822c081f",
   "metadata": {},
   "outputs": [],
   "source": [
    "def encloses_point(rectangle, point):\n",
    "    \"\"\" check if point is inside rectangle \"\"\"\n",
    "    return(rectangle[0] <= point[0] and rectangle[2] >= point[0] and\n",
    "           rectangle[1] <= point[1] and rectangle[3] >= point[1])"
   ]
  },
  {
   "cell_type": "code",
   "execution_count": null,
   "id": "884142f1-6fe4-4232-b03e-19ea2aed1bef",
   "metadata": {},
   "outputs": [],
   "source": [
    "def get_best_polygon_for_y(polygons, y):\n",
    "    \"\"\" find polygon closest to horizontal line indicated by argument y \"\"\"\n",
    "    best_distance, best_text_line_id, best_coords_id = (sys.maxsize, -1, -1)\n",
    "    for text_line_id in range(0, len(polygons)):\n",
    "        for coords_id in range(0, len(polygons[text_line_id])):\n",
    "            rectangle = polygon2rectangle(polygons[text_line_id][coords_id])\n",
    "            distance = abs(y - rectangle[1])\n",
    "            if distance < best_distance:\n",
    "                best_distance = distance\n",
    "                best_text_line_id = text_line_id\n",
    "                best_coords_id = coords_id\n",
    "    return best_text_line_id, best_coords_id"
   ]
  },
  {
   "cell_type": "code",
   "execution_count": null,
   "id": "08358199-2cf0-4455-b1fe-16f1552ba09e",
   "metadata": {},
   "outputs": [],
   "source": [
    "def count_point_name_hits(best_point_x, best_point_y, best_line_y):\n",
    "    \"\"\" evaluate values of best_point_x, best_point_y and best_line_y: how often do they predict the right deceased name polygon \"\"\"\n",
    "    hit_counts = 0\n",
    "    for coordinates_file_name in scan_data:\n",
    "        index, status, text_line_id, coords_id, ip_address = scan_data[coordinates_file_name]\n",
    "        if index >= 600 and status == \"save\":\n",
    "            polygons = get_text_polygons(\"../website/private/hdsc/data/page/\" + \n",
    "                                        coordinates_file_name, index)\n",
    "            polygon = polygons[text_line_id][coords_id]\n",
    "            rectangle = polygon2rectangle(polygon)\n",
    "            if encloses_point(rectangle, (best_point_x, best_point_y)):\n",
    "                hit_counts += 1\n",
    "            else:\n",
    "                best_text_line_id, best_coords_id = get_best_polygon_for_y(polygons, best_line_y)\n",
    "                if best_text_line_id == text_line_id and best_coords_id == coords_id:\n",
    "                    hit_counts += 1\n",
    "    return hit_counts"
   ]
  },
  {
   "cell_type": "code",
   "execution_count": null,
   "id": "5261c0ed-c7f9-4b1b-afab-1db3328ffdff",
   "metadata": {},
   "outputs": [],
   "source": [
    "def find_best_default_point(best_point_x, best_point_y, best_line_y, incr=10):\n",
    "    \"\"\" find best guess for position inside deceased name frame: best_point_x, best_point_y; keep best_line_y constant \"\"\"\n",
    "    while True:\n",
    "        hit_counts = count_point_name_hits(best_point_x, best_point_y, best_line_y)\n",
    "        print(best_point_x, best_point_y, \"#\", best_line_y, hit_counts, incr)\n",
    "        if count_point_name_hits(best_point_x + incr, best_point_y, best_line_y) > hit_counts:\n",
    "            best_point_x += incr\n",
    "            continue\n",
    "        if count_point_name_hits(best_point_x + incr, best_point_y + incr, best_line_y) > hit_counts:\n",
    "            best_point_x += incr\n",
    "            best_point_y += incr\n",
    "            continue\n",
    "        if count_point_name_hits(best_point_x, best_point_y + incr, best_line_y) > hit_counts:\n",
    "            best_point_y += incr\n",
    "            continue\n",
    "        if count_point_name_hits(best_point_x - incr, best_point_y + incr, best_line_y) > hit_counts:\n",
    "            best_point_x -= incr\n",
    "            best_point_y += incr\n",
    "            continue\n",
    "        if count_point_name_hits(best_point_x - incr, best_point_y, best_line_y) > hit_counts:\n",
    "            best_point_x -= incrpolygons\n",
    "            continue\n",
    "        if count_point_name_hits(best_point_x - incr, best_point_y - incr, best_line_y) > hit_counts:\n",
    "            best_point_x -= incr\n",
    "            best_point_y -= incr\n",
    "            continue\n",
    "        if count_point_name_hits(best_point_x, best_point_y - incr, best_line_y) > hit_counts:\n",
    "            best_point_y -= incr\n",
    "            continue\n",
    "        if count_point_name_hits(best_point_x + incr, best_point_y - incr, best_line_y) > hit_counts:\n",
    "            best_point_x += incr\n",
    "            best_point_y -= incr\n",
    "            continue\n",
    "        break\n",
    "    return best_point_x, best_point_y"
   ]
  },
  {
   "cell_type": "code",
   "execution_count": null,
   "id": "ff4e1985-f4c6-410c-9184-f44b23d4d32e",
   "metadata": {},
   "outputs": [],
   "source": [
    "def find_best_line_y_default(best_point_x, best_point_y, best_line_y, incr=10):\n",
    "    \"\"\" find horizontal line closests to top of most deceased name boxes: best_line_y; \n",
    "        keep best_point_x and best_point_y constant \"\"\"\n",
    "    while True:\n",
    "        hit_counts = count_point_name_hits(best_point_x, best_point_y, best_line_y)\n",
    "        print(best_line_y, \"#\", best_point_x, best_point_y, hit_counts, incr)\n",
    "        if count_point_name_hits(best_point_x, best_point_y, best_line_y + incr) > hit_counts:\n",
    "            best_line_y += incr\n",
    "            continue\n",
    "        if count_point_name_hits(best_point_x, best_point_y, best_line_y + incr) > hit_counts:\n",
    "            best_line_y -= incr\n",
    "            continue\n",
    "        break\n",
    "    return best_line_y"
   ]
  },
  {
   "cell_type": "code",
   "execution_count": null,
   "id": "28f10dd4-c5de-4c67-87c2-06b28335bc2f",
   "metadata": {},
   "outputs": [],
   "source": [
    "X_DEFAULT = 693\n",
    "Y_DEFAULT = 469\n",
    "LINE_Y_DEFAULT = 510\n",
    "\n",
    "best_point_x, best_point_y = find_best_default_point(X_DEFAULT, Y_DEFAULT, LINE_Y_DEFAULT, incr=10)\n",
    "best_point_x, best_point_y = find_best_default_point(best_point_x, best_point_y, LINE_Y_DEFAULT, incr=5)\n",
    "best_point_x, best_point_y = find_best_default_point(best_point_x, best_point_y, LINE_Y_DEFAULT, incr=2)\n",
    "best_point_x, best_point_y = find_best_default_point(best_point_x, best_point_y, LINE_Y_DEFAULT, incr=1)"
   ]
  },
  {
   "cell_type": "code",
   "execution_count": null,
   "id": "1517e5d5-ec96-405b-81d8-a643c34fda0f",
   "metadata": {},
   "outputs": [],
   "source": [
    "best_line_y = find_best_line_y_default(best_point_x, best_point_y, LINE_Y_DEFAULT, incr=10)\n",
    "best_line_y = find_best_line_y_default(best_point_x, best_point_y, best_line_y, incr=5)\n",
    "best_line_y = find_best_line_y_default(best_point_x, best_point_y, best_line_y, incr=2)\n",
    "best_line_y = find_best_line_y_default(best_point_x, best_point_y, best_line_y, incr=1)"
   ]
  },
  {
   "cell_type": "markdown",
   "id": "f42f26d5-ba89-451b-9d34-10227ca8eb61",
   "metadata": {},
   "source": [
    "## 3. Compute areas of identified deceased name frames"
   ]
  },
  {
   "cell_type": "code",
   "execution_count": null,
   "id": "7640b231-3c04-456d-a781-3be9b8ff56ef",
   "metadata": {},
   "outputs": [],
   "source": [
    "def compute_rectangle_area(rectangle):\n",
    "    \"\"\" compute the are of a rectangle \"\"\"\n",
    "    x_min, y_min, x_max, y_max = rectangle\n",
    "    return (x_max - x_min) * (y_max - y_min)"
   ]
  },
  {
   "cell_type": "code",
   "execution_count": null,
   "id": "fbf770fb-afd0-4417-8f1c-733e16d58c02",
   "metadata": {},
   "outputs": [],
   "source": [
    "def compute_areas(scan_data):\n",
    "    \"\"\" compute areas of rectangles related to polygons and show minimum, average and maximum value \"\"\"\n",
    "    min_area, max_area, area_count, area_total = sys.maxsize, 0, 0, 0\n",
    "    for coordinates_file_name in scan_data:\n",
    "        index, status, text_line_id, coords_id, ip_address = scan_data[coordinates_file_name]\n",
    "        if status == \"save\":\n",
    "            polygon = get_text_polygons(\"../website/private/hdsc/data/page/\" + \n",
    "                                        coordinates_file_name, index)[text_line_id][coords_id]\n",
    "            rectangle = polygon2rectangle(polygon)\n",
    "            area = compute_rectangle_area(rectangle)\n",
    "            if area < min_area:\n",
    "                min_area = area\n",
    "            if area > max_area:\n",
    "                max_area = area\n",
    "            area_count += 1\n",
    "            area_total += area\n",
    "    return min_area, max_area, int(area_total/area_count)"
   ]
  },
  {
   "cell_type": "code",
   "execution_count": null,
   "id": "5be37145-de12-44ec-ae2a-48c70a337e54",
   "metadata": {},
   "outputs": [],
   "source": [
    "compute_areas(scan_data)"
   ]
  },
  {
   "cell_type": "markdown",
   "id": "9833a237-0ba2-4834-a275-bd299dc212a4",
   "metadata": {},
   "source": [
    "## 4. Compute aspect ratios of identified deceased name frames"
   ]
  },
  {
   "cell_type": "code",
   "execution_count": null,
   "id": "778dadf6-ccdc-4053-a459-f1e8181da996",
   "metadata": {},
   "outputs": [],
   "source": [
    "def compute_rectangle_aspect_ratio(rectangle):\n",
    "    \"\"\" compute the are of a rectangle \"\"\"\n",
    "    x_min, y_min, x_max, y_max = rectangle\n",
    "    return (x_max - x_min) / (y_max - y_min)"
   ]
  },
  {
   "cell_type": "code",
   "execution_count": null,
   "id": "97d46649-f5ef-41b0-bd36-90fe8c2693fb",
   "metadata": {},
   "outputs": [],
   "source": [
    "def compute_aspect_ratios(scan_data):\n",
    "    \"\"\" compute aspect ratios of rectangles related to polygons and show minimum, average and maximum value \"\"\"\n",
    "    min_ratio, max_ratio, ratio_count, ratio_total = sys.maxsize, 0, 0, 0\n",
    "    for coordinates_file_name in scan_data:\n",
    "        index, status, text_line_id, coords_id, ip_address = scan_data[coordinates_file_name]\n",
    "        if status == \"save\":\n",
    "            polygon = get_text_polygons(\"../website/private/hdsc/data/page/\" + \n",
    "                                        coordinates_file_name, index)[text_line_id][coords_id]\n",
    "            rectangle = polygon2rectangle(polygon)\n",
    "            ratio = compute_rectangle_aspect_ratio(rectangle)\n",
    "            if ratio < min_ratio:\n",
    "                min_ratio = ratio\n",
    "            if ratio > max_ratio:\n",
    "                max_ratio = ratio\n",
    "            ratio_count += 1\n",
    "            ratio_total += ratio\n",
    "    return min_ratio, max_ratio, int(ratio_total/ratio_count)"
   ]
  },
  {
   "cell_type": "code",
   "execution_count": null,
   "id": "3b8d80af-db82-496c-b193-905cb5f7de8d",
   "metadata": {},
   "outputs": [],
   "source": [
    "compute_aspect_ratios(scan_data)"
   ]
  },
  {
   "cell_type": "markdown",
   "id": "901837ca-174d-4e2f-a0c5-3046bbc96405",
   "metadata": {},
   "source": [
    "## 5. Cut out polygons from scans containing deceased name"
   ]
  },
  {
   "cell_type": "code",
   "execution_count": null,
   "id": "7a195abb-859d-4cf7-9954-58222c6704aa",
   "metadata": {},
   "outputs": [],
   "source": [
    "COVERED_BACKGROUND = 0\n",
    "TRANSPARENT_BACKGROUND = 255\n",
    "FILL_COLOR = (198, 178, 125)"
   ]
  },
  {
   "cell_type": "code",
   "execution_count": null,
   "id": "4be67e75-49ae-4016-bba1-409397f12f4b",
   "metadata": {},
   "outputs": [],
   "source": [
    "# code based on https://stackoverflow.com/questions/22588074/polygon-crop-clip-using-python-pil\n",
    "\n",
    "def mask_polygon(image, polygon, covered_background):\n",
    "    \"\"\" highlight polygon (= deceased name) on image of scan: transparency 255, while rest: transparency 0 \"\"\"\n",
    "    image_with_transparency = image.convert(\"RGBA\")\n",
    "    numpy_image = numpy.asarray(image_with_transparency)\n",
    "    masked_image = Image.new('P', (numpy_image.shape[1], numpy_image.shape[0]), covered_background)\n",
    "    ImageDraw.Draw(masked_image).polygon(polygon, outline=0, fill=TRANSPARENT_BACKGROUND)\n",
    "    mask = numpy.array(masked_image)\n",
    "    masked_numpy_image = numpy.empty(numpy_image.shape, dtype='uint8')\n",
    "    masked_numpy_image[:,:,:3] = numpy_image[:,:,:3]\n",
    "    masked_numpy_image[:,:,3] = mask\n",
    "    return Image.fromarray(masked_numpy_image, \"RGBA\")"
   ]
  },
  {
   "cell_type": "code",
   "execution_count": null,
   "id": "1bcbeec6-0b32-4fda-8bf3-4153f54348da",
   "metadata": {},
   "outputs": [],
   "source": [
    "def make_image_file_name(coordinates_file_name):\n",
    "    \"\"\" change Transkribus file name to corresponding image file name and add location of directory \"\"\"\n",
    "    return \"../website/private/hdsc/data/\" + regex.sub(\".xml$\", \".JPG\", coordinates_file_name)"
   ]
  },
  {
   "cell_type": "code",
   "execution_count": null,
   "id": "31eed105-d934-4513-a48e-9f7869edb0aa",
   "metadata": {},
   "outputs": [],
   "source": [
    "def most_frequent_pixel_value(image):\n",
    "    \"\"\" determine most frequent pixel value in image; only check transparent parts \"\"\"\n",
    "    pixel_values = {}\n",
    "    image_data = image.getdata()\n",
    "    for data in image_data:\n",
    "        if len(data) <= 3 or data[3] != 0:\n",
    "            rounded_data = [ str(int(data[0]*0.1) * 10), \n",
    "                             str(int(data[1]*0.1) * 10), \n",
    "                             str(int(data[2]*0.1) * 10) ]\n",
    "            rounded_data = \" \".join(rounded_data)\n",
    "            if rounded_data in pixel_values:\n",
    "                pixel_values[rounded_data] += 1\n",
    "            else:\n",
    "                pixel_values[rounded_data] = 1\n",
    "    minimal_value = sorted(pixel_values.items(), key=lambda pvi: pvi[1], reverse=True)[0][0]\n",
    "    return(int(minimal_value.split()[0]),\n",
    "           int(minimal_value.split()[1]),\n",
    "           int(minimal_value.split()[2]))"
   ]
  },
  {
   "cell_type": "code",
   "execution_count": null,
   "id": "ccc78953-3a1c-4d95-87b2-d6f3cc08e210",
   "metadata": {},
   "outputs": [],
   "source": [
    "def expand_rectangle(rectangle, border_width):\n",
    "    \"\"\" add margin of size border_width to rectangle \"\"\"\n",
    "    return( rectangle[0] - border_width, \n",
    "            rectangle[1] - border_width, \n",
    "            rectangle[2] + border_width, \n",
    "            rectangle[3] + border_width )"
   ]
  },
  {
   "cell_type": "code",
   "execution_count": null,
   "id": "599d24b0-19ce-4bc7-ab32-f96bacd1c4ff",
   "metadata": {},
   "outputs": [],
   "source": [
    "def randomize_pixel_value(pixel_value, spread=20):\n",
    "    \"\"\" add a random value to a pixel value \"\"\"\n",
    "    return pixel_value[0] + random.randint(0, spread), pixel_value[1] + random.randint(0, spread), pixel_value[2] + random.randint(0, spread), "
   ]
  },
  {
   "cell_type": "code",
   "execution_count": null,
   "id": "c4d32659-235d-408b-bb53-dc1ac82431c9",
   "metadata": {},
   "outputs": [],
   "source": [
    "def fill_background(masked_image):\n",
    "    \"\"\" change background color of masked image and remove transparency \"\"\"\n",
    "    masked_image_data = masked_image.getdata()\n",
    "    updated_data = []\n",
    "    frequent_pixel_value = most_frequent_pixel_value(masked_image)\n",
    "    for data in masked_image_data:\n",
    "        if data[3] == 0:\n",
    "            updated_data.append(randomize_pixel_value(frequent_pixel_value))\n",
    "        else:\n",
    "            updated_data.append(data[:3])\n",
    "    masked_image.putdata(updated_data)\n",
    "    masked_image = masked_image.convert(\"RGB\")\n",
    "    return masked_image"
   ]
  },
  {
   "cell_type": "code",
   "execution_count": null,
   "id": "95938d68-0ed4-4ef3-b728-dbe61bf45af8",
   "metadata": {},
   "outputs": [],
   "source": [
    "def get_name_frames_from_scans(scan_data):\n",
    "    \"\"\" extract name frames from scans and store images in directory images \"\"\"\n",
    "    for coordinates_file_name in dict(sorted(scan_data.items(), \n",
    "                                      key=lambda scan_data_item: scan_data_item[1][0])):\n",
    "        index, status, text_line_id, coords_id, ip_address = scan_data[coordinates_file_name]\n",
    "        if status == \"save\":\n",
    "            polygon = get_text_polygons(\"../website/private/hdsc/data/page/\" + \n",
    "                                        coordinates_file_name, index)[text_line_id][coords_id]\n",
    "            rectangle = polygon2rectangle(polygon)\n",
    "            image_file_name = make_image_file_name(coordinates_file_name)\n",
    "            image = Image.open(image_file_name)\n",
    "            masked_image = mask_polygon(image, polygon, 0).crop(expand_rectangle(rectangle, 10))\n",
    "            masked_image = fill_background(masked_image)\n",
    "            masked_image.save(\"images/\" + os.path.basename(image_file_name))\n",
    "        squeal(index)\n",
    "    if \"masked_image\" in vars():\n",
    "        return masked_image\n",
    "    else:\n",
    "        return"
   ]
  },
  {
   "cell_type": "code",
   "execution_count": null,
   "id": "6ffb99a6-9fb4-4953-8fec-44c7785ffba8",
   "metadata": {},
   "outputs": [],
   "source": [
    "get_name_frames_from_scans(scan_data)"
   ]
  },
  {
   "cell_type": "markdown",
   "id": "475d26ae-76d1-45a8-9d63-68a5332bd214",
   "metadata": {},
   "source": [
    "## 6. Check image properties"
   ]
  },
  {
   "cell_type": "code",
   "execution_count": null,
   "id": "8378c831-a9e9-425d-b8c2-8d95d681361a",
   "metadata": {},
   "outputs": [],
   "source": [
    "def compute_property_values(scan_data, property_name=\"ratio\"):\n",
    "    \"\"\" compute the ratios of all images related to scan_data \"\"\"\n",
    "    property_values = {}\n",
    "    min_property, max_property, property_count, property_total = sys.maxsize, 0, 0, 0\n",
    "    for coordinates_file_name in scan_data:\n",
    "        index, status, text_line_id, coords_id, ip_address = scan_data[coordinates_file_name]\n",
    "        if status == \"save\":\n",
    "            polygon = get_text_polygons(\"../website/private/hdsc/data/page/\" + \n",
    "                                        coordinates_file_name, index)[text_line_id][coords_id]\n",
    "            rectangle = polygon2rectangle(polygon)\n",
    "            if property_name == \"ratio\":\n",
    "                property_value = compute_rectangle_aspect_ratio(rectangle)\n",
    "            elif property_name == \"area\":\n",
    "                property_value = compute_rectangle_area(rectangle)\n",
    "            elif property_name == \"height\":\n",
    "                property_value = rectangle[3] - rectangle[1]\n",
    "            elif property_name == \"length\":\n",
    "                property_value = rectangle[2] - rectangle[0]\n",
    "            else:\n",
    "                sys.exit(f\"compute_image_property: unknown property name: {property_name}\")\n",
    "            property_values[coordinates_file_name] = [ index, property_value, ip_address ]\n",
    "    return property_values "
   ]
  },
  {
   "cell_type": "code",
   "execution_count": null,
   "id": "da353570-b201-46ef-85b4-f9219946b177",
   "metadata": {},
   "outputs": [],
   "source": [
    "def show_images_by_property_values(property_values, start, end):\n",
    "    \"\"\" show selected images by property values from start to end \"\"\"\n",
    "    for coordinates_file_name, ratio in sorted(property_values.items(), \n",
    "                                               key=lambda ratio_item: ratio_item[1][1])[start:end]:\n",
    "        index, property_value, ip_address = property_values[coordinates_file_name]\n",
    "        print(f\"{index} # {round(property_value, 1)} # {ip_address} # {coordinates_file_name}:\")\n",
    "        display(Image.open(\"images/\" + regex.sub(\".xml\", \".JPG\", coordinates_file_name)))    "
   ]
  },
  {
   "cell_type": "code",
   "execution_count": null,
   "id": "ac0ef868-4d0c-4fd8-a605-17627746b1ed",
   "metadata": {},
   "outputs": [],
   "source": [
    "def show_extreme_property_values(scan_data, property_name=\"ratio\", n=5):\n",
    "    \"\"\" show extreme name frames by frame property \"\"\"\n",
    "    property_values = compute_property_values(scan_data, property_name)\n",
    "    show_images_by_property_values(property_values, 0, n)\n",
    "    show_images_by_property_values(property_values, len(property_values) - n, len(property_values))"
   ]
  },
  {
   "cell_type": "code",
   "execution_count": null,
   "id": "fd587961-c6c0-42e7-a481-9de7a612c84f",
   "metadata": {},
   "outputs": [],
   "source": [
    "show_extreme_property_values(scan_data, property_name=\"ratio\", n=5)"
   ]
  },
  {
   "cell_type": "code",
   "execution_count": null,
   "id": "869623d1-dca8-401f-9413-23022c724f1c",
   "metadata": {},
   "outputs": [],
   "source": [
    "show_extreme_property_values(scan_data, property_name=\"area\", n=5)"
   ]
  },
  {
   "cell_type": "code",
   "execution_count": null,
   "id": "8b5a1417-4b16-475e-af62-94b95ba7a788",
   "metadata": {},
   "outputs": [],
   "source": [
    "pd.DataFrame([ data[1] for data in compute_property_values(scan_data, \"length\").values() ]).value_counts() "
   ]
  },
  {
   "cell_type": "markdown",
   "id": "b6cae172-9fa4-48e2-b1ac-9a880f2754dd",
   "metadata": {},
   "source": [
    "## 7. Combine images"
   ]
  },
  {
   "cell_type": "code",
   "execution_count": null,
   "id": "cf918d42-6438-4c51-aab5-ee4190b6333b",
   "metadata": {},
   "outputs": [],
   "source": [
    "X_MAX_VALUE = 1600\n",
    "\n",
    "def fits_in_gap(gaps, combined_image, image):\n",
    "    \"\"\" find smallest gap at the end of a line where the name fits; return False otherwise \"\"\" \n",
    "    smallest_gap, smallest_i = sys.maxsize, -1\n",
    "    for i in range(0, len(gaps)):\n",
    "        x, y = gaps[i]\n",
    "        if x + image.size[0] <= X_MAX_VALUE and X_MAX_VALUE - x - image.size[0] < smallest_gap:\n",
    "            smallest_gap = X_MAX_VALUE - x + image.size[0]\n",
    "            smallest_i = i\n",
    "    if smallest_i >= 0:\n",
    "        return gaps[smallest_i][0], gaps[smallest_i][1], smallest_i\n",
    "    return False"
   ]
  },
  {
   "cell_type": "code",
   "execution_count": null,
   "id": "92f157c6-5fdc-4491-adce-d23cab0d173e",
   "metadata": {},
   "outputs": [],
   "source": [
    "def make_combined_image_file_name(file_counter):\n",
    "    \"\"\" make the name of the images with combined names\"\"\"\n",
    "    return f\"combined_images/{file_counter.zfill(2)}.jpg\""
   ]
  },
  {
   "cell_type": "code",
   "execution_count": null,
   "id": "bba579ac-e84d-4b86-b015-71e674dcaf1d",
   "metadata": {},
   "outputs": [],
   "source": [
    "def initialize_combine_images(deceased_names, file_counter):\n",
    "    deceased_names.append([[]])\n",
    "    file_counter += 1\n",
    "    return 0, 0, [], file_counter, deceased_names, Image.new( \"RGB\", (1600, 1200), (255, 255, 255))"
   ]
  },
  {
   "cell_type": "code",
   "execution_count": null,
   "id": "eaeb1cbd-7152-4473-b374-d2e54b008b78",
   "metadata": {},
   "outputs": [],
   "source": [
    "def combine_images(scan_data):\n",
    "    \"\"\" combine as many as possible name frames in several images \"\"\" \n",
    "    x, y, gaps, file_counter, deceased_names, combined_image = initialize_combine_images([], 0)\n",
    "    for coordinates_file_name in dict(sorted(scan_data.items(), \n",
    "                                             key=lambda scan_data_item: scan_data_item[1][0])):\n",
    "        index, status, text_line_id, coords_id, ip_address = scan_data[coordinates_file_name]\n",
    "        if status ==\"save\":\n",
    "            try:\n",
    "                image_file_name = \"images/\" + os.path.basename(make_image_file_name(coordinates_file_name))\n",
    "                image = Image.open(image_file_name)\n",
    "            except Exception:\n",
    "                print(f\"problem processing file {image_file_name}\")\n",
    "                continue\n",
    "            if fits_in_gap(gaps, combined_image, image):\n",
    "                x_gap, y_gap, i_gap = fits_in_gap(gaps, combined_image, image)\n",
    "                combined_image.paste(image, (x_gap, y_gap + int((100 - image.size[1]) / 2)))\n",
    "                deceased_names[-1][int(0.5 + y_gap/100)].append(logfile_data.iloc[index][4])\n",
    "                x_gap += image.size[0] + 30\n",
    "                gaps = gaps[:i_gap] + [[x_gap, y_gap]] + gaps[i_gap+1:]\n",
    "                continue\n",
    "            elif x + image.size[0] <= X_MAX_VALUE:\n",
    "                pass\n",
    "            elif y < 1100:\n",
    "                gaps.append([x, y])\n",
    "                x = 0\n",
    "                y += 100\n",
    "                deceased_names[-1].append([])\n",
    "            else:\n",
    "                combined_image.save(make_combined_image_file_name(str(file_counter)))\n",
    "                x, y, gaps, file_counter, deceased_names, combined_image = initialize_combine_images(deceased_names, file_counter)\n",
    "                combined_image = Image.new( \"RGB\", (1600, 1200), (255, 255, 255))\n",
    "            combined_image.paste(image, (x, y + int((100 - image.size[1]) / 2)))\n",
    "            deceased_names[-1][-1].append(logfile_data.iloc[index][4])\n",
    "            x += image.size[0] + 30\n",
    "    if x > 0 or y > 0:\n",
    "        combined_image.save(make_combined_image_file_name(str(file_counter)))\n",
    "    print(file_counter)\n",
    "    display(combined_image)"
   ]
  },
  {
   "cell_type": "code",
   "execution_count": null,
   "id": "de9e5a36-e1e5-40d6-a603-02f366b887d7",
   "metadata": {},
   "outputs": [],
   "source": [
    "combine_images(scan_data)"
   ]
  },
  {
   "cell_type": "code",
   "execution_count": null,
   "id": "7be18ce6-d273-4fa7-a0df-12b14fc5108b",
   "metadata": {},
   "outputs": [],
   "source": []
  }
 ],
 "metadata": {
  "kernelspec": {
   "display_name": "Python 3 (ipykernel)",
   "language": "python",
   "name": "python3"
  },
  "language_info": {
   "codemirror_mode": {
    "name": "ipython",
    "version": 3
   },
   "file_extension": ".py",
   "mimetype": "text/x-python",
   "name": "python",
   "nbconvert_exporter": "python",
   "pygments_lexer": "ipython3",
   "version": "3.9.13"
  }
 },
 "nbformat": 4,
 "nbformat_minor": 5
}
