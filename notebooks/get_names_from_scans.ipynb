{
 "cells": [
  {
   "cell_type": "markdown",
   "id": "25d6401a-0168-495f-8457-d9a0d427cb81",
   "metadata": {},
   "source": [
    "# Get names from scans\n",
    "\n",
    "Extract the parts of the scans of the Curacao Death Registers which contain the name of the deceased. This information is based on data annotation by humans."
   ]
  },
  {
   "cell_type": "code",
   "execution_count": null,
   "id": "d43299ca-5ca4-466e-947c-f5c020a4cedb",
   "metadata": {},
   "outputs": [],
   "source": [
    "import pandas as pd\n",
    "import regex\n",
    "import sys\n",
    "from PIL import Image\n",
    "import xml.etree.ElementTree as ET"
   ]
  },
  {
   "cell_type": "markdown",
   "id": "e84814ee-c1ed-4e21-871f-4497ad18e2c6",
   "metadata": {},
   "source": [
    "## 1. Read logfile data"
   ]
  },
  {
   "cell_type": "code",
   "execution_count": null,
   "id": "3892fbb7-4f58-4359-a77a-f52f404236e7",
   "metadata": {},
   "outputs": [],
   "source": [
    "def read_logfile_data():\n",
    "    return pd.read_csv(\"../website/private/hdsc/etc/logfile\", header=None)"
   ]
  },
  {
   "cell_type": "code",
   "execution_count": null,
   "id": "bdad376a-bd62-42ff-9ac6-f31d88af01d9",
   "metadata": {},
   "outputs": [],
   "source": [
    "def convert_logfile_data_to_scan_data(logfile_data):\n",
    "    scan_data = {}\n",
    "    for index, row in logfile_data.iterrows():\n",
    "        coordinates_file_name, status, text_line_id, coords_id = row[:4]\n",
    "        scan_data[coordinates_file_name] = [index, status, text_line_id, coords_id]\n",
    "    return scan_data"
   ]
  },
  {
   "cell_type": "code",
   "execution_count": null,
   "id": "ddd55788-e782-48fb-9f78-ce340b9c5b7d",
   "metadata": {},
   "outputs": [],
   "source": [
    "logfile_data = read_logfile_data()\n",
    "logfile_data"
   ]
  },
  {
   "cell_type": "code",
   "execution_count": null,
   "id": "758daa9a-9636-4819-88bd-9fad229fea4c",
   "metadata": {},
   "outputs": [],
   "source": [
    "scan_data = convert_logfile_data_to_scan_data(logfile_data)"
   ]
  },
  {
   "cell_type": "markdown",
   "id": "abb3a5c0-5d26-4708-8b67-0769a336eba6",
   "metadata": {},
   "source": [
    "## 2. Find best coordinates for guess of deceased name position"
   ]
  },
  {
   "cell_type": "code",
   "execution_count": null,
   "id": "745937a6-9aae-4548-b880-5e2dc596c280",
   "metadata": {},
   "outputs": [],
   "source": [
    "def get_coordinates_from_line(line):\n",
    "    split_line = [ pair.split(\",\") for pair in line.split() ]\n",
    "    return [ ( int(x), int(y) ) for x, y in split_line ]"
   ]
  },
  {
   "cell_type": "code",
   "execution_count": null,
   "id": "246d883e-828d-4e07-b855-3105f47ef460",
   "metadata": {},
   "outputs": [],
   "source": [
    "def find_top_left(polygon):\n",
    "    top_coordinate = sys.maxsize\n",
    "    left_coordinate = sys.maxsize\n",
    "    for pair in polygon[0]:\n",
    "        if pair[1] < top_coordinate:\n",
    "            top_coordinate = pair[1]\n",
    "        if pair[0] < left_coordinate:\n",
    "            left_coordinate = pair[0]\n",
    "    return top_coordinate, left_coordinate"
   ]
  },
  {
   "cell_type": "code",
   "execution_count": null,
   "id": "44bc0afe-75ff-45ef-ba2f-fc7ab4b0f6ee",
   "metadata": {},
   "outputs": [],
   "source": [
    "def sort_polygons(polygons):\n",
    "    extended_polygons = []\n",
    "    for polygon in polygons:\n",
    "        top_coordinate, left_coordinate = find_top_left(polygon)\n",
    "        extended_polygons.append([top_coordinate, left_coordinate, polygon])\n",
    "    return [ extended_polygon[2] \n",
    "             for extended_polygon in sorted(extended_polygons, \n",
    "                                            key=lambda ep: (ep[0], ep[1])) ]"
   ]
  },
  {
   "cell_type": "code",
   "execution_count": null,
   "id": "1d86ee31-1cf4-48df-8aeb-54e64943810a",
   "metadata": {},
   "outputs": [],
   "source": [
    "def get_text_polygons(coordinates_file_name):\n",
    "    root = ET.parse(coordinates_file_name).getroot()\n",
    "    polygons = []\n",
    "    for text_region in root.findall(\".//{*}TextRegion\"):\n",
    "        text_region_polygons = []\n",
    "        for text_line in text_region.findall(\"./{*}TextLine\"):\n",
    "            text_region_polygons.append([])\n",
    "            for coords in text_line.findall(\"./{*}Coords\"):\n",
    "                text_region_polygons[-1].append(get_coordinates_from_line(coords.attrib[\"points\"]))\n",
    "        polygons.extend(sort_polygons(text_region_polygons))\n",
    "    return polygons"
   ]
  },
  {
   "cell_type": "code",
   "execution_count": null,
   "id": "b1dd86a6-fe9c-492c-ba12-b1535379f993",
   "metadata": {},
   "outputs": [],
   "source": [
    "def polygon2rectangle(coordinates):\n",
    "    x_min, x_max, y_min, y_max = (sys.maxsize, 0, sys.maxsize, 0)\n",
    "    for x, y in coordinates:\n",
    "        if x < x_min: x_min = x\n",
    "        if x > x_max: x_max = x\n",
    "        if y < y_min: y_min = y\n",
    "        if y > y_max: y_max = y\n",
    "    return x_min, y_min, x_max, y_max"
   ]
  },
  {
   "cell_type": "code",
   "execution_count": null,
   "id": "2138d0a2-85da-4fdb-b40c-56bb822c081f",
   "metadata": {},
   "outputs": [],
   "source": [
    "def encloses_point(rectangle, point):\n",
    "    return(rectangle[0] <= point[0] and rectangle[2] >= point[0] and\n",
    "           rectangle[1] <= point[1] and rectangle[3] >= point[1])"
   ]
  },
  {
   "cell_type": "code",
   "execution_count": null,
   "id": "884142f1-6fe4-4232-b03e-19ea2aed1bef",
   "metadata": {},
   "outputs": [],
   "source": [
    "def get_best_polygon_for_y(polygons, y):\n",
    "    best_distance, best_text_line_id, best_coords_id = (sys.maxsize, -1, -1)\n",
    "    for text_line_id in range(0, len(polygons)):\n",
    "        for coords_id in range(0, len(polygons[text_line_id])):\n",
    "            rectangle = polygon2rectangle(polygons[text_line_id][coords_id])\n",
    "            distance = abs(y - rectangle[1])\n",
    "            if distance < best_distance:\n",
    "                best_distance = distance\n",
    "                best_text_line_id = text_line_id\n",
    "                best_coords_id = coords_id\n",
    "    return best_text_line_id, best_coords_id"
   ]
  },
  {
   "cell_type": "code",
   "execution_count": null,
   "id": "08358199-2cf0-4455-b1fe-16f1552ba09e",
   "metadata": {},
   "outputs": [],
   "source": [
    "def count_point_name_hits(best_point_x, best_point_y, best_line_y):\n",
    "    hit_counts = 0\n",
    "    for coordinates_file_name in scan_data:\n",
    "        index, status, text_line_id, coords_id = scan_data[coordinates_file_name]\n",
    "        if index >= 600 and status == \"save\":\n",
    "            polygons = get_text_polygons(\"../website/private/hdsc/data/page/\" + \n",
    "                                        coordinates_file_name)\n",
    "            polygon = polygons[text_line_id][coords_id]\n",
    "            rectangle = polygon2rectangle(polygon)\n",
    "            if encloses_point(rectangle, (best_point_x, best_point_y)):\n",
    "                hit_counts += 1\n",
    "            else:\n",
    "                best_text_line_id, best_coords_id = get_best_polygon_for_y(polygons, best_line_y)\n",
    "                if best_text_line_id == text_line_id and best_coords_id == coords_id:\n",
    "                    hit_counts += 1\n",
    "    return hit_counts"
   ]
  },
  {
   "cell_type": "code",
   "execution_count": null,
   "id": "5261c0ed-c7f9-4b1b-afab-1db3328ffdff",
   "metadata": {},
   "outputs": [],
   "source": [
    "def find_best_default_point(best_point_x, best_point_y, best_line_y, incr=10):\n",
    "    while True:\n",
    "        hit_counts = count_point_name_hits(best_point_x, best_point_y, best_line_y)\n",
    "        print(best_point_x, best_point_y, \"#\", best_line_y, hit_counts, incr)\n",
    "        if count_point_name_hits(best_point_x + incr, best_point_y, best_line_y) > hit_counts:\n",
    "            best_point_x += incr\n",
    "            continue\n",
    "        if count_point_name_hits(best_point_x + incr, best_point_y + incr, best_line_y) > hit_counts:\n",
    "            best_point_x += incr\n",
    "            best_point_y += incr\n",
    "            continue\n",
    "        if count_point_name_hits(best_point_x, best_point_y + incr, best_line_y) > hit_counts:\n",
    "            best_point_y += incr\n",
    "            continue\n",
    "        if count_point_name_hits(best_point_x - incr, best_point_y + incr, best_line_y) > hit_counts:\n",
    "            best_point_x -= incr\n",
    "            best_point_y += incr\n",
    "            continue\n",
    "        if count_point_name_hits(best_point_x - incr, best_point_y, best_line_y) > hit_counts:\n",
    "            best_point_x -= incr\n",
    "            continue\n",
    "        if count_point_name_hits(best_point_x - incr, best_point_y - incr, best_line_y) > hit_counts:\n",
    "            best_point_x -= incr\n",
    "            best_point_y -= incr\n",
    "            continue\n",
    "        if count_point_name_hits(best_point_x, best_point_y - incr, best_line_y) > hit_counts:\n",
    "            best_point_y -= incr\n",
    "            continue\n",
    "        if count_point_name_hits(best_point_x + incr, best_point_y - incr, best_line_y) > hit_counts:\n",
    "            best_point_x += incr\n",
    "            best_point_y -= incr\n",
    "            continue\n",
    "        break\n",
    "    return best_point_x, best_point_y"
   ]
  },
  {
   "cell_type": "code",
   "execution_count": null,
   "id": "ff4e1985-f4c6-410c-9184-f44b23d4d32e",
   "metadata": {},
   "outputs": [],
   "source": [
    "def find_best_line_y_default(best_point_x, best_point_y, best_line_y, incr=10):\n",
    "    while True:\n",
    "        hit_counts = count_point_name_hits(best_point_x, best_point_y, best_line_y)\n",
    "        print(best_line_y, \"#\", best_point_x, best_point_y, hit_counts, incr)\n",
    "        if count_point_name_hits(best_point_x, best_point_y, best_line_y + incr) > hit_counts:\n",
    "            best_line_y += incr\n",
    "            continue\n",
    "        if count_point_name_hits(best_point_x, best_point_y, best_line_y + incr) > hit_counts:\n",
    "            best_line_y -= incr\n",
    "            continue\n",
    "        break\n",
    "    return best_line_y"
   ]
  },
  {
   "cell_type": "code",
   "execution_count": null,
   "id": "28f10dd4-c5de-4c67-87c2-06b28335bc2f",
   "metadata": {},
   "outputs": [],
   "source": [
    "X_DEFAULT = 693\n",
    "Y_DEFAULT = 471\n",
    "LINE_Y_DEFAULT = 509\n",
    "\n",
    "best_point_x, best_point_y = find_best_default_point(X_DEFAULT, Y_DEFAULT, LINE_Y_DEFAULT, incr=10)\n",
    "best_point_x, best_point_y = find_best_default_point(best_point_x, best_point_y, LINE_Y_DEFAULT, incr=5)\n",
    "best_point_x, best_point_y = find_best_default_point(best_point_x, best_point_y, LINE_Y_DEFAULT, incr=2)\n",
    "best_point_x, best_point_y = find_best_default_point(best_point_x, best_point_y, LINE_Y_DEFAULT, incr=1)"
   ]
  },
  {
   "cell_type": "code",
   "execution_count": null,
   "id": "1517e5d5-ec96-405b-81d8-a643c34fda0f",
   "metadata": {},
   "outputs": [],
   "source": [
    "best_line_y = find_best_line_y_default(best_point_x, best_point_y, LINE_Y_DEFAULT, incr=10)\n",
    "best_line_y = find_best_line_y_default(best_point_x, best_point_y, best_line_y, incr=5)\n",
    "best_line_y = find_best_line_y_default(best_point_x, best_point_y, best_line_y, incr=2)\n",
    "best_line_y = find_best_line_y_default(best_point_x, best_point_y, best_line_y, incr=1)"
   ]
  },
  {
   "cell_type": "markdown",
   "id": "f42f26d5-ba89-451b-9d34-10227ca8eb61",
   "metadata": {},
   "source": [
    "## 3. Compute areas of identified deceased name frames"
   ]
  },
  {
   "cell_type": "code",
   "execution_count": null,
   "id": "7640b231-3c04-456d-a781-3be9b8ff56ef",
   "metadata": {},
   "outputs": [],
   "source": [
    "def compute_rectangle_area(rectangle):\n",
    "    x_min, y_min, x_max, y_max = rectangle\n",
    "    return (x_max - x_min) * (y_max - y_min)"
   ]
  },
  {
   "cell_type": "code",
   "execution_count": null,
   "id": "fbf770fb-afd0-4417-8f1c-733e16d58c02",
   "metadata": {},
   "outputs": [],
   "source": [
    "def compute_areas():\n",
    "    min_area, max_area, area_count, area_total = sys.maxsize, 0, 0, 0\n",
    "    for coordinates_file_name in scan_data:\n",
    "        index, status, text_line_id, coords_id = scan_data[coordinates_file_name]\n",
    "        if index >= 600 and status == \"save\":\n",
    "            polygon = get_text_polygons(\"../website/private/hdsc/data/page/\" + \n",
    "                                        coordinates_file_name)[text_line_id][coords_id]\n",
    "            rectangle = polygon2rectangle(polygon)\n",
    "            area = compute_rectangle_area(rectangle)\n",
    "            if area < min_area:\n",
    "                min_area = area\n",
    "            if area > max_area:\n",
    "                max_area = area\n",
    "            area_count += 1\n",
    "            area_total += area\n",
    "    return min_area, max_area, int(area_total/area_count)"
   ]
  },
  {
   "cell_type": "code",
   "execution_count": null,
   "id": "5be37145-de12-44ec-ae2a-48c70a337e54",
   "metadata": {},
   "outputs": [],
   "source": [
    "compute_areas()"
   ]
  },
  {
   "cell_type": "code",
   "execution_count": null,
   "id": "2188c0c7-3e1a-46af-b7e7-1e49c428bf81",
   "metadata": {},
   "outputs": [],
   "source": []
  }
 ],
 "metadata": {
  "kernelspec": {
   "display_name": "Python 3 (ipykernel)",
   "language": "python",
   "name": "python3"
  },
  "language_info": {
   "codemirror_mode": {
    "name": "ipython",
    "version": 3
   },
   "file_extension": ".py",
   "mimetype": "text/x-python",
   "name": "python",
   "nbconvert_exporter": "python",
   "pygments_lexer": "ipython3",
   "version": "3.9.13"
  }
 },
 "nbformat": 4,
 "nbformat_minor": 5
}
