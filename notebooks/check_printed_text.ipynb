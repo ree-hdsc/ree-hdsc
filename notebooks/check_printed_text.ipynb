{
 "cells": [
  {
   "cell_type": "markdown",
   "id": "0cd81a94-b1e3-4004-b7ef-9fdfa90cafb4",
   "metadata": {},
   "source": [
    "# Check printed text\n",
    "\n",
    "Find the expected printed text in a certificate"
   ]
  },
  {
   "cell_type": "code",
   "execution_count": null,
   "id": "250639cd-c19e-4b0b-ac60-6ff5ccff8a1e",
   "metadata": {
    "tags": []
   },
   "outputs": [],
   "source": [
    "import copy\n",
    "import os\n",
    "import pandas as pd\n",
    "import re\n",
    "import regex\n",
    "import sys\n",
    "from spacy import displacy\n",
    "sys.path.append(os.getcwd() + '/..')\n",
    "from scripts import read_transkribus_files, printed_text, utils"
   ]
  },
  {
   "cell_type": "code",
   "execution_count": null,
   "id": "b0937d2a-683c-4eed-8e82-f79796de410a",
   "metadata": {
    "tags": []
   },
   "outputs": [],
   "source": [
    "def render_text(text, entities):\n",
    "    displacy.render({ \"text\": re.sub(\"\\\\n\", \" \", text), \n",
    "                      \"ents\": entities }, \n",
    "                      options = { \"colors\": { \"fuzzy_match\": \"yellow\"} }, style = \"ent\", manual = True)"
   ]
  },
  {
   "cell_type": "markdown",
   "id": "5d0f9ff0-f79d-4988-b9e8-1af7d46a9de2",
   "metadata": {},
   "source": [
    "## 1. Find missed printed text"
   ]
  },
  {
   "cell_type": "code",
   "execution_count": null,
   "id": "91e65fd0-7729-4836-8731-ac1ac46ed42d",
   "metadata": {
    "tags": []
   },
   "outputs": [],
   "source": [
    "data_dir = \"../../data/Overlijden/x-samples/three-columns-100/page\"\n",
    "\n",
    "texts, metadata, textregions = read_transkribus_files.read_files(data_dir)"
   ]
  },
  {
   "cell_type": "code",
   "execution_count": null,
   "id": "f584523e-9e2c-4693-8ae0-f90c9718888e",
   "metadata": {
    "tags": []
   },
   "outputs": [],
   "source": [
    "def get_printed_text_year(text_id):\n",
    "    \"\"\" finds appropriate index of text format printed_text.PRINTED_TEXT for a certificate \"\"\"\n",
    "    text_year = int(text_id[:4])\n",
    "    printed_text_year = list(printed_text.PRINTED_TEXT.keys())[0]\n",
    "    for year in sorted(printed_text.PRINTED_TEXT.keys()):\n",
    "        if year > printed_text_year and text_year >= year:\n",
    "            printed_text_year = year\n",
    "    return printed_text_year"
   ]
  },
  {
   "cell_type": "code",
   "execution_count": null,
   "id": "e9ff139e-1570-47ba-83ce-dab32839cab0",
   "metadata": {
    "tags": []
   },
   "outputs": [],
   "source": [
    "def same_number_of_words(phrase, search_text, positions):\n",
    "    guessed_phrase = search_text[positions[0].start(): positions[0].end()]\n",
    "    return len(guessed_phrase.split()) == len(phrase.split())"
   ]
  },
  {
   "cell_type": "code",
   "execution_count": null,
   "id": "07bb4499-0ae3-4852-86ce-67af9a84e091",
   "metadata": {
    "tags": []
   },
   "outputs": [],
   "source": [
    "def find_match(text, phrase, start=0, end=None, level=0, max_diff=3):\n",
    "    match = {}\n",
    "    search_text = text[start:end]\n",
    "    if end == None:\n",
    "        search_text = text[start: end]\n",
    "    if len(phrase) > 2 - level:\n",
    "        positions = utils.find_text_patterns(phrase.lower(), search_text.lower())\n",
    "        if len(positions) == 1:\n",
    "            positions[0][\"label\"] = phrase\n",
    "            match = { \"start\": positions[0][\"start\"] + start,\n",
    "                      \"end\": positions[0][\"end\"] + start,\n",
    "                      \"label\": positions[0][\"label\"] }\n",
    "        elif len(positions) == 0:\n",
    "            character_errors = 0\n",
    "            while len(positions) == 0 and character_errors <= max_diff:\n",
    "                query = f\"({phrase.lower()})\"+\"{\"+f\"e<={character_errors}\"+\"}\"\n",
    "                positions = [ match for match in regex.finditer(query, search_text.lower()) ]\n",
    "                character_errors += 1\n",
    "            if len(positions) == 1 and same_number_of_words(phrase, search_text, positions):\n",
    "                match = { \"start\": positions[0].start() + start,\n",
    "                          \"end\": positions[0].end() + start,\n",
    "                          \"label\": \"fuzzy_match\",\n",
    "                          \"correct_phrase\": phrase }\n",
    "    return match"
   ]
  },
  {
   "cell_type": "code",
   "execution_count": null,
   "id": "2152b3dc-67f2-4cf1-adc2-1c61ffb22b78",
   "metadata": {
    "tags": []
   },
   "outputs": [],
   "source": [
    "def find_phrases_in_text(text, phrases):\n",
    "    \"\"\" find phrases in text, only return unique matches \"\"\"\n",
    "    entities = []\n",
    "    for phrase in phrases:\n",
    "        entities.append(find_match(text, phrase))\n",
    "    return entities"
   ]
  },
  {
   "cell_type": "code",
   "execution_count": null,
   "id": "46d7e1c5-6ed9-402e-8f9b-14bcd68fd5cc",
   "metadata": {
    "tags": []
   },
   "outputs": [],
   "source": [
    "def get_min_char_pos(entities, index):\n",
    "    for counter in range(index-1, 0, -1):\n",
    "        if \"end\" in entities[counter]:\n",
    "            return entities[counter][\"end\"] + 1\n",
    "    return 0"
   ]
  },
  {
   "cell_type": "code",
   "execution_count": null,
   "id": "b4052123-10f4-40a0-bdcb-70420a2c4ce0",
   "metadata": {
    "tags": []
   },
   "outputs": [],
   "source": [
    "def get_max_char_pos(entities, index):\n",
    "    for counter in range(index+1, len(entities)):\n",
    "        if \"start\" in entities[counter]:\n",
    "            return entities[counter][\"start\"]\n",
    "    return None"
   ]
  },
  {
   "cell_type": "code",
   "execution_count": null,
   "id": "48fd87a1-80f1-4777-925a-cb9571ddde56",
   "metadata": {
    "tags": []
   },
   "outputs": [],
   "source": [
    "def find_phrases_in_text_with_entities(text, phrases, entities, max_diff=3):\n",
    "    \"\"\" find phrases in text, only return unique matches \"\"\"\n",
    "    for i in range(0, len(phrases)):\n",
    "        if len(entities[i]) == 0:\n",
    "            start = get_min_char_pos(entities, i)\n",
    "            end = get_max_char_pos(entities, i)\n",
    "            if end == None:\n",
    "                entities[i] = find_match(text, phrases[i], start=start, level=1, max_diff=max_diff)\n",
    "            else:\n",
    "                entities[i] = find_match(text, phrases[i], start=start, end=end, level=1, max_diff=max_diff)                \n",
    "    return entities"
   ]
  },
  {
   "cell_type": "code",
   "execution_count": null,
   "id": "db3be37a-631e-481f-8943-2f142eceb914",
   "metadata": {
    "tags": []
   },
   "outputs": [],
   "source": [
    "def update_entities(entities, entity_replaced):\n",
    "    \"\"\" adjust start and end point of entities after replacing a text \"\"\"\n",
    "    delta = len(entity_replaced[\"correct_phrase\"]) - (entity_replaced[\"end\"] - entity_replaced[\"start\"])\n",
    "    for entity in entities:\n",
    "        if \"start\" in entity and entity[\"start\"] > entity_replaced[\"start\"]:\n",
    "            entity[\"start\"] += delta\n",
    "        if \"end\" in entity and entity[\"end\"] >= entity_replaced[\"end\"]:\n",
    "            entity[\"end\"] += delta\n",
    "    return entities"
   ]
  },
  {
   "cell_type": "code",
   "execution_count": null,
   "id": "587719de-d85f-42da-be0d-e0cf241bd6fa",
   "metadata": {
    "tags": []
   },
   "outputs": [],
   "source": [
    "def correct_text(text_in, entities):\n",
    "    \"\"\" replace fuzzy matches in text by correct phrases \"\"\"\n",
    "    text_out = text_in\n",
    "    for entity in reversed(entities):\n",
    "        if \"label\" in entity and entity[\"label\"] == \"fuzzy_match\":\n",
    "            text_out = text_out[:entity[\"start\"]] + entity[\"correct_phrase\"] + text_out[entity[\"end\"]:]\n",
    "            if len(entity[\"correct_phrase\"]) != entity[\"end\"] - entity[\"start\"]:\n",
    "                entities = update_entities(entities, entity)\n",
    "    return text_out, entities"
   ]
  },
  {
   "cell_type": "code",
   "execution_count": null,
   "id": "d1e63385-e3aa-464d-b55a-cb74efcfcdac",
   "metadata": {
    "tags": []
   },
   "outputs": [],
   "source": [
    "corrected_text = {}\n",
    "text_entities = {}\n",
    "for text_id in sorted(texts.keys()):\n",
    "    printed_text_year = get_printed_text_year(text_id)\n",
    "    entities = find_phrases_in_text(texts[text_id], printed_text.PRINTED_TEXT[printed_text_year])\n",
    "    entities = find_phrases_in_text_with_entities(texts[text_id], printed_text.PRINTED_TEXT[printed_text_year], entities)\n",
    "    entities = find_phrases_in_text_with_entities(texts[text_id], printed_text.PRINTED_TEXT[printed_text_year], entities, max_diff=5)\n",
    "    text_entities[text_id] = entities\n",
    "    corrected_text[text_id], entities = correct_text(texts[text_id], copy.deepcopy(entities))\n",
    "#    render_text(corrected_text[text_id], [ entity for entity in entities if \"label\" in entity ])"
   ]
  },
  {
   "cell_type": "code",
   "execution_count": null,
   "id": "f8c19571-c1b9-41d8-a450-d263e8f4c7a0",
   "metadata": {},
   "outputs": [],
   "source": [
    "pd.DataFrame.from_dict(corrected_text, orient=\"index\").to_csv(\"three_columns_100_corrected.csv\")"
   ]
  },
  {
   "cell_type": "markdown",
   "id": "fe6c103d-5242-41d0-b8ef-4fc57c1f0b8a",
   "metadata": {},
   "source": [
    "## 2. Correct XML text"
   ]
  },
  {
   "cell_type": "code",
   "execution_count": null,
   "id": "d61f15dd-0676-471e-96de-052e0c2fcc06",
   "metadata": {
    "tags": []
   },
   "outputs": [],
   "source": [
    "for text_id in text_entities:\n",
    "    for entity in sorted([x for x in text_entities[text_id] if len(x) > 0 ], key=lambda x: x[\"start\"]):\n",
    "        if \"correct_phrase\" in entity:\n",
    "            guessed_phrase = texts[text_id][entity[\"start\"]:entity[\"end\"]]\n",
    "            correct_phrase = entity[\"correct_phrase\"]\n",
    "            if not (len(guessed_phrase.split()) == \n",
    "                    len(correct_phrase.split())):\n",
    "                print(text_id, guessed_phrase, \"#\", correct_phrase)"
   ]
  },
  {
   "cell_type": "code",
   "execution_count": null,
   "id": "e51f6b59-da64-4fcf-9f35-43b083a0975b",
   "metadata": {
    "tags": []
   },
   "outputs": [],
   "source": [
    "help(sorted)"
   ]
  },
  {
   "cell_type": "code",
   "execution_count": null,
   "id": "a7e22885-b891-43e8-b85f-bd440ee1a309",
   "metadata": {
    "tags": []
   },
   "outputs": [],
   "source": [
    "import xml.etree.ElementTree as ET"
   ]
  },
  {
   "cell_type": "code",
   "execution_count": null,
   "id": "952fde84-09fb-45a0-9a04-775dd121c2f1",
   "metadata": {},
   "outputs": [],
   "source": [
    "def get_text_from_xml(root):\n",
    "    text = \"\"\n",
    "    metadata = {}\n",
    "    for textline in root.findall(\".//{*}TextLine\"):\n",
    "        expand_metadata(metadata, process_textline_attrib(textline.attrib), len(text))\n",
    "        custom_dict = make_custom_dict(textline.attrib)\n",
    "        for unicode in textline.findall(\"./{*}TextEquiv/{*}Unicode\"):\n",
    "            if unicode.text != None:\n",
    "                text += remove_strikethroughs(unicode.text, custom_dict) + \"\\n\"\n",
    "    return text, metadata"
   ]
  },
  {
   "cell_type": "code",
   "execution_count": null,
   "id": "1e68056e-1153-463e-9abc-edd3e33531c5",
   "metadata": {},
   "outputs": [],
   "source": [
    "def get_text_from_file(file_name):\n",
    "    tree = ET.parse(file_name)\n",
    "    root = tree.getroot()\n",
    "    text, metadata = get_text_from_xml(root)\n",
    "    textregions = get_textregions_from_xml(root)\n",
    "    return text, metadata, textregions"
   ]
  },
  {
   "cell_type": "code",
   "execution_count": null,
   "id": "9b0eb88e-386a-4b98-99e8-6c2b40e4a55c",
   "metadata": {
    "tags": []
   },
   "outputs": [],
   "source": [
    "file_name = \"../../data/Overlijden/x-samples/three-columns-100/page/O.R. 1831 Stad 027.xml\""
   ]
  },
  {
   "cell_type": "code",
   "execution_count": null,
   "id": "b1fc2abc-d693-437d-9cca-5adfeecb2f1d",
   "metadata": {
    "tags": []
   },
   "outputs": [],
   "source": [
    "tree = ET.parse(file_name)\n",
    "root = tree.getroot()\n",
    "counter = 0\n",
    "for textline in root.findall(\".//{*}TextLine\"):\n",
    "    for unicode in textline.findall(\"./{*}Word/{*}TextEquiv/{*}Unicode\"):\n",
    "        print(counter, unicode.text)\n",
    "        counter += 1 + len(unicode.text)"
   ]
  },
  {
   "cell_type": "code",
   "execution_count": null,
   "id": "98604b24-4075-4c17-8b72-ab88d3b7e49d",
   "metadata": {},
   "outputs": [],
   "source": []
  }
 ],
 "metadata": {
  "kernelspec": {
   "display_name": "Python 3 (ipykernel)",
   "language": "python",
   "name": "python3"
  },
  "language_info": {
   "codemirror_mode": {
    "name": "ipython",
    "version": 3
   },
   "file_extension": ".py",
   "mimetype": "text/x-python",
   "name": "python",
   "nbconvert_exporter": "python",
   "pygments_lexer": "ipython3",
   "version": "3.9.13"
  }
 },
 "nbformat": 4,
 "nbformat_minor": 5
}
