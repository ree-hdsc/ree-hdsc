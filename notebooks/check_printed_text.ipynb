{
 "cells": [
  {
   "cell_type": "markdown",
   "id": "0cd81a94-b1e3-4004-b7ef-9fdfa90cafb4",
   "metadata": {},
   "source": [
    "# Check printed text\n",
    "\n",
    "Find the expected printed text in a certificate"
   ]
  },
  {
   "cell_type": "code",
   "execution_count": null,
   "id": "250639cd-c19e-4b0b-ac60-6ff5ccff8a1e",
   "metadata": {
    "tags": []
   },
   "outputs": [],
   "source": [
    "import os\n",
    "import pandas as pd\n",
    "import re\n",
    "import regex\n",
    "import sys\n",
    "from spacy import displacy\n",
    "sys.path.append(os.getcwd() + '/..')\n",
    "from scripts import read_transkribus_files, printed_text, utils"
   ]
  },
  {
   "cell_type": "code",
   "execution_count": null,
   "id": "b0937d2a-683c-4eed-8e82-f79796de410a",
   "metadata": {
    "tags": []
   },
   "outputs": [],
   "source": [
    "def render_text(text, entities):\n",
    "    displacy.render({ \"text\": re.sub(\"\\\\n\", \" \", text), \n",
    "                      \"ents\": entities }, \n",
    "                      options = { \"colors\": { \"fuzzy_match\": \"yellow\"} }, style = \"ent\", manual = True)"
   ]
  },
  {
   "cell_type": "markdown",
   "id": "5d0f9ff0-f79d-4988-b9e8-1af7d46a9de2",
   "metadata": {},
   "source": [
    "## 1. Find missed printed text"
   ]
  },
  {
   "cell_type": "code",
   "execution_count": null,
   "id": "91e65fd0-7729-4836-8731-ac1ac46ed42d",
   "metadata": {
    "tags": []
   },
   "outputs": [],
   "source": [
    "data_dir = \"../../data/Overlijden/x-samples/three-columns-100/page\"\n",
    "\n",
    "texts, metadata, textregions = read_transkribus_files.read_files(data_dir)"
   ]
  },
  {
   "cell_type": "code",
   "execution_count": null,
   "id": "f584523e-9e2c-4693-8ae0-f90c9718888e",
   "metadata": {
    "tags": []
   },
   "outputs": [],
   "source": [
    "def get_printed_text_year(text_id):\n",
    "    text_year = int(text_id[:4])\n",
    "    printed_text_year = list(printed_text.PRINTED_TEXT.keys())[0]\n",
    "    for year in sorted(printed_text.PRINTED_TEXT.keys()):\n",
    "        if year > printed_text_year and text_year >= year:\n",
    "            printed_text_year = year\n",
    "    return printed_text_year"
   ]
  },
  {
   "cell_type": "code",
   "execution_count": null,
   "id": "0a316626-90ee-427b-a137-116057944e4a",
   "metadata": {
    "tags": []
   },
   "outputs": [],
   "source": [
    "def find_phrases_in_text(text, phrases):\n",
    "    entities = []\n",
    "    for phrase in phrases:\n",
    "        positions = utils.find_text_patterns(phrase, text)\n",
    "        if len(positions) == 1:\n",
    "            positions[0][\"label\"] = phrase\n",
    "            entities.append(positions[0])\n",
    "        elif len(positions) == 0:\n",
    "            character_errors = 0\n",
    "            while len(positions) == 0 and character_errors < 3:\n",
    "                character_errors += 1\n",
    "                query = f\"({phrase.lower()})\"+\"{\"+f\"e<={character_errors}\"+\"}\"\n",
    "                positions = [ match for match in regex.finditer(query, text.lower()) ]\n",
    "            if len(positions) == 1:\n",
    "                entities.append({\"start\": positions[0].start(),\n",
    "                                 \"end\": positions[0].end(),\n",
    "                                 \"label\": \"fuzzy_match\",\n",
    "                                 \"correct_phrase\": phrase })\n",
    "    return entities"
   ]
  },
  {
   "cell_type": "code",
   "execution_count": null,
   "id": "587719de-d85f-42da-be0d-e0cf241bd6fa",
   "metadata": {
    "tags": []
   },
   "outputs": [],
   "source": [
    "def correct_text(text_in, entities):\n",
    "    text_out = text_in\n",
    "    for entity in entities:\n",
    "        if entity[\"label\"] == \"fuzzy_match\":\n",
    "            text_out = text_out[:entity[\"start\"]] + entity[\"correct_phrase\"] + text_out[entity[\"end\"]:]\n",
    "    return text_out"
   ]
  },
  {
   "cell_type": "code",
   "execution_count": null,
   "id": "d1e63385-e3aa-464d-b55a-cb74efcfcdac",
   "metadata": {
    "tags": []
   },
   "outputs": [],
   "source": [
    "corrected_text = {}\n",
    "for text_id in sorted(texts.keys()):\n",
    "    printed_text_year = get_printed_text_year(text_id)\n",
    "    entities = find_phrases_in_text(texts[text_id], printed_text.PRINTED_TEXT[printed_text_year])\n",
    "    corrected_text[text_id] = correct_text(texts[text_id], entities)"
   ]
  },
  {
   "cell_type": "code",
   "execution_count": null,
   "id": "f8c19571-c1b9-41d8-a450-d263e8f4c7a0",
   "metadata": {},
   "outputs": [],
   "source": [
    "pd.DataFrame.from_dict(corrected_text, orient=\"index\").to_csv(\"three_columns_100_corrected.csv\")"
   ]
  },
  {
   "cell_type": "code",
   "execution_count": null,
   "id": "fa1b8cff-0174-4697-b809-494f2d59dd87",
   "metadata": {},
   "outputs": [],
   "source": []
  }
 ],
 "metadata": {
  "kernelspec": {
   "display_name": "Python 3 (ipykernel)",
   "language": "python",
   "name": "python3"
  },
  "language_info": {
   "codemirror_mode": {
    "name": "ipython",
    "version": 3
   },
   "file_extension": ".py",
   "mimetype": "text/x-python",
   "name": "python",
   "nbconvert_exporter": "python",
   "pygments_lexer": "ipython3",
   "version": "3.9.13"
  }
 },
 "nbformat": 4,
 "nbformat_minor": 5
}
