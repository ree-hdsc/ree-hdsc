{
 "cells": [
  {
   "cell_type": "markdown",
   "id": "6e6c57b2-ec2a-4a73-981a-3a41cc394061",
   "metadata": {},
   "source": [
    "# Layout analysis"
   ]
  },
  {
   "cell_type": "markdown",
   "id": "85a47489-5e16-4963-8607-8a530de29a36",
   "metadata": {},
   "source": [
    "## 1. Layout analysis visualization"
   ]
  },
  {
   "cell_type": "code",
   "execution_count": null,
   "id": "f2b6a71a-c8c6-482e-a1ba-c1a9aa8aa3ad",
   "metadata": {
    "tags": []
   },
   "outputs": [],
   "source": [
    "import matplotlib.pyplot as plt\n",
    "import os\n",
    "import sys\n",
    "sys.path.append(os.getcwd() + '/..')\n",
    "from scripts import read_transkribus_files"
   ]
  },
  {
   "cell_type": "code",
   "execution_count": null,
   "id": "114632b5-2084-4f2e-8e59-40d357e31426",
   "metadata": {
    "tags": []
   },
   "outputs": [],
   "source": [
    "data_dir = \"../../data/Overlijden/samples/first/page\"\n",
    "\n",
    "texts, metadata, textregions = read_transkribus_files.read_files(data_dir)"
   ]
  },
  {
   "cell_type": "code",
   "execution_count": null,
   "id": "c792cc57-7bfd-4240-9c0e-e775dd850249",
   "metadata": {
    "tags": []
   },
   "outputs": [],
   "source": [
    "def get_largest_textregion(textregions):\n",
    "    largest_surface = 0\n",
    "    largest_textregion = None\n",
    "    for textregion in textregions:\n",
    "        surface = (textregion[1] - textregion[0]) * (textregion[3] - textregion[2])\n",
    "        if surface > largest_surface:\n",
    "            largest_surface = surface\n",
    "            largest_textregion = textregion\n",
    "    return largest_textregion"
   ]
  },
  {
   "cell_type": "code",
   "execution_count": null,
   "id": "bdbc4616-c6ba-4e50-adbc-d7d3c934ce1e",
   "metadata": {
    "tags": []
   },
   "outputs": [],
   "source": [
    "def visualize_textregions(textregions):\n",
    "    for file_id in textregions:\n",
    "        for textregion in textregions[file_id]:\n",
    "            rectangle = plt.Rectangle((textregion[0], textregion[2]), textregion[1]-textregion[0], textregion[3]-textregion[2], \n",
    "                                      edgecolor=\"black\", facecolor=\"none\", linewidth=1)\n",
    "            plt.gca().add_patch(rectangle)\n",
    "    plt.axis(\"scaled\")\n",
    "    plt.title(\"Positions of textregions on a page\")\n",
    "    plt.savefig(\"image.png\")\n",
    "    plt.show()"
   ]
  },
  {
   "cell_type": "code",
   "execution_count": null,
   "id": "eb0155d7-fd78-407c-8e5e-f551d5446940",
   "metadata": {
    "tags": []
   },
   "outputs": [],
   "source": [
    "def get_integer_ticks(ticks):\n",
    "    return [ tick for tick in ticks if int(tick) == tick ]"
   ]
  },
  {
   "cell_type": "code",
   "execution_count": null,
   "id": "fc22e23a-42fe-4ea8-8505-e493d3577df2",
   "metadata": {
    "tags": []
   },
   "outputs": [],
   "source": [
    "def sanity_check_textregions(textregions):\n",
    "    for textregion_id in textregions:\n",
    "        if len(textregions[textregion_id]) == 0:\n",
    "            print_with_color(f\"no textregions found for document {textregion_id}\\n\")"
   ]
  },
  {
   "cell_type": "code",
   "execution_count": null,
   "id": "a3fc3c19-09c9-4a38-b79f-9bd24ff69121",
   "metadata": {
    "tags": []
   },
   "outputs": [],
   "source": [
    "def visualize_textregions_frequencies(textregions):\n",
    "    frequencies = {}\n",
    "    for file_id in textregions:\n",
    "        frequency = len(textregions[file_id])\n",
    "        if frequency in frequencies:\n",
    "            frequencies[frequency] += 1\n",
    "        else:\n",
    "            frequencies[frequency] = 1\n",
    "    plt.bar(frequencies.keys(), frequencies.values())\n",
    "    plt.title(\"Number of regions per text\")\n",
    "    plt.xticks(get_integer_ticks(plt.xticks()[0]))\n",
    "    plt.savefig(\"image.png\")\n",
    "    plt.show()"
   ]
  },
  {
   "cell_type": "code",
   "execution_count": null,
   "id": "1f4bc69b-ce76-41c3-9ca6-a81a279536f3",
   "metadata": {
    "tags": []
   },
   "outputs": [],
   "source": [
    "three_columns_data = { textregion_id: textregions[textregion_id] for textregion_id in textregions if textregion_id > 1869001 }"
   ]
  },
  {
   "cell_type": "code",
   "execution_count": null,
   "id": "c1ae4749-46b9-4a1f-a719-88272b971e80",
   "metadata": {
    "tags": []
   },
   "outputs": [],
   "source": [
    "largest_textregions = { textregion_id: [get_largest_textregion(textregions[textregion_id])]\n",
    "                        for textregion_id in textregions }     "
   ]
  },
  {
   "cell_type": "code",
   "execution_count": null,
   "id": "89974552-8aff-44e3-ad7a-bb3185436c3a",
   "metadata": {
    "tags": []
   },
   "outputs": [],
   "source": [
    "visualize_textregions(largest_textregions)"
   ]
  },
  {
   "cell_type": "code",
   "execution_count": null,
   "id": "74823ea7-a879-4be0-9ad2-6d3fdab23829",
   "metadata": {
    "tags": []
   },
   "outputs": [],
   "source": [
    "visualize_textregions_frequencies(textregions)"
   ]
  },
  {
   "cell_type": "code",
   "execution_count": null,
   "id": "07e9ca49-d04c-46a1-b24d-aa96fdcfd503",
   "metadata": {
    "tags": []
   },
   "outputs": [],
   "source": [
    "textregion_id = 1831001\n",
    "visualize_textregions({ textregion_id: textregions[textregion_id] })"
   ]
  },
  {
   "cell_type": "code",
   "execution_count": null,
   "id": "216077a7-fb92-44a4-827f-55f46dd745ff",
   "metadata": {
    "tags": []
   },
   "outputs": [],
   "source": [
    "sanity_check_textregions(textregions)"
   ]
  },
  {
   "cell_type": "code",
   "execution_count": null,
   "id": "218de683-1df4-44ec-8198-79c1f753fa04",
   "metadata": {},
   "outputs": [],
   "source": []
  }
 ],
 "metadata": {
  "kernelspec": {
   "display_name": "Python 3 (ipykernel)",
   "language": "python",
   "name": "python3"
  },
  "language_info": {
   "codemirror_mode": {
    "name": "ipython",
    "version": 3
   },
   "file_extension": ".py",
   "mimetype": "text/x-python",
   "name": "python",
   "nbconvert_exporter": "python",
   "pygments_lexer": "ipython3",
   "version": "3.9.13"
  }
 },
 "nbformat": 4,
 "nbformat_minor": 5
}
