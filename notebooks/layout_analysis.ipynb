{
 "cells": [
  {
   "cell_type": "markdown",
   "id": "6e6c57b2-ec2a-4a73-981a-3a41cc394061",
   "metadata": {},
   "source": [
    "# Layout analysis\n",
    "\n",
    "Compare layout recognition models trained in Transkribus: can they identify two-column and three-column texts? "
   ]
  },
  {
   "cell_type": "markdown",
   "id": "85a47489-5e16-4963-8607-8a530de29a36",
   "metadata": {},
   "source": [
    "## 1. Aggregated text region visualization"
   ]
  },
  {
   "cell_type": "code",
   "execution_count": null,
   "id": "f2b6a71a-c8c6-482e-a1ba-c1a9aa8aa3ad",
   "metadata": {
    "tags": []
   },
   "outputs": [],
   "source": [
    "import matplotlib.pyplot as plt\n",
    "import os\n",
    "import regex\n",
    "import sys\n",
    "sys.path.append(os.getcwd() + '/..')\n",
    "from scripts import read_transkribus_files"
   ]
  },
  {
   "cell_type": "code",
   "execution_count": null,
   "id": "114632b5-2084-4f2e-8e59-40d357e31426",
   "metadata": {
    "tags": []
   },
   "outputs": [],
   "source": [
    "data_dir = \"../../data/Overlijden/x-samples/first-p2pala/page\" # ETKS 2023 report Figure 4\n",
    "# data_dir = \"../../data/Overlijden/x-samples/three-columns-100-p2pala-2/page\" # ETKS 2023 report Figure 5 left\n",
    "# data_dir = \"../../data/Overlijden/x-samples/three-columns-100-p2pala-3/page\" # ETKS 2023 report Figure 5 right\n",
    "\n",
    "texts, metadata, textregions = read_transkribus_files.read_files(data_dir)"
   ]
  },
  {
   "cell_type": "code",
   "execution_count": null,
   "id": "bdbc4616-c6ba-4e50-adbc-d7d3c934ce1e",
   "metadata": {
    "jupyter": {
     "source_hidden": true
    },
    "tags": []
   },
   "outputs": [],
   "source": [
    "def visualize_textregions(textregions, title=\"Positions of textregions on a page\"):\n",
    "    for file_id in textregions:\n",
    "        for textregion in textregions[file_id]:\n",
    "            if textregion is not None:\n",
    "                rectangle = plt.Rectangle((textregion[0], -textregion[2]), textregion[1]-textregion[0], textregion[2]-textregion[3], \n",
    "                                          edgecolor=\"black\", facecolor=\"none\", linewidth=1)\n",
    "                plt.gca().add_patch(rectangle)\n",
    "    plt.axis(\"scaled\")\n",
    "    plt.title(title)\n",
    "    plt.savefig(\"image.png\")\n",
    "    plt.show()"
   ]
  },
  {
   "cell_type": "code",
   "execution_count": null,
   "id": "eb0155d7-fd78-407c-8e5e-f551d5446940",
   "metadata": {
    "jupyter": {
     "source_hidden": true
    },
    "tags": []
   },
   "outputs": [],
   "source": [
    "def get_integer_ticks(ticks):\n",
    "    return [ tick for tick in ticks if int(tick) == tick ]"
   ]
  },
  {
   "cell_type": "code",
   "execution_count": null,
   "id": "a3fc3c19-09c9-4a38-b79f-9bd24ff69121",
   "metadata": {
    "jupyter": {
     "source_hidden": true
    },
    "tags": []
   },
   "outputs": [],
   "source": [
    "def visualize_textregions_frequencies(textregions, title=\"Number of regions per text\"):\n",
    "    frequencies = {}\n",
    "    for file_id in textregions:\n",
    "        frequency = len(textregions[file_id])\n",
    "        if frequency in frequencies:\n",
    "            frequencies[frequency] += 1\n",
    "        else:\n",
    "            frequencies[frequency] = 1\n",
    "    plt.bar(frequencies.keys(), frequencies.values())\n",
    "    plt.title(title)\n",
    "    plt.xticks(get_integer_ticks(plt.xticks()[0]))\n",
    "    plt.savefig(\"image.png\")\n",
    "    plt.show()"
   ]
  },
  {
   "cell_type": "code",
   "execution_count": null,
   "id": "1f4bc69b-ce76-41c3-9ca6-a81a279536f3",
   "metadata": {
    "tags": []
   },
   "outputs": [],
   "source": [
    "three_columns_data =  { textregion_id: textregions[textregion_id] \n",
    "                        for textregion_id in textregions if textregion_id < \"1869\" }\n",
    "two_columns_data =    { textregion_id: textregions[textregion_id] \n",
    "                        for textregion_id in textregions if textregion_id > \"1869\" }\n",
    "\n",
    "print(f\"textregions: {len(textregions)}; three_columns_data: {len(three_columns_data)}; two_columns_data: {len(two_columns_data)}\")"
   ]
  },
  {
   "cell_type": "code",
   "execution_count": null,
   "id": "89974552-8aff-44e3-ad7a-bb3185436c3a",
   "metadata": {
    "tags": []
   },
   "outputs": [],
   "source": [
    "if len(three_columns_data) == 0 or len(two_columns_data) == 0:\n",
    "    visualize_textregions(textregions)\n",
    "else:\n",
    "    visualize_textregions(two_columns_data, title=f\"Positions of identified textregions on two-column page\")\n",
    "    visualize_textregions(three_columns_data, title=f\"Positions of identified textregions on three-column page\")"
   ]
  },
  {
   "cell_type": "markdown",
   "id": "dd3f4f3e-da28-41ac-965c-c3ea8a64874c",
   "metadata": {},
   "source": [
    "## 2. Check positions of largest text regions"
   ]
  },
  {
   "cell_type": "code",
   "execution_count": null,
   "id": "c792cc57-7bfd-4240-9c0e-e775dd850249",
   "metadata": {
    "jupyter": {
     "source_hidden": true
    },
    "tags": []
   },
   "outputs": [],
   "source": [
    "def get_largest_textregion(textregions, right_margin_only=False):\n",
    "    largest_surface = 0\n",
    "    largest_textregion = None\n",
    "    for textregion in textregions:\n",
    "        if not right_margin_only or textregion[0] >= 1100:\n",
    "            surface = (textregion[1] - textregion[0]) * (textregion[3] - textregion[2])\n",
    "            if surface > largest_surface:\n",
    "                largest_surface = surface\n",
    "                largest_textregion = textregion\n",
    "    return largest_textregion"
   ]
  },
  {
   "cell_type": "code",
   "execution_count": null,
   "id": "eb454814-0981-4cc2-9861-936ed3f83c4b",
   "metadata": {},
   "outputs": [],
   "source": [
    "if regex.search(\"first-p2pala\", data_dir):\n",
    "    target_data = three_columns_data\n",
    "else:\n",
    "    target_data = textregions\n",
    "\n",
    "largest_textregions = { textregion_id: [ get_largest_textregion(target_data[textregion_id]) ] for textregion_id in target_data }\n",
    "textregion_count = len([ True for textregion_id in largest_textregions if largest_textregions[textregion_id][0][1] < 1300 ])\n",
    "textregion_total = len([ True for textregion_id in largest_textregions if largest_textregions[textregion_id] is not None ])\n",
    "print(f\"{textregion_count} of {textregion_total} textregions have space to the right for a margin text\") "
   ]
  },
  {
   "cell_type": "code",
   "execution_count": null,
   "id": "2e180f33-d53e-47e0-8a24-ee709eb8abba",
   "metadata": {},
   "outputs": [],
   "source": [
    "visualize_textregions(largest_textregions, title=\"Positions of largest textregions on a page\")"
   ]
  },
  {
   "cell_type": "code",
   "execution_count": null,
   "id": "0b2756df-93fd-4891-af67-99adfb3151d2",
   "metadata": {},
   "outputs": [],
   "source": [
    "largest_textregions_in_right_margin = { textregion_id: [ get_largest_textregion(target_data[textregion_id], right_margin_only=True) ] for textregion_id in target_data }\n",
    "textregion_count = len([ True for textregion_id in largest_textregions_in_right_margin if largest_textregions_in_right_margin[textregion_id][0] is not None ])\n",
    "print(f\"Found {textregion_count} certificates with a right margin\") "
   ]
  },
  {
   "cell_type": "code",
   "execution_count": null,
   "id": "fa8f12e7-2773-4cb1-b51d-26bbb4b27219",
   "metadata": {},
   "outputs": [],
   "source": [
    "visualize_textregions(largest_textregions_in_right_margin, title=\"Positions of largest textregions in right margin\")"
   ]
  },
  {
   "cell_type": "markdown",
   "id": "351bdd1f-d52f-4ea4-98b7-4f82918de860",
   "metadata": {},
   "source": [
    "## 3. Single certificate text region visualization"
   ]
  },
  {
   "cell_type": "code",
   "execution_count": null,
   "id": "68ffbd92-e7b0-4a82-9dfe-b02b16b09800",
   "metadata": {
    "jupyter": {
     "source_hidden": true
    }
   },
   "outputs": [],
   "source": [
    "def get_id_of_text_with_most_textregions(textregions):\n",
    "    nbr_of_textregions = { textregions_id: len(textregions[textregions_id]) for textregions_id in textregions }\n",
    "    max_textregions_id = sorted(nbr_of_textregions.items(), key=lambda x: x[1], reverse=True)[0][0]\n",
    "    return max_textregions_id"
   ]
  },
  {
   "cell_type": "code",
   "execution_count": null,
   "id": "d0a8b1b3-ed68-484f-bc67-2c71ed5c14af",
   "metadata": {},
   "outputs": [],
   "source": [
    "max_textregions_id = get_id_of_text_with_most_textregions(textregions)\n",
    "visualize_textregions({ max_textregions_id: textregions[max_textregions_id] }, \n",
    "                      title=f\"Positions of {len(textregions[max_textregions_id])} textregions on page {max_textregions_id}\")"
   ]
  },
  {
   "cell_type": "markdown",
   "id": "09f5074b-56b9-4160-b691-e464f829320d",
   "metadata": {},
   "source": [
    "## 4. Text region counts per certificate"
   ]
  },
  {
   "cell_type": "code",
   "execution_count": null,
   "id": "74823ea7-a879-4be0-9ad2-6d3fdab23829",
   "metadata": {
    "tags": []
   },
   "outputs": [],
   "source": [
    "visualize_textregions_frequencies(textregions)"
   ]
  },
  {
   "cell_type": "markdown",
   "id": "a40844e2-5128-4c2e-a292-0c9395962da9",
   "metadata": {},
   "source": [
    "## 5. Check for texts without textregions"
   ]
  },
  {
   "cell_type": "code",
   "execution_count": null,
   "id": "fc22e23a-42fe-4ea8-8505-e493d3577df2",
   "metadata": {
    "jupyter": {
     "source_hidden": true
    },
    "tags": []
   },
   "outputs": [],
   "source": [
    "def sanity_check_textregions(textregions):\n",
    "    for textregion_id in textregions:\n",
    "        if len(textregions[textregion_id]) == 0:\n",
    "            print(f\"no textregions found for document {textregion_id}\")"
   ]
  },
  {
   "cell_type": "code",
   "execution_count": null,
   "id": "216077a7-fb92-44a4-827f-55f46dd745ff",
   "metadata": {
    "tags": []
   },
   "outputs": [],
   "source": [
    "sanity_check_textregions(textregions)"
   ]
  },
  {
   "cell_type": "code",
   "execution_count": null,
   "id": "600caf59-edbd-4d70-8275-6b31b6b3290f",
   "metadata": {},
   "outputs": [],
   "source": []
  }
 ],
 "metadata": {
  "kernelspec": {
   "display_name": "Python 3 (ipykernel)",
   "language": "python",
   "name": "python3"
  },
  "language_info": {
   "codemirror_mode": {
    "name": "ipython",
    "version": 3
   },
   "file_extension": ".py",
   "mimetype": "text/x-python",
   "name": "python",
   "nbconvert_exporter": "python",
   "pygments_lexer": "ipython3",
   "version": "3.9.13"
  }
 },
 "nbformat": 4,
 "nbformat_minor": 5
}
