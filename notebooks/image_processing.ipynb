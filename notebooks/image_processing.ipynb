{
 "cells": [
  {
   "cell_type": "markdown",
   "id": "2aaf23a2-f6ea-4e59-8c38-51f37c7cb9d3",
   "metadata": {},
   "source": [
    "# Image processing\n",
    "\n",
    "Process images of text scans"
   ]
  },
  {
   "cell_type": "code",
   "execution_count": null,
   "id": "551caf2a-a623-4ec1-9de8-a7ed5a9d1fbd",
   "metadata": {},
   "outputs": [],
   "source": [
    "from PIL import Image "
   ]
  },
  {
   "cell_type": "code",
   "execution_count": null,
   "id": "b10db32f-287c-46de-ba11-d705bcdb2ff7",
   "metadata": {},
   "outputs": [],
   "source": [
    "def polygon2rectangle(coordinates):\n",
    "    x_min, x_max, y_min, y_max = (1000000, 0, 1000000, 0)\n",
    "    for x, y in coordinates:\n",
    "        if x < x_min: x_min = x\n",
    "        if x > x_max: x_max = x\n",
    "        if y < y_min: y_min = y\n",
    "        if y > y_max: y_max = y\n",
    "    return x_min, y_min, x_max, y_max"
   ]
  },
  {
   "cell_type": "code",
   "execution_count": null,
   "id": "1428a8f6-f994-4812-a337-ec986e9fa92e",
   "metadata": {},
   "outputs": [],
   "source": [
    "image = Image.open(r\"../../data/Overlijden/O.R. 1831/O.R. 1831 Stad/O.R. 1831 Stad 001.JPG\") "
   ]
  },
  {
   "cell_type": "code",
   "execution_count": null,
   "id": "bb9bebc9-e4c8-46a9-a56a-36bad210ea5f",
   "metadata": {},
   "outputs": [],
   "source": [
    "image.show()"
   ]
  },
  {
   "cell_type": "code",
   "execution_count": null,
   "id": "92bf2f9c-fd8c-439d-9dc5-d0dff2b8e1f2",
   "metadata": {},
   "outputs": [],
   "source": [
    "rectangle = polygon2rectangle([[1166,594], [3086,596], [3086,533], [2862,555], [2792,500], [1166,534]])"
   ]
  },
  {
   "cell_type": "code",
   "execution_count": null,
   "id": "659eb82b-b51a-481f-88f5-92d0ce31ae07",
   "metadata": {},
   "outputs": [],
   "source": [
    "rectangle"
   ]
  },
  {
   "cell_type": "code",
   "execution_count": null,
   "id": "cfdc1ce2-381d-4914-a636-83f973f9d767",
   "metadata": {},
   "outputs": [],
   "source": [
    "cropped_image = image.crop(rectangle)"
   ]
  },
  {
   "cell_type": "code",
   "execution_count": null,
   "id": "f4c49042-1fcc-4b34-93d0-20cfd5068258",
   "metadata": {},
   "outputs": [],
   "source": [
    "cropped_image.show()"
   ]
  },
  {
   "cell_type": "code",
   "execution_count": null,
   "id": "1d9dcac3-79d5-4ce9-a2c3-8131054daa56",
   "metadata": {},
   "outputs": [],
   "source": []
  }
 ],
 "metadata": {
  "kernelspec": {
   "display_name": "Python 3 (ipykernel)",
   "language": "python",
   "name": "python3"
  },
  "language_info": {
   "codemirror_mode": {
    "name": "ipython",
    "version": 3
   },
   "file_extension": ".py",
   "mimetype": "text/x-python",
   "name": "python",
   "nbconvert_exporter": "python",
   "pygments_lexer": "ipython3",
   "version": "3.9.13"
  }
 },
 "nbformat": 4,
 "nbformat_minor": 5
}
