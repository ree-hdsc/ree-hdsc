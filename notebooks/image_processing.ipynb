{
 "cells": [
  {
   "cell_type": "markdown",
   "id": "2aaf23a2-f6ea-4e59-8c38-51f37c7cb9d3",
   "metadata": {},
   "source": [
    "# Image processing\n",
    "\n",
    "Process images of text scans"
   ]
  },
  {
   "cell_type": "code",
   "execution_count": null,
   "id": "551caf2a-a623-4ec1-9de8-a7ed5a9d1fbd",
   "metadata": {},
   "outputs": [],
   "source": [
    "import numpy\n",
    "import os\n",
    "import regex\n",
    "import sys\n",
    "from PIL import Image, ImageDraw\n",
    "import xml.etree.ElementTree as ET\n",
    "sys.path.append(os.getcwd() + '/..')\n",
    "from scripts import read_transkribus_files\n",
    "from IPython.display import clear_output"
   ]
  },
  {
   "cell_type": "code",
   "execution_count": null,
   "id": "0d4858d3-01c1-4d8c-9216-146becd68513",
   "metadata": {},
   "outputs": [],
   "source": [
    "CORPUS_DIR = \"../../data/Overlijden/\"\n",
    "COORDINATES_DIR = CORPUS_DIR + \"x-samples/three-columns-100/corrected/\"\n",
    "\n",
    "TRANSPARENT_BACKGROUND = 255\n",
    "COVERED_BACKGROUND = 128"
   ]
  },
  {
   "cell_type": "code",
   "execution_count": null,
   "id": "b10db32f-287c-46de-ba11-d705bcdb2ff7",
   "metadata": {},
   "outputs": [],
   "source": [
    "def polygon2rectangle(coordinates):\n",
    "    x_min, x_max, y_min, y_max = (1000000, 0, 1000000, 0)\n",
    "    for x, y in coordinates:\n",
    "        if x < x_min: x_min = x\n",
    "        if x > x_max: x_max = x\n",
    "        if y < y_min: y_min = y\n",
    "        if y > y_max: y_max = y\n",
    "    return x_min, y_min, x_max, y_max"
   ]
  },
  {
   "cell_type": "code",
   "execution_count": null,
   "id": "1d9dcac3-79d5-4ce9-a2c3-8131054daa56",
   "metadata": {},
   "outputs": [],
   "source": [
    "# code based on https://stackoverflow.com/questions/22588074/polygon-crop-clip-using-python-pil\n",
    "\n",
    "def mark_polygon(image, polygon, covered_background=COVERED_BACKGROUND):\n",
    "    image_with_transparency = image.convert(\"RGBA\")\n",
    "    numpy_image = numpy.asarray(image_with_transparency)\n",
    "    masked_image = Image.new('P', (numpy_image.shape[1], numpy_image.shape[0]), covered_background)\n",
    "    ImageDraw.Draw(masked_image).polygon(polygon, outline=0, fill=TRANSPARENT_BACKGROUND)\n",
    "    mask = numpy.array(masked_image)\n",
    "    masked_numpy_image = numpy.empty(numpy_image.shape, dtype='uint8')\n",
    "    masked_numpy_image[:,:,:3] = numpy_image[:,:,:3]\n",
    "    masked_numpy_image[:,:,3] = mask\n",
    "    return Image.fromarray(masked_numpy_image, \"RGBA\")"
   ]
  },
  {
   "cell_type": "code",
   "execution_count": null,
   "id": "b27b972f-27ce-4988-9f5b-8b50000db352",
   "metadata": {},
   "outputs": [],
   "source": [
    "def make_image_file_name(coordinates_file_name):\n",
    "    file_name_parts = coordinates_file_name.split()\n",
    "    year_dir = \" \".join(file_name_parts[:2])\n",
    "    district_dir = regex.sub(\"\\.$\", \"\", \" \".join(file_name_parts[:-1]))\n",
    "    return os.path.join(CORPUS_DIR, year_dir, district_dir, regex.sub(\"xml$\", \"JPG\", coordinates_file_name))"
   ]
  },
  {
   "cell_type": "code",
   "execution_count": null,
   "id": "fde41258-7019-4f9d-b64d-10c79b99d983",
   "metadata": {},
   "outputs": [],
   "source": [
    "def get_coordinates_from_line(line):\n",
    "    split_line = [ pair.split(\",\") for pair in line.split() ]\n",
    "    return [ ( int(x), int(y) ) for x, y in split_line ]"
   ]
  },
  {
   "cell_type": "code",
   "execution_count": null,
   "id": "da2ca58f-71a9-4df6-96a4-27bad4aae785",
   "metadata": {},
   "outputs": [],
   "source": [
    "def encloses_point(rectangle, point):\n",
    "    return(rectangle[0] <= point[0] and rectangle[2] >= point[0] and \n",
    "           rectangle[1] <= point[1] and rectangle[3] >= point[1])"
   ]
  },
  {
   "cell_type": "code",
   "execution_count": null,
   "id": "07bc47a9-b487-4d07-aee2-09be47820035",
   "metadata": {},
   "outputs": [],
   "source": [
    "results = []\n",
    "for coordinates_file_name in sorted(os.listdir(os.path.join(COORDINATES_DIR)))[:10]:\n",
    "    image_file_name = make_image_file_name(coordinates_file_name)\n",
    "    image = Image.open(image_file_name)\n",
    "    coordinates_file_name = os.path.join(COORDINATES_DIR, coordinates_file_name)\n",
    "    tree = ET.parse(coordinates_file_name)\n",
    "    root = tree.getroot()\n",
    "    text, meta_data = read_transkribus_files.get_text_from_xml(root)\n",
    "    match_found = False\n",
    "    for text_line in root.findall(\".//{*}TextLine\"):\n",
    "        text_line_id = text_line.attrib[\"id\"]\n",
    "        for coords in text_line.findall(\"./{*}Coords\"):\n",
    "            polygon = get_coordinates_from_line(coords.attrib[\"points\"])\n",
    "            rectangle = polygon2rectangle(polygon)\n",
    "            if encloses_point(rectangle, [ 600, 460 ]):\n",
    "                marked_image = mark_polygon(image, polygon)\n",
    "                display(marked_image.crop(rectangle))\n",
    "                evaluation = input(\"is this correct? \")\n",
    "                results.append((image_file_name, text_line_id, evaluation))\n",
    "                match_found = True\n",
    "                clear_output(wait=True)\n",
    "        if match_found:\n",
    "            break"
   ]
  },
  {
   "cell_type": "code",
   "execution_count": null,
   "id": "dbe741a3-97df-4afc-a460-63ca7278d7e0",
   "metadata": {},
   "outputs": [],
   "source": [
    "results"
   ]
  },
  {
   "cell_type": "code",
   "execution_count": null,
   "id": "ac75b670-7de4-42be-ad6a-c4849ef432e9",
   "metadata": {},
   "outputs": [],
   "source": [
    "# this works only with \"jupyter notebook\" not with \"jupyter lab\"\n",
    "\n",
    "%matplotlib notebook\n",
    "import matplotlib.pyplot as plt"
   ]
  },
  {
   "cell_type": "code",
   "execution_count": null,
   "id": "08dc1cda",
   "metadata": {},
   "outputs": [],
   "source": [
    "def onclick(event):\n",
    "    global ix, iy\n",
    "    ix, iy = event.xdata, event.ydata\n",
    "    text.set_text(f\"{ix} {iy}\")\n",
    "    return"
   ]
  },
  {
   "cell_type": "code",
   "execution_count": null,
   "id": "c5973705-7108-4f74-9b79-15c0c29a8111",
   "metadata": {},
   "outputs": [],
   "source": [
    "def show_scan():\n",
    "    global text\n",
    "    fig = plt.figure()\n",
    "    plt.imshow(marked_image)\n",
    "    text = fig.text(0,0,\"filler\")\n",
    "    fig.canvas.mpl_connect('button_press_event', onclick)\n",
    "    plt.plot()"
   ]
  },
  {
   "cell_type": "code",
   "execution_count": null,
   "id": "650cb757",
   "metadata": {},
   "outputs": [],
   "source": [
    "show_scan()"
   ]
  },
  {
   "cell_type": "code",
   "execution_count": null,
   "id": "25541d14",
   "metadata": {},
   "outputs": [],
   "source": []
  }
 ],
 "metadata": {
  "kernelspec": {
   "display_name": "Python 3 (ipykernel)",
   "language": "python",
   "name": "python3"
  },
  "language_info": {
   "codemirror_mode": {
    "name": "ipython",
    "version": 3
   },
   "file_extension": ".py",
   "mimetype": "text/x-python",
   "name": "python",
   "nbconvert_exporter": "python",
   "pygments_lexer": "ipython3",
   "version": "3.9.13"
  }
 },
 "nbformat": 4,
 "nbformat_minor": 5
}
