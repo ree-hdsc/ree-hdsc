{
 "cells": [
  {
   "cell_type": "markdown",
   "id": "4c777b58-5543-4526-9e58-b03ffc0f0d26",
   "metadata": {},
   "source": [
    "# CER tests\n",
    "\n",
    "Tests with character error rate (CER) computation with the goal of evaluating parts of documents that were generated with hand-written text recognition (HTR)."
   ]
  },
  {
   "cell_type": "markdown",
   "id": "413c1e4c-3860-41e4-bbc9-f8676175784d",
   "metadata": {},
   "source": [
    "## 1. Initialization"
   ]
  },
  {
   "cell_type": "code",
   "execution_count": null,
   "id": "09b2bd8c-0e8f-4f6d-93b2-c6e8c3b8cb09",
   "metadata": {},
   "outputs": [],
   "source": [
    "from collections import Counter\n",
    "import fastwer\n",
    "import os\n",
    "import regex\n",
    "import sys\n",
    "sys.path.append(os.getcwd() + '/..')\n",
    "from scripts import read_transkribus_files"
   ]
  },
  {
   "cell_type": "code",
   "execution_count": null,
   "id": "917ab9f5-566c-4949-a1b0-6f5a28376edd",
   "metadata": {},
   "outputs": [],
   "source": [
    "sentence_gold = \"John moved the table from the room to outside\"\n",
    "sentence_ocr = \"John mowed zhe taole fom he broom fo ovtsioe\""
   ]
  },
  {
   "cell_type": "code",
   "execution_count": null,
   "id": "996e47f3-620b-4ce7-b821-d6ebff970a94",
   "metadata": {},
   "outputs": [],
   "source": [
    "fastwer.score_sent(sentence_gold, sentence_ocr, char_level=True)"
   ]
  },
  {
   "cell_type": "code",
   "execution_count": null,
   "id": "3da4fe3b-1818-47d6-be3c-1be6ddd862c0",
   "metadata": {},
   "outputs": [],
   "source": [
    "data_dir_gold = \"tmp/1586854/Validation_set/page\"\n",
    "data_dir_htr = \"tmp/1749649/Validation_set_HTR_Curacao_bestModel/page\""
   ]
  },
  {
   "cell_type": "code",
   "execution_count": null,
   "id": "6eb9807d-8b6f-4a2b-bc6f-18ed0daf66ca",
   "metadata": {},
   "outputs": [],
   "source": [
    "texts_gold, metadata_gold, textregions_gold  = read_transkribus_files.read_files(data_dir_gold)\n",
    "texts_htr, metadata_htr, textregions_htr  = read_transkribus_files.read_files(data_dir_htr)"
   ]
  },
  {
   "cell_type": "code",
   "execution_count": null,
   "id": "8105c443-d99a-4a2c-8eef-0a3d1b02670a",
   "metadata": {},
   "outputs": [],
   "source": [
    "total_cer = 0\n",
    "total_chars = 0\n",
    "for file_name in sorted(texts_htr.keys()):\n",
    "    cer = fastwer.score_sent(texts_htr[file_name], texts_gold[file_name], char_level=True)\n",
    "    max_text_length = max(len(texts_htr[file_name]), len(texts_gold[file_name]))\n",
    "    total_chars += max_text_length\n",
    "    total_cer += max_text_length * cer\n",
    "    print(cer, file_name)\n",
    "print(f\"average cer: {total_cer/total_chars}\")"
   ]
  },
  {
   "cell_type": "code",
   "execution_count": null,
   "id": "2d071b58-cedb-417d-94e2-deff3bb11856",
   "metadata": {},
   "outputs": [],
   "source": [
    "def find_best_line_match(line_htr, lines_gold):\n",
    "    best_index_gold = -1\n",
    "    best_cer = 100\n",
    "    for index_gold in range(0, len(lines_gold)):\n",
    "        cer = fastwer.score_sent(line_htr, lines_gold[index_gold], char_level=True)\n",
    "        if cer < best_cer:\n",
    "            best_cer = cer\n",
    "            best_index_gold = index_gold\n",
    "    return best_index_gold, best_cer"
   ]
  },
  {
   "cell_type": "code",
   "execution_count": null,
   "id": "331b2428-cc50-46d3-809f-a21043eaec60",
   "metadata": {},
   "outputs": [],
   "source": [
    "def align_lines(lines_htr, lines_gold):\n",
    "    alignments = []\n",
    "    for index_htr in range(0, len(lines_htr)):\n",
    "        best_index_gold, best_cer = find_best_line_match(lines_htr[index_htr], lines_gold)\n",
    "        alignments.append((index_htr, best_index_gold, best_cer))\n",
    "    return alignments"
   ]
  },
  {
   "cell_type": "code",
   "execution_count": null,
   "id": "cf6b7eda-9504-481b-a4fa-17603d4e311a",
   "metadata": {},
   "outputs": [],
   "source": [
    "def cleanup_line(line):\n",
    "    line = line.lower()\n",
    "    line = regex.sub(\"y\", \"ij\", line)\n",
    "    line = line.translate(str.maketrans(\"çéëó\", \"ceeo\"))\n",
    "    line = regex.sub('^[.,!?:;\")(-]+', \"\", line)\n",
    "    line = regex.sub('\\s[.,!?:;\")(-]+', \" \", line)\n",
    "    line = regex.sub('[.,!?:;\")(-]+\\s', \" \", line)\n",
    "    line = regex.sub('[.,!?:;\")(-]+$', \"\", line)\n",
    "    return(line)"
   ]
  },
  {
   "cell_type": "code",
   "execution_count": null,
   "id": "babcae18-bc32-4302-9075-500fde5023fa",
   "metadata": {},
   "outputs": [],
   "source": [
    "def cleanup_text(text):\n",
    "    return \"\\n\".join([cleanup_line(line) for line in  text.split(\"\\n\")])"
   ]
  },
  {
   "cell_type": "code",
   "execution_count": null,
   "id": "3c1ab03a-6c23-410f-8fa2-0ce7310e531e",
   "metadata": {},
   "outputs": [],
   "source": [
    "def count_distances(alignments):\n",
    "    return Counter([ alignment[1] - alignment[0] for alignment in alignments])"
   ]
  },
  {
   "cell_type": "code",
   "execution_count": null,
   "id": "1c58adad-8589-4fa2-a5d3-25966283bf49",
   "metadata": {},
   "outputs": [],
   "source": [
    "def check_alignments_order(alignments):\n",
    "    last_gold_index = -1\n",
    "    to_be_deleted = []\n",
    "    distances = count_distances(alignments)\n",
    "    for alignment_index in range(0, len(alignments)):\n",
    "        if last_gold_index < alignments[alignment_index][1]:\n",
    "            last_gold_index = alignments[alignment_index][1]\n",
    "        elif alignments[alignment_index][2] > alignments[alignment_index - 1][2]:\n",
    "            to_be_deleted.append(alignment_index)\n",
    "        elif alignments[alignment_index][2] < alignments[alignment_index - 1][2]:\n",
    "            to_be_deleted.append(alignment_index - 1)\n",
    "            last_gold_index = alignments[alignment_index][1]\n",
    "        elif (distances[alignments[alignment_index][1] - alignments[alignment_index][0]] <\n",
    "              distances[alignments[alignment_index - 1][1] - alignments[alignment_index - 1][0]]):\n",
    "            to_be_deleted.append(alignment_index)\n",
    "        else:\n",
    "            to_be_deleted.append(alignment_index - 1)\n",
    "            last_gold_index = alignments[alignment_index][1]\n",
    "    for to_be_deleted_value in list(reversed(to_be_deleted)):\n",
    "        alignments.pop(to_be_deleted_value)\n",
    "    to_be_added = []\n",
    "    for alignment_index in range(1, len(alignments)):\n",
    "        if ((alignments[alignment_index][0] - alignments[alignment_index - 1][0] == \n",
    "             alignments[alignment_index][1] - alignments[alignment_index - 1][1]) and\n",
    "            alignments[alignment_index][0] - alignments[alignment_index - 1][0] != 1):\n",
    "            for alignment_index_delta in range(1, alignments[alignment_index][0] - alignments[alignment_index - 1][0]):\n",
    "                to_be_added.append((alignment_index, \n",
    "                                    alignments[alignment_index - 1][0] + alignment_index_delta,\n",
    "                                    alignments[alignment_index - 1][1] + alignment_index_delta))\n",
    "    for to_be_added_element in list(reversed(to_be_added)):\n",
    "        alignments.insert(to_be_added_element[0], (to_be_added_element[1],\n",
    "                                                   to_be_added_element[2],\n",
    "                                                   fastwer.score_sent(lines_htr[to_be_added_element[1]], \n",
    "                                                                      lines_gold[to_be_added_element[2]], \n",
    "                                                                      char_level=True)))\n",
    "    return len(to_be_deleted) > 0 or len(to_be_added) > 0, alignments"
   ]
  },
  {
   "cell_type": "code",
   "execution_count": null,
   "id": "2d14f106-3e1f-4a3e-b01d-bea0287a58ab",
   "metadata": {},
   "outputs": [],
   "source": [
    "def check_alignments_order_wrapper(alignments):\n",
    "    alignments_changed = True\n",
    "    while alignments_changed:\n",
    "        alignments_changed, alignments = check_alignments_order(alignments)\n",
    "    return alignments"
   ]
  },
  {
   "cell_type": "code",
   "execution_count": null,
   "id": "0cbc73f3-9392-4cdc-8824-df1f73eed356",
   "metadata": {},
   "outputs": [],
   "source": [
    "def fix_split_words(words_htr, words_gold, wrong_words, missed_words):\n",
    "    to_be_deleted = []\n",
    "    for index_wrong in range(1, len(wrong_words)):\n",
    "        if wrong_words[index_wrong] == wrong_words[index_wrong - 1] + 1:\n",
    "            combined_word = (words_htr[wrong_words[index_wrong - 1]] + \n",
    "                             words_htr[wrong_words[index_wrong]])\n",
    "            for index_missed in range(0, len(missed_words)):\n",
    "                if words_gold[missed_words[index_missed]] == combined_word:\n",
    "                    to_be_deleted.append((index_wrong - 1, index_wrong, index_missed))\n",
    "                    break\n",
    "    for to_be_deleted_item in list(reversed(to_be_deleted)):\n",
    "        for to_be_deleted_wrong_index in range(to_be_deleted_item[1], to_be_deleted_item[0] - 1, -1):\n",
    "            wrong_words.pop(to_be_deleted_wrong_index)\n",
    "        missed_words.pop(to_be_deleted_item[2])\n",
    "    return wrong_words, missed_words"
   ]
  },
  {
   "cell_type": "code",
   "execution_count": null,
   "id": "a10ac023-2a9f-4396-9336-6b5235ffca59",
   "metadata": {},
   "outputs": [],
   "source": [
    "def analyze_words(line_htr, line_gold):\n",
    "    missed_words = []\n",
    "    wrong_words = []\n",
    "    if line_htr != line_gold:\n",
    "        words_htr = line_htr.split()\n",
    "        words_gold = line_gold.split()\n",
    "        alignments = align_lines(words_htr, words_gold)\n",
    "        alignments = check_alignments_order_wrapper(alignments)\n",
    "        index_htr = 0\n",
    "        index_gold = 0\n",
    "        for index_alignment in range(0, len(alignments)):\n",
    "            target_index_htr = alignments[index_alignment][0]\n",
    "            target_index_gold = alignments[index_alignment][1]\n",
    "            while index_htr < len(words_htr) and index_htr < target_index_htr:\n",
    "                wrong_words.append(index_htr)\n",
    "                index_htr += 1\n",
    "            while index_gold < len(words_gold) and index_gold < target_index_gold:\n",
    "                missed_words.append(index_gold)\n",
    "                index_gold += 1\n",
    "            if words_htr[target_index_htr] != words_gold[target_index_gold]:\n",
    "                missed_words.append(target_index_gold)\n",
    "                wrong_words.append(index_htr)\n",
    "            index_htr += 1\n",
    "            index_gold += 1\n",
    "        for index_htr_extra in range(index_htr, len(words_htr)):\n",
    "            wrong_words.append(index_htr)\n",
    "        for index_gold_extra in range(index_gold, len(words_gold)):\n",
    "            missed_words.append(index_gold_extra)\n",
    "        wrong_words, missed_words = fix_split_words(words_htr, words_gold, wrong_words, missed_words)\n",
    "    return wrong_words, missed_words"
   ]
  },
  {
   "cell_type": "code",
   "execution_count": null,
   "id": "0135a760-fc74-4940-901c-4a6f7c7fd376",
   "metadata": {},
   "outputs": [],
   "source": [
    "def analyze_lines(lines_htr, lines_gold, alignments):\n",
    "    index_htr = 0\n",
    "    line_analysis = []\n",
    "    for alignment in alignments:\n",
    "        for index_htr_delta in range(1, alignment[0]-index_htr):\n",
    "             line_analysis.append(analyze_words(lines_htr[index_htr + index_htr_delta], \"\"))\n",
    "        line_analysis.append(analyze_words(lines_htr[alignment[0]], lines_gold[alignment[1]]))\n",
    "        index_htr = alignment[0] + 1\n",
    "    for index_htr_delta in range(1, len(lines_htr)-index_htr):\n",
    "        line_analysis.append(analyze_words(lines_htr[index_htr + index_htr_delta], \"\"))\n",
    "    return line_analysis"
   ]
  },
  {
   "cell_type": "code",
   "execution_count": null,
   "id": "9fd5d291-a70d-4a73-860d-d26902c46666",
   "metadata": {},
   "outputs": [],
   "source": [
    "def show_word_analysis(line_htr, line_gold, line_analysis_line):\n",
    "    words_htr = line_htr.split()\n",
    "    words_gold = line_gold.split()\n",
    "    for index_htr in range(0, len(words_htr)):\n",
    "        if index_htr in line_analysis_line[0]:\n",
    "            read_transkribus_files.print_with_color(words_htr[index_htr], color_code=1, end=\" \")\n",
    "        else:\n",
    "            read_transkribus_files.print_with_color(words_htr[index_htr], color_code=0, end=\" \")\n",
    "    if len(line_analysis_line[1]) > 0:\n",
    "        read_transkribus_files.print_with_color([ words_gold[index_gold] \n",
    "                                                  for index_gold in line_analysis_line[1] ], \n",
    "                                                color_code=4, \n",
    "                                                end=\" \")\n",
    "    print()"
   ]
  },
  {
   "cell_type": "code",
   "execution_count": null,
   "id": "e2112768-e7ac-4e22-8198-d788214da11a",
   "metadata": {},
   "outputs": [],
   "source": [
    "def show_line_analysis(lines_htr, lines_gold, alignments, line_analysis):\n",
    "    index_htr = 0\n",
    "    for alignment in alignments:\n",
    "        for index_htr_extra in range(index_htr, alignment[0]):\n",
    "            show_word_analysis(lines_htr[index_htr_extra], \"\", [[], []])\n",
    "        show_word_analysis(lines_htr[alignment[0]], \n",
    "                           lines_gold[alignment[1]], \n",
    "                           line_analysis[alignment[0]])\n",
    "        index_htr = alignment[0] + 1\n",
    "    for index_htr_extra in range(index_htr, len(lines_htr)):\n",
    "        show_word_analysis(lines_htr[index_htr_extra], \"\", [[], []])"
   ]
  },
  {
   "cell_type": "code",
   "execution_count": null,
   "id": "69504699-89eb-4108-995b-b008ad6b228b",
   "metadata": {},
   "outputs": [],
   "source": [
    "for file_name in sorted(texts_htr.keys()):\n",
    "    lines_htr = cleanup_text(texts_htr[file_name]).split(\"\\n\")\n",
    "    lines_gold = cleanup_text(texts_gold[file_name]).split(\"\\n\")\n",
    "    alignments = align_lines(lines_htr, lines_gold)\n",
    "    cer = fastwer.score_sent(texts_htr[file_name], texts_gold[file_name], char_level=True)\n",
    "    read_transkribus_files.print_with_color(f\"{file_name} (cer={cer:.1f}):\\n\", color_code=4)\n",
    "    line_analysis = analyze_lines(lines_htr, lines_gold, alignments)\n",
    "    show_line_analysis(lines_htr, lines_gold, alignments, line_analysis)"
   ]
  },
  {
   "cell_type": "code",
   "execution_count": null,
   "id": "4fcc5bce-a643-4dc1-9058-d0c19a622801",
   "metadata": {},
   "outputs": [],
   "source": []
  }
 ],
 "metadata": {
  "kernelspec": {
   "display_name": "Python 3 (ipykernel)",
   "language": "python",
   "name": "python3"
  },
  "language_info": {
   "codemirror_mode": {
    "name": "ipython",
    "version": 3
   },
   "file_extension": ".py",
   "mimetype": "text/x-python",
   "name": "python",
   "nbconvert_exporter": "python",
   "pygments_lexer": "ipython3",
   "version": "3.9.13"
  }
 },
 "nbformat": 4,
 "nbformat_minor": 5
}
