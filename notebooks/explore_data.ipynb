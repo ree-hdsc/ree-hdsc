{
 "cells": [
  {
   "cell_type": "markdown",
   "id": "8e2bc757-f218-4c26-b6c6-2454b8dc007b",
   "metadata": {},
   "source": [
    "# Explore manually annotated Curaçao files"
   ]
  },
  {
   "cell_type": "markdown",
   "id": "4af0e29a-453f-4a4e-9171-e554d72128e3",
   "metadata": {},
   "source": [
    "## 1. Read files"
   ]
  },
  {
   "cell_type": "code",
   "execution_count": null,
   "id": "2f712aeb-f9cd-4776-8985-d7ad699d7e4b",
   "metadata": {
    "tags": []
   },
   "outputs": [],
   "source": [
    "import ast\n",
    "import json\n",
    "import re\n",
    "import xml.etree.ElementTree as ET"
   ]
  },
  {
   "cell_type": "code",
   "execution_count": null,
   "id": "f6753339-cc90-42c7-a7c5-7d64dd8d53ec",
   "metadata": {
    "tags": []
   },
   "outputs": [],
   "source": [
    "data_dir = \"../../data/Training_set_V2\""
   ]
  },
  {
   "cell_type": "code",
   "execution_count": null,
   "id": "dfc9148d-d272-40b2-8612-23c3b7610c2f",
   "metadata": {
    "tags": []
   },
   "outputs": [],
   "source": [
    "def get_text_from_file(file_name):\n",
    "    tree = ET.parse(file_name)\n",
    "    root = tree.getroot()\n",
    "    return get_text_from_xml(root)"
   ]
  },
  {
   "cell_type": "code",
   "execution_count": null,
   "id": "8542a5e2-6db4-4c4b-9b12-80c4a4368506",
   "metadata": {
    "tags": []
   },
   "outputs": [],
   "source": [
    "def get_text_from_xml(root):\n",
    "    text = \"\"\n",
    "    for textline in root.findall(\".//{*}TextLine\"):\n",
    "        custom_dict = make_custom_dict(textline.attrib)\n",
    "        for unicode in textline.findall(\".//{*}TextEquiv/{*}Unicode\"):\n",
    "            text += remove_strikethroughs(unicode.text, custom_dict) + \"\\n\"\n",
    "    return text"
   ]
  },
  {
   "cell_type": "code",
   "execution_count": null,
   "id": "4d74eb62-a95c-441c-b3cd-f8202ed6df8e",
   "metadata": {
    "tags": []
   },
   "outputs": [],
   "source": [
    "def make_custom_dict(text_line_attributes):\n",
    "    if \"custom\" not in text_line_attributes:\n",
    "        return {}\n",
    "    custom_tokens = text_line_attributes[\"custom\"].split()\n",
    "    custom_dict = {}\n",
    "    while custom_tokens:\n",
    "        custom_key = custom_tokens.pop(0)\n",
    "        custom_value = custom_tokens.pop(0)\n",
    "        while custom_tokens and not re.search(\"}$\", custom_value):\n",
    "            custom_value += \" \" + custom_tokens.pop(0)\n",
    "        if custom_key in custom_dict:\n",
    "            custom_dict[custom_key].append(ast.literal_eval(json_string_add_quotes(custom_value)))\n",
    "        else:\n",
    "            custom_dict[custom_key] = [ast.literal_eval(json_string_add_quotes(custom_value))]\n",
    "    return custom_dict"
   ]
  },
  {
   "cell_type": "code",
   "execution_count": null,
   "id": "d3f21338-20d2-4f83-a4e7-66a48fd1d772",
   "metadata": {
    "tags": []
   },
   "outputs": [],
   "source": [
    "def remove_strikethroughs(text_line, custom_dict):\n",
    "    if \"textStyle\" not in custom_dict:\n",
    "        return text_line\n",
    "    chars = list(text_line)\n",
    "    for strikethrough in custom_dict[\"textStyle\"]:\n",
    "        if \"strikethrough\" in strikethrough:\n",
    "            start = int(strikethrough[\"offset\"])\n",
    "            for i in range(start, start + int(strikethrough[\"length\"])):\n",
    "                chars[i] = \" \"\n",
    "    return \"\".join(chars)"
   ]
  },
  {
   "cell_type": "code",
   "execution_count": null,
   "id": "5a307ac6-4f4c-4f1a-82ba-f01498516d1b",
   "metadata": {
    "tags": []
   },
   "outputs": [],
   "source": [
    "def json_string_add_quotes(string):\n",
    "    return re.sub(\"{ *\", \"{ '\", \n",
    "               re.sub(\": *\", \"': '\", \n",
    "                   re.sub(\"; *\", \"', '\",\n",
    "                       re.sub(\"} *'\", \"} \",\n",
    "                           re.sub(\"; *}\", \"' }\", string)))))"
   ]
  },
  {
   "cell_type": "code",
   "execution_count": null,
   "id": "50fb7abc-b1bb-48d6-9719-33b52723d81c",
   "metadata": {
    "tags": []
   },
   "outputs": [],
   "source": [
    "def make_file_name(file_id):\n",
    "    return \"p\" + str(file_id).zfill(3) + \".xml\""
   ]
  },
  {
   "cell_type": "code",
   "execution_count": null,
   "id": "d6a43456-ec67-4c0e-99d0-2a4a34c945fa",
   "metadata": {
    "tags": []
   },
   "outputs": [],
   "source": [
    "def read_files():\n",
    "    texts = []\n",
    "    for file_id in range(1, 12):\n",
    "        if file_id != 10:\n",
    "            texts.append(get_text_from_file(data_dir + \"/\" + make_file_name(file_id)))\n",
    "    return texts"
   ]
  },
  {
   "cell_type": "code",
   "execution_count": null,
   "id": "962bd915-fe8d-4fc0-835c-69ad9bd09e61",
   "metadata": {
    "tags": []
   },
   "outputs": [],
   "source": [
    "texts = read_files()"
   ]
  },
  {
   "cell_type": "markdown",
   "id": "cc2f2ef2-d628-4876-bfd1-ded589cc8fac",
   "metadata": {},
   "source": [
    "## 2. Find entities in texts"
   ]
  },
  {
   "cell_type": "code",
   "execution_count": null,
   "id": "bbb715fe-d3af-49e7-a296-cd2121027068",
   "metadata": {
    "tags": []
   },
   "outputs": [],
   "source": [
    "import transformers\n",
    "\n",
    "transformers.utils.logging.set_verbosity_error()"
   ]
  },
  {
   "cell_type": "code",
   "execution_count": null,
   "id": "d17a58dd-4ff9-4295-9441-de917473ef4c",
   "metadata": {
    "tags": []
   },
   "outputs": [],
   "source": [
    "def show_names(entities):\n",
    "    name = \"\"\n",
    "    for part in entities:\n",
    "        if re.search(\"^B\", part[\"entity\"]) and name != \"\":\n",
    "            print(name)\n",
    "            name = \"\"\n",
    "        if re.search(\"(GPE|PERSON)$\", part[\"entity\"]):\n",
    "            if name != \"\":\n",
    "                name += \" \"\n",
    "            name += part[\"word\"]\n",
    "    if name != \"\":\n",
    "        print(name)  "
   ]
  },
  {
   "cell_type": "markdown",
   "id": "f50688d0-2fed-43f5-a5ad-1828a3e45c6b",
   "metadata": {},
   "source": [
    "Tested models (initial number indicates monthly downloads):\n",
    "* (345) wietsedv/bert-base-dutch-cased-finetuned-conll2002-ner (several false positives)\n",
    "* (74) Matthijsvanhof/bert-base-dutch-cased-finetuned-NER (not useful, tags everything)\n",
    "* (16) wietsedv/bert-base-dutch-cased-finetuned-sonar-ner (some false positives)\n",
    "* (13) proycon/bert-ner-cased-conll2002-nld (did not find any entities)\n",
    "* (10) proycon/bert-ner-cased-sonar1-nld (found only one entity)\n",
    "* (10) Matthijsvanhof/bert-base-dutch-cased-finetuned-NER8 (not useful, tags everything)\n",
    "* (4) [wietsedv/bert-base-dutch-cased-finetuned-udlassy-ner](https://huggingface.co/wietsedv/bert-base-dutch-cased-finetuned-udlassy-ner) (few false positives) **SELECTED**"
   ]
  },
  {
   "cell_type": "code",
   "execution_count": null,
   "id": "c0b0ba95-6d64-401b-aebb-b49a23874413",
   "metadata": {
    "tags": []
   },
   "outputs": [],
   "source": [
    "run_bert_pipeline = transformers.pipeline(task='ner', model='wietsedv/bert-base-dutch-cased-finetuned-udlassy-ner')"
   ]
  },
  {
   "cell_type": "code",
   "execution_count": null,
   "id": "128d26c1-b6a9-4b0a-a48b-a3cd743b7f11",
   "metadata": {
    "tags": []
   },
   "outputs": [],
   "source": [
    "entities = run_bert_pipeline(texts[1])"
   ]
  },
  {
   "cell_type": "code",
   "execution_count": null,
   "id": "4db1c588-1596-457f-8149-c821fbe94f66",
   "metadata": {
    "tags": []
   },
   "outputs": [],
   "source": [
    "show_names(entities)"
   ]
  },
  {
   "cell_type": "markdown",
   "id": "7603d2cf-c1db-4406-b378-c08e8837712d",
   "metadata": {},
   "source": [
    "## 3. Visualize entities\n",
    "\n",
    "For list of entity tags of model `wietsedv/bert-base-dutch-cased-finetuned-udlassy-ner`, see [OntoNotes](https://catalog.ldc.upenn.edu/docs/LDC2013T19/OntoNotes-Release-5.0.pdf), page 21"
   ]
  },
  {
   "cell_type": "code",
   "execution_count": null,
   "id": "1115f52c-a345-4bf5-ac6f-0bd4cb3a9924",
   "metadata": {
    "tags": []
   },
   "outputs": [],
   "source": [
    "from spacy import displacy"
   ]
  },
  {
   "cell_type": "code",
   "execution_count": null,
   "id": "e35af923-180b-4b4a-b4f1-912cc682017a",
   "metadata": {},
   "outputs": [],
   "source": [
    "def convert_entities(entities_in):\n",
    "    entities_out = []\n",
    "    for entity in entities_in:\n",
    "        start_tag = entity[\"entity\"][0]\n",
    "        label = entity[\"entity\"][2:]\n",
    "        if start_tag == \"B\" or not entities_out:\n",
    "            entities_out.append({\"start\": entity[\"start\"], \"end\": entity[\"end\"], \"label\": label})\n",
    "        else:\n",
    "            entities_out[-1][\"end\"] = entity[\"end\"]\n",
    "    return entities_out"
   ]
  },
  {
   "cell_type": "code",
   "execution_count": null,
   "id": "56502de2-83fd-4a6a-b200-74449bbea1c3",
   "metadata": {
    "tags": []
   },
   "outputs": [],
   "source": [
    "def render_text(text, entities):\n",
    "    displacy.render({ \"text\": re.sub(\"\\\\n\", \" \", text), \n",
    "                      \"ents\": convert_entities(entities) }, \n",
    "                      options = { \"colors\": { \"PERSON\": \"orange\" } }, style = \"ent\", manual = True)"
   ]
  },
  {
   "cell_type": "code",
   "execution_count": null,
   "id": "53782c7c-79d2-4b84-b85e-8a742e954da3",
   "metadata": {
    "tags": []
   },
   "outputs": [],
   "source": [
    "render_text(texts[1], entities)"
   ]
  },
  {
   "cell_type": "markdown",
   "id": "e5764092-bb7a-4205-aff1-e0f60750c294",
   "metadata": {},
   "source": [
    "## 4. Post-process entities\n",
    "\n",
    "Correct entities which end in the middle of a word"
   ]
  },
  {
   "cell_type": "code",
   "execution_count": null,
   "id": "9408c464-2237-45be-adb0-b91b58c4705d",
   "metadata": {
    "tags": []
   },
   "outputs": [],
   "source": [
    "def expand_entities(entities_in, text):\n",
    "    entities_out = []\n",
    "    for entity_in in entities_in:\n",
    "        entity_out = entity_in.copy()\n",
    "        while (entity_out[\"end\"] < len(text) and \n",
    "               (re.search(\"\\w\", text[entity_out[\"end\"]]) or re.search(\"[.,-]\", text[entity_out[\"end\"]]))):\n",
    "            entity_out[\"word\"] += text[entity_out['end']]\n",
    "            entity_out[\"end\"] += 1\n",
    "        entities_out.append(entity_out)\n",
    "    return entities_out"
   ]
  },
  {
   "cell_type": "markdown",
   "id": "6a6a5f39-1112-4fc2-aee3-171a0aae31fb",
   "metadata": {},
   "source": [
    "Combine successive entities where the second one has a label starting with I or with the same label type "
   ]
  },
  {
   "cell_type": "code",
   "execution_count": null,
   "id": "519aa385-eebf-4c80-b7e8-574546acaec0",
   "metadata": {
    "tags": []
   },
   "outputs": [],
   "source": [
    "def combine_entities(entities_in):\n",
    "    entities_out = []\n",
    "    for entity_in in entities_in:\n",
    "        entity_out = entity_in.copy()\n",
    "        if len(entities_out) == 0:\n",
    "            entities_out.append(entity_out)\n",
    "        elif re.search(\"^I-\", entity_out[\"entity\"]):\n",
    "            expand_last_entity(entities_out, entity_out)\n",
    "        else:\n",
    "            entity_out[\"entity\"] = re.sub(\"^[BIE]-\", \"B-\", entity_out[\"entity\"])\n",
    "            if entity_out[\"start\"] < entities_out[-1][\"start\"]:\n",
    "                print(\"error: entities are not sorted by position!\")\n",
    "            elif entity_out[\"start\"] <= entities_out[-1][\"end\"] + 1 and entity_out[\"entity\"] == entities_out[-1][\"entity\"]:\n",
    "                expand_last_entity(entities_out, entity_out)\n",
    "            else:\n",
    "                entities_out.append(entity_out)\n",
    "    return entities_out"
   ]
  },
  {
   "cell_type": "code",
   "execution_count": null,
   "id": "c31be041-f952-4905-aa32-50e67714770b",
   "metadata": {
    "tags": []
   },
   "outputs": [],
   "source": [
    "def expand_last_entity(entities, entity):\n",
    "    entities[-1][\"word\"] += \" \" + entity[\"word\"]\n",
    "    entities[-1][\"end\"] = entity[\"end\"]"
   ]
  },
  {
   "cell_type": "code",
   "execution_count": null,
   "id": "8bf6236c-3652-427c-a762-05bb5d1c606f",
   "metadata": {
    "tags": []
   },
   "outputs": [],
   "source": [
    "entities = run_bert_pipeline(texts[7])"
   ]
  },
  {
   "cell_type": "code",
   "execution_count": null,
   "id": "d2d3a11d-4a90-4dda-a35a-0c0df11f620e",
   "metadata": {
    "tags": []
   },
   "outputs": [],
   "source": [
    "entities = combine_entities(expand_entities(entities, text))"
   ]
  },
  {
   "cell_type": "code",
   "execution_count": null,
   "id": "d058c12e-2594-4b7f-b62c-b43e59e36d00",
   "metadata": {
    "tags": []
   },
   "outputs": [],
   "source": [
    "render_text(texts[7], entities)"
   ]
  },
  {
   "cell_type": "code",
   "execution_count": null,
   "id": "ab3d9944-7f04-4719-bb02-2d326467ad00",
   "metadata": {
    "tags": []
   },
   "outputs": [],
   "source": [
    "for text_id in range(0, len(texts)):\n",
    "    text = texts[text_id]\n",
    "    entities = run_bert_pipeline(text)\n",
    "    entities = combine_entities(expand_entities(entities, text))\n",
    "    print(f\"Text {text_id}\")\n",
    "    render_text(text, entities)"
   ]
  },
  {
   "cell_type": "code",
   "execution_count": null,
   "id": "baa40f5b-d271-4989-9314-50a241c5894c",
   "metadata": {},
   "outputs": [],
   "source": []
  }
 ],
 "metadata": {
  "kernelspec": {
   "display_name": "Python 3 (ipykernel)",
   "language": "python",
   "name": "python3"
  },
  "language_info": {
   "codemirror_mode": {
    "name": "ipython",
    "version": 3
   },
   "file_extension": ".py",
   "mimetype": "text/x-python",
   "name": "python",
   "nbconvert_exporter": "python",
   "pygments_lexer": "ipython3",
   "version": "3.9.13"
  }
 },
 "nbformat": 4,
 "nbformat_minor": 5
}
