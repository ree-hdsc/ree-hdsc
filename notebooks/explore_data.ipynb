{
 "cells": [
  {
   "cell_type": "markdown",
   "id": "8e2bc757-f218-4c26-b6c6-2454b8dc007b",
   "metadata": {},
   "source": [
    "# Explore manually annotated Curaçao files"
   ]
  },
  {
   "cell_type": "markdown",
   "id": "4af0e29a-453f-4a4e-9171-e554d72128e3",
   "metadata": {},
   "source": [
    "## 1. Read files"
   ]
  },
  {
   "cell_type": "code",
   "execution_count": null,
   "id": "2f712aeb-f9cd-4776-8985-d7ad699d7e4b",
   "metadata": {
    "tags": []
   },
   "outputs": [],
   "source": [
    "import ast\n",
    "import json\n",
    "from Levenshtein import distance\n",
    "import math\n",
    "import matplotlib.pyplot as plt\n",
    "import os\n",
    "import pandas as pd\n",
    "import re\n",
    "import sys\n",
    "import xml.etree.ElementTree as ET\n",
    "sys.path.append(os.getcwd() + '/..')\n",
    "from scripts import read_transkribus_files\n",
    "from scripts import get_death_date\n",
    "from scripts import utils"
   ]
  },
  {
   "cell_type": "code",
   "execution_count": null,
   "id": "962bd915-fe8d-4fc0-835c-69ad9bd09e61",
   "metadata": {
    "tags": []
   },
   "outputs": [],
   "source": [
    "#data_dir = \"../../data/Training_set_V2/\"\n",
    "#data_dir = \"../../data/Sample_regex/Sample_regex/page/\"\n",
    "#data_dir = \"../../data/Overlijden/x-samples/first-38/page\"\n",
    "data_dir = \"../../data/Overlijden/x-samples/three-columns-100/page\"\n",
    "\n",
    "texts, metadata, textregions = read_transkribus_files.read_files(data_dir)"
   ]
  },
  {
   "cell_type": "code",
   "execution_count": null,
   "id": "489cf73b-588e-46d0-8b03-155fd79bcc90",
   "metadata": {
    "tags": []
   },
   "outputs": [],
   "source": [
    "GOLD_DATA = \"../../data/Overlijden/x-samples/three-columns-100.csv\"\n",
    "gold_data = pd.read_csv(GOLD_DATA)\n",
    "names = {}\n",
    "for key in gold_data.index:\n",
    "    names_key = read_transkribus_files.make_file_id(gold_data[\"scans\"][key])\n",
    "    if isinstance(gold_data[\"first_names\"][key], str):\n",
    "        if isinstance(gold_data[\"last_name\"][key], str):\n",
    "            name = str(gold_data[\"first_names\"][key]) + \" \" + str(gold_data[\"last_name\"][key])\n",
    "        else:\n",
    "            name = str(gold_data[\"first_names\"][key])\n",
    "    elif isinstance(gold_data[\"last_name\"][key], str):\n",
    "        name = str(gold_data[\"last_name\"][key])\n",
    "    if names_key in names:\n",
    "        names[names_key].append(name)\n",
    "    else:\n",
    "        names[names_key] = [name]"
   ]
  },
  {
   "cell_type": "markdown",
   "id": "7603d2cf-c1db-4406-b378-c08e8837712d",
   "metadata": {},
   "source": [
    "## 2. Visualize entities\n",
    "\n",
    "For list of entity tags of model `wietsedv/bert-base-dutch-cased-finetuned-udlassy-ner`, see [OntoNotes](https://catalog.ldc.upenn.edu/docs/LDC2013T19/OntoNotes-Release-5.0.pdf), page 21"
   ]
  },
  {
   "cell_type": "code",
   "execution_count": null,
   "id": "1115f52c-a345-4bf5-ac6f-0bd4cb3a9924",
   "metadata": {
    "tags": []
   },
   "outputs": [],
   "source": [
    "from spacy import displacy"
   ]
  },
  {
   "cell_type": "code",
   "execution_count": null,
   "id": "56502de2-83fd-4a6a-b200-74449bbea1c3",
   "metadata": {
    "tags": []
   },
   "outputs": [],
   "source": [
    "def render_text(text, entities):\n",
    "    displacy.render({ \"text\": re.sub(\"\\\\n\", \" \", text), \n",
    "                      \"ents\": entities }, \n",
    "                      options = { \"colors\": { \"PERSON\": \"orange\", \n",
    "                                              \"first_names\": \"orange\", \n",
    "                                              \"last_name\": \"orange\" } }, style = \"ent\", manual = True)"
   ]
  },
  {
   "cell_type": "code",
   "execution_count": null,
   "id": "e35af923-180b-4b4a-b4f1-912cc682017a",
   "metadata": {},
   "outputs": [],
   "source": [
    "def convert_guessed_entities(entities_in):\n",
    "    entities_out = []\n",
    "    for entity in entities_in:\n",
    "        start_tag = entity[\"entity\"][0]\n",
    "        label = entity[\"entity\"][2:]\n",
    "        if start_tag == \"B\" or not entities_out:\n",
    "            entities_out.append({\"start\": entity[\"start\"], \"end\": entity[\"end\"], \"label\": label})\n",
    "        else:\n",
    "            entities_out[-1][\"end\"] = entity[\"end\"]\n",
    "    return entities_out"
   ]
  },
  {
   "cell_type": "code",
   "execution_count": null,
   "id": "30879ef9-3558-406e-bec6-0d9855d7ef5c",
   "metadata": {
    "tags": []
   },
   "outputs": [],
   "source": [
    "def continued_entity(entity, last_entity):\n",
    "    return(\"continued\" in entity.keys() and \n",
    "           \"continued\" in last_entity.keys() and \n",
    "           int(entity[\"offset\"]) == int(last_entity[\"offset\"]) + int(last_entity[\"length\"]) + 1)"
   ]
  },
  {
   "cell_type": "code",
   "execution_count": null,
   "id": "98d44fb9-4800-45bf-994d-5a5ed9936e61",
   "metadata": {
    "tags": []
   },
   "outputs": [],
   "source": [
    "def convert_gold_entities(entities_in):\n",
    "    entities_out = []\n",
    "    for key in entities_in:\n",
    "        if \"offset\" in entities_in[key][0]:\n",
    "            last_entity = {}\n",
    "            for entity in entities_in[key]:\n",
    "                if continued_entity(entity, last_entity):\n",
    "                    entities_out[-1][\"end\"] = int(entity[\"offset\"]) + int(entity[\"length\"])\n",
    "                else:\n",
    "                    entities_out.append({\"start\": int(entity[\"offset\"]), \n",
    "                                         \"end\": int(entity[\"offset\"]) + int(entity[\"length\"]),\n",
    "                                         \"label\": key})\n",
    "                last_entity = entity.copy()\n",
    "    return entities_out"
   ]
  },
  {
   "cell_type": "code",
   "execution_count": null,
   "id": "4cf135d5-32b9-467a-bf9c-b024d536f3eb",
   "metadata": {
    "tags": []
   },
   "outputs": [],
   "source": [
    "def ignore_entities(entities_in, labels_to_omit):\n",
    "    entities_out = []\n",
    "    for entity in entities_in:\n",
    "        if entity[\"label\"] not in labels_to_omit:\n",
    "            entities_out.append(entity)\n",
    "    return entities_out"
   ]
  },
  {
   "cell_type": "code",
   "execution_count": null,
   "id": "bf201ce5-d94f-4213-a51b-50290b06478c",
   "metadata": {
    "tags": []
   },
   "outputs": [],
   "source": [
    "test_key = sorted(texts.keys())[0]\n",
    "render_text(texts[test_key], ignore_entities(convert_gold_entities(metadata[test_key]), [\"textStyle\", \"unclear\"]))"
   ]
  },
  {
   "cell_type": "markdown",
   "id": "cc2f2ef2-d628-4876-bfd1-ded589cc8fac",
   "metadata": {},
   "source": [
    "## 3. Find entities in texts"
   ]
  },
  {
   "cell_type": "code",
   "execution_count": null,
   "id": "bbb715fe-d3af-49e7-a296-cd2121027068",
   "metadata": {
    "tags": []
   },
   "outputs": [],
   "source": [
    "import transformers\n",
    "\n",
    "transformers.utils.logging.set_verbosity_error()"
   ]
  },
  {
   "cell_type": "code",
   "execution_count": null,
   "id": "d17a58dd-4ff9-4295-9441-de917473ef4c",
   "metadata": {
    "tags": []
   },
   "outputs": [],
   "source": [
    "def show_names(entities):\n",
    "    name = \"\"\n",
    "    for part in entities:\n",
    "        if re.search(\"^B\", part[\"entity\"]) and name != \"\":\n",
    "            print(name)\n",
    "            name = \"\"\n",
    "        if re.search(\"(GPE|PERSON)$\", part[\"entity\"]):\n",
    "            if name != \"\":\n",
    "                name += \" \"\n",
    "            name += part[\"word\"]\n",
    "    if name != \"\":\n",
    "        print(name)  "
   ]
  },
  {
   "cell_type": "markdown",
   "id": "f50688d0-2fed-43f5-a5ad-1828a3e45c6b",
   "metadata": {},
   "source": [
    "Tested models (initial number indicates monthly downloads):\n",
    "* (345) wietsedv/bert-base-dutch-cased-finetuned-conll2002-ner (several false positives)\n",
    "* (74) Matthijsvanhof/bert-base-dutch-cased-finetuned-NER (not useful, tags everything)\n",
    "* (16) wietsedv/bert-base-dutch-cased-finetuned-sonar-ner (some false positives)\n",
    "* (13) proycon/bert-ner-cased-conll2002-nld (did not find any entities)\n",
    "* (10) proycon/bert-ner-cased-sonar1-nld (found only one entity)\n",
    "* (10) Matthijsvanhof/bert-base-dutch-cased-finetuned-NER8 (not useful, tags everything)\n",
    "* (4) [wietsedv/bert-base-dutch-cased-finetuned-udlassy-ner](https://huggingface.co/wietsedv/bert-base-dutch-cased-finetuned-udlassy-ner) (few false positives) **SELECTED**"
   ]
  },
  {
   "cell_type": "code",
   "execution_count": null,
   "id": "c0b0ba95-6d64-401b-aebb-b49a23874413",
   "metadata": {
    "tags": []
   },
   "outputs": [],
   "source": [
    "run_bert_pipeline = transformers.pipeline(task='ner', model='wietsedv/bert-base-dutch-cased-finetuned-udlassy-ner')"
   ]
  },
  {
   "cell_type": "code",
   "execution_count": null,
   "id": "128d26c1-b6a9-4b0a-a48b-a3cd743b7f11",
   "metadata": {
    "tags": []
   },
   "outputs": [],
   "source": [
    "test_key = sorted(texts.keys())[0]\n",
    "entities = run_bert_pipeline(texts[test_key])"
   ]
  },
  {
   "cell_type": "code",
   "execution_count": null,
   "id": "4db1c588-1596-457f-8149-c821fbe94f66",
   "metadata": {
    "tags": []
   },
   "outputs": [],
   "source": [
    "show_names(entities)"
   ]
  },
  {
   "cell_type": "markdown",
   "id": "e5764092-bb7a-4205-aff1-e0f60750c294",
   "metadata": {},
   "source": [
    "## 4. Post-process entities\n",
    "\n",
    "Expand entities which end in the middle of a word"
   ]
  },
  {
   "cell_type": "code",
   "execution_count": null,
   "id": "9408c464-2237-45be-adb0-b91b58c4705d",
   "metadata": {
    "tags": []
   },
   "outputs": [],
   "source": [
    "def expand_entities(entities_in, text):\n",
    "    entities_out = []\n",
    "    for entity_in in entities_in:\n",
    "        entity_out = entity_in.copy()\n",
    "        while (entity_out[\"end\"] < len(text) and \n",
    "               (re.search(\"\\w\", text[entity_out[\"end\"]]) or re.search(\"[.,-]\", text[entity_out[\"end\"]]))):\n",
    "            entity_out[\"word\"] += text[entity_out['end']]\n",
    "            entity_out[\"end\"] += 1\n",
    "        entities_out.append(entity_out)\n",
    "    return entities_out"
   ]
  },
  {
   "cell_type": "markdown",
   "id": "6a6a5f39-1112-4fc2-aee3-171a0aae31fb",
   "metadata": {},
   "source": [
    "Combine successive entities where the second one has a label starting with I or the same label as the previous entity"
   ]
  },
  {
   "cell_type": "code",
   "execution_count": null,
   "id": "c31be041-f952-4905-aa32-50e67714770b",
   "metadata": {
    "tags": []
   },
   "outputs": [],
   "source": [
    "def expand_last_entity(entities, entity):\n",
    "    entities[-1][\"word\"] += \" \" + entity[\"word\"]\n",
    "    entities[-1][\"end\"] = entity[\"end\"]"
   ]
  },
  {
   "cell_type": "code",
   "execution_count": null,
   "id": "519aa385-eebf-4c80-b7e8-574546acaec0",
   "metadata": {
    "tags": []
   },
   "outputs": [],
   "source": [
    "def combine_entities(entities_in):\n",
    "    entities_out = []\n",
    "    for entity_in in entities_in:\n",
    "        entity_out = entity_in.copy()\n",
    "        if len(entities_out) == 0:\n",
    "            entities_out.append(entity_out)\n",
    "        elif re.search(\"^I-\", entity_out[\"entity\"]):\n",
    "            expand_last_entity(entities_out, entity_out)\n",
    "        else:\n",
    "            entity_out[\"entity\"] = re.sub(\"^[BIE]-\", \"B-\", entity_out[\"entity\"])\n",
    "            if entity_out[\"start\"] < entities_out[-1][\"start\"]:\n",
    "                print(\"error: entities are not sorted by position!\")\n",
    "            elif entity_out[\"start\"] <= entities_out[-1][\"end\"] + 1 and entity_out[\"entity\"] == entities_out[-1][\"entity\"]:\n",
    "                expand_last_entity(entities_out, entity_out)\n",
    "            else:\n",
    "                entities_out.append(entity_out)\n",
    "    return entities_out"
   ]
  },
  {
   "cell_type": "code",
   "execution_count": null,
   "id": "ab3d9944-7f04-4719-bb02-2d326467ad00",
   "metadata": {
    "tags": []
   },
   "outputs": [],
   "source": [
    "def process_and_render_texts(texts):\n",
    "    for text_id in texts:\n",
    "        text = texts[text_id]\n",
    "        entities = run_bert_pipeline(text)\n",
    "        entities = combine_entities(expand_entities(entities, text))\n",
    "        print(f\"Text {text_id}\")\n",
    "        render_text(text, convert_guessed_entities(entities))"
   ]
  },
  {
   "cell_type": "code",
   "execution_count": null,
   "id": "c4704120-01b7-44b5-ac6c-710a789c7efe",
   "metadata": {
    "tags": []
   },
   "outputs": [],
   "source": [
    "process_and_render_texts({ test_key:texts[test_key] })"
   ]
  },
  {
   "cell_type": "markdown",
   "id": "1fccebfa-cd62-43a1-a6ad-5f4b1dc0602e",
   "metadata": {},
   "source": [
    "## 5. Get name of deceased"
   ]
  },
  {
   "cell_type": "code",
   "execution_count": null,
   "id": "9203f949-eaf7-4678-96a5-810562e83d5d",
   "metadata": {
    "tags": []
   },
   "outputs": [],
   "source": [
    "def cleanup(text_in):\n",
    "    text_out = re.sub(\"\\s+\", \" \", text_in)\n",
    "    text_out = re.sub(\"- \", \"\", text_out)\n",
    "    return re.sub(\"[,.]\", \"\", text_out.lower())"
   ]
  },
  {
   "cell_type": "code",
   "execution_count": null,
   "id": "51c9bef6-836d-49cc-92be-b26317f921fe",
   "metadata": {
    "tags": []
   },
   "outputs": [],
   "source": [
    "def find_text_patterns(query, text):\n",
    "    positions = []\n",
    "    pattern = re.compile(query)\n",
    "    for m in pattern.finditer(text.lower()):\n",
    "        positions.append({\"start\": m.start(), \"end\": m.end()})\n",
    "    return positions"
   ]
  },
  {
   "cell_type": "code",
   "execution_count": null,
   "id": "6681fc8f-1c54-4aa1-bd2e-e5ff73858150",
   "metadata": {
    "tags": []
   },
   "outputs": [],
   "source": [
    "def get_name_of_deceased(text, entities):\n",
    "    deceased = []\n",
    "    positions = find_text_patterns(\"overleden is:?,?\", text) + find_text_patterns(\"is overleden:?,?\", text)\n",
    "    for position in positions:\n",
    "        name_deceased = \"\"\n",
    "        for entity in entities:\n",
    "            if entity[\"start\"] == position[\"end\"] + 1:\n",
    "                name_deceased = entity[\"word\"]\n",
    "        deceased.append(name_deceased)\n",
    "    positions = find_text_patterns(\"levens?loos\", text)\n",
    "    return deceased, len(positions)"
   ]
  },
  {
   "cell_type": "code",
   "execution_count": null,
   "id": "52887b2d-7052-498a-9e28-80f342055340",
   "metadata": {
    "tags": []
   },
   "outputs": [],
   "source": [
    "def compare_names(results, metadata):\n",
    "    if len(results[0]) == 0 or results[0][0] == \"\":\n",
    "        return True\n",
    "    if \"first_names\" not in metadata or \"last_name\" not in metadata:\n",
    "        return(False)\n",
    "    guessed_name = results[0][0]\n",
    "    if re.search(\".,.\", guessed_name):\n",
    "        guessed_name = re.sub(\"^[^,]+, *(\\S.*)$\", \"\\\\1\", results[0][0]) + \" \" + re.sub(\"^([^,]+),.*$\", \"\\\\1\", results[0][0])\n",
    "    annotated_name = \" \".join([ metadata[\"first_names\"], metadata[\"last_name\"]])\n",
    "    return cleanup(guessed_name) == cleanup(annotated_name)"
   ]
  },
  {
   "cell_type": "code",
   "execution_count": null,
   "id": "3c09f21e-4bc3-4fe9-aa5b-cec1355a0d7e",
   "metadata": {
    "tags": []
   },
   "outputs": [],
   "source": [
    "def evaluate_deceased_names(results, nbr_of_names_found, nbr_of_stillborns_found, metadata):\n",
    "    if len(results[0]) != 0 and re.search(\"\\w\", results[0][0]):\n",
    "        nbr_of_names_found += 1\n",
    "    if results[1] > 0:\n",
    "        nbr_of_stillborns_found += 1\n",
    "    return nbr_of_names_found, nbr_of_stillborns_found, compare_names(results, metadata)"
   ]
  },
  {
   "cell_type": "code",
   "execution_count": null,
   "id": "5c9f9bf8-e797-4637-bb66-906cd06ead9e",
   "metadata": {
    "tags": []
   },
   "outputs": [],
   "source": [
    "def get_metadata(metadata, text, keys):\n",
    "    data = {}\n",
    "    for key in keys:\n",
    "        if key in metadata:\n",
    "            for metadata_item in metadata[key]:\n",
    "                name = text[int(metadata_item[\"offset\"]): \n",
    "                            int(metadata_item[\"offset\"]) + int(metadata_item[\"length\"])]\n",
    "                if key not in data:\n",
    "                    data[key] = name\n",
    "                else:\n",
    "                    data[key] += \" \" + name\n",
    "    return data               "
   ]
  },
  {
   "cell_type": "code",
   "execution_count": null,
   "id": "0a8ff1e2-ce54-4d9f-abc3-e437ac327fec",
   "metadata": {
    "tags": []
   },
   "outputs": [],
   "source": [
    "def print_name_correct(name_is_correct):\n",
    "    if not name_is_correct:\n",
    "        utils.print_with_color(\"wrong name\")"
   ]
  },
  {
   "cell_type": "code",
   "execution_count": null,
   "id": "ec810024-dc96-43d2-b0e9-229818c63a21",
   "metadata": {
    "tags": []
   },
   "outputs": [],
   "source": [
    "nbr_of_names_found = 0\n",
    "nbr_of_stillborns_found = 0\n",
    "name_correct_count = 0\n",
    "name_distances = {}\n",
    "\n",
    "for text_id in sorted(texts.keys()):\n",
    "    text = texts[text_id]\n",
    "    entities = run_bert_pipeline(text)\n",
    "    entities = combine_entities(expand_entities(entities, text))\n",
    "    #print(f\"Text {text_id}:\", end=\" \")\n",
    "    results = get_name_of_deceased(text, entities)\n",
    "    nbr_of_names_found, nbr_of_stillborns_found, name_is_correct = evaluate_deceased_names(results, \n",
    "                                                                          nbr_of_names_found, \n",
    "                                                                          nbr_of_stillborns_found,\n",
    "                        get_metadata(metadata[text_id], texts[text_id], [\"first_names\", \"last_name\"]))\n",
    "    #print(results, end=\" \")\n",
    "    #print_name_correct(name_is_correct)\n",
    "    #print()\n",
    "    name_distance = distance(results[0][0].lower(), names[text_id][0].lower())\n",
    "    name_correct = ( name_distance == 0 )\n",
    "    if name_distance in name_distances:\n",
    "        name_distances[name_distance] += 1\n",
    "    else:\n",
    "        name_distances[name_distance] = 1\n",
    "    print(name_correct, name_distance, text_id, results[0][0], names[text_id][0])\n",
    "    if name_correct:\n",
    "        name_correct_count += 1\n",
    "print(f\"Records: {len(texts)}; Names found: {nbr_of_names_found}; Correct names: {name_correct_count};\", end=\" \")\n",
    "print(f\"Stillborns: {nbr_of_stillborns_found}; Missing: {len(texts)-nbr_of_names_found-nbr_of_stillborns_found}\")"
   ]
  },
  {
   "cell_type": "code",
   "execution_count": null,
   "id": "ac61a035-c714-4ef0-8460-6981f24e9c69",
   "metadata": {
    "tags": []
   },
   "outputs": [],
   "source": [
    "name_distances_cumulative = {}\n",
    "last_value = 0\n",
    "for key in sorted(name_distances.keys()):\n",
    "    name_distances_cumulative[key] = name_distances[key] + last_value\n",
    "    last_value = name_distances_cumulative[key]"
   ]
  },
  {
   "cell_type": "code",
   "execution_count": null,
   "id": "fe842740-1024-4d15-943b-bed229686170",
   "metadata": {
    "tags": []
   },
   "outputs": [],
   "source": [
    "plt.bar(sorted(name_distances.keys()), [name_distances[key] for key in sorted(name_distances.keys())])\n",
    "plt.plot(name_distances_cumulative.keys(), name_distances_cumulative.values())\n",
    "plt.title(\"Levenshtein distances\")\n",
    "plt.show()"
   ]
  },
  {
   "cell_type": "code",
   "execution_count": null,
   "id": "73a81581-af91-4463-9d40-b089e55eb929",
   "metadata": {
    "tags": []
   },
   "outputs": [],
   "source": [
    "name_distances_cumulative"
   ]
  },
  {
   "cell_type": "markdown",
   "id": "72d1012f-2345-4f77-bfae-4a31c05495bc",
   "metadata": {},
   "source": [
    "## 6. Get decease date"
   ]
  },
  {
   "cell_type": "code",
   "execution_count": null,
   "id": "05ddc5b4-df1c-4c3e-a1ee-8d482c9b314f",
   "metadata": {
    "tags": []
   },
   "outputs": [],
   "source": [
    "process_and_render_texts({ test_key:texts[test_key] })"
   ]
  },
  {
   "cell_type": "code",
   "execution_count": null,
   "id": "17896bd7-6059-46d7-890b-36e7778b5d20",
   "metadata": {
    "tags": []
   },
   "outputs": [],
   "source": [
    "date_of_death_gold = {}\n",
    "for key in gold_data.index:\n",
    "    date_of_death_gold_key = read_transkribus_files.make_file_id(gold_data[\"scans\"][key])\n",
    "    if isinstance(gold_data[\"date_of_death\"][key], str):\n",
    "        date_of_death_gold_value = gold_data[\"date_of_death\"][key]\n",
    "        if date_of_death_gold_key in date_of_death_gold:\n",
    "            date_of_death_gold[date_of_death_gold_key].append(date_of_death_gold_value)\n",
    "        else:\n",
    "            date_of_death_gold[date_of_death_gold_key] = [date_of_death_gold_value]"
   ]
  },
  {
   "cell_type": "code",
   "execution_count": null,
   "id": "27ea38c5-1350-4a1d-ba88-40f865c0ca44",
   "metadata": {
    "tags": []
   },
   "outputs": [],
   "source": [
    "nbr_of_incomplete_dates = 0\n",
    "correct_death_date_found_count = 0\n",
    "for text_id in sorted(texts.keys()):\n",
    "    dates = get_death_date.get_death_date(texts[text_id])\n",
    "    #dates = get_death_date.fix_years(text_id, dates)\n",
    "    #print(text_id, dates)\n",
    "    #if len(dates) > 0 and (dates[0][0] == 0 or dates[0][1] == \"\" or dates[0][2] == 0):\n",
    "    #    nbr_of_incomplete_dates += 1\n",
    "    correct_death_date_found = get_death_date.print_dates(text_id, dates, date_of_death_gold)\n",
    "    if correct_death_date_found:\n",
    "        correct_death_date_found_count += 1\n",
    "    for date in dates:\n",
    "        if date[0] == 0 or date[1] == \"\" or date[2] == 0:\n",
    "            nbr_of_incomplete_dates += 1\n",
    "print(f\"number of incomplete dates: {nbr_of_incomplete_dates}; number of correct death dates found: {correct_death_date_found_count}\")"
   ]
  },
  {
   "cell_type": "markdown",
   "id": "9c03f829-cea2-4b02-b189-69de2dff29fb",
   "metadata": {},
   "source": [
    "**Notes Training set V2:**\n",
    "\n",
    "- 3: misspelled day\n",
    "- 8: misspelled year\n",
    "\n",
    "**Notes Sample regex:**\n",
    "\n",
    "- 21: missing month\n",
    "- 25: misspelled day\n",
    "- 26: misspelled month\n",
    "- 28: missing day\n",
    "- 32: misspelled day\n",
    "- 37: misspelled month\n",
    "- 38: misspelled month\n",
    "- 42: misspelled month\n",
    "- 44: misspelled month and year\n",
    "- 45: misspelled month\n",
    "- 46: misspelled month\n",
    "- ..."
   ]
  },
  {
   "cell_type": "markdown",
   "id": "043fc89f-2dca-4670-890c-8d58291b86c0",
   "metadata": {},
   "source": [
    "## 7. Evaluate external data"
   ]
  },
  {
   "cell_type": "code",
   "execution_count": null,
   "id": "79dd9ed9-3673-4f1f-9a12-473de0a4945a",
   "metadata": {
    "tags": []
   },
   "outputs": [],
   "source": [
    "data = pd.read_csv(\"death_dates_gpt4.csv\", header=None)"
   ]
  },
  {
   "cell_type": "code",
   "execution_count": null,
   "id": "fcad5b30-0b2d-4ff0-94d8-673a1cfbe91f",
   "metadata": {
    "tags": []
   },
   "outputs": [],
   "source": [
    "counter = 0\n",
    "nbr_of_correct_dates = 0\n",
    "for text_id in sorted(texts.keys()):\n",
    "    try:\n",
    "        if data[0][counter] == date_of_death_gold[text_id][0]:\n",
    "            nbr_of_correct_dates += 1\n",
    "    except:\n",
    "        utils.print_with_color(f\"missing gold data for document {text_id}!\\n\")\n",
    "    counter += 1\n",
    "print(f\"number of correct dates: {nbr_of_correct_dates}\")"
   ]
  },
  {
   "cell_type": "markdown",
   "id": "7ece1f74-276a-4c45-94d4-aa13b0589e8f",
   "metadata": {},
   "source": [
    "## 99. Tests"
   ]
  },
  {
   "cell_type": "code",
   "execution_count": null,
   "id": "8d541e6b-c428-4084-8f02-85e0457ecd78",
   "metadata": {
    "tags": []
   },
   "outputs": [],
   "source": [
    "import unittest"
   ]
  },
  {
   "cell_type": "code",
   "execution_count": null,
   "id": "8924e979-16ef-41d2-a095-6a9bb8a80dab",
   "metadata": {
    "tags": []
   },
   "outputs": [],
   "source": [
    "class TestNotebook(unittest.TestCase):    \n",
    "    def test_process_custom_attrib(self):\n",
    "        self.assertEqual(read_transkribus_files.process_custom_attrib(\"readingOrder {index:1;} certificate_date {offset:10; length:25; continued:true;}\"),\n",
    "                         { 'readingOrder': { 'index': '1' },\n",
    "                           'certificate_date': { 'offset': '10', 'length': '25', 'continued': 'true' } } )"
   ]
  },
  {
   "cell_type": "code",
   "execution_count": null,
   "id": "b85cfecd-5676-48e4-9412-6654f7ae0f72",
   "metadata": {
    "tags": []
   },
   "outputs": [],
   "source": [
    "unittest.main(argv=[''], verbosity=2, exit=False)"
   ]
  },
  {
   "cell_type": "code",
   "execution_count": null,
   "id": "2e7a5fa3-e97d-4569-84cb-52b42e50a066",
   "metadata": {},
   "outputs": [],
   "source": []
  }
 ],
 "metadata": {
  "kernelspec": {
   "display_name": "Python 3 (ipykernel)",
   "language": "python",
   "name": "python3"
  },
  "language_info": {
   "codemirror_mode": {
    "name": "ipython",
    "version": 3
   },
   "file_extension": ".py",
   "mimetype": "text/x-python",
   "name": "python",
   "nbconvert_exporter": "python",
   "pygments_lexer": "ipython3",
   "version": "3.9.13"
  }
 },
 "nbformat": 4,
 "nbformat_minor": 5
}
