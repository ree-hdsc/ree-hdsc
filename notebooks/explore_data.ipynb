{
 "cells": [
  {
   "cell_type": "markdown",
   "id": "8e2bc757-f218-4c26-b6c6-2454b8dc007b",
   "metadata": {},
   "source": [
    "# Explore manually annotated Curaçao files"
   ]
  },
  {
   "cell_type": "markdown",
   "id": "4af0e29a-453f-4a4e-9171-e554d72128e3",
   "metadata": {},
   "source": [
    "## 1. Read files"
   ]
  },
  {
   "cell_type": "code",
   "execution_count": null,
   "id": "2f712aeb-f9cd-4776-8985-d7ad699d7e4b",
   "metadata": {
    "tags": []
   },
   "outputs": [],
   "source": [
    "import ast\n",
    "import json\n",
    "from Levenshtein import distance\n",
    "import math\n",
    "import matplotlib.pyplot as plt\n",
    "import os\n",
    "import pandas as pd\n",
    "import re\n",
    "import sys\n",
    "import xml.etree.ElementTree as ET\n",
    "sys.path.append(os.getcwd() + '/..')\n",
    "from scripts import read_transkribus_files\n",
    "from scripts import get_death_date\n",
    "from scripts import get_deceased_name\n",
    "from scripts import utils"
   ]
  },
  {
   "cell_type": "code",
   "execution_count": null,
   "id": "962bd915-fe8d-4fc0-835c-69ad9bd09e61",
   "metadata": {
    "tags": []
   },
   "outputs": [],
   "source": [
    "#data_dir = \"../../data/Training_set_V2/\"\n",
    "data_dir = \"../../data/Sample_regex/Sample_regex/page/\"\n",
    "#data_dir = \"../../data/Overlijden/x-samples/first-38/page\"\n",
    "#data_dir = \"../../data/Overlijden/x-samples/three-columns-100/page\"\n",
    "\n",
    "texts, metadata, textregions = read_transkribus_files.read_files(data_dir)"
   ]
  },
  {
   "cell_type": "code",
   "execution_count": null,
   "id": "489cf73b-588e-46d0-8b03-155fd79bcc90",
   "metadata": {
    "tags": []
   },
   "outputs": [],
   "source": [
    "GOLD_DATA = \"../../data/Overlijden/x-samples/three-columns-100.csv\"\n",
    "gold_data = pd.read_csv(GOLD_DATA)\n",
    "gold_names = {}\n",
    "for key in gold_data.index:\n",
    "    gold_names_key = read_transkribus_files.make_file_id(gold_data[\"scans\"][key])\n",
    "    if isinstance(gold_data[\"first_names\"][key], str):\n",
    "        if isinstance(gold_data[\"last_name\"][key], str):\n",
    "            name = str(gold_data[\"first_names\"][key]) + \" \" + str(gold_data[\"last_name\"][key])\n",
    "        else:\n",
    "            name = str(gold_data[\"first_names\"][key])\n",
    "    elif isinstance(gold_data[\"last_name\"][key], str):\n",
    "        name = str(gold_data[\"last_name\"][key])\n",
    "    if gold_names_key in gold_names:\n",
    "        gold_names[gold_names_key].append(name)\n",
    "    else:\n",
    "        gold_names[gold_names_key] = [name]"
   ]
  },
  {
   "cell_type": "markdown",
   "id": "7603d2cf-c1db-4406-b378-c08e8837712d",
   "metadata": {},
   "source": [
    "## 2. Visualize entities\n",
    "\n",
    "For list of entity tags of model `wietsedv/bert-base-dutch-cased-finetuned-udlassy-ner`, see [OntoNotes](https://catalog.ldc.upenn.edu/docs/LDC2013T19/OntoNotes-Release-5.0.pdf), page 21"
   ]
  },
  {
   "cell_type": "code",
   "execution_count": null,
   "id": "1115f52c-a345-4bf5-ac6f-0bd4cb3a9924",
   "metadata": {
    "tags": []
   },
   "outputs": [],
   "source": [
    "from spacy import displacy"
   ]
  },
  {
   "cell_type": "code",
   "execution_count": null,
   "id": "56502de2-83fd-4a6a-b200-74449bbea1c3",
   "metadata": {
    "tags": []
   },
   "outputs": [],
   "source": [
    "def render_text(text, entities):\n",
    "    displacy.render({ \"text\": re.sub(\"\\\\n\", \" \", text), \n",
    "                      \"ents\": entities }, \n",
    "                      options = { \"colors\": { \"PERSON\": \"orange\", \n",
    "                                              \"first_names\": \"orange\", \n",
    "                                              \"last_name\": \"orange\" } }, style = \"ent\", manual = True)"
   ]
  },
  {
   "cell_type": "code",
   "execution_count": null,
   "id": "e35af923-180b-4b4a-b4f1-912cc682017a",
   "metadata": {},
   "outputs": [],
   "source": [
    "def convert_guessed_entities(entities_in):\n",
    "    entities_out = []\n",
    "    for entity in entities_in:\n",
    "        start_tag = entity[\"entity\"][0]\n",
    "        label = entity[\"entity\"][2:]\n",
    "        if start_tag == \"B\" or not entities_out:\n",
    "            entities_out.append({\"start\": entity[\"start\"], \"end\": entity[\"end\"], \"label\": label})\n",
    "        else:\n",
    "            entities_out[-1][\"end\"] = entity[\"end\"]\n",
    "    return entities_out"
   ]
  },
  {
   "cell_type": "code",
   "execution_count": null,
   "id": "30879ef9-3558-406e-bec6-0d9855d7ef5c",
   "metadata": {
    "tags": []
   },
   "outputs": [],
   "source": [
    "def continued_entity(entity, last_entity):\n",
    "    return(\"continued\" in entity.keys() and \n",
    "           \"continued\" in last_entity.keys() and \n",
    "           int(entity[\"offset\"]) == int(last_entity[\"offset\"]) + int(last_entity[\"length\"]) + 1)"
   ]
  },
  {
   "cell_type": "code",
   "execution_count": null,
   "id": "98d44fb9-4800-45bf-994d-5a5ed9936e61",
   "metadata": {
    "tags": []
   },
   "outputs": [],
   "source": [
    "def convert_gold_entities(entities_in):\n",
    "    entities_out = []\n",
    "    for key in entities_in:\n",
    "        if \"offset\" in entities_in[key][0]:\n",
    "            last_entity = {}\n",
    "            for entity in entities_in[key]:\n",
    "                if continued_entity(entity, last_entity):\n",
    "                    entities_out[-1][\"end\"] = int(entity[\"offset\"]) + int(entity[\"length\"])\n",
    "                else:\n",
    "                    entities_out.append({\"start\": int(entity[\"offset\"]), \n",
    "                                         \"end\": int(entity[\"offset\"]) + int(entity[\"length\"]),\n",
    "                                         \"label\": key})\n",
    "                last_entity = entity.copy()\n",
    "    return entities_out"
   ]
  },
  {
   "cell_type": "code",
   "execution_count": null,
   "id": "4cf135d5-32b9-467a-bf9c-b024d536f3eb",
   "metadata": {
    "tags": []
   },
   "outputs": [],
   "source": [
    "def ignore_entities(entities_in, labels_to_omit):\n",
    "    entities_out = []\n",
    "    for entity in entities_in:\n",
    "        if entity[\"label\"] not in labels_to_omit:\n",
    "            entities_out.append(entity)\n",
    "    return entities_out"
   ]
  },
  {
   "cell_type": "code",
   "execution_count": null,
   "id": "bf201ce5-d94f-4213-a51b-50290b06478c",
   "metadata": {
    "tags": []
   },
   "outputs": [],
   "source": [
    "test_key = sorted(texts.keys())[0]\n",
    "render_text(texts[test_key], ignore_entities(convert_gold_entities(metadata[test_key]), [\"textStyle\", \"unclear\"]))"
   ]
  },
  {
   "cell_type": "markdown",
   "id": "1fccebfa-cd62-43a1-a6ad-5f4b1dc0602e",
   "metadata": {},
   "source": [
    "## 3. Get name of deceased"
   ]
  },
  {
   "cell_type": "code",
   "execution_count": null,
   "id": "ec810024-dc96-43d2-b0e9-229818c63a21",
   "metadata": {
    "tags": []
   },
   "outputs": [],
   "source": [
    "nbr_of_names_found = 0\n",
    "nbr_of_stillborns_found = 0\n",
    "name_correct_count = 0\n",
    "name_distances = {}\n",
    "\n",
    "deceased_names = {}\n",
    "for text_id in sorted(texts.keys()):\n",
    "    text = texts[text_id]\n",
    "    deceased_names[text_id] = get_deceased_name.get_name_of_deceased_from_text(text)\n",
    "    nbr_of_names_found, nbr_of_stillborns_found, name_is_correct = get_deceased_name.evaluate_deceased_names((deceased_names[text_id], \n",
    "                                                                                                              get_deceased_name.stillborn_count(text)),\n",
    "                                                                          nbr_of_names_found, \n",
    "                                                                          nbr_of_stillborns_found,\n",
    "                        get_deceased_name.get_metadata(metadata[text_id], texts[text_id], [\"first_names\", \"last_name\"]))\n",
    "print(f\"Records: {len(texts)}; Names found: {nbr_of_names_found}; Correct names: {name_correct_count};\", end=\" \")\n",
    "print(f\"Stillborns: {nbr_of_stillborns_found}; Missing: {len(texts)-nbr_of_names_found-nbr_of_stillborns_found}\")"
   ]
  },
  {
   "cell_type": "code",
   "execution_count": null,
   "id": "f521afd6-5cca-4f15-96d6-99166175c84d",
   "metadata": {
    "tags": []
   },
   "outputs": [],
   "source": [
    "deceased_names"
   ]
  },
  {
   "cell_type": "code",
   "execution_count": null,
   "id": "ac61a035-c714-4ef0-8460-6981f24e9c69",
   "metadata": {
    "tags": []
   },
   "outputs": [],
   "source": [
    "name_distances_cumulative = {}\n",
    "last_value = 0\n",
    "for key in sorted(name_distances.keys()):\n",
    "    name_distances_cumulative[key] = name_distances[key] + last_value\n",
    "    last_value = name_distances_cumulative[key]"
   ]
  },
  {
   "cell_type": "code",
   "execution_count": null,
   "id": "fe842740-1024-4d15-943b-bed229686170",
   "metadata": {
    "tags": []
   },
   "outputs": [],
   "source": [
    "plt.bar(sorted(name_distances.keys()), [name_distances[key] for key in sorted(name_distances.keys())])\n",
    "plt.plot(name_distances_cumulative.keys(), name_distances_cumulative.values())\n",
    "plt.title(\"Levenshtein distances\")\n",
    "plt.show()"
   ]
  },
  {
   "cell_type": "code",
   "execution_count": null,
   "id": "73a81581-af91-4463-9d40-b089e55eb929",
   "metadata": {
    "tags": []
   },
   "outputs": [],
   "source": [
    "name_distances_cumulative"
   ]
  },
  {
   "cell_type": "markdown",
   "id": "72d1012f-2345-4f77-bfae-4a31c05495bc",
   "metadata": {},
   "source": [
    "## 4. Get decease date"
   ]
  },
  {
   "cell_type": "code",
   "execution_count": null,
   "id": "17896bd7-6059-46d7-890b-36e7778b5d20",
   "metadata": {
    "tags": []
   },
   "outputs": [],
   "source": [
    "missing_data = { \"1848-1e-049\": [\"19-03-1848\"],\n",
    "                 \"1850-3e-010\": [\"04-11-1850\"],\n",
    "                 \"1851-1e-048\": [\"22-03-1851\"],\n",
    "                 \"1851-1e-096\": [\"19-06-1851\"],\n",
    "                 \"1867-1e-057\": [\"18-03-1867\"]\n",
    "               }\n",
    "date_of_death_gold  = missing_data\n",
    "for key in gold_data.index:\n",
    "    date_of_death_gold_key = read_transkribus_files.make_file_id(gold_data[\"scans\"][key])\n",
    "    if isinstance(gold_data[\"date_of_death\"][key], str):\n",
    "        date_of_death_gold_value = gold_data[\"date_of_death\"][key]\n",
    "        if date_of_death_gold_key in date_of_death_gold:\n",
    "            date_of_death_gold[date_of_death_gold_key].append(date_of_death_gold_value)\n",
    "        else:\n",
    "            date_of_death_gold[date_of_death_gold_key] = [date_of_death_gold_value]\n",
    "    else:\n",
    "        utils.print_with_color(f\"cannot store data from document {date_of_death_gold_key}: {gold_data['date_of_death'][key]}\\n\") "
   ]
  },
  {
   "cell_type": "code",
   "execution_count": null,
   "id": "27ea38c5-1350-4a1d-ba88-40f865c0ca44",
   "metadata": {
    "tags": []
   },
   "outputs": [],
   "source": [
    "nbr_of_incomplete_dates = 0\n",
    "correct_death_date_found_count = 0\n",
    "for text_id in sorted(texts.keys()):\n",
    "    dates = get_death_date.get_death_date(texts[text_id])\n",
    "    dates = get_death_date.fix_years(text_id, dates)\n",
    "    print(text_id, dates)\n",
    "    if len(dates) > 0 and (dates[0][0] == 0 or dates[0][1] == \"\" or dates[0][2] == 0):\n",
    "        nbr_of_incomplete_dates += 1\n",
    "    #correct_death_date_found = get_death_date.print_dates(text_id, dates, date_of_death_gold)\n",
    "    #if correct_death_date_found:\n",
    "    #    correct_death_date_found_count += 1\n",
    "    #for date in dates:\n",
    "    #    if date[0] == 0 or date[1] == \"\" or date[2] == 0:\n",
    "    #        nbr_of_incomplete_dates += 1\n",
    "print(f\"number of incomplete dates: {nbr_of_incomplete_dates}; number of correct death dates found: {correct_death_date_found_count}\")"
   ]
  },
  {
   "cell_type": "markdown",
   "id": "9c03f829-cea2-4b02-b189-69de2dff29fb",
   "metadata": {},
   "source": [
    "**Error Analysis Training set V2:**\n",
    "\n",
    "- 3: misspelled day\n",
    "- 8: misspelled year\n",
    "\n",
    "**Error Analysis Sample regex:**\n",
    "\n",
    "- 21: missing month\n",
    "- 25: misspelled day\n",
    "- 26: misspelled month\n",
    "- 28: missing day\n",
    "- 32: misspelled day\n",
    "- 37: misspelled month\n",
    "- 38: misspelled month\n",
    "- 42: misspelled month\n",
    "- 44: misspelled month and year\n",
    "- 45: misspelled month\n",
    "- 46: misspelled month\n",
    "- ..."
   ]
  },
  {
   "cell_type": "markdown",
   "id": "043fc89f-2dca-4670-890c-8d58291b86c0",
   "metadata": {},
   "source": [
    "## 5. Evaluate external data"
   ]
  },
  {
   "cell_type": "code",
   "execution_count": null,
   "id": "79dd9ed9-3673-4f1f-9a12-473de0a4945a",
   "metadata": {
    "tags": []
   },
   "outputs": [],
   "source": [
    "data = pd.read_csv(\"death_dates_gpt4.csv\", header=None)"
   ]
  },
  {
   "cell_type": "code",
   "execution_count": null,
   "id": "df48f7ee-a3f7-4e90-9dbc-17a63e0aa1f3",
   "metadata": {
    "tags": []
   },
   "outputs": [],
   "source": [
    "def fix_year_in_date(date, text_id):\n",
    "    day_date, month_date, year_date = date.split(\"-\")\n",
    "    year_text_id = text_id.split(\"-\")[0]\n",
    "    if year_date == year_text_id or int(year_date) + 1 == int(year_text_id):\n",
    "        return date\n",
    "    else:\n",
    "        return \"-\".join([day_date, month_date, year_text_id])"
   ]
  },
  {
   "cell_type": "code",
   "execution_count": null,
   "id": "fcad5b30-0b2d-4ff0-94d8-673a1cfbe91f",
   "metadata": {
    "tags": []
   },
   "outputs": [],
   "source": [
    "UNKNOWN_DATE = \"00-00-0000\"\n",
    "\n",
    "data_counter = 0\n",
    "nbr_of_correct_dates = 0\n",
    "nbr_of_correct_fixed_dates = 0\n",
    "nbr_of_unknown_dates = 0\n",
    "for text_id in sorted(texts.keys()):\n",
    "    try:\n",
    "        guessed_date = data[0][data_counter]\n",
    "        gold_date = date_of_death_gold[text_id][0]\n",
    "        if guessed_date == gold_date:\n",
    "            nbr_of_correct_dates += 1\n",
    "        elif fix_year_in_date(guessed_date, text_id) == gold_date:\n",
    "            nbr_of_correct_fixed_dates += 1\n",
    "        elif guessed_date == UNKNOWN_DATE:\n",
    "            nbr_of_unknown_dates += 1\n",
    "    except:\n",
    "        if text_id not in date_of_death_gold:\n",
    "            utils.print_with_color(f\"missing gold data for document {text_id}!\\n\")\n",
    "        elif data_counter >= len(data):\n",
    "            utils.print_with_color(f\"missing guessed data for document {text_id}!\\n\")\n",
    "    data_counter += 1\n",
    "print(f\"number of correct dates: {nbr_of_correct_dates}; number of correct fixed dates: {nbr_of_correct_fixed_dates}; number of unknown dates: {nbr_of_unknown_dates};\")"
   ]
  },
  {
   "cell_type": "markdown",
   "id": "7ece1f74-276a-4c45-94d4-aa13b0589e8f",
   "metadata": {},
   "source": [
    "## 99. Tests"
   ]
  },
  {
   "cell_type": "code",
   "execution_count": null,
   "id": "8d541e6b-c428-4084-8f02-85e0457ecd78",
   "metadata": {
    "tags": []
   },
   "outputs": [],
   "source": [
    "import unittest"
   ]
  },
  {
   "cell_type": "code",
   "execution_count": null,
   "id": "8924e979-16ef-41d2-a095-6a9bb8a80dab",
   "metadata": {
    "tags": []
   },
   "outputs": [],
   "source": [
    "class TestNotebook(unittest.TestCase):    \n",
    "    def test_process_custom_attrib(self):\n",
    "        self.assertEqual(read_transkribus_files.process_custom_attrib(\"readingOrder {index:1;} certificate_date {offset:10; length:25; continued:true;}\"),\n",
    "                         { 'readingOrder': { 'index': '1' },\n",
    "                           'certificate_date': { 'offset': '10', 'length': '25', 'continued': 'true' } } )"
   ]
  },
  {
   "cell_type": "code",
   "execution_count": null,
   "id": "b85cfecd-5676-48e4-9412-6654f7ae0f72",
   "metadata": {
    "tags": []
   },
   "outputs": [],
   "source": [
    "unittest.main(argv=[''], verbosity=2, exit=False)"
   ]
  },
  {
   "cell_type": "code",
   "execution_count": null,
   "id": "2e7a5fa3-e97d-4569-84cb-52b42e50a066",
   "metadata": {},
   "outputs": [],
   "source": []
  }
 ],
 "metadata": {
  "kernelspec": {
   "display_name": "Python 3 (ipykernel)",
   "language": "python",
   "name": "python3"
  },
  "language_info": {
   "codemirror_mode": {
    "name": "ipython",
    "version": 3
   },
   "file_extension": ".py",
   "mimetype": "text/x-python",
   "name": "python",
   "nbconvert_exporter": "python",
   "pygments_lexer": "ipython3",
   "version": "3.9.13"
  }
 },
 "nbformat": 4,
 "nbformat_minor": 5
}
